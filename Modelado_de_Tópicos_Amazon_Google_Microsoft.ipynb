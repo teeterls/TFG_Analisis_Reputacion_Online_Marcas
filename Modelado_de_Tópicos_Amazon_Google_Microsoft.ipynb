{
  "nbformat": 4,
  "nbformat_minor": 0,
  "metadata": {
    "colab": {
      "provenance": []
    },
    "kernelspec": {
      "name": "python3",
      "display_name": "Python 3"
    },
    "language_info": {
      "name": "python"
    },
    "widgets": {
      "application/vnd.jupyter.widget-state+json": {
        "fc90f1ad7a264a01ba00c238f7afdb6b": {
          "model_module": "@jupyter-widgets/controls",
          "model_name": "HBoxModel",
          "model_module_version": "1.5.0",
          "state": {
            "_dom_classes": [],
            "_model_module": "@jupyter-widgets/controls",
            "_model_module_version": "1.5.0",
            "_model_name": "HBoxModel",
            "_view_count": null,
            "_view_module": "@jupyter-widgets/controls",
            "_view_module_version": "1.5.0",
            "_view_name": "HBoxView",
            "box_style": "",
            "children": [
              "IPY_MODEL_3764f8de64724a298b8727a515803a06",
              "IPY_MODEL_7b725c2d393a4459862d0b878c27fd4f",
              "IPY_MODEL_cad9e5cc052b478a8323ee4d31fac183"
            ],
            "layout": "IPY_MODEL_9faedc78e0844c1d9b7396fe51244bef"
          }
        },
        "3764f8de64724a298b8727a515803a06": {
          "model_module": "@jupyter-widgets/controls",
          "model_name": "HTMLModel",
          "model_module_version": "1.5.0",
          "state": {
            "_dom_classes": [],
            "_model_module": "@jupyter-widgets/controls",
            "_model_module_version": "1.5.0",
            "_model_name": "HTMLModel",
            "_view_count": null,
            "_view_module": "@jupyter-widgets/controls",
            "_view_module_version": "1.5.0",
            "_view_name": "HTMLView",
            "description": "",
            "description_tooltip": null,
            "layout": "IPY_MODEL_79776c36a1a647b08c19618d29e443fa",
            "placeholder": "​",
            "style": "IPY_MODEL_24fdb987f4f44700b25155ecbc0dacf0",
            "value": "Batches: 100%"
          }
        },
        "7b725c2d393a4459862d0b878c27fd4f": {
          "model_module": "@jupyter-widgets/controls",
          "model_name": "FloatProgressModel",
          "model_module_version": "1.5.0",
          "state": {
            "_dom_classes": [],
            "_model_module": "@jupyter-widgets/controls",
            "_model_module_version": "1.5.0",
            "_model_name": "FloatProgressModel",
            "_view_count": null,
            "_view_module": "@jupyter-widgets/controls",
            "_view_module_version": "1.5.0",
            "_view_name": "ProgressView",
            "bar_style": "success",
            "description": "",
            "description_tooltip": null,
            "layout": "IPY_MODEL_8257d7a9d16c45a0be9682803fd08d85",
            "max": 5270,
            "min": 0,
            "orientation": "horizontal",
            "style": "IPY_MODEL_9d34a816722f4faf93aa0e9849a3a05d",
            "value": 5270
          }
        },
        "cad9e5cc052b478a8323ee4d31fac183": {
          "model_module": "@jupyter-widgets/controls",
          "model_name": "HTMLModel",
          "model_module_version": "1.5.0",
          "state": {
            "_dom_classes": [],
            "_model_module": "@jupyter-widgets/controls",
            "_model_module_version": "1.5.0",
            "_model_name": "HTMLModel",
            "_view_count": null,
            "_view_module": "@jupyter-widgets/controls",
            "_view_module_version": "1.5.0",
            "_view_name": "HTMLView",
            "description": "",
            "description_tooltip": null,
            "layout": "IPY_MODEL_aaf94888f95f419a9506266b9a7c5457",
            "placeholder": "​",
            "style": "IPY_MODEL_1abdbb11735e48a4919e45b6d99b55c6",
            "value": " 5270/5270 [01:18&lt;00:00, 85.90it/s]"
          }
        },
        "9faedc78e0844c1d9b7396fe51244bef": {
          "model_module": "@jupyter-widgets/base",
          "model_name": "LayoutModel",
          "model_module_version": "1.2.0",
          "state": {
            "_model_module": "@jupyter-widgets/base",
            "_model_module_version": "1.2.0",
            "_model_name": "LayoutModel",
            "_view_count": null,
            "_view_module": "@jupyter-widgets/base",
            "_view_module_version": "1.2.0",
            "_view_name": "LayoutView",
            "align_content": null,
            "align_items": null,
            "align_self": null,
            "border": null,
            "bottom": null,
            "display": null,
            "flex": null,
            "flex_flow": null,
            "grid_area": null,
            "grid_auto_columns": null,
            "grid_auto_flow": null,
            "grid_auto_rows": null,
            "grid_column": null,
            "grid_gap": null,
            "grid_row": null,
            "grid_template_areas": null,
            "grid_template_columns": null,
            "grid_template_rows": null,
            "height": null,
            "justify_content": null,
            "justify_items": null,
            "left": null,
            "margin": null,
            "max_height": null,
            "max_width": null,
            "min_height": null,
            "min_width": null,
            "object_fit": null,
            "object_position": null,
            "order": null,
            "overflow": null,
            "overflow_x": null,
            "overflow_y": null,
            "padding": null,
            "right": null,
            "top": null,
            "visibility": null,
            "width": null
          }
        },
        "79776c36a1a647b08c19618d29e443fa": {
          "model_module": "@jupyter-widgets/base",
          "model_name": "LayoutModel",
          "model_module_version": "1.2.0",
          "state": {
            "_model_module": "@jupyter-widgets/base",
            "_model_module_version": "1.2.0",
            "_model_name": "LayoutModel",
            "_view_count": null,
            "_view_module": "@jupyter-widgets/base",
            "_view_module_version": "1.2.0",
            "_view_name": "LayoutView",
            "align_content": null,
            "align_items": null,
            "align_self": null,
            "border": null,
            "bottom": null,
            "display": null,
            "flex": null,
            "flex_flow": null,
            "grid_area": null,
            "grid_auto_columns": null,
            "grid_auto_flow": null,
            "grid_auto_rows": null,
            "grid_column": null,
            "grid_gap": null,
            "grid_row": null,
            "grid_template_areas": null,
            "grid_template_columns": null,
            "grid_template_rows": null,
            "height": null,
            "justify_content": null,
            "justify_items": null,
            "left": null,
            "margin": null,
            "max_height": null,
            "max_width": null,
            "min_height": null,
            "min_width": null,
            "object_fit": null,
            "object_position": null,
            "order": null,
            "overflow": null,
            "overflow_x": null,
            "overflow_y": null,
            "padding": null,
            "right": null,
            "top": null,
            "visibility": null,
            "width": null
          }
        },
        "24fdb987f4f44700b25155ecbc0dacf0": {
          "model_module": "@jupyter-widgets/controls",
          "model_name": "DescriptionStyleModel",
          "model_module_version": "1.5.0",
          "state": {
            "_model_module": "@jupyter-widgets/controls",
            "_model_module_version": "1.5.0",
            "_model_name": "DescriptionStyleModel",
            "_view_count": null,
            "_view_module": "@jupyter-widgets/base",
            "_view_module_version": "1.2.0",
            "_view_name": "StyleView",
            "description_width": ""
          }
        },
        "8257d7a9d16c45a0be9682803fd08d85": {
          "model_module": "@jupyter-widgets/base",
          "model_name": "LayoutModel",
          "model_module_version": "1.2.0",
          "state": {
            "_model_module": "@jupyter-widgets/base",
            "_model_module_version": "1.2.0",
            "_model_name": "LayoutModel",
            "_view_count": null,
            "_view_module": "@jupyter-widgets/base",
            "_view_module_version": "1.2.0",
            "_view_name": "LayoutView",
            "align_content": null,
            "align_items": null,
            "align_self": null,
            "border": null,
            "bottom": null,
            "display": null,
            "flex": null,
            "flex_flow": null,
            "grid_area": null,
            "grid_auto_columns": null,
            "grid_auto_flow": null,
            "grid_auto_rows": null,
            "grid_column": null,
            "grid_gap": null,
            "grid_row": null,
            "grid_template_areas": null,
            "grid_template_columns": null,
            "grid_template_rows": null,
            "height": null,
            "justify_content": null,
            "justify_items": null,
            "left": null,
            "margin": null,
            "max_height": null,
            "max_width": null,
            "min_height": null,
            "min_width": null,
            "object_fit": null,
            "object_position": null,
            "order": null,
            "overflow": null,
            "overflow_x": null,
            "overflow_y": null,
            "padding": null,
            "right": null,
            "top": null,
            "visibility": null,
            "width": null
          }
        },
        "9d34a816722f4faf93aa0e9849a3a05d": {
          "model_module": "@jupyter-widgets/controls",
          "model_name": "ProgressStyleModel",
          "model_module_version": "1.5.0",
          "state": {
            "_model_module": "@jupyter-widgets/controls",
            "_model_module_version": "1.5.0",
            "_model_name": "ProgressStyleModel",
            "_view_count": null,
            "_view_module": "@jupyter-widgets/base",
            "_view_module_version": "1.2.0",
            "_view_name": "StyleView",
            "bar_color": null,
            "description_width": ""
          }
        },
        "aaf94888f95f419a9506266b9a7c5457": {
          "model_module": "@jupyter-widgets/base",
          "model_name": "LayoutModel",
          "model_module_version": "1.2.0",
          "state": {
            "_model_module": "@jupyter-widgets/base",
            "_model_module_version": "1.2.0",
            "_model_name": "LayoutModel",
            "_view_count": null,
            "_view_module": "@jupyter-widgets/base",
            "_view_module_version": "1.2.0",
            "_view_name": "LayoutView",
            "align_content": null,
            "align_items": null,
            "align_self": null,
            "border": null,
            "bottom": null,
            "display": null,
            "flex": null,
            "flex_flow": null,
            "grid_area": null,
            "grid_auto_columns": null,
            "grid_auto_flow": null,
            "grid_auto_rows": null,
            "grid_column": null,
            "grid_gap": null,
            "grid_row": null,
            "grid_template_areas": null,
            "grid_template_columns": null,
            "grid_template_rows": null,
            "height": null,
            "justify_content": null,
            "justify_items": null,
            "left": null,
            "margin": null,
            "max_height": null,
            "max_width": null,
            "min_height": null,
            "min_width": null,
            "object_fit": null,
            "object_position": null,
            "order": null,
            "overflow": null,
            "overflow_x": null,
            "overflow_y": null,
            "padding": null,
            "right": null,
            "top": null,
            "visibility": null,
            "width": null
          }
        },
        "1abdbb11735e48a4919e45b6d99b55c6": {
          "model_module": "@jupyter-widgets/controls",
          "model_name": "DescriptionStyleModel",
          "model_module_version": "1.5.0",
          "state": {
            "_model_module": "@jupyter-widgets/controls",
            "_model_module_version": "1.5.0",
            "_model_name": "DescriptionStyleModel",
            "_view_count": null,
            "_view_module": "@jupyter-widgets/base",
            "_view_module_version": "1.2.0",
            "_view_name": "StyleView",
            "description_width": ""
          }
        }
      }
    }
  },
  "cells": [
    {
      "cell_type": "markdown",
      "source": [
        "Conectar drive personal"
      ],
      "metadata": {
        "id": "ksgbt1fqv9uj"
      }
    },
    {
      "cell_type": "code",
      "execution_count": null,
      "metadata": {
        "id": "ZB16ZUbUTtF8"
      },
      "outputs": [],
      "source": [
        "from google.colab import drive\n",
        "drive.mount('/content/drive')"
      ]
    },
    {
      "cell_type": "markdown",
      "source": [
        "Importar librerías necesarias e instalar modelo para modelado de tópicos BERTopic"
      ],
      "metadata": {
        "id": "OxGx_r9gwAdM"
      }
    },
    {
      "cell_type": "code",
      "source": [
        "import pandas as pd\n",
        "!pip install bertopic"
      ],
      "metadata": {
        "id": "zpyyyureZboo"
      },
      "execution_count": null,
      "outputs": []
    },
    {
      "cell_type": "markdown",
      "source": [
        "Importar modelo BERTopic e instanciarlo con parámetros de configuración básicos: lenguaje, cálculo de probabilidad de los tópicos obtenidos por documento y seguimiento de las fases del modelo (verbose)"
      ],
      "metadata": {
        "id": "TtXxYLEIwD-a"
      }
    },
    {
      "cell_type": "code",
      "source": [
        "#IMPORTAR MODELO\n",
        "from bertopic import BERTopic\n",
        "topic_model = BERTopic(language=\"english\", calculate_probabilities=False, verbose=True)"
      ],
      "metadata": {
        "id": "mvBRGA2RZgWM"
      },
      "execution_count": null,
      "outputs": []
    },
    {
      "cell_type": "markdown",
      "source": [
        "Primero se lee el dataset con los tweets limpios y pre-procesados. A continuación, se transforma la columna 'body' con los tweets a una lista de strings para utilizarla como entrada al modelo BERTopic. Finalmente, se obtienen los tópicos más relevantes del tópico"
      ],
      "metadata": {
        "id": "iT_GnTmxwIDH"
      }
    },
    {
      "cell_type": "code",
      "source": [
        "#leer dataset\n",
        "data_resto = pd.read_csv('/content/drive/MyDrive/TFG ADE/Data_Resto_Limpio.csv')\n",
        "data=(data['body'].astype(str)).tolist()\n",
        "#obtener topics iniciales\n",
        "topics, _ = topic_model.fit_transform(data)"
      ],
      "metadata": {
        "colab": {
          "base_uri": "https://localhost:8080/",
          "height": 101,
          "referenced_widgets": [
            "fc90f1ad7a264a01ba00c238f7afdb6b",
            "3764f8de64724a298b8727a515803a06",
            "7b725c2d393a4459862d0b878c27fd4f",
            "cad9e5cc052b478a8323ee4d31fac183",
            "9faedc78e0844c1d9b7396fe51244bef",
            "79776c36a1a647b08c19618d29e443fa",
            "24fdb987f4f44700b25155ecbc0dacf0",
            "8257d7a9d16c45a0be9682803fd08d85",
            "9d34a816722f4faf93aa0e9849a3a05d",
            "aaf94888f95f419a9506266b9a7c5457",
            "1abdbb11735e48a4919e45b6d99b55c6"
          ]
        },
        "id": "bYWhVF6XZkTT",
        "outputId": "9b64e277-7841-412a-abc0-4b9c35f1636c"
      },
      "execution_count": null,
      "outputs": [
        {
          "output_type": "display_data",
          "data": {
            "text/plain": [
              "Batches:   0%|          | 0/5270 [00:00<?, ?it/s]"
            ],
            "application/vnd.jupyter.widget-view+json": {
              "version_major": 2,
              "version_minor": 0,
              "model_id": "fc90f1ad7a264a01ba00c238f7afdb6b"
            }
          },
          "metadata": {}
        },
        {
          "output_type": "stream",
          "name": "stderr",
          "text": [
            "2023-11-13 17:00:55,002 - BERTopic - Transformed documents to Embeddings\n",
            "2023-11-13 17:52:59,948 - BERTopic - Reduced dimensionality\n",
            "2023-11-13 17:53:34,057 - BERTopic - Clustered reduced embeddings\n"
          ]
        }
      ]
    },
    {
      "cell_type": "markdown",
      "source": [
        "Se obtiene información general sobre los tópicos obtenidos por el modelo: nombre/identificador, términos representativos y documentos representativos (-1 es el tópico outlier, no se tiene en cuenta en el análisis)"
      ],
      "metadata": {
        "id": "_SWj9xpvwXMI"
      }
    },
    {
      "cell_type": "code",
      "source": [
        "freq = topic_model.get_topic_info()\n",
        "freq"
      ],
      "metadata": {
        "colab": {
          "base_uri": "https://localhost:8080/",
          "height": 510
        },
        "id": "4Kggjcke89td",
        "outputId": "ce560f61-a143-4fb4-938b-f97b24ea8dd0"
      },
      "execution_count": null,
      "outputs": [
        {
          "output_type": "execute_result",
          "data": {
            "text/plain": [
              "      Topic  Count                                               Name  \\\n",
              "0        -1  49601                            -1_good_retail_move_put   \n",
              "1         0   2197                       0_nan_usching_yoyo_quinnypig   \n",
              "2         1   2071                     1_patent_research_method_image   \n",
              "3         2   1887                          2_guide_active_free_trade   \n",
              "4         3   1244                    3_silver_commodity_gold_finance   \n",
              "...     ...    ...                                                ...   \n",
              "3040   3039     10                  3039_facebooks_probe_virtual_mail   \n",
              "3041   3040     10                   3040_qqqkinda_qqqs_lowqqq_runqqq   \n",
              "3042   3041     10  3041_compensation_haunting_excessive_siliconva...   \n",
              "3043   3042     10              3042_listening_soundbites_sound_karen   \n",
              "3044   3043     10                        3043_missile_vgtl_bzgt_erhe   \n",
              "\n",
              "                                         Representation  \\\n",
              "0     [good, retail, move, put, 1800, break, earning...   \n",
              "1     [nan, usching, yoyo, quinnypig, ching, goat, g...   \n",
              "2     [patent, research, method, image, interface, s...   \n",
              "3     [guide, active, free, trade, nvda, surging, ac...   \n",
              "4     [silver, commodity, gold, finance, djia, econo...   \n",
              "...                                                 ...   \n",
              "3040  [facebooks, probe, virtual, mail, photo, reali...   \n",
              "3041  [qqqkinda, qqqs, lowqqq, runqqq, alltslaq, bun...   \n",
              "3042  [compensation, haunting, excessive, siliconval...   \n",
              "3043  [listening, soundbites, sound, karen, finerman...   \n",
              "3044  [missile, vgtl, bzgt, erhe, lhao, liga, frlf, ...   \n",
              "\n",
              "                                    Representative_Docs  \n",
              "0     [hard sold happens always recession turn trade...  \n",
              "1                                       [nan, nan, nan]  \n",
              "2     [patent 10311868 method apparatus using image ...  \n",
              "3     [active trade free trade guide nvda, active tr...  \n",
              "4     [future djia stockmarket investing finance sto...  \n",
              "...                                                 ...  \n",
              "3040  [article open data probe facebook latest relat...  \n",
              "3041  [qqqs getting taking heat ahead, leading qqqki...  \n",
              "3042  [feel excessive stock compensation haunting ca...  \n",
              "3043                  [listening, listening, listening]  \n",
              "3044  [pctl loading 52wkhigh wmtm vgtl adtm liga ssf...  \n",
              "\n",
              "[3045 rows x 5 columns]"
            ],
            "text/html": [
              "\n",
              "  <div id=\"df-0a7aec1d-160b-4827-95ad-cff8573fd69e\" class=\"colab-df-container\">\n",
              "    <div>\n",
              "<style scoped>\n",
              "    .dataframe tbody tr th:only-of-type {\n",
              "        vertical-align: middle;\n",
              "    }\n",
              "\n",
              "    .dataframe tbody tr th {\n",
              "        vertical-align: top;\n",
              "    }\n",
              "\n",
              "    .dataframe thead th {\n",
              "        text-align: right;\n",
              "    }\n",
              "</style>\n",
              "<table border=\"1\" class=\"dataframe\">\n",
              "  <thead>\n",
              "    <tr style=\"text-align: right;\">\n",
              "      <th></th>\n",
              "      <th>Topic</th>\n",
              "      <th>Count</th>\n",
              "      <th>Name</th>\n",
              "      <th>Representation</th>\n",
              "      <th>Representative_Docs</th>\n",
              "    </tr>\n",
              "  </thead>\n",
              "  <tbody>\n",
              "    <tr>\n",
              "      <th>0</th>\n",
              "      <td>-1</td>\n",
              "      <td>49601</td>\n",
              "      <td>-1_good_retail_move_put</td>\n",
              "      <td>[good, retail, move, put, 1800, break, earning...</td>\n",
              "      <td>[hard sold happens always recession turn trade...</td>\n",
              "    </tr>\n",
              "    <tr>\n",
              "      <th>1</th>\n",
              "      <td>0</td>\n",
              "      <td>2197</td>\n",
              "      <td>0_nan_usching_yoyo_quinnypig</td>\n",
              "      <td>[nan, usching, yoyo, quinnypig, ching, goat, g...</td>\n",
              "      <td>[nan, nan, nan]</td>\n",
              "    </tr>\n",
              "    <tr>\n",
              "      <th>2</th>\n",
              "      <td>1</td>\n",
              "      <td>2071</td>\n",
              "      <td>1_patent_research_method_image</td>\n",
              "      <td>[patent, research, method, image, interface, s...</td>\n",
              "      <td>[patent 10311868 method apparatus using image ...</td>\n",
              "    </tr>\n",
              "    <tr>\n",
              "      <th>3</th>\n",
              "      <td>2</td>\n",
              "      <td>1887</td>\n",
              "      <td>2_guide_active_free_trade</td>\n",
              "      <td>[guide, active, free, trade, nvda, surging, ac...</td>\n",
              "      <td>[active trade free trade guide nvda, active tr...</td>\n",
              "    </tr>\n",
              "    <tr>\n",
              "      <th>4</th>\n",
              "      <td>3</td>\n",
              "      <td>1244</td>\n",
              "      <td>3_silver_commodity_gold_finance</td>\n",
              "      <td>[silver, commodity, gold, finance, djia, econo...</td>\n",
              "      <td>[future djia stockmarket investing finance sto...</td>\n",
              "    </tr>\n",
              "    <tr>\n",
              "      <th>...</th>\n",
              "      <td>...</td>\n",
              "      <td>...</td>\n",
              "      <td>...</td>\n",
              "      <td>...</td>\n",
              "      <td>...</td>\n",
              "    </tr>\n",
              "    <tr>\n",
              "      <th>3040</th>\n",
              "      <td>3039</td>\n",
              "      <td>10</td>\n",
              "      <td>3039_facebooks_probe_virtual_mail</td>\n",
              "      <td>[facebooks, probe, virtual, mail, photo, reali...</td>\n",
              "      <td>[article open data probe facebook latest relat...</td>\n",
              "    </tr>\n",
              "    <tr>\n",
              "      <th>3041</th>\n",
              "      <td>3040</td>\n",
              "      <td>10</td>\n",
              "      <td>3040_qqqkinda_qqqs_lowqqq_runqqq</td>\n",
              "      <td>[qqqkinda, qqqs, lowqqq, runqqq, alltslaq, bun...</td>\n",
              "      <td>[qqqs getting taking heat ahead, leading qqqki...</td>\n",
              "    </tr>\n",
              "    <tr>\n",
              "      <th>3042</th>\n",
              "      <td>3041</td>\n",
              "      <td>10</td>\n",
              "      <td>3041_compensation_haunting_excessive_siliconva...</td>\n",
              "      <td>[compensation, haunting, excessive, siliconval...</td>\n",
              "      <td>[feel excessive stock compensation haunting ca...</td>\n",
              "    </tr>\n",
              "    <tr>\n",
              "      <th>3043</th>\n",
              "      <td>3042</td>\n",
              "      <td>10</td>\n",
              "      <td>3042_listening_soundbites_sound_karen</td>\n",
              "      <td>[listening, soundbites, sound, karen, finerman...</td>\n",
              "      <td>[listening, listening, listening]</td>\n",
              "    </tr>\n",
              "    <tr>\n",
              "      <th>3044</th>\n",
              "      <td>3043</td>\n",
              "      <td>10</td>\n",
              "      <td>3043_missile_vgtl_bzgt_erhe</td>\n",
              "      <td>[missile, vgtl, bzgt, erhe, lhao, liga, frlf, ...</td>\n",
              "      <td>[pctl loading 52wkhigh wmtm vgtl adtm liga ssf...</td>\n",
              "    </tr>\n",
              "  </tbody>\n",
              "</table>\n",
              "<p>3045 rows × 5 columns</p>\n",
              "</div>\n",
              "    <div class=\"colab-df-buttons\">\n",
              "\n",
              "  <div class=\"colab-df-container\">\n",
              "    <button class=\"colab-df-convert\" onclick=\"convertToInteractive('df-0a7aec1d-160b-4827-95ad-cff8573fd69e')\"\n",
              "            title=\"Convert this dataframe to an interactive table.\"\n",
              "            style=\"display:none;\">\n",
              "\n",
              "  <svg xmlns=\"http://www.w3.org/2000/svg\" height=\"24px\" viewBox=\"0 -960 960 960\">\n",
              "    <path d=\"M120-120v-720h720v720H120Zm60-500h600v-160H180v160Zm220 220h160v-160H400v160Zm0 220h160v-160H400v160ZM180-400h160v-160H180v160Zm440 0h160v-160H620v160ZM180-180h160v-160H180v160Zm440 0h160v-160H620v160Z\"/>\n",
              "  </svg>\n",
              "    </button>\n",
              "\n",
              "  <style>\n",
              "    .colab-df-container {\n",
              "      display:flex;\n",
              "      gap: 12px;\n",
              "    }\n",
              "\n",
              "    .colab-df-convert {\n",
              "      background-color: #E8F0FE;\n",
              "      border: none;\n",
              "      border-radius: 50%;\n",
              "      cursor: pointer;\n",
              "      display: none;\n",
              "      fill: #1967D2;\n",
              "      height: 32px;\n",
              "      padding: 0 0 0 0;\n",
              "      width: 32px;\n",
              "    }\n",
              "\n",
              "    .colab-df-convert:hover {\n",
              "      background-color: #E2EBFA;\n",
              "      box-shadow: 0px 1px 2px rgba(60, 64, 67, 0.3), 0px 1px 3px 1px rgba(60, 64, 67, 0.15);\n",
              "      fill: #174EA6;\n",
              "    }\n",
              "\n",
              "    .colab-df-buttons div {\n",
              "      margin-bottom: 4px;\n",
              "    }\n",
              "\n",
              "    [theme=dark] .colab-df-convert {\n",
              "      background-color: #3B4455;\n",
              "      fill: #D2E3FC;\n",
              "    }\n",
              "\n",
              "    [theme=dark] .colab-df-convert:hover {\n",
              "      background-color: #434B5C;\n",
              "      box-shadow: 0px 1px 3px 1px rgba(0, 0, 0, 0.15);\n",
              "      filter: drop-shadow(0px 1px 2px rgba(0, 0, 0, 0.3));\n",
              "      fill: #FFFFFF;\n",
              "    }\n",
              "  </style>\n",
              "\n",
              "    <script>\n",
              "      const buttonEl =\n",
              "        document.querySelector('#df-0a7aec1d-160b-4827-95ad-cff8573fd69e button.colab-df-convert');\n",
              "      buttonEl.style.display =\n",
              "        google.colab.kernel.accessAllowed ? 'block' : 'none';\n",
              "\n",
              "      async function convertToInteractive(key) {\n",
              "        const element = document.querySelector('#df-0a7aec1d-160b-4827-95ad-cff8573fd69e');\n",
              "        const dataTable =\n",
              "          await google.colab.kernel.invokeFunction('convertToInteractive',\n",
              "                                                    [key], {});\n",
              "        if (!dataTable) return;\n",
              "\n",
              "        const docLinkHtml = 'Like what you see? Visit the ' +\n",
              "          '<a target=\"_blank\" href=https://colab.research.google.com/notebooks/data_table.ipynb>data table notebook</a>'\n",
              "          + ' to learn more about interactive tables.';\n",
              "        element.innerHTML = '';\n",
              "        dataTable['output_type'] = 'display_data';\n",
              "        await google.colab.output.renderOutput(dataTable, element);\n",
              "        const docLink = document.createElement('div');\n",
              "        docLink.innerHTML = docLinkHtml;\n",
              "        element.appendChild(docLink);\n",
              "      }\n",
              "    </script>\n",
              "  </div>\n",
              "\n",
              "\n",
              "<div id=\"df-0e00166e-4b57-4fe5-bb9b-8cba26db9992\">\n",
              "  <button class=\"colab-df-quickchart\" onclick=\"quickchart('df-0e00166e-4b57-4fe5-bb9b-8cba26db9992')\"\n",
              "            title=\"Suggest charts\"\n",
              "            style=\"display:none;\">\n",
              "\n",
              "<svg xmlns=\"http://www.w3.org/2000/svg\" height=\"24px\"viewBox=\"0 0 24 24\"\n",
              "     width=\"24px\">\n",
              "    <g>\n",
              "        <path d=\"M19 3H5c-1.1 0-2 .9-2 2v14c0 1.1.9 2 2 2h14c1.1 0 2-.9 2-2V5c0-1.1-.9-2-2-2zM9 17H7v-7h2v7zm4 0h-2V7h2v10zm4 0h-2v-4h2v4z\"/>\n",
              "    </g>\n",
              "</svg>\n",
              "  </button>\n",
              "\n",
              "<style>\n",
              "  .colab-df-quickchart {\n",
              "      --bg-color: #E8F0FE;\n",
              "      --fill-color: #1967D2;\n",
              "      --hover-bg-color: #E2EBFA;\n",
              "      --hover-fill-color: #174EA6;\n",
              "      --disabled-fill-color: #AAA;\n",
              "      --disabled-bg-color: #DDD;\n",
              "  }\n",
              "\n",
              "  [theme=dark] .colab-df-quickchart {\n",
              "      --bg-color: #3B4455;\n",
              "      --fill-color: #D2E3FC;\n",
              "      --hover-bg-color: #434B5C;\n",
              "      --hover-fill-color: #FFFFFF;\n",
              "      --disabled-bg-color: #3B4455;\n",
              "      --disabled-fill-color: #666;\n",
              "  }\n",
              "\n",
              "  .colab-df-quickchart {\n",
              "    background-color: var(--bg-color);\n",
              "    border: none;\n",
              "    border-radius: 50%;\n",
              "    cursor: pointer;\n",
              "    display: none;\n",
              "    fill: var(--fill-color);\n",
              "    height: 32px;\n",
              "    padding: 0;\n",
              "    width: 32px;\n",
              "  }\n",
              "\n",
              "  .colab-df-quickchart:hover {\n",
              "    background-color: var(--hover-bg-color);\n",
              "    box-shadow: 0 1px 2px rgba(60, 64, 67, 0.3), 0 1px 3px 1px rgba(60, 64, 67, 0.15);\n",
              "    fill: var(--button-hover-fill-color);\n",
              "  }\n",
              "\n",
              "  .colab-df-quickchart-complete:disabled,\n",
              "  .colab-df-quickchart-complete:disabled:hover {\n",
              "    background-color: var(--disabled-bg-color);\n",
              "    fill: var(--disabled-fill-color);\n",
              "    box-shadow: none;\n",
              "  }\n",
              "\n",
              "  .colab-df-spinner {\n",
              "    border: 2px solid var(--fill-color);\n",
              "    border-color: transparent;\n",
              "    border-bottom-color: var(--fill-color);\n",
              "    animation:\n",
              "      spin 1s steps(1) infinite;\n",
              "  }\n",
              "\n",
              "  @keyframes spin {\n",
              "    0% {\n",
              "      border-color: transparent;\n",
              "      border-bottom-color: var(--fill-color);\n",
              "      border-left-color: var(--fill-color);\n",
              "    }\n",
              "    20% {\n",
              "      border-color: transparent;\n",
              "      border-left-color: var(--fill-color);\n",
              "      border-top-color: var(--fill-color);\n",
              "    }\n",
              "    30% {\n",
              "      border-color: transparent;\n",
              "      border-left-color: var(--fill-color);\n",
              "      border-top-color: var(--fill-color);\n",
              "      border-right-color: var(--fill-color);\n",
              "    }\n",
              "    40% {\n",
              "      border-color: transparent;\n",
              "      border-right-color: var(--fill-color);\n",
              "      border-top-color: var(--fill-color);\n",
              "    }\n",
              "    60% {\n",
              "      border-color: transparent;\n",
              "      border-right-color: var(--fill-color);\n",
              "    }\n",
              "    80% {\n",
              "      border-color: transparent;\n",
              "      border-right-color: var(--fill-color);\n",
              "      border-bottom-color: var(--fill-color);\n",
              "    }\n",
              "    90% {\n",
              "      border-color: transparent;\n",
              "      border-bottom-color: var(--fill-color);\n",
              "    }\n",
              "  }\n",
              "</style>\n",
              "\n",
              "  <script>\n",
              "    async function quickchart(key) {\n",
              "      const quickchartButtonEl =\n",
              "        document.querySelector('#' + key + ' button');\n",
              "      quickchartButtonEl.disabled = true;  // To prevent multiple clicks.\n",
              "      quickchartButtonEl.classList.add('colab-df-spinner');\n",
              "      try {\n",
              "        const charts = await google.colab.kernel.invokeFunction(\n",
              "            'suggestCharts', [key], {});\n",
              "      } catch (error) {\n",
              "        console.error('Error during call to suggestCharts:', error);\n",
              "      }\n",
              "      quickchartButtonEl.classList.remove('colab-df-spinner');\n",
              "      quickchartButtonEl.classList.add('colab-df-quickchart-complete');\n",
              "    }\n",
              "    (() => {\n",
              "      let quickchartButtonEl =\n",
              "        document.querySelector('#df-0e00166e-4b57-4fe5-bb9b-8cba26db9992 button');\n",
              "      quickchartButtonEl.style.display =\n",
              "        google.colab.kernel.accessAllowed ? 'block' : 'none';\n",
              "    })();\n",
              "  </script>\n",
              "</div>\n",
              "    </div>\n",
              "  </div>\n"
            ]
          },
          "metadata": {},
          "execution_count": 46
        }
      ]
    },
    {
      "cell_type": "markdown",
      "source": [
        "Se extraen los n términos top del tópico más relevante/repetido (0) y la puntuación c-TF-IDF de cada uno"
      ],
      "metadata": {
        "id": "42So7AxNwasB"
      }
    },
    {
      "cell_type": "code",
      "source": [
        "topic_model.get_topic(0)"
      ],
      "metadata": {
        "colab": {
          "base_uri": "https://localhost:8080/"
        },
        "id": "DYK6-nxhMwsR",
        "outputId": "d020612b-efda-42da-a478-18e1cd964b08"
      },
      "execution_count": null,
      "outputs": [
        {
          "output_type": "execute_result",
          "data": {
            "text/plain": [
              "[('nan', 0.23847851626670571),\n",
              " ('usching', 0.002901807959728598),\n",
              " ('yoyo', 0.0025876484438826374),\n",
              " ('quinnypig', 0.0024041928116298227),\n",
              " ('ching', 0.002091550263011083),\n",
              " ('goat', 0.0016266449855116495),\n",
              " ('girl', 0.0011775685806509673),\n",
              " ('winner', 0.00027326061416764545),\n",
              " ('', 1e-05),\n",
              " ('', 1e-05)]"
            ]
          },
          "metadata": {},
          "execution_count": 78
        }
      ]
    },
    {
      "cell_type": "markdown",
      "source": [
        "Debido al elevado número de tópicos encontrado (3044) y la limitación computacional, no es posible representar la distancia intertópica inicial"
      ],
      "metadata": {
        "id": "hGgQh7GwweXe"
      }
    },
    {
      "cell_type": "code",
      "source": [
        "#DISTANCIA INTERTOPICA INICIAL\n",
        "topic_model.visualize_topics()"
      ],
      "metadata": {
        "id": "kh0ajFpFMuJQ"
      },
      "execution_count": null,
      "outputs": []
    },
    {
      "cell_type": "markdown",
      "source": [
        "Se guarda el modelo para no perder la clasificación inicial cuando expire la sesión y se vuelve a cargar"
      ],
      "metadata": {
        "id": "MSdyEHpNwki4"
      }
    },
    {
      "cell_type": "code",
      "source": [
        "topic_model.save('/content/drive/MyDrive/TFG ADE/restotopicinicial')"
      ],
      "metadata": {
        "id": "wITCOZOv82hx"
      },
      "execution_count": null,
      "outputs": []
    },
    {
      "cell_type": "code",
      "source": [
        "loaded_model = BERTopic.load('/content/drive/MyDrive/TFG ADE/restotopicinicial')"
      ],
      "metadata": {
        "id": "f6dkEmlt84xb"
      },
      "execution_count": null,
      "outputs": []
    },
    {
      "cell_type": "markdown",
      "source": [
        "Ya que se obtienen un gran número de documentos pertenecientes al tópico -1 (outlier), se reducen los mismos y se actualizan las representaciones de los tópicos obtenidos"
      ],
      "metadata": {
        "id": "laNIAATjwsTk"
      }
    },
    {
      "cell_type": "code",
      "source": [
        "new_topics = loaded_model.reduce_outliers(data, loaded_model.topics_)\n",
        "loaded_model.update_topics(data, topics=new_topics)"
      ],
      "metadata": {
        "id": "5BLvgWsS-Sd8"
      },
      "execution_count": null,
      "outputs": []
    },
    {
      "cell_type": "markdown",
      "source": [
        "Se agrupan los tópicos para obtener las relaciones existentes entre ellos y se visualiza la jerarquía de los 25 más relevantes, con el objetivo de reducir el número de tópicos"
      ],
      "metadata": {
        "id": "Ac_voJ7nwxGE"
      }
    },
    {
      "cell_type": "code",
      "source": [
        "#JERARQUIA INICIAL QUE AYUDA A REDUCIR EL NUMERO DE TOPICOS\n",
        "loaded_model.visualize_hierarchy(top_n_topics=25)"
      ],
      "metadata": {
        "colab": {
          "base_uri": "https://localhost:8080/",
          "height": 592
        },
        "id": "P-I861oX8_5_",
        "outputId": "6bdf1b6c-dd39-4487-d347-7874f160c98c"
      },
      "execution_count": null,
      "outputs": [
        {
          "output_type": "display_data",
          "data": {
            "text/html": [
              "<html>\n",
              "<head><meta charset=\"utf-8\" /></head>\n",
              "<body>\n",
              "    <div>            <script src=\"https://cdnjs.cloudflare.com/ajax/libs/mathjax/2.7.5/MathJax.js?config=TeX-AMS-MML_SVG\"></script><script type=\"text/javascript\">if (window.MathJax && window.MathJax.Hub && window.MathJax.Hub.Config) {window.MathJax.Hub.Config({SVG: {font: \"STIX-Web\"}});}</script>                <script type=\"text/javascript\">window.PlotlyConfig = {MathJaxConfig: 'local'};</script>\n",
              "        <script charset=\"utf-8\" src=\"https://cdn.plot.ly/plotly-2.24.1.min.js\"></script>                <div id=\"c0700fc4-fa3e-486f-8716-afeacb175f79\" class=\"plotly-graph-div\" style=\"height:575px; width:1000px;\"></div>            <script type=\"text/javascript\">                                    window.PLOTLYENV=window.PLOTLYENV || {};                                    if (document.getElementById(\"c0700fc4-fa3e-486f-8716-afeacb175f79\")) {                    Plotly.newPlot(                        \"c0700fc4-fa3e-486f-8716-afeacb175f79\",                        [{\"hoverinfo\":\"text\",\"marker\":{\"color\":\"rgb(61,153,112)\"},\"mode\":\"lines\",\"x\":[0.0,0.002346190243580404,0.002346190243580404,0.0],\"xaxis\":\"x\",\"y\":[-5.0,-5.0,-15.0,-15.0],\"yaxis\":\"y\",\"type\":\"scatter\"},{\"hoverinfo\":\"text\",\"marker\":{\"color\":\"rgb(255,65,54)\"},\"mode\":\"lines\",\"x\":[0.0,0.8624044808559375,0.8624044808559375,0.0],\"xaxis\":\"x\",\"y\":[-45.0,-45.0,-55.0,-55.0],\"yaxis\":\"y\",\"type\":\"scatter\"},{\"hoverinfo\":\"text\",\"marker\":{\"color\":\"rgb(255,65,54)\"},\"mode\":\"lines\",\"x\":[0.0,0.8973445287866137,0.8973445287866137,0.8624044808559375],\"xaxis\":\"x\",\"y\":[-35.0,-35.0,-50.0,-50.0],\"yaxis\":\"y\",\"type\":\"scatter\"},{\"hoverinfo\":\"text\",\"marker\":{\"color\":\"rgb(255,65,54)\"},\"mode\":\"lines\",\"x\":[0.0,0.9637389340523711,0.9637389340523711,0.8973445287866137],\"xaxis\":\"x\",\"y\":[-25.0,-25.0,-42.5,-42.5],\"yaxis\":\"y\",\"type\":\"scatter\"},{\"hoverinfo\":\"text\",\"marker\":{\"color\":\"rgb(35,205,205)\"},\"mode\":\"lines\",\"x\":[0.0,0.9596501804986695,0.9596501804986695,0.0],\"xaxis\":\"x\",\"y\":[-75.0,-75.0,-85.0,-85.0],\"yaxis\":\"y\",\"type\":\"scatter\"},{\"hoverinfo\":\"text\",\"marker\":{\"color\":\"rgb(35,205,205)\"},\"mode\":\"lines\",\"x\":[0.9596501804986695,0.9816102900980823,0.9816102900980823,0.0],\"xaxis\":\"x\",\"y\":[-80.0,-80.0,-95.0,-95.0],\"yaxis\":\"y\",\"type\":\"scatter\"},{\"hoverinfo\":\"text\",\"marker\":{\"color\":\"rgb(35,205,205)\"},\"mode\":\"lines\",\"x\":[0.0,0.9964756315020336,0.9964756315020336,0.9816102900980823],\"xaxis\":\"x\",\"y\":[-65.0,-65.0,-87.5,-87.5],\"yaxis\":\"y\",\"type\":\"scatter\"},{\"hoverinfo\":\"text\",\"marker\":{\"color\":\"rgb(133,20,75)\"},\"mode\":\"lines\",\"x\":[0.0,0.9530306155527423,0.9530306155527423,0.0],\"xaxis\":\"x\",\"y\":[-105.0,-105.0,-115.0,-115.0],\"yaxis\":\"y\",\"type\":\"scatter\"},{\"hoverinfo\":\"text\",\"marker\":{\"color\":\"rgb(133,20,75)\"},\"mode\":\"lines\",\"x\":[0.0,0.9591973689235623,0.9591973689235623,0.0],\"xaxis\":\"x\",\"y\":[-125.0,-125.0,-135.0,-135.0],\"yaxis\":\"y\",\"type\":\"scatter\"},{\"hoverinfo\":\"text\",\"marker\":{\"color\":\"rgb(133,20,75)\"},\"mode\":\"lines\",\"x\":[0.9530306155527423,0.9652613193790922,0.9652613193790922,0.9591973689235623],\"xaxis\":\"x\",\"y\":[-110.0,-110.0,-130.0,-130.0],\"yaxis\":\"y\",\"type\":\"scatter\"},{\"hoverinfo\":\"text\",\"marker\":{\"color\":\"rgb(255,220,0)\"},\"mode\":\"lines\",\"x\":[0.0,0.9495392877049931,0.9495392877049931,0.0],\"xaxis\":\"x\",\"y\":[-145.0,-145.0,-155.0,-155.0],\"yaxis\":\"y\",\"type\":\"scatter\"},{\"hoverinfo\":\"text\",\"marker\":{\"color\":\"rgb(0,116,217)\"},\"mode\":\"lines\",\"x\":[0.9652613193790922,1.0174520796716038,1.0174520796716038,0.9495392877049931],\"xaxis\":\"x\",\"y\":[-120.0,-120.0,-150.0,-150.0],\"yaxis\":\"y\",\"type\":\"scatter\"},{\"hoverinfo\":\"text\",\"marker\":{\"color\":\"rgb(0,116,217)\"},\"mode\":\"lines\",\"x\":[0.9964756315020336,1.0306870277490074,1.0306870277490074,1.0174520796716038],\"xaxis\":\"x\",\"y\":[-76.25,-76.25,-135.0,-135.0],\"yaxis\":\"y\",\"type\":\"scatter\"},{\"hoverinfo\":\"text\",\"marker\":{\"color\":\"rgb(40,35,35)\"},\"mode\":\"lines\",\"x\":[0.0,0.9859037502505819,0.9859037502505819,0.0],\"xaxis\":\"x\",\"y\":[-175.0,-175.0,-185.0,-185.0],\"yaxis\":\"y\",\"type\":\"scatter\"},{\"hoverinfo\":\"text\",\"marker\":{\"color\":\"rgb(40,35,35)\"},\"mode\":\"lines\",\"x\":[0.0,0.9975412426566062,0.9975412426566062,0.9859037502505819],\"xaxis\":\"x\",\"y\":[-165.0,-165.0,-180.0,-180.0],\"yaxis\":\"y\",\"type\":\"scatter\"},{\"hoverinfo\":\"text\",\"marker\":{\"color\":\"rgb(61,153,112)\"},\"mode\":\"lines\",\"x\":[0.0,0.9955196728088612,0.9955196728088612,0.0],\"xaxis\":\"x\",\"y\":[-205.0,-205.0,-215.0,-215.0],\"yaxis\":\"y\",\"type\":\"scatter\"},{\"hoverinfo\":\"text\",\"marker\":{\"color\":\"rgb(61,153,112)\"},\"mode\":\"lines\",\"x\":[0.0,0.9993250496446163,0.9993250496446163,0.9955196728088612],\"xaxis\":\"x\",\"y\":[-195.0,-195.0,-210.0,-210.0],\"yaxis\":\"y\",\"type\":\"scatter\"},{\"hoverinfo\":\"text\",\"marker\":{\"color\":\"rgb(0,116,217)\"},\"mode\":\"lines\",\"x\":[0.9993250496446163,1.0012854271139828,1.0012854271139828,0.0],\"xaxis\":\"x\",\"y\":[-202.5,-202.5,-225.0,-225.0],\"yaxis\":\"y\",\"type\":\"scatter\"},{\"hoverinfo\":\"text\",\"marker\":{\"color\":\"rgb(0,116,217)\"},\"mode\":\"lines\",\"x\":[0.9975412426566062,1.007282747358963,1.007282747358963,1.0012854271139828],\"xaxis\":\"x\",\"y\":[-172.5,-172.5,-213.75,-213.75],\"yaxis\":\"y\",\"type\":\"scatter\"},{\"hoverinfo\":\"text\",\"marker\":{\"color\":\"rgb(0,116,217)\"},\"mode\":\"lines\",\"x\":[1.0306870277490074,1.0442377514034682,1.0442377514034682,1.007282747358963],\"xaxis\":\"x\",\"y\":[-105.625,-105.625,-193.125,-193.125],\"yaxis\":\"y\",\"type\":\"scatter\"},{\"hoverinfo\":\"text\",\"marker\":{\"color\":\"rgb(255,65,54)\"},\"mode\":\"lines\",\"x\":[0.0,0.8639303439262296,0.8639303439262296,0.0],\"xaxis\":\"x\",\"y\":[-235.0,-235.0,-245.0,-245.0],\"yaxis\":\"y\",\"type\":\"scatter\"},{\"hoverinfo\":\"text\",\"marker\":{\"color\":\"rgb(0,116,217)\"},\"mode\":\"lines\",\"x\":[1.0442377514034682,1.1056474194834993,1.1056474194834993,0.8639303439262296],\"xaxis\":\"x\",\"y\":[-149.375,-149.375,-240.0,-240.0],\"yaxis\":\"y\",\"type\":\"scatter\"},{\"hoverinfo\":\"text\",\"marker\":{\"color\":\"rgb(0,116,217)\"},\"mode\":\"lines\",\"x\":[0.9637389340523711,1.1157082269343188,1.1157082269343188,1.1056474194834993],\"xaxis\":\"x\",\"y\":[-33.75,-33.75,-194.6875,-194.6875],\"yaxis\":\"y\",\"type\":\"scatter\"},{\"hoverinfo\":\"text\",\"marker\":{\"color\":\"rgb(0,116,217)\"},\"mode\":\"lines\",\"x\":[0.002346190243580404,1.3956996331855394,1.3956996331855394,1.1157082269343188],\"xaxis\":\"x\",\"y\":[-10.0,-10.0,-114.21875,-114.21875],\"yaxis\":\"y\",\"type\":\"scatter\"}],                        {\"autosize\":false,\"height\":575,\"hovermode\":\"closest\",\"showlegend\":false,\"width\":1000,\"xaxis\":{\"mirror\":\"allticks\",\"rangemode\":\"tozero\",\"showgrid\":false,\"showline\":true,\"showticklabels\":true,\"ticks\":\"outside\",\"type\":\"linear\",\"zeroline\":false},\"yaxis\":{\"mirror\":\"allticks\",\"rangemode\":\"tozero\",\"showgrid\":false,\"showline\":true,\"showticklabels\":true,\"tickmode\":\"array\",\"ticks\":\"outside\",\"ticktext\":[\"21_7day_2006_trial\",\"19_7day_2006_trial\",\"20_tradedeal_therapeutic_lo...\",\"5_ebay_bidu_exdividend\",\"4_gspc_fall_surge\",\"16_stockbeat_newsbreak_usch...\",\"9_infosec_netsec_appsec\",\"24_technews_digitaltransfor...\",\"1_patent_research_method\",\"12_fitbit_smartwatch_wearable\",\"14_shipping_oneday_1day\",\"6_bezos_jeff_jeffbezos\",\"8_antitrust_probe_investiga...\",\"18_sjsowa_msftaaplamznfbbrk...\",\"3_silver_commodity_gold\",\"13_lifetime_advantage_late\",\"17_rated_king_screen\",\"38_regn_biib_wynn\",\"10_updateaapl_tradeaapl_dol...\",\"32_yearlydelivered_profitpa...\",\"2_guide_active_free\",\"15_everything_sp500_yearmsft\",\"0_nan_usching_yoyo\",\"11_giant_check_analyst\",\"7_stay_view_analysis\"],\"tickvals\":[-5.0,-15.0,-25.0,-35.0,-45.0,-55.0,-65.0,-75.0,-85.0,-95.0,-105.0,-115.0,-125.0,-135.0,-145.0,-155.0,-165.0,-175.0,-185.0,-195.0,-205.0,-215.0,-225.0,-235.0,-245.0],\"type\":\"linear\",\"zeroline\":false,\"range\":[-250.0,0.0]},\"template\":{\"data\":{\"barpolar\":[{\"marker\":{\"line\":{\"color\":\"white\",\"width\":0.5},\"pattern\":{\"fillmode\":\"overlay\",\"size\":10,\"solidity\":0.2}},\"type\":\"barpolar\"}],\"bar\":[{\"error_x\":{\"color\":\"#2a3f5f\"},\"error_y\":{\"color\":\"#2a3f5f\"},\"marker\":{\"line\":{\"color\":\"white\",\"width\":0.5},\"pattern\":{\"fillmode\":\"overlay\",\"size\":10,\"solidity\":0.2}},\"type\":\"bar\"}],\"carpet\":[{\"aaxis\":{\"endlinecolor\":\"#2a3f5f\",\"gridcolor\":\"#C8D4E3\",\"linecolor\":\"#C8D4E3\",\"minorgridcolor\":\"#C8D4E3\",\"startlinecolor\":\"#2a3f5f\"},\"baxis\":{\"endlinecolor\":\"#2a3f5f\",\"gridcolor\":\"#C8D4E3\",\"linecolor\":\"#C8D4E3\",\"minorgridcolor\":\"#C8D4E3\",\"startlinecolor\":\"#2a3f5f\"},\"type\":\"carpet\"}],\"choropleth\":[{\"colorbar\":{\"outlinewidth\":0,\"ticks\":\"\"},\"type\":\"choropleth\"}],\"contourcarpet\":[{\"colorbar\":{\"outlinewidth\":0,\"ticks\":\"\"},\"type\":\"contourcarpet\"}],\"contour\":[{\"colorbar\":{\"outlinewidth\":0,\"ticks\":\"\"},\"colorscale\":[[0.0,\"#0d0887\"],[0.1111111111111111,\"#46039f\"],[0.2222222222222222,\"#7201a8\"],[0.3333333333333333,\"#9c179e\"],[0.4444444444444444,\"#bd3786\"],[0.5555555555555556,\"#d8576b\"],[0.6666666666666666,\"#ed7953\"],[0.7777777777777778,\"#fb9f3a\"],[0.8888888888888888,\"#fdca26\"],[1.0,\"#f0f921\"]],\"type\":\"contour\"}],\"heatmapgl\":[{\"colorbar\":{\"outlinewidth\":0,\"ticks\":\"\"},\"colorscale\":[[0.0,\"#0d0887\"],[0.1111111111111111,\"#46039f\"],[0.2222222222222222,\"#7201a8\"],[0.3333333333333333,\"#9c179e\"],[0.4444444444444444,\"#bd3786\"],[0.5555555555555556,\"#d8576b\"],[0.6666666666666666,\"#ed7953\"],[0.7777777777777778,\"#fb9f3a\"],[0.8888888888888888,\"#fdca26\"],[1.0,\"#f0f921\"]],\"type\":\"heatmapgl\"}],\"heatmap\":[{\"colorbar\":{\"outlinewidth\":0,\"ticks\":\"\"},\"colorscale\":[[0.0,\"#0d0887\"],[0.1111111111111111,\"#46039f\"],[0.2222222222222222,\"#7201a8\"],[0.3333333333333333,\"#9c179e\"],[0.4444444444444444,\"#bd3786\"],[0.5555555555555556,\"#d8576b\"],[0.6666666666666666,\"#ed7953\"],[0.7777777777777778,\"#fb9f3a\"],[0.8888888888888888,\"#fdca26\"],[1.0,\"#f0f921\"]],\"type\":\"heatmap\"}],\"histogram2dcontour\":[{\"colorbar\":{\"outlinewidth\":0,\"ticks\":\"\"},\"colorscale\":[[0.0,\"#0d0887\"],[0.1111111111111111,\"#46039f\"],[0.2222222222222222,\"#7201a8\"],[0.3333333333333333,\"#9c179e\"],[0.4444444444444444,\"#bd3786\"],[0.5555555555555556,\"#d8576b\"],[0.6666666666666666,\"#ed7953\"],[0.7777777777777778,\"#fb9f3a\"],[0.8888888888888888,\"#fdca26\"],[1.0,\"#f0f921\"]],\"type\":\"histogram2dcontour\"}],\"histogram2d\":[{\"colorbar\":{\"outlinewidth\":0,\"ticks\":\"\"},\"colorscale\":[[0.0,\"#0d0887\"],[0.1111111111111111,\"#46039f\"],[0.2222222222222222,\"#7201a8\"],[0.3333333333333333,\"#9c179e\"],[0.4444444444444444,\"#bd3786\"],[0.5555555555555556,\"#d8576b\"],[0.6666666666666666,\"#ed7953\"],[0.7777777777777778,\"#fb9f3a\"],[0.8888888888888888,\"#fdca26\"],[1.0,\"#f0f921\"]],\"type\":\"histogram2d\"}],\"histogram\":[{\"marker\":{\"pattern\":{\"fillmode\":\"overlay\",\"size\":10,\"solidity\":0.2}},\"type\":\"histogram\"}],\"mesh3d\":[{\"colorbar\":{\"outlinewidth\":0,\"ticks\":\"\"},\"type\":\"mesh3d\"}],\"parcoords\":[{\"line\":{\"colorbar\":{\"outlinewidth\":0,\"ticks\":\"\"}},\"type\":\"parcoords\"}],\"pie\":[{\"automargin\":true,\"type\":\"pie\"}],\"scatter3d\":[{\"line\":{\"colorbar\":{\"outlinewidth\":0,\"ticks\":\"\"}},\"marker\":{\"colorbar\":{\"outlinewidth\":0,\"ticks\":\"\"}},\"type\":\"scatter3d\"}],\"scattercarpet\":[{\"marker\":{\"colorbar\":{\"outlinewidth\":0,\"ticks\":\"\"}},\"type\":\"scattercarpet\"}],\"scattergeo\":[{\"marker\":{\"colorbar\":{\"outlinewidth\":0,\"ticks\":\"\"}},\"type\":\"scattergeo\"}],\"scattergl\":[{\"marker\":{\"colorbar\":{\"outlinewidth\":0,\"ticks\":\"\"}},\"type\":\"scattergl\"}],\"scattermapbox\":[{\"marker\":{\"colorbar\":{\"outlinewidth\":0,\"ticks\":\"\"}},\"type\":\"scattermapbox\"}],\"scatterpolargl\":[{\"marker\":{\"colorbar\":{\"outlinewidth\":0,\"ticks\":\"\"}},\"type\":\"scatterpolargl\"}],\"scatterpolar\":[{\"marker\":{\"colorbar\":{\"outlinewidth\":0,\"ticks\":\"\"}},\"type\":\"scatterpolar\"}],\"scatter\":[{\"fillpattern\":{\"fillmode\":\"overlay\",\"size\":10,\"solidity\":0.2},\"type\":\"scatter\"}],\"scatterternary\":[{\"marker\":{\"colorbar\":{\"outlinewidth\":0,\"ticks\":\"\"}},\"type\":\"scatterternary\"}],\"surface\":[{\"colorbar\":{\"outlinewidth\":0,\"ticks\":\"\"},\"colorscale\":[[0.0,\"#0d0887\"],[0.1111111111111111,\"#46039f\"],[0.2222222222222222,\"#7201a8\"],[0.3333333333333333,\"#9c179e\"],[0.4444444444444444,\"#bd3786\"],[0.5555555555555556,\"#d8576b\"],[0.6666666666666666,\"#ed7953\"],[0.7777777777777778,\"#fb9f3a\"],[0.8888888888888888,\"#fdca26\"],[1.0,\"#f0f921\"]],\"type\":\"surface\"}],\"table\":[{\"cells\":{\"fill\":{\"color\":\"#EBF0F8\"},\"line\":{\"color\":\"white\"}},\"header\":{\"fill\":{\"color\":\"#C8D4E3\"},\"line\":{\"color\":\"white\"}},\"type\":\"table\"}]},\"layout\":{\"annotationdefaults\":{\"arrowcolor\":\"#2a3f5f\",\"arrowhead\":0,\"arrowwidth\":1},\"autotypenumbers\":\"strict\",\"coloraxis\":{\"colorbar\":{\"outlinewidth\":0,\"ticks\":\"\"}},\"colorscale\":{\"diverging\":[[0,\"#8e0152\"],[0.1,\"#c51b7d\"],[0.2,\"#de77ae\"],[0.3,\"#f1b6da\"],[0.4,\"#fde0ef\"],[0.5,\"#f7f7f7\"],[0.6,\"#e6f5d0\"],[0.7,\"#b8e186\"],[0.8,\"#7fbc41\"],[0.9,\"#4d9221\"],[1,\"#276419\"]],\"sequential\":[[0.0,\"#0d0887\"],[0.1111111111111111,\"#46039f\"],[0.2222222222222222,\"#7201a8\"],[0.3333333333333333,\"#9c179e\"],[0.4444444444444444,\"#bd3786\"],[0.5555555555555556,\"#d8576b\"],[0.6666666666666666,\"#ed7953\"],[0.7777777777777778,\"#fb9f3a\"],[0.8888888888888888,\"#fdca26\"],[1.0,\"#f0f921\"]],\"sequentialminus\":[[0.0,\"#0d0887\"],[0.1111111111111111,\"#46039f\"],[0.2222222222222222,\"#7201a8\"],[0.3333333333333333,\"#9c179e\"],[0.4444444444444444,\"#bd3786\"],[0.5555555555555556,\"#d8576b\"],[0.6666666666666666,\"#ed7953\"],[0.7777777777777778,\"#fb9f3a\"],[0.8888888888888888,\"#fdca26\"],[1.0,\"#f0f921\"]]},\"colorway\":[\"#636efa\",\"#EF553B\",\"#00cc96\",\"#ab63fa\",\"#FFA15A\",\"#19d3f3\",\"#FF6692\",\"#B6E880\",\"#FF97FF\",\"#FECB52\"],\"font\":{\"color\":\"#2a3f5f\"},\"geo\":{\"bgcolor\":\"white\",\"lakecolor\":\"white\",\"landcolor\":\"white\",\"showlakes\":true,\"showland\":true,\"subunitcolor\":\"#C8D4E3\"},\"hoverlabel\":{\"align\":\"left\"},\"hovermode\":\"closest\",\"mapbox\":{\"style\":\"light\"},\"paper_bgcolor\":\"white\",\"plot_bgcolor\":\"white\",\"polar\":{\"angularaxis\":{\"gridcolor\":\"#EBF0F8\",\"linecolor\":\"#EBF0F8\",\"ticks\":\"\"},\"bgcolor\":\"white\",\"radialaxis\":{\"gridcolor\":\"#EBF0F8\",\"linecolor\":\"#EBF0F8\",\"ticks\":\"\"}},\"scene\":{\"xaxis\":{\"backgroundcolor\":\"white\",\"gridcolor\":\"#DFE8F3\",\"gridwidth\":2,\"linecolor\":\"#EBF0F8\",\"showbackground\":true,\"ticks\":\"\",\"zerolinecolor\":\"#EBF0F8\"},\"yaxis\":{\"backgroundcolor\":\"white\",\"gridcolor\":\"#DFE8F3\",\"gridwidth\":2,\"linecolor\":\"#EBF0F8\",\"showbackground\":true,\"ticks\":\"\",\"zerolinecolor\":\"#EBF0F8\"},\"zaxis\":{\"backgroundcolor\":\"white\",\"gridcolor\":\"#DFE8F3\",\"gridwidth\":2,\"linecolor\":\"#EBF0F8\",\"showbackground\":true,\"ticks\":\"\",\"zerolinecolor\":\"#EBF0F8\"}},\"shapedefaults\":{\"line\":{\"color\":\"#2a3f5f\"}},\"ternary\":{\"aaxis\":{\"gridcolor\":\"#DFE8F3\",\"linecolor\":\"#A2B1C6\",\"ticks\":\"\"},\"baxis\":{\"gridcolor\":\"#DFE8F3\",\"linecolor\":\"#A2B1C6\",\"ticks\":\"\"},\"bgcolor\":\"white\",\"caxis\":{\"gridcolor\":\"#DFE8F3\",\"linecolor\":\"#A2B1C6\",\"ticks\":\"\"}},\"title\":{\"x\":0.05},\"xaxis\":{\"automargin\":true,\"gridcolor\":\"#EBF0F8\",\"linecolor\":\"#EBF0F8\",\"ticks\":\"\",\"title\":{\"standoff\":15},\"zerolinecolor\":\"#EBF0F8\",\"zerolinewidth\":2},\"yaxis\":{\"automargin\":true,\"gridcolor\":\"#EBF0F8\",\"linecolor\":\"#EBF0F8\",\"ticks\":\"\",\"title\":{\"standoff\":15},\"zerolinecolor\":\"#EBF0F8\",\"zerolinewidth\":2}}},\"title\":{\"font\":{\"size\":22,\"color\":\"Black\"},\"text\":\"\\u003cb\\u003eHierarchical Clustering\\u003c\\u002fb\\u003e\",\"x\":0.5,\"xanchor\":\"center\",\"yanchor\":\"top\"},\"hoverlabel\":{\"font\":{\"size\":16,\"family\":\"Rockwell\"},\"bgcolor\":\"white\"},\"plot_bgcolor\":\"#ECEFF1\"},                        {\"responsive\": true}                    ).then(function(){\n",
              "                            \n",
              "var gd = document.getElementById('c0700fc4-fa3e-486f-8716-afeacb175f79');\n",
              "var x = new MutationObserver(function (mutations, observer) {{\n",
              "        var display = window.getComputedStyle(gd).display;\n",
              "        if (!display || display === 'none') {{\n",
              "            console.log([gd, 'removed!']);\n",
              "            Plotly.purge(gd);\n",
              "            observer.disconnect();\n",
              "        }}\n",
              "}});\n",
              "\n",
              "// Listen for the removal of the full notebook cells\n",
              "var notebookContainer = gd.closest('#notebook-container');\n",
              "if (notebookContainer) {{\n",
              "    x.observe(notebookContainer, {childList: true});\n",
              "}}\n",
              "\n",
              "// Listen for the clearing of the current output cell\n",
              "var outputEl = gd.closest('.output');\n",
              "if (outputEl) {{\n",
              "    x.observe(outputEl, {childList: true});\n",
              "}}\n",
              "\n",
              "                        })                };                            </script>        </div>\n",
              "</body>\n",
              "</html>"
            ]
          },
          "metadata": {}
        }
      ]
    },
    {
      "cell_type": "markdown",
      "source": [
        "Se van reduciendo el número de tópicos y visualizando la distancia intertópica hasta obtener el número óptimo (20) en el que la distancia es lo suficientemente grande como para que estos sean diferenciables"
      ],
      "metadata": {
        "id": "CJRpLokZxBqQ"
      }
    },
    {
      "cell_type": "code",
      "source": [
        "#PRUEBAS TOPIC REDUCTION Y DISTANCIA INTERTOPICA RESULTANTE.\n",
        "loaded_model.reduce_topics(data, nr_topics=22)\n",
        "loaded_model.visualize_topics()"
      ],
      "metadata": {
        "colab": {
          "base_uri": "https://localhost:8080/",
          "height": 684
        },
        "id": "W1awGbsV9B6Y",
        "outputId": "27e969c6-81a5-49d4-e0d8-0a5f89cf6805"
      },
      "execution_count": null,
      "outputs": [
        {
          "output_type": "stream",
          "name": "stderr",
          "text": [
            "2023-11-15 22:02:43,301 - BERTopic - Reduced number of topics from 23 to 22\n"
          ]
        },
        {
          "output_type": "display_data",
          "data": {
            "text/html": [
              "<html>\n",
              "<head><meta charset=\"utf-8\" /></head>\n",
              "<body>\n",
              "    <div>            <script src=\"https://cdnjs.cloudflare.com/ajax/libs/mathjax/2.7.5/MathJax.js?config=TeX-AMS-MML_SVG\"></script><script type=\"text/javascript\">if (window.MathJax && window.MathJax.Hub && window.MathJax.Hub.Config) {window.MathJax.Hub.Config({SVG: {font: \"STIX-Web\"}});}</script>                <script type=\"text/javascript\">window.PlotlyConfig = {MathJaxConfig: 'local'};</script>\n",
              "        <script charset=\"utf-8\" src=\"https://cdn.plot.ly/plotly-2.24.1.min.js\"></script>                <div id=\"78a0da1f-5ebc-41eb-bf3e-a8c34a3ca38e\" class=\"plotly-graph-div\" style=\"height:650px; width:650px;\"></div>            <script type=\"text/javascript\">                                    window.PLOTLYENV=window.PLOTLYENV || {};                                    if (document.getElementById(\"78a0da1f-5ebc-41eb-bf3e-a8c34a3ca38e\")) {                    Plotly.newPlot(                        \"78a0da1f-5ebc-41eb-bf3e-a8c34a3ca38e\",                        [{\"customdata\":[[0,\"nflx | trade | stock | nvda | baba\",164431],[1,\"nan | usching | yoyo | quinnypig | ching\",2197],[2,\"dailystkleadercount | leading | stock | industryaapl | mailing\",214],[3,\"maxpain | option | chart | free | optionblock\",204],[4,\"scalp | crosshairs | scalping | profit | nice\",182],[5,\"consolidation | higher | break | level | year\",179],[6,\"quantum | computing | quantumcomputing | computer | supremacy\",160],[7,\"linkedin | chainlink | link | azure | lnkd\",148],[8,\"cramer | jimcramer | madmoneyoncnbc | evebitda | say\",105],[9,\"impeachment | trump | impeached | president | impeach\",101],[10,\"ramp | rampcapitalllc | ivpercentiles | uvxy | closing\",100],[11,\"beginner | dltr | link | guide | csco\",100],[12,\"hourly | breakout | chart | intraday | push\",76],[13,\"airpods | earphone | earbud | wireless | bud\",62],[14,\"github | code | microsoftowned | opensource | developer\",52],[15,\"cord | cordcutting | roku | cable | cutting\",49],[16,\"1765 | 17655 | call | sold | 1770s\",30],[17,\"amazonapplealibabamicrosoftboeingshouldflyontheresumptionoftradetalksandmeethalfwaycommentnewsstickwithqualityifyoubuythedipamznaaplbabamsftavoidinguberba | tradewarmeansstickdomesticgrowthwithlittleornochineseexposurecrmgooglfbavoidmultinationalsthatsellinandtochinaorgetsuppliedfromchinawmtamznaaplba | cnbchasbeenbashingfaangstocksforseveralweeksbcthefastmoneyandhalftimetradesdumpedsomeofthemonlywayformkttocontinuethebullruniswithfaangpartipicationfbgooglamznaaplnflxourbestcompaniesshouldnotbetargetspiatasfordems | 2pmpressconfinfrontofsupremecourtexpectmajorgrandstandingtheyhave49outof50agssignedongameoverforgooglfbtwtragreeshouldhavewaitedformarketcloseunlessacertaingroupoftradessittingat1600pahavesomeshortpositionswilburrrrrrr | antitrustandtariffsseemtobetrumpscurrenthandtheboeingcoverupsalsolookbadforthefaabadfortradeandmarketschinamexicogooglfbamznautosfgmtslatmfcauba\",22],[18,\"disclaimerpremarket | 000closed | 184113 | 1645 | 184072\",21],[19,\"tckrbot | tchey | interesting | tspot | msftaalkotwtribm\",14],[20,\"wiadomocirynkowe | wiadomocietf | thisalso | chiny | atrpghsygoogagn\",12]],\"hovertemplate\":\"\\u003cb\\u003eTopic %{customdata[0]}\\u003c\\u002fb\\u003e\\u003cbr\\u003e%{customdata[1]}\\u003cbr\\u003eSize: %{customdata[2]}\",\"legendgroup\":\"\",\"marker\":{\"color\":\"#B0BEC5\",\"size\":[164431,2197,214,204,182,179,160,148,105,101,100,100,76,62,52,49,30,22,21,14,12],\"sizemode\":\"area\",\"sizeref\":102.769375,\"symbol\":\"circle\",\"line\":{\"color\":\"DarkSlateGrey\",\"width\":2}},\"mode\":\"markers\",\"name\":\"\",\"orientation\":\"v\",\"showlegend\":false,\"x\":[2.967378854751587,1.4543731212615967,2.544369697570801,1.158225178718567,2.87766170501709,1.520696759223938,0.19217102229595184,0.7265741229057312,1.609592080116272,1.1235215663909912,-0.6527031064033508,0.10280697047710419,-0.6543172597885132,2.281510829925537,2.4905707836151123,-1.3733248710632324,-0.5902274250984192,2.140160083770752,-0.0331747941672802,0.970027506351471,-1.0852434635162354],\"xaxis\":\"x\",\"y\":[11.65694808959961,11.231587409973145,10.38395881652832,10.013118743896484,11.071698188781738,10.651586532592773,10.554730415344238,11.054756164550781,12.158053398132324,11.780597686767578,12.74280071258545,11.937459945678711,9.8148193359375,12.089285850524902,11.364763259887695,12.184225082397461,11.511092185974121,10.791728973388672,13.24838638305664,13.061338424682617,10.71078109741211],\"yaxis\":\"y\",\"type\":\"scatter\"}],                        {\"template\":{\"data\":{\"barpolar\":[{\"marker\":{\"line\":{\"color\":\"white\",\"width\":0.5},\"pattern\":{\"fillmode\":\"overlay\",\"size\":10,\"solidity\":0.2}},\"type\":\"barpolar\"}],\"bar\":[{\"error_x\":{\"color\":\"rgb(36,36,36)\"},\"error_y\":{\"color\":\"rgb(36,36,36)\"},\"marker\":{\"line\":{\"color\":\"white\",\"width\":0.5},\"pattern\":{\"fillmode\":\"overlay\",\"size\":10,\"solidity\":0.2}},\"type\":\"bar\"}],\"carpet\":[{\"aaxis\":{\"endlinecolor\":\"rgb(36,36,36)\",\"gridcolor\":\"white\",\"linecolor\":\"white\",\"minorgridcolor\":\"white\",\"startlinecolor\":\"rgb(36,36,36)\"},\"baxis\":{\"endlinecolor\":\"rgb(36,36,36)\",\"gridcolor\":\"white\",\"linecolor\":\"white\",\"minorgridcolor\":\"white\",\"startlinecolor\":\"rgb(36,36,36)\"},\"type\":\"carpet\"}],\"choropleth\":[{\"colorbar\":{\"outlinewidth\":1,\"tickcolor\":\"rgb(36,36,36)\",\"ticks\":\"outside\"},\"type\":\"choropleth\"}],\"contourcarpet\":[{\"colorbar\":{\"outlinewidth\":1,\"tickcolor\":\"rgb(36,36,36)\",\"ticks\":\"outside\"},\"type\":\"contourcarpet\"}],\"contour\":[{\"colorbar\":{\"outlinewidth\":1,\"tickcolor\":\"rgb(36,36,36)\",\"ticks\":\"outside\"},\"colorscale\":[[0.0,\"#440154\"],[0.1111111111111111,\"#482878\"],[0.2222222222222222,\"#3e4989\"],[0.3333333333333333,\"#31688e\"],[0.4444444444444444,\"#26828e\"],[0.5555555555555556,\"#1f9e89\"],[0.6666666666666666,\"#35b779\"],[0.7777777777777778,\"#6ece58\"],[0.8888888888888888,\"#b5de2b\"],[1.0,\"#fde725\"]],\"type\":\"contour\"}],\"heatmapgl\":[{\"colorbar\":{\"outlinewidth\":1,\"tickcolor\":\"rgb(36,36,36)\",\"ticks\":\"outside\"},\"colorscale\":[[0.0,\"#440154\"],[0.1111111111111111,\"#482878\"],[0.2222222222222222,\"#3e4989\"],[0.3333333333333333,\"#31688e\"],[0.4444444444444444,\"#26828e\"],[0.5555555555555556,\"#1f9e89\"],[0.6666666666666666,\"#35b779\"],[0.7777777777777778,\"#6ece58\"],[0.8888888888888888,\"#b5de2b\"],[1.0,\"#fde725\"]],\"type\":\"heatmapgl\"}],\"heatmap\":[{\"colorbar\":{\"outlinewidth\":1,\"tickcolor\":\"rgb(36,36,36)\",\"ticks\":\"outside\"},\"colorscale\":[[0.0,\"#440154\"],[0.1111111111111111,\"#482878\"],[0.2222222222222222,\"#3e4989\"],[0.3333333333333333,\"#31688e\"],[0.4444444444444444,\"#26828e\"],[0.5555555555555556,\"#1f9e89\"],[0.6666666666666666,\"#35b779\"],[0.7777777777777778,\"#6ece58\"],[0.8888888888888888,\"#b5de2b\"],[1.0,\"#fde725\"]],\"type\":\"heatmap\"}],\"histogram2dcontour\":[{\"colorbar\":{\"outlinewidth\":1,\"tickcolor\":\"rgb(36,36,36)\",\"ticks\":\"outside\"},\"colorscale\":[[0.0,\"#440154\"],[0.1111111111111111,\"#482878\"],[0.2222222222222222,\"#3e4989\"],[0.3333333333333333,\"#31688e\"],[0.4444444444444444,\"#26828e\"],[0.5555555555555556,\"#1f9e89\"],[0.6666666666666666,\"#35b779\"],[0.7777777777777778,\"#6ece58\"],[0.8888888888888888,\"#b5de2b\"],[1.0,\"#fde725\"]],\"type\":\"histogram2dcontour\"}],\"histogram2d\":[{\"colorbar\":{\"outlinewidth\":1,\"tickcolor\":\"rgb(36,36,36)\",\"ticks\":\"outside\"},\"colorscale\":[[0.0,\"#440154\"],[0.1111111111111111,\"#482878\"],[0.2222222222222222,\"#3e4989\"],[0.3333333333333333,\"#31688e\"],[0.4444444444444444,\"#26828e\"],[0.5555555555555556,\"#1f9e89\"],[0.6666666666666666,\"#35b779\"],[0.7777777777777778,\"#6ece58\"],[0.8888888888888888,\"#b5de2b\"],[1.0,\"#fde725\"]],\"type\":\"histogram2d\"}],\"histogram\":[{\"marker\":{\"line\":{\"color\":\"white\",\"width\":0.6}},\"type\":\"histogram\"}],\"mesh3d\":[{\"colorbar\":{\"outlinewidth\":1,\"tickcolor\":\"rgb(36,36,36)\",\"ticks\":\"outside\"},\"type\":\"mesh3d\"}],\"parcoords\":[{\"line\":{\"colorbar\":{\"outlinewidth\":1,\"tickcolor\":\"rgb(36,36,36)\",\"ticks\":\"outside\"}},\"type\":\"parcoords\"}],\"pie\":[{\"automargin\":true,\"type\":\"pie\"}],\"scatter3d\":[{\"line\":{\"colorbar\":{\"outlinewidth\":1,\"tickcolor\":\"rgb(36,36,36)\",\"ticks\":\"outside\"}},\"marker\":{\"colorbar\":{\"outlinewidth\":1,\"tickcolor\":\"rgb(36,36,36)\",\"ticks\":\"outside\"}},\"type\":\"scatter3d\"}],\"scattercarpet\":[{\"marker\":{\"colorbar\":{\"outlinewidth\":1,\"tickcolor\":\"rgb(36,36,36)\",\"ticks\":\"outside\"}},\"type\":\"scattercarpet\"}],\"scattergeo\":[{\"marker\":{\"colorbar\":{\"outlinewidth\":1,\"tickcolor\":\"rgb(36,36,36)\",\"ticks\":\"outside\"}},\"type\":\"scattergeo\"}],\"scattergl\":[{\"marker\":{\"colorbar\":{\"outlinewidth\":1,\"tickcolor\":\"rgb(36,36,36)\",\"ticks\":\"outside\"}},\"type\":\"scattergl\"}],\"scattermapbox\":[{\"marker\":{\"colorbar\":{\"outlinewidth\":1,\"tickcolor\":\"rgb(36,36,36)\",\"ticks\":\"outside\"}},\"type\":\"scattermapbox\"}],\"scatterpolargl\":[{\"marker\":{\"colorbar\":{\"outlinewidth\":1,\"tickcolor\":\"rgb(36,36,36)\",\"ticks\":\"outside\"}},\"type\":\"scatterpolargl\"}],\"scatterpolar\":[{\"marker\":{\"colorbar\":{\"outlinewidth\":1,\"tickcolor\":\"rgb(36,36,36)\",\"ticks\":\"outside\"}},\"type\":\"scatterpolar\"}],\"scatter\":[{\"fillpattern\":{\"fillmode\":\"overlay\",\"size\":10,\"solidity\":0.2},\"type\":\"scatter\"}],\"scatterternary\":[{\"marker\":{\"colorbar\":{\"outlinewidth\":1,\"tickcolor\":\"rgb(36,36,36)\",\"ticks\":\"outside\"}},\"type\":\"scatterternary\"}],\"surface\":[{\"colorbar\":{\"outlinewidth\":1,\"tickcolor\":\"rgb(36,36,36)\",\"ticks\":\"outside\"},\"colorscale\":[[0.0,\"#440154\"],[0.1111111111111111,\"#482878\"],[0.2222222222222222,\"#3e4989\"],[0.3333333333333333,\"#31688e\"],[0.4444444444444444,\"#26828e\"],[0.5555555555555556,\"#1f9e89\"],[0.6666666666666666,\"#35b779\"],[0.7777777777777778,\"#6ece58\"],[0.8888888888888888,\"#b5de2b\"],[1.0,\"#fde725\"]],\"type\":\"surface\"}],\"table\":[{\"cells\":{\"fill\":{\"color\":\"rgb(237,237,237)\"},\"line\":{\"color\":\"white\"}},\"header\":{\"fill\":{\"color\":\"rgb(217,217,217)\"},\"line\":{\"color\":\"white\"}},\"type\":\"table\"}]},\"layout\":{\"annotationdefaults\":{\"arrowhead\":0,\"arrowwidth\":1},\"autotypenumbers\":\"strict\",\"coloraxis\":{\"colorbar\":{\"outlinewidth\":1,\"tickcolor\":\"rgb(36,36,36)\",\"ticks\":\"outside\"}},\"colorscale\":{\"diverging\":[[0.0,\"rgb(103,0,31)\"],[0.1,\"rgb(178,24,43)\"],[0.2,\"rgb(214,96,77)\"],[0.3,\"rgb(244,165,130)\"],[0.4,\"rgb(253,219,199)\"],[0.5,\"rgb(247,247,247)\"],[0.6,\"rgb(209,229,240)\"],[0.7,\"rgb(146,197,222)\"],[0.8,\"rgb(67,147,195)\"],[0.9,\"rgb(33,102,172)\"],[1.0,\"rgb(5,48,97)\"]],\"sequential\":[[0.0,\"#440154\"],[0.1111111111111111,\"#482878\"],[0.2222222222222222,\"#3e4989\"],[0.3333333333333333,\"#31688e\"],[0.4444444444444444,\"#26828e\"],[0.5555555555555556,\"#1f9e89\"],[0.6666666666666666,\"#35b779\"],[0.7777777777777778,\"#6ece58\"],[0.8888888888888888,\"#b5de2b\"],[1.0,\"#fde725\"]],\"sequentialminus\":[[0.0,\"#440154\"],[0.1111111111111111,\"#482878\"],[0.2222222222222222,\"#3e4989\"],[0.3333333333333333,\"#31688e\"],[0.4444444444444444,\"#26828e\"],[0.5555555555555556,\"#1f9e89\"],[0.6666666666666666,\"#35b779\"],[0.7777777777777778,\"#6ece58\"],[0.8888888888888888,\"#b5de2b\"],[1.0,\"#fde725\"]]},\"colorway\":[\"#1F77B4\",\"#FF7F0E\",\"#2CA02C\",\"#D62728\",\"#9467BD\",\"#8C564B\",\"#E377C2\",\"#7F7F7F\",\"#BCBD22\",\"#17BECF\"],\"font\":{\"color\":\"rgb(36,36,36)\"},\"geo\":{\"bgcolor\":\"white\",\"lakecolor\":\"white\",\"landcolor\":\"white\",\"showlakes\":true,\"showland\":true,\"subunitcolor\":\"white\"},\"hoverlabel\":{\"align\":\"left\"},\"hovermode\":\"closest\",\"mapbox\":{\"style\":\"light\"},\"paper_bgcolor\":\"white\",\"plot_bgcolor\":\"white\",\"polar\":{\"angularaxis\":{\"gridcolor\":\"rgb(232,232,232)\",\"linecolor\":\"rgb(36,36,36)\",\"showgrid\":false,\"showline\":true,\"ticks\":\"outside\"},\"bgcolor\":\"white\",\"radialaxis\":{\"gridcolor\":\"rgb(232,232,232)\",\"linecolor\":\"rgb(36,36,36)\",\"showgrid\":false,\"showline\":true,\"ticks\":\"outside\"}},\"scene\":{\"xaxis\":{\"backgroundcolor\":\"white\",\"gridcolor\":\"rgb(232,232,232)\",\"gridwidth\":2,\"linecolor\":\"rgb(36,36,36)\",\"showbackground\":true,\"showgrid\":false,\"showline\":true,\"ticks\":\"outside\",\"zeroline\":false,\"zerolinecolor\":\"rgb(36,36,36)\"},\"yaxis\":{\"backgroundcolor\":\"white\",\"gridcolor\":\"rgb(232,232,232)\",\"gridwidth\":2,\"linecolor\":\"rgb(36,36,36)\",\"showbackground\":true,\"showgrid\":false,\"showline\":true,\"ticks\":\"outside\",\"zeroline\":false,\"zerolinecolor\":\"rgb(36,36,36)\"},\"zaxis\":{\"backgroundcolor\":\"white\",\"gridcolor\":\"rgb(232,232,232)\",\"gridwidth\":2,\"linecolor\":\"rgb(36,36,36)\",\"showbackground\":true,\"showgrid\":false,\"showline\":true,\"ticks\":\"outside\",\"zeroline\":false,\"zerolinecolor\":\"rgb(36,36,36)\"}},\"shapedefaults\":{\"fillcolor\":\"black\",\"line\":{\"width\":0},\"opacity\":0.3},\"ternary\":{\"aaxis\":{\"gridcolor\":\"rgb(232,232,232)\",\"linecolor\":\"rgb(36,36,36)\",\"showgrid\":false,\"showline\":true,\"ticks\":\"outside\"},\"baxis\":{\"gridcolor\":\"rgb(232,232,232)\",\"linecolor\":\"rgb(36,36,36)\",\"showgrid\":false,\"showline\":true,\"ticks\":\"outside\"},\"bgcolor\":\"white\",\"caxis\":{\"gridcolor\":\"rgb(232,232,232)\",\"linecolor\":\"rgb(36,36,36)\",\"showgrid\":false,\"showline\":true,\"ticks\":\"outside\"}},\"title\":{\"x\":0.05},\"xaxis\":{\"automargin\":true,\"gridcolor\":\"rgb(232,232,232)\",\"linecolor\":\"rgb(36,36,36)\",\"showgrid\":false,\"showline\":true,\"ticks\":\"outside\",\"title\":{\"standoff\":15},\"zeroline\":false,\"zerolinecolor\":\"rgb(36,36,36)\"},\"yaxis\":{\"automargin\":true,\"gridcolor\":\"rgb(232,232,232)\",\"linecolor\":\"rgb(36,36,36)\",\"showgrid\":false,\"showline\":true,\"ticks\":\"outside\",\"title\":{\"standoff\":15},\"zeroline\":false,\"zerolinecolor\":\"rgb(36,36,36)\"}}},\"xaxis\":{\"anchor\":\"y\",\"domain\":[0.0,1.0],\"title\":{\"text\":\"\"},\"visible\":false,\"range\":[-1.5793236017227172,3.412485682964325]},\"yaxis\":{\"anchor\":\"x\",\"domain\":[0.0,1.0],\"title\":{\"text\":\"\"},\"visible\":false,\"range\":[8.342596435546875,15.235644340515137]},\"legend\":{\"tracegroupgap\":0,\"itemsizing\":\"constant\"},\"margin\":{\"t\":60},\"title\":{\"font\":{\"size\":22,\"color\":\"Black\"},\"text\":\"\\u003cb\\u003eIntertopic Distance Map\\u003c\\u002fb\\u003e\",\"y\":0.95,\"x\":0.5,\"xanchor\":\"center\",\"yanchor\":\"top\"},\"hoverlabel\":{\"font\":{\"size\":16,\"family\":\"Rockwell\"},\"bgcolor\":\"white\"},\"width\":650,\"height\":650,\"sliders\":[{\"active\":0,\"pad\":{\"t\":50},\"steps\":[{\"args\":[{\"marker.color\":[[\"red\",\"#B0BEC5\",\"#B0BEC5\",\"#B0BEC5\",\"#B0BEC5\",\"#B0BEC5\",\"#B0BEC5\",\"#B0BEC5\",\"#B0BEC5\",\"#B0BEC5\",\"#B0BEC5\",\"#B0BEC5\",\"#B0BEC5\",\"#B0BEC5\",\"#B0BEC5\",\"#B0BEC5\",\"#B0BEC5\",\"#B0BEC5\",\"#B0BEC5\",\"#B0BEC5\",\"#B0BEC5\"]]}],\"label\":\"Topic 0\",\"method\":\"update\"},{\"args\":[{\"marker.color\":[[\"#B0BEC5\",\"red\",\"#B0BEC5\",\"#B0BEC5\",\"#B0BEC5\",\"#B0BEC5\",\"#B0BEC5\",\"#B0BEC5\",\"#B0BEC5\",\"#B0BEC5\",\"#B0BEC5\",\"#B0BEC5\",\"#B0BEC5\",\"#B0BEC5\",\"#B0BEC5\",\"#B0BEC5\",\"#B0BEC5\",\"#B0BEC5\",\"#B0BEC5\",\"#B0BEC5\",\"#B0BEC5\"]]}],\"label\":\"Topic 1\",\"method\":\"update\"},{\"args\":[{\"marker.color\":[[\"#B0BEC5\",\"#B0BEC5\",\"red\",\"#B0BEC5\",\"#B0BEC5\",\"#B0BEC5\",\"#B0BEC5\",\"#B0BEC5\",\"#B0BEC5\",\"#B0BEC5\",\"#B0BEC5\",\"#B0BEC5\",\"#B0BEC5\",\"#B0BEC5\",\"#B0BEC5\",\"#B0BEC5\",\"#B0BEC5\",\"#B0BEC5\",\"#B0BEC5\",\"#B0BEC5\",\"#B0BEC5\"]]}],\"label\":\"Topic 2\",\"method\":\"update\"},{\"args\":[{\"marker.color\":[[\"#B0BEC5\",\"#B0BEC5\",\"#B0BEC5\",\"red\",\"#B0BEC5\",\"#B0BEC5\",\"#B0BEC5\",\"#B0BEC5\",\"#B0BEC5\",\"#B0BEC5\",\"#B0BEC5\",\"#B0BEC5\",\"#B0BEC5\",\"#B0BEC5\",\"#B0BEC5\",\"#B0BEC5\",\"#B0BEC5\",\"#B0BEC5\",\"#B0BEC5\",\"#B0BEC5\",\"#B0BEC5\"]]}],\"label\":\"Topic 3\",\"method\":\"update\"},{\"args\":[{\"marker.color\":[[\"#B0BEC5\",\"#B0BEC5\",\"#B0BEC5\",\"#B0BEC5\",\"red\",\"#B0BEC5\",\"#B0BEC5\",\"#B0BEC5\",\"#B0BEC5\",\"#B0BEC5\",\"#B0BEC5\",\"#B0BEC5\",\"#B0BEC5\",\"#B0BEC5\",\"#B0BEC5\",\"#B0BEC5\",\"#B0BEC5\",\"#B0BEC5\",\"#B0BEC5\",\"#B0BEC5\",\"#B0BEC5\"]]}],\"label\":\"Topic 4\",\"method\":\"update\"},{\"args\":[{\"marker.color\":[[\"#B0BEC5\",\"#B0BEC5\",\"#B0BEC5\",\"#B0BEC5\",\"#B0BEC5\",\"red\",\"#B0BEC5\",\"#B0BEC5\",\"#B0BEC5\",\"#B0BEC5\",\"#B0BEC5\",\"#B0BEC5\",\"#B0BEC5\",\"#B0BEC5\",\"#B0BEC5\",\"#B0BEC5\",\"#B0BEC5\",\"#B0BEC5\",\"#B0BEC5\",\"#B0BEC5\",\"#B0BEC5\"]]}],\"label\":\"Topic 5\",\"method\":\"update\"},{\"args\":[{\"marker.color\":[[\"#B0BEC5\",\"#B0BEC5\",\"#B0BEC5\",\"#B0BEC5\",\"#B0BEC5\",\"#B0BEC5\",\"red\",\"#B0BEC5\",\"#B0BEC5\",\"#B0BEC5\",\"#B0BEC5\",\"#B0BEC5\",\"#B0BEC5\",\"#B0BEC5\",\"#B0BEC5\",\"#B0BEC5\",\"#B0BEC5\",\"#B0BEC5\",\"#B0BEC5\",\"#B0BEC5\",\"#B0BEC5\"]]}],\"label\":\"Topic 6\",\"method\":\"update\"},{\"args\":[{\"marker.color\":[[\"#B0BEC5\",\"#B0BEC5\",\"#B0BEC5\",\"#B0BEC5\",\"#B0BEC5\",\"#B0BEC5\",\"#B0BEC5\",\"red\",\"#B0BEC5\",\"#B0BEC5\",\"#B0BEC5\",\"#B0BEC5\",\"#B0BEC5\",\"#B0BEC5\",\"#B0BEC5\",\"#B0BEC5\",\"#B0BEC5\",\"#B0BEC5\",\"#B0BEC5\",\"#B0BEC5\",\"#B0BEC5\"]]}],\"label\":\"Topic 7\",\"method\":\"update\"},{\"args\":[{\"marker.color\":[[\"#B0BEC5\",\"#B0BEC5\",\"#B0BEC5\",\"#B0BEC5\",\"#B0BEC5\",\"#B0BEC5\",\"#B0BEC5\",\"#B0BEC5\",\"red\",\"#B0BEC5\",\"#B0BEC5\",\"#B0BEC5\",\"#B0BEC5\",\"#B0BEC5\",\"#B0BEC5\",\"#B0BEC5\",\"#B0BEC5\",\"#B0BEC5\",\"#B0BEC5\",\"#B0BEC5\",\"#B0BEC5\"]]}],\"label\":\"Topic 8\",\"method\":\"update\"},{\"args\":[{\"marker.color\":[[\"#B0BEC5\",\"#B0BEC5\",\"#B0BEC5\",\"#B0BEC5\",\"#B0BEC5\",\"#B0BEC5\",\"#B0BEC5\",\"#B0BEC5\",\"#B0BEC5\",\"red\",\"#B0BEC5\",\"#B0BEC5\",\"#B0BEC5\",\"#B0BEC5\",\"#B0BEC5\",\"#B0BEC5\",\"#B0BEC5\",\"#B0BEC5\",\"#B0BEC5\",\"#B0BEC5\",\"#B0BEC5\"]]}],\"label\":\"Topic 9\",\"method\":\"update\"},{\"args\":[{\"marker.color\":[[\"#B0BEC5\",\"#B0BEC5\",\"#B0BEC5\",\"#B0BEC5\",\"#B0BEC5\",\"#B0BEC5\",\"#B0BEC5\",\"#B0BEC5\",\"#B0BEC5\",\"#B0BEC5\",\"red\",\"#B0BEC5\",\"#B0BEC5\",\"#B0BEC5\",\"#B0BEC5\",\"#B0BEC5\",\"#B0BEC5\",\"#B0BEC5\",\"#B0BEC5\",\"#B0BEC5\",\"#B0BEC5\"]]}],\"label\":\"Topic 10\",\"method\":\"update\"},{\"args\":[{\"marker.color\":[[\"#B0BEC5\",\"#B0BEC5\",\"#B0BEC5\",\"#B0BEC5\",\"#B0BEC5\",\"#B0BEC5\",\"#B0BEC5\",\"#B0BEC5\",\"#B0BEC5\",\"#B0BEC5\",\"#B0BEC5\",\"red\",\"#B0BEC5\",\"#B0BEC5\",\"#B0BEC5\",\"#B0BEC5\",\"#B0BEC5\",\"#B0BEC5\",\"#B0BEC5\",\"#B0BEC5\",\"#B0BEC5\"]]}],\"label\":\"Topic 11\",\"method\":\"update\"},{\"args\":[{\"marker.color\":[[\"#B0BEC5\",\"#B0BEC5\",\"#B0BEC5\",\"#B0BEC5\",\"#B0BEC5\",\"#B0BEC5\",\"#B0BEC5\",\"#B0BEC5\",\"#B0BEC5\",\"#B0BEC5\",\"#B0BEC5\",\"#B0BEC5\",\"red\",\"#B0BEC5\",\"#B0BEC5\",\"#B0BEC5\",\"#B0BEC5\",\"#B0BEC5\",\"#B0BEC5\",\"#B0BEC5\",\"#B0BEC5\"]]}],\"label\":\"Topic 12\",\"method\":\"update\"},{\"args\":[{\"marker.color\":[[\"#B0BEC5\",\"#B0BEC5\",\"#B0BEC5\",\"#B0BEC5\",\"#B0BEC5\",\"#B0BEC5\",\"#B0BEC5\",\"#B0BEC5\",\"#B0BEC5\",\"#B0BEC5\",\"#B0BEC5\",\"#B0BEC5\",\"#B0BEC5\",\"red\",\"#B0BEC5\",\"#B0BEC5\",\"#B0BEC5\",\"#B0BEC5\",\"#B0BEC5\",\"#B0BEC5\",\"#B0BEC5\"]]}],\"label\":\"Topic 13\",\"method\":\"update\"},{\"args\":[{\"marker.color\":[[\"#B0BEC5\",\"#B0BEC5\",\"#B0BEC5\",\"#B0BEC5\",\"#B0BEC5\",\"#B0BEC5\",\"#B0BEC5\",\"#B0BEC5\",\"#B0BEC5\",\"#B0BEC5\",\"#B0BEC5\",\"#B0BEC5\",\"#B0BEC5\",\"#B0BEC5\",\"red\",\"#B0BEC5\",\"#B0BEC5\",\"#B0BEC5\",\"#B0BEC5\",\"#B0BEC5\",\"#B0BEC5\"]]}],\"label\":\"Topic 14\",\"method\":\"update\"},{\"args\":[{\"marker.color\":[[\"#B0BEC5\",\"#B0BEC5\",\"#B0BEC5\",\"#B0BEC5\",\"#B0BEC5\",\"#B0BEC5\",\"#B0BEC5\",\"#B0BEC5\",\"#B0BEC5\",\"#B0BEC5\",\"#B0BEC5\",\"#B0BEC5\",\"#B0BEC5\",\"#B0BEC5\",\"#B0BEC5\",\"red\",\"#B0BEC5\",\"#B0BEC5\",\"#B0BEC5\",\"#B0BEC5\",\"#B0BEC5\"]]}],\"label\":\"Topic 15\",\"method\":\"update\"},{\"args\":[{\"marker.color\":[[\"#B0BEC5\",\"#B0BEC5\",\"#B0BEC5\",\"#B0BEC5\",\"#B0BEC5\",\"#B0BEC5\",\"#B0BEC5\",\"#B0BEC5\",\"#B0BEC5\",\"#B0BEC5\",\"#B0BEC5\",\"#B0BEC5\",\"#B0BEC5\",\"#B0BEC5\",\"#B0BEC5\",\"#B0BEC5\",\"red\",\"#B0BEC5\",\"#B0BEC5\",\"#B0BEC5\",\"#B0BEC5\"]]}],\"label\":\"Topic 16\",\"method\":\"update\"},{\"args\":[{\"marker.color\":[[\"#B0BEC5\",\"#B0BEC5\",\"#B0BEC5\",\"#B0BEC5\",\"#B0BEC5\",\"#B0BEC5\",\"#B0BEC5\",\"#B0BEC5\",\"#B0BEC5\",\"#B0BEC5\",\"#B0BEC5\",\"#B0BEC5\",\"#B0BEC5\",\"#B0BEC5\",\"#B0BEC5\",\"#B0BEC5\",\"#B0BEC5\",\"red\",\"#B0BEC5\",\"#B0BEC5\",\"#B0BEC5\"]]}],\"label\":\"Topic 17\",\"method\":\"update\"},{\"args\":[{\"marker.color\":[[\"#B0BEC5\",\"#B0BEC5\",\"#B0BEC5\",\"#B0BEC5\",\"#B0BEC5\",\"#B0BEC5\",\"#B0BEC5\",\"#B0BEC5\",\"#B0BEC5\",\"#B0BEC5\",\"#B0BEC5\",\"#B0BEC5\",\"#B0BEC5\",\"#B0BEC5\",\"#B0BEC5\",\"#B0BEC5\",\"#B0BEC5\",\"#B0BEC5\",\"red\",\"#B0BEC5\",\"#B0BEC5\"]]}],\"label\":\"Topic 18\",\"method\":\"update\"},{\"args\":[{\"marker.color\":[[\"#B0BEC5\",\"#B0BEC5\",\"#B0BEC5\",\"#B0BEC5\",\"#B0BEC5\",\"#B0BEC5\",\"#B0BEC5\",\"#B0BEC5\",\"#B0BEC5\",\"#B0BEC5\",\"#B0BEC5\",\"#B0BEC5\",\"#B0BEC5\",\"#B0BEC5\",\"#B0BEC5\",\"#B0BEC5\",\"#B0BEC5\",\"#B0BEC5\",\"#B0BEC5\",\"red\",\"#B0BEC5\"]]}],\"label\":\"Topic 19\",\"method\":\"update\"},{\"args\":[{\"marker.color\":[[\"#B0BEC5\",\"#B0BEC5\",\"#B0BEC5\",\"#B0BEC5\",\"#B0BEC5\",\"#B0BEC5\",\"#B0BEC5\",\"#B0BEC5\",\"#B0BEC5\",\"#B0BEC5\",\"#B0BEC5\",\"#B0BEC5\",\"#B0BEC5\",\"#B0BEC5\",\"#B0BEC5\",\"#B0BEC5\",\"#B0BEC5\",\"#B0BEC5\",\"#B0BEC5\",\"#B0BEC5\",\"red\"]]}],\"label\":\"Topic 20\",\"method\":\"update\"}]}],\"shapes\":[{\"line\":{\"color\":\"#CFD8DC\",\"width\":2},\"type\":\"line\",\"x0\":0.9165810406208038,\"x1\":0.9165810406208038,\"y0\":8.342596435546875,\"y1\":15.235644340515137},{\"line\":{\"color\":\"#9E9E9E\",\"width\":2},\"type\":\"line\",\"x0\":-1.5793236017227172,\"x1\":3.412485682964325,\"y0\":11.789120388031005,\"y1\":11.789120388031005}],\"annotations\":[{\"showarrow\":false,\"text\":\"D1\",\"x\":-1.5793236017227172,\"y\":11.789120388031005,\"yshift\":10},{\"showarrow\":false,\"text\":\"D2\",\"x\":0.9165810406208038,\"xshift\":10,\"y\":15.235644340515137}]},                        {\"responsive\": true}                    ).then(function(){\n",
              "                            \n",
              "var gd = document.getElementById('78a0da1f-5ebc-41eb-bf3e-a8c34a3ca38e');\n",
              "var x = new MutationObserver(function (mutations, observer) {{\n",
              "        var display = window.getComputedStyle(gd).display;\n",
              "        if (!display || display === 'none') {{\n",
              "            console.log([gd, 'removed!']);\n",
              "            Plotly.purge(gd);\n",
              "            observer.disconnect();\n",
              "        }}\n",
              "}});\n",
              "\n",
              "// Listen for the removal of the full notebook cells\n",
              "var notebookContainer = gd.closest('#notebook-container');\n",
              "if (notebookContainer) {{\n",
              "    x.observe(notebookContainer, {childList: true});\n",
              "}}\n",
              "\n",
              "// Listen for the clearing of the current output cell\n",
              "var outputEl = gd.closest('.output');\n",
              "if (outputEl) {{\n",
              "    x.observe(outputEl, {childList: true});\n",
              "}}\n",
              "\n",
              "                        })                };                            </script>        </div>\n",
              "</body>\n",
              "</html>"
            ]
          },
          "metadata": {}
        }
      ]
    },
    {
      "cell_type": "markdown",
      "source": [
        "De nuevo se obtiene la información general sobre los 20 tópicos resultantes, actualizando la representación de tópicos del modelo aumentando el rango de N-Gramas entre 1 y 3. Se observa que el 1, 17 y 20 corresponden a acumulación de tweets \"basura\", por lo que no se tendrán en cuenta para el posterior análisis"
      ],
      "metadata": {
        "id": "K5aPwT9vxPuy"
      }
    },
    {
      "cell_type": "code",
      "source": [
        "#informacion con reduccion de outliers\n",
        "loaded_model.update_topics(data, n_gram_range=(1,3))\n",
        "freq = loaded_model.get_topic_info()\n",
        "freq"
      ],
      "metadata": {
        "colab": {
          "base_uri": "https://localhost:8080/",
          "height": 635
        },
        "id": "7FZohvs1P6NB",
        "outputId": "46f36619-3fa9-4606-9389-d509aaed72b5"
      },
      "execution_count": null,
      "outputs": [
        {
          "output_type": "execute_result",
          "data": {
            "text/plain": [
              "    Topic   Count                                               Name  \\\n",
              "0      -1     181  -1_350customers_c1300_gafamgooglaaplfbamznmsft...   \n",
              "1       0  164431                            0_nflx_trade_stock_nvda   \n",
              "2       1    2197       1_nan_nan nan_nan nan nan_nan quinnypig goat   \n",
              "3       2     214  2_stock dailystkleadercount_dailystkleadercoun...   \n",
              "4       3     204  3_maxpain chart_option maxpain chart_option ma...   \n",
              "5       4     182                 4_scalp_crosshairs_profit_scalping   \n",
              "6       5     179                  5_consolidation_higher_break_year   \n",
              "7       6     160  6_quantum_quantum computing_computing_quantumc...   \n",
              "8       7     148                    7_linkedin_chainlink_link_azure   \n",
              "9       8     105  8_cramer_jimcramer_jimcramer madmoneyoncnbc_ma...   \n",
              "10      9     101            9_impeachment_trump_impeached_president   \n",
              "11     10     100          10_ramp_rampcapitalllc_ivpercentiles_uvxy   \n",
              "12     11     100  11_investing link csco_investing link_stock in...   \n",
              "13     12      76              12_hourly_hourly chart_chart_breakout   \n",
              "14     13      62                13_airpods_earphone_wireless_earbud   \n",
              "15     14      52           14_github_code_microsoftowned_opensource   \n",
              "16     15      49                     15_cord_cordcutting_roku_cable   \n",
              "17     16      30                 16_1765_1765 call_sold little_call   \n",
              "18     17      22  17_tradewarmeansstickdomesticgrowthwithlittleo...   \n",
              "19     18      21  18_disclaimerpremarket_000closed_000closed dis...   \n",
              "20     19      14  19_tckrbot_tckrbot tckrbot_tchey tckrbot_tckrb...   \n",
              "21     20      12  20_wiadomocirynkowe_wiadomocirynkowe wiadomoci...   \n",
              "\n",
              "                                       Representation  \\\n",
              "0   [350customers, c1300, gafamgooglaaplfbamznmsft...   \n",
              "1   [nflx, trade, stock, nvda, baba, option, marke...   \n",
              "2   [nan, nan nan, nan nan nan, nan quinnypig goat...   \n",
              "3   [stock dailystkleadercount, dailystkleadercoun...   \n",
              "4   [maxpain chart, option maxpain chart, option m...   \n",
              "5   [scalp, crosshairs, profit, scalping, nice, qu...   \n",
              "6   [consolidation, higher, break, year, level, mo...   \n",
              "7   [quantum, quantum computing, computing, quantu...   \n",
              "8   [linkedin, chainlink, link, azure, azure linke...   \n",
              "9   [cramer, jimcramer, jimcramer madmoneyoncnbc, ...   \n",
              "10  [impeachment, trump, impeached, president, tru...   \n",
              "11  [ramp, rampcapitalllc, ivpercentiles, uvxy, iv...   \n",
              "12  [investing link csco, investing link, stock in...   \n",
              "13  [hourly, hourly chart, chart, breakout, intrad...   \n",
              "14  [airpods, earphone, wireless, earbud, bud, ear...   \n",
              "15  [github, code, microsoftowned, opensource, dev...   \n",
              "16  [cord, cordcutting, roku, cable, cutting, cord...   \n",
              "17  [1765, 1765 call, sold little, call, sold, cal...   \n",
              "18  [tradewarmeansstickdomesticgrowthwithlittleorn...   \n",
              "19  [disclaimerpremarket, 000closed, 000closed dis...   \n",
              "20  [tckrbot, tckrbot tckrbot, tchey tckrbot, tckr...   \n",
              "21  [wiadomocirynkowe, wiadomocirynkowe wiadomocir...   \n",
              "\n",
              "                                  Representative_Docs  \n",
              "0   [trumpchildrenshortfaangagaingooglamznaaplhowa...  \n",
              "1   [active trade free trade guide bidu nvda, acti...  \n",
              "2                                     [nan, nan, nan]  \n",
              "3   [leading stock dailystkleadercount, leading st...  \n",
              "4   [option maxpain chart free option, option maxp...  \n",
              "5                               [scalp, scalp, scalp]  \n",
              "6   [consolidation pattern break, consolidation hi...  \n",
              "7   [cloud quantum, quantum jimcramer opinion quan...  \n",
              "8                      [linkedin, linkedin, linkedin]  \n",
              "9   [alphabet stock cramer say jimcramer thestreet...  \n",
              "10  [gspc nflx house speaker pelosi said ready tru...  \n",
              "11             [give ramp, looking ramp higher, ramp]  \n",
              "12  [beginner guide stock investing link csco intc...  \n",
              "13                           [hourly, hourly, hourly]  \n",
              "14  [delay launch airpods competitor, airpods comp...  \n",
              "15  [github buy semmle action, github buy semmle a...  \n",
              "16  [factor accelerating cordcutting themotleyfool...  \n",
              "17      [1765 1800, 1765 hold good trade, short 1765]  \n",
              "18  [amazonapplealibabamicrosoftboeingshouldflyont...  \n",
              "19  [13690 000closed disclaimerpremarket 13380, 18...  \n",
              "20                        [tckrbot, tckrbot, tckrbot]  \n",
              "21  [backtoschool, wiadomościrynkowe chiny, thisal...  "
            ],
            "text/html": [
              "\n",
              "  <div id=\"df-e7c66c0e-6191-4d10-9778-930218d1d9e7\" class=\"colab-df-container\">\n",
              "    <div>\n",
              "<style scoped>\n",
              "    .dataframe tbody tr th:only-of-type {\n",
              "        vertical-align: middle;\n",
              "    }\n",
              "\n",
              "    .dataframe tbody tr th {\n",
              "        vertical-align: top;\n",
              "    }\n",
              "\n",
              "    .dataframe thead th {\n",
              "        text-align: right;\n",
              "    }\n",
              "</style>\n",
              "<table border=\"1\" class=\"dataframe\">\n",
              "  <thead>\n",
              "    <tr style=\"text-align: right;\">\n",
              "      <th></th>\n",
              "      <th>Topic</th>\n",
              "      <th>Count</th>\n",
              "      <th>Name</th>\n",
              "      <th>Representation</th>\n",
              "      <th>Representative_Docs</th>\n",
              "    </tr>\n",
              "  </thead>\n",
              "  <tbody>\n",
              "    <tr>\n",
              "      <th>0</th>\n",
              "      <td>-1</td>\n",
              "      <td>181</td>\n",
              "      <td>-1_350customers_c1300_gafamgooglaaplfbamznmsft...</td>\n",
              "      <td>[350customers, c1300, gafamgooglaaplfbamznmsft...</td>\n",
              "      <td>[trumpchildrenshortfaangagaingooglamznaaplhowa...</td>\n",
              "    </tr>\n",
              "    <tr>\n",
              "      <th>1</th>\n",
              "      <td>0</td>\n",
              "      <td>164431</td>\n",
              "      <td>0_nflx_trade_stock_nvda</td>\n",
              "      <td>[nflx, trade, stock, nvda, baba, option, marke...</td>\n",
              "      <td>[active trade free trade guide bidu nvda, acti...</td>\n",
              "    </tr>\n",
              "    <tr>\n",
              "      <th>2</th>\n",
              "      <td>1</td>\n",
              "      <td>2197</td>\n",
              "      <td>1_nan_nan nan_nan nan nan_nan quinnypig goat</td>\n",
              "      <td>[nan, nan nan, nan nan nan, nan quinnypig goat...</td>\n",
              "      <td>[nan, nan, nan]</td>\n",
              "    </tr>\n",
              "    <tr>\n",
              "      <th>3</th>\n",
              "      <td>2</td>\n",
              "      <td>214</td>\n",
              "      <td>2_stock dailystkleadercount_dailystkleadercoun...</td>\n",
              "      <td>[stock dailystkleadercount, dailystkleadercoun...</td>\n",
              "      <td>[leading stock dailystkleadercount, leading st...</td>\n",
              "    </tr>\n",
              "    <tr>\n",
              "      <th>4</th>\n",
              "      <td>3</td>\n",
              "      <td>204</td>\n",
              "      <td>3_maxpain chart_option maxpain chart_option ma...</td>\n",
              "      <td>[maxpain chart, option maxpain chart, option m...</td>\n",
              "      <td>[option maxpain chart free option, option maxp...</td>\n",
              "    </tr>\n",
              "    <tr>\n",
              "      <th>5</th>\n",
              "      <td>4</td>\n",
              "      <td>182</td>\n",
              "      <td>4_scalp_crosshairs_profit_scalping</td>\n",
              "      <td>[scalp, crosshairs, profit, scalping, nice, qu...</td>\n",
              "      <td>[scalp, scalp, scalp]</td>\n",
              "    </tr>\n",
              "    <tr>\n",
              "      <th>6</th>\n",
              "      <td>5</td>\n",
              "      <td>179</td>\n",
              "      <td>5_consolidation_higher_break_year</td>\n",
              "      <td>[consolidation, higher, break, year, level, mo...</td>\n",
              "      <td>[consolidation pattern break, consolidation hi...</td>\n",
              "    </tr>\n",
              "    <tr>\n",
              "      <th>7</th>\n",
              "      <td>6</td>\n",
              "      <td>160</td>\n",
              "      <td>6_quantum_quantum computing_computing_quantumc...</td>\n",
              "      <td>[quantum, quantum computing, computing, quantu...</td>\n",
              "      <td>[cloud quantum, quantum jimcramer opinion quan...</td>\n",
              "    </tr>\n",
              "    <tr>\n",
              "      <th>8</th>\n",
              "      <td>7</td>\n",
              "      <td>148</td>\n",
              "      <td>7_linkedin_chainlink_link_azure</td>\n",
              "      <td>[linkedin, chainlink, link, azure, azure linke...</td>\n",
              "      <td>[linkedin, linkedin, linkedin]</td>\n",
              "    </tr>\n",
              "    <tr>\n",
              "      <th>9</th>\n",
              "      <td>8</td>\n",
              "      <td>105</td>\n",
              "      <td>8_cramer_jimcramer_jimcramer madmoneyoncnbc_ma...</td>\n",
              "      <td>[cramer, jimcramer, jimcramer madmoneyoncnbc, ...</td>\n",
              "      <td>[alphabet stock cramer say jimcramer thestreet...</td>\n",
              "    </tr>\n",
              "    <tr>\n",
              "      <th>10</th>\n",
              "      <td>9</td>\n",
              "      <td>101</td>\n",
              "      <td>9_impeachment_trump_impeached_president</td>\n",
              "      <td>[impeachment, trump, impeached, president, tru...</td>\n",
              "      <td>[gspc nflx house speaker pelosi said ready tru...</td>\n",
              "    </tr>\n",
              "    <tr>\n",
              "      <th>11</th>\n",
              "      <td>10</td>\n",
              "      <td>100</td>\n",
              "      <td>10_ramp_rampcapitalllc_ivpercentiles_uvxy</td>\n",
              "      <td>[ramp, rampcapitalllc, ivpercentiles, uvxy, iv...</td>\n",
              "      <td>[give ramp, looking ramp higher, ramp]</td>\n",
              "    </tr>\n",
              "    <tr>\n",
              "      <th>12</th>\n",
              "      <td>11</td>\n",
              "      <td>100</td>\n",
              "      <td>11_investing link csco_investing link_stock in...</td>\n",
              "      <td>[investing link csco, investing link, stock in...</td>\n",
              "      <td>[beginner guide stock investing link csco intc...</td>\n",
              "    </tr>\n",
              "    <tr>\n",
              "      <th>13</th>\n",
              "      <td>12</td>\n",
              "      <td>76</td>\n",
              "      <td>12_hourly_hourly chart_chart_breakout</td>\n",
              "      <td>[hourly, hourly chart, chart, breakout, intrad...</td>\n",
              "      <td>[hourly, hourly, hourly]</td>\n",
              "    </tr>\n",
              "    <tr>\n",
              "      <th>14</th>\n",
              "      <td>13</td>\n",
              "      <td>62</td>\n",
              "      <td>13_airpods_earphone_wireless_earbud</td>\n",
              "      <td>[airpods, earphone, wireless, earbud, bud, ear...</td>\n",
              "      <td>[delay launch airpods competitor, airpods comp...</td>\n",
              "    </tr>\n",
              "    <tr>\n",
              "      <th>15</th>\n",
              "      <td>14</td>\n",
              "      <td>52</td>\n",
              "      <td>14_github_code_microsoftowned_opensource</td>\n",
              "      <td>[github, code, microsoftowned, opensource, dev...</td>\n",
              "      <td>[github buy semmle action, github buy semmle a...</td>\n",
              "    </tr>\n",
              "    <tr>\n",
              "      <th>16</th>\n",
              "      <td>15</td>\n",
              "      <td>49</td>\n",
              "      <td>15_cord_cordcutting_roku_cable</td>\n",
              "      <td>[cord, cordcutting, roku, cable, cutting, cord...</td>\n",
              "      <td>[factor accelerating cordcutting themotleyfool...</td>\n",
              "    </tr>\n",
              "    <tr>\n",
              "      <th>17</th>\n",
              "      <td>16</td>\n",
              "      <td>30</td>\n",
              "      <td>16_1765_1765 call_sold little_call</td>\n",
              "      <td>[1765, 1765 call, sold little, call, sold, cal...</td>\n",
              "      <td>[1765 1800, 1765 hold good trade, short 1765]</td>\n",
              "    </tr>\n",
              "    <tr>\n",
              "      <th>18</th>\n",
              "      <td>17</td>\n",
              "      <td>22</td>\n",
              "      <td>17_tradewarmeansstickdomesticgrowthwithlittleo...</td>\n",
              "      <td>[tradewarmeansstickdomesticgrowthwithlittleorn...</td>\n",
              "      <td>[amazonapplealibabamicrosoftboeingshouldflyont...</td>\n",
              "    </tr>\n",
              "    <tr>\n",
              "      <th>19</th>\n",
              "      <td>18</td>\n",
              "      <td>21</td>\n",
              "      <td>18_disclaimerpremarket_000closed_000closed dis...</td>\n",
              "      <td>[disclaimerpremarket, 000closed, 000closed dis...</td>\n",
              "      <td>[13690 000closed disclaimerpremarket 13380, 18...</td>\n",
              "    </tr>\n",
              "    <tr>\n",
              "      <th>20</th>\n",
              "      <td>19</td>\n",
              "      <td>14</td>\n",
              "      <td>19_tckrbot_tckrbot tckrbot_tchey tckrbot_tckrb...</td>\n",
              "      <td>[tckrbot, tckrbot tckrbot, tchey tckrbot, tckr...</td>\n",
              "      <td>[tckrbot, tckrbot, tckrbot]</td>\n",
              "    </tr>\n",
              "    <tr>\n",
              "      <th>21</th>\n",
              "      <td>20</td>\n",
              "      <td>12</td>\n",
              "      <td>20_wiadomocirynkowe_wiadomocirynkowe wiadomoci...</td>\n",
              "      <td>[wiadomocirynkowe, wiadomocirynkowe wiadomocir...</td>\n",
              "      <td>[backtoschool, wiadomościrynkowe chiny, thisal...</td>\n",
              "    </tr>\n",
              "  </tbody>\n",
              "</table>\n",
              "</div>\n",
              "    <div class=\"colab-df-buttons\">\n",
              "\n",
              "  <div class=\"colab-df-container\">\n",
              "    <button class=\"colab-df-convert\" onclick=\"convertToInteractive('df-e7c66c0e-6191-4d10-9778-930218d1d9e7')\"\n",
              "            title=\"Convert this dataframe to an interactive table.\"\n",
              "            style=\"display:none;\">\n",
              "\n",
              "  <svg xmlns=\"http://www.w3.org/2000/svg\" height=\"24px\" viewBox=\"0 -960 960 960\">\n",
              "    <path d=\"M120-120v-720h720v720H120Zm60-500h600v-160H180v160Zm220 220h160v-160H400v160Zm0 220h160v-160H400v160ZM180-400h160v-160H180v160Zm440 0h160v-160H620v160ZM180-180h160v-160H180v160Zm440 0h160v-160H620v160Z\"/>\n",
              "  </svg>\n",
              "    </button>\n",
              "\n",
              "  <style>\n",
              "    .colab-df-container {\n",
              "      display:flex;\n",
              "      gap: 12px;\n",
              "    }\n",
              "\n",
              "    .colab-df-convert {\n",
              "      background-color: #E8F0FE;\n",
              "      border: none;\n",
              "      border-radius: 50%;\n",
              "      cursor: pointer;\n",
              "      display: none;\n",
              "      fill: #1967D2;\n",
              "      height: 32px;\n",
              "      padding: 0 0 0 0;\n",
              "      width: 32px;\n",
              "    }\n",
              "\n",
              "    .colab-df-convert:hover {\n",
              "      background-color: #E2EBFA;\n",
              "      box-shadow: 0px 1px 2px rgba(60, 64, 67, 0.3), 0px 1px 3px 1px rgba(60, 64, 67, 0.15);\n",
              "      fill: #174EA6;\n",
              "    }\n",
              "\n",
              "    .colab-df-buttons div {\n",
              "      margin-bottom: 4px;\n",
              "    }\n",
              "\n",
              "    [theme=dark] .colab-df-convert {\n",
              "      background-color: #3B4455;\n",
              "      fill: #D2E3FC;\n",
              "    }\n",
              "\n",
              "    [theme=dark] .colab-df-convert:hover {\n",
              "      background-color: #434B5C;\n",
              "      box-shadow: 0px 1px 3px 1px rgba(0, 0, 0, 0.15);\n",
              "      filter: drop-shadow(0px 1px 2px rgba(0, 0, 0, 0.3));\n",
              "      fill: #FFFFFF;\n",
              "    }\n",
              "  </style>\n",
              "\n",
              "    <script>\n",
              "      const buttonEl =\n",
              "        document.querySelector('#df-e7c66c0e-6191-4d10-9778-930218d1d9e7 button.colab-df-convert');\n",
              "      buttonEl.style.display =\n",
              "        google.colab.kernel.accessAllowed ? 'block' : 'none';\n",
              "\n",
              "      async function convertToInteractive(key) {\n",
              "        const element = document.querySelector('#df-e7c66c0e-6191-4d10-9778-930218d1d9e7');\n",
              "        const dataTable =\n",
              "          await google.colab.kernel.invokeFunction('convertToInteractive',\n",
              "                                                    [key], {});\n",
              "        if (!dataTable) return;\n",
              "\n",
              "        const docLinkHtml = 'Like what you see? Visit the ' +\n",
              "          '<a target=\"_blank\" href=https://colab.research.google.com/notebooks/data_table.ipynb>data table notebook</a>'\n",
              "          + ' to learn more about interactive tables.';\n",
              "        element.innerHTML = '';\n",
              "        dataTable['output_type'] = 'display_data';\n",
              "        await google.colab.output.renderOutput(dataTable, element);\n",
              "        const docLink = document.createElement('div');\n",
              "        docLink.innerHTML = docLinkHtml;\n",
              "        element.appendChild(docLink);\n",
              "      }\n",
              "    </script>\n",
              "  </div>\n",
              "\n",
              "\n",
              "<div id=\"df-c5415ca9-9435-4a0b-9359-521d025e93c6\">\n",
              "  <button class=\"colab-df-quickchart\" onclick=\"quickchart('df-c5415ca9-9435-4a0b-9359-521d025e93c6')\"\n",
              "            title=\"Suggest charts\"\n",
              "            style=\"display:none;\">\n",
              "\n",
              "<svg xmlns=\"http://www.w3.org/2000/svg\" height=\"24px\"viewBox=\"0 0 24 24\"\n",
              "     width=\"24px\">\n",
              "    <g>\n",
              "        <path d=\"M19 3H5c-1.1 0-2 .9-2 2v14c0 1.1.9 2 2 2h14c1.1 0 2-.9 2-2V5c0-1.1-.9-2-2-2zM9 17H7v-7h2v7zm4 0h-2V7h2v10zm4 0h-2v-4h2v4z\"/>\n",
              "    </g>\n",
              "</svg>\n",
              "  </button>\n",
              "\n",
              "<style>\n",
              "  .colab-df-quickchart {\n",
              "      --bg-color: #E8F0FE;\n",
              "      --fill-color: #1967D2;\n",
              "      --hover-bg-color: #E2EBFA;\n",
              "      --hover-fill-color: #174EA6;\n",
              "      --disabled-fill-color: #AAA;\n",
              "      --disabled-bg-color: #DDD;\n",
              "  }\n",
              "\n",
              "  [theme=dark] .colab-df-quickchart {\n",
              "      --bg-color: #3B4455;\n",
              "      --fill-color: #D2E3FC;\n",
              "      --hover-bg-color: #434B5C;\n",
              "      --hover-fill-color: #FFFFFF;\n",
              "      --disabled-bg-color: #3B4455;\n",
              "      --disabled-fill-color: #666;\n",
              "  }\n",
              "\n",
              "  .colab-df-quickchart {\n",
              "    background-color: var(--bg-color);\n",
              "    border: none;\n",
              "    border-radius: 50%;\n",
              "    cursor: pointer;\n",
              "    display: none;\n",
              "    fill: var(--fill-color);\n",
              "    height: 32px;\n",
              "    padding: 0;\n",
              "    width: 32px;\n",
              "  }\n",
              "\n",
              "  .colab-df-quickchart:hover {\n",
              "    background-color: var(--hover-bg-color);\n",
              "    box-shadow: 0 1px 2px rgba(60, 64, 67, 0.3), 0 1px 3px 1px rgba(60, 64, 67, 0.15);\n",
              "    fill: var(--button-hover-fill-color);\n",
              "  }\n",
              "\n",
              "  .colab-df-quickchart-complete:disabled,\n",
              "  .colab-df-quickchart-complete:disabled:hover {\n",
              "    background-color: var(--disabled-bg-color);\n",
              "    fill: var(--disabled-fill-color);\n",
              "    box-shadow: none;\n",
              "  }\n",
              "\n",
              "  .colab-df-spinner {\n",
              "    border: 2px solid var(--fill-color);\n",
              "    border-color: transparent;\n",
              "    border-bottom-color: var(--fill-color);\n",
              "    animation:\n",
              "      spin 1s steps(1) infinite;\n",
              "  }\n",
              "\n",
              "  @keyframes spin {\n",
              "    0% {\n",
              "      border-color: transparent;\n",
              "      border-bottom-color: var(--fill-color);\n",
              "      border-left-color: var(--fill-color);\n",
              "    }\n",
              "    20% {\n",
              "      border-color: transparent;\n",
              "      border-left-color: var(--fill-color);\n",
              "      border-top-color: var(--fill-color);\n",
              "    }\n",
              "    30% {\n",
              "      border-color: transparent;\n",
              "      border-left-color: var(--fill-color);\n",
              "      border-top-color: var(--fill-color);\n",
              "      border-right-color: var(--fill-color);\n",
              "    }\n",
              "    40% {\n",
              "      border-color: transparent;\n",
              "      border-right-color: var(--fill-color);\n",
              "      border-top-color: var(--fill-color);\n",
              "    }\n",
              "    60% {\n",
              "      border-color: transparent;\n",
              "      border-right-color: var(--fill-color);\n",
              "    }\n",
              "    80% {\n",
              "      border-color: transparent;\n",
              "      border-right-color: var(--fill-color);\n",
              "      border-bottom-color: var(--fill-color);\n",
              "    }\n",
              "    90% {\n",
              "      border-color: transparent;\n",
              "      border-bottom-color: var(--fill-color);\n",
              "    }\n",
              "  }\n",
              "</style>\n",
              "\n",
              "  <script>\n",
              "    async function quickchart(key) {\n",
              "      const quickchartButtonEl =\n",
              "        document.querySelector('#' + key + ' button');\n",
              "      quickchartButtonEl.disabled = true;  // To prevent multiple clicks.\n",
              "      quickchartButtonEl.classList.add('colab-df-spinner');\n",
              "      try {\n",
              "        const charts = await google.colab.kernel.invokeFunction(\n",
              "            'suggestCharts', [key], {});\n",
              "      } catch (error) {\n",
              "        console.error('Error during call to suggestCharts:', error);\n",
              "      }\n",
              "      quickchartButtonEl.classList.remove('colab-df-spinner');\n",
              "      quickchartButtonEl.classList.add('colab-df-quickchart-complete');\n",
              "    }\n",
              "    (() => {\n",
              "      let quickchartButtonEl =\n",
              "        document.querySelector('#df-c5415ca9-9435-4a0b-9359-521d025e93c6 button');\n",
              "      quickchartButtonEl.style.display =\n",
              "        google.colab.kernel.accessAllowed ? 'block' : 'none';\n",
              "    })();\n",
              "  </script>\n",
              "</div>\n",
              "    </div>\n",
              "  </div>\n"
            ]
          },
          "metadata": {},
          "execution_count": 6
        }
      ]
    },
    {
      "cell_type": "markdown",
      "source": [
        "Se guarda el modelo con los 20 tópicos resultantes para no perderlo cuando expire la sesión y se vuelve a cargar"
      ],
      "metadata": {
        "id": "_T0Rw841zWqy"
      }
    },
    {
      "cell_type": "code",
      "source": [
        "loaded_model.save('/content/drive/MyDrive/TFG ADE/restotopic22')"
      ],
      "metadata": {
        "id": "qbK2WF_kEdai"
      },
      "execution_count": null,
      "outputs": []
    },
    {
      "cell_type": "code",
      "source": [
        "loaded_model=BERTopic.load('/content/drive/MyDrive/TFG ADE/restotopic22')"
      ],
      "metadata": {
        "id": "Czx0rPzKMPz7"
      },
      "execution_count": null,
      "outputs": []
    },
    {
      "cell_type": "markdown",
      "source": [
        "Se actualizan las etiquetas estándar de los tópicos resultantes asignadas por el modelo a unas etiquetas custom que faciliten la interpretabilidad de los mismos"
      ],
      "metadata": {
        "id": "-G05YTNRzyDJ"
      }
    },
    {
      "cell_type": "code",
      "source": [
        "#custom labels -> no se tiene en cuenta 2, 17 y 20\n",
        "labels_resto={0: \"Inversiones y comparativa entre empresas\",\n",
        "        1: \"Sin identificar\",\n",
        "        2: \"Top acciones\",\n",
        "        3: \"Opciones y maxpain\",\n",
        "        4: \"Técnica scalping\",\n",
        "        5: \"Consolidación acciones\",\n",
        "        6:\"Computación cuántica\",\n",
        "              7:\"Otras empresas\",\n",
        "              8:\"Análisis CNBC\",\n",
        "              9:\"Destitución Trump\",\n",
        "              10:\"Volatilidad\",\n",
        "              11:\"Inversión en empresas\",\n",
        "              12:\"Periodos temporales\",\n",
        "              13:\"Auriculares\",\n",
        "              14:\"Código\",\n",
        "              15:\"Roku\",\n",
        "              16: \"Otros\",\n",
        "              17:\"Sin identificar\",\n",
        "              18:\"Preapertura mercado\",\n",
        "              19:\"Trackerbot\",\n",
        "              20:\"Sin identificar\"}\n",
        "loaded_model.set_topic_labels(labels_resto)"
      ],
      "metadata": {
        "id": "cZYXgLjz0_d1"
      },
      "execution_count": null,
      "outputs": []
    },
    {
      "cell_type": "markdown",
      "source": [
        "Se representan en gráficos de barras los 18 tópicos ordenados por relevancia, en los cuales se obtienen los términos más repetidos por tópico y su puntuación c-TF-IDF"
      ],
      "metadata": {
        "id": "xL_6hRStzz8e"
      }
    },
    {
      "cell_type": "code",
      "source": [
        "loaded_model.visualize_barchart(topics=[0,2,3,4,5,6,7,8,9,10,11,12,13,14,15,16,18,19], width=600, custom_labels=True)"
      ],
      "metadata": {
        "colab": {
          "base_uri": "https://localhost:8080/",
          "height": 1000
        },
        "id": "hyUsGOygS_BF",
        "outputId": "e086b456-fa2f-426e-a2f1-93072a310b64"
      },
      "execution_count": null,
      "outputs": [
        {
          "output_type": "display_data",
          "data": {
            "text/html": [
              "<html>\n",
              "<head><meta charset=\"utf-8\" /></head>\n",
              "<body>\n",
              "    <div>            <script src=\"https://cdnjs.cloudflare.com/ajax/libs/mathjax/2.7.5/MathJax.js?config=TeX-AMS-MML_SVG\"></script><script type=\"text/javascript\">if (window.MathJax && window.MathJax.Hub && window.MathJax.Hub.Config) {window.MathJax.Hub.Config({SVG: {font: \"STIX-Web\"}});}</script>                <script type=\"text/javascript\">window.PlotlyConfig = {MathJaxConfig: 'local'};</script>\n",
              "        <script charset=\"utf-8\" src=\"https://cdn.plot.ly/plotly-2.24.1.min.js\"></script>                <div id=\"7cbf6e7d-b4a0-463e-9aab-ffe1fb6b00b2\" class=\"plotly-graph-div\" style=\"height:1250px; width:2400px;\"></div>            <script type=\"text/javascript\">                                    window.PLOTLYENV=window.PLOTLYENV || {};                                    if (document.getElementById(\"7cbf6e7d-b4a0-463e-9aab-ffe1fb6b00b2\")) {                    Plotly.newPlot(                        \"7cbf6e7d-b4a0-463e-9aab-ffe1fb6b00b2\",                        [{\"marker\":{\"color\":\"#D55E00\"},\"orientation\":\"h\",\"x\":[0.00881436969406194,0.010470866928431423,0.011992612206612562,0.013052259781167662,0.01308307309264048],\"y\":[\"baba  \",\"nvda  \",\"stock  \",\"trade  \",\"nflx  \"],\"type\":\"bar\",\"xaxis\":\"x\",\"yaxis\":\"y\"},{\"marker\":{\"color\":\"#0072B2\"},\"orientation\":\"h\",\"x\":[0.5729535048326162,0.5956540417960684,0.5993632081343218,0.5993632081343218,0.5993632081343218],\"y\":[\"dailystkleadercount leading stock  \",\"leading stock  \",\"leading stock dailystkleadercount  \",\"dailystkleadercount  \",\"stock dailystkleadercount  \"],\"type\":\"bar\",\"xaxis\":\"x2\",\"yaxis\":\"y2\"},{\"marker\":{\"color\":\"#CC79A7\"},\"orientation\":\"h\",\"x\":[0.4720881326953153,0.4720881326953153,0.4720881326953153,0.4720881326953153,0.4720881326953153],\"y\":[\"maxpain chart free  \",\"chart free option  \",\"option maxpain  \",\"option maxpain chart  \",\"maxpain chart  \"],\"type\":\"bar\",\"xaxis\":\"x3\",\"yaxis\":\"y3\"},{\"marker\":{\"color\":\"#E69F00\"},\"orientation\":\"h\",\"x\":[0.02365902594250489,0.025932297290878762,0.02625075971948578,0.04891185063478655,0.1787670960388321],\"y\":[\"nice  \",\"scalping  \",\"profit  \",\"crosshairs  \",\"scalp  \"],\"type\":\"bar\",\"xaxis\":\"x4\",\"yaxis\":\"y4\"},{\"marker\":{\"color\":\"#56B4E9\"},\"orientation\":\"h\",\"x\":[0.0167529122737327,0.017139079083499195,0.018110519880911148,0.019976730999212863,0.16671151685759913],\"y\":[\"level  \",\"year  \",\"break  \",\"higher  \",\"consolidation  \"],\"type\":\"bar\",\"xaxis\":\"x5\",\"yaxis\":\"y5\"},{\"marker\":{\"color\":\"#009E73\"},\"orientation\":\"h\",\"x\":[0.04718077633299298,0.06640217990086847,0.08885685716863717,0.09193106998937116,0.17822319610899517],\"y\":[\"computer  \",\"quantumcomputing  \",\"computing  \",\"quantum computing  \",\"quantum  \"],\"type\":\"bar\",\"xaxis\":\"x6\",\"yaxis\":\"y6\"},{\"marker\":{\"color\":\"#F0E442\"},\"orientation\":\"h\",\"x\":[0.017947898264440553,0.024262508943301897,0.02636267252731068,0.046714037237628854,0.2173401608331628],\"y\":[\"azure linkedin  \",\"azure  \",\"link  \",\"chainlink  \",\"linkedin  \"],\"type\":\"bar\",\"xaxis\":\"x7\",\"yaxis\":\"y7\"},{\"marker\":{\"color\":\"#D55E00\"},\"orientation\":\"h\",\"x\":[0.04152124883495709,0.051088139104610894,0.05440779942156957,0.06419618518489956,0.23536082595376556],\"y\":[\"cramer say  \",\"madmoneyoncnbc  \",\"jimcramer madmoneyoncnbc  \",\"jimcramer  \",\"cramer  \"],\"type\":\"bar\",\"xaxis\":\"x8\",\"yaxis\":\"y8\"},{\"marker\":{\"color\":\"#0072B2\"},\"orientation\":\"h\",\"x\":[0.031036435093976942,0.0316493335721194,0.036446471269554685,0.05678948718784483,0.12385646650985814],\"y\":[\"trump impeachment  \",\"president  \",\"impeached  \",\"trump  \",\"impeachment  \"],\"type\":\"bar\",\"xaxis\":\"x9\",\"yaxis\":\"y9\"},{\"marker\":{\"color\":\"#CC79A7\"},\"orientation\":\"h\",\"x\":[0.037335370333980974,0.05125906768767845,0.06613289924660043,0.06903432357191047,0.14477503457366853],\"y\":[\"ivpercentiles start  \",\"uvxy  \",\"ivpercentiles  \",\"rampcapitalllc  \",\"ramp  \"],\"type\":\"bar\",\"xaxis\":\"x10\",\"yaxis\":\"y10\"},{\"marker\":{\"color\":\"#E69F00\"},\"orientation\":\"h\",\"x\":[0.29707245804475496,0.29921313745683487,0.302312424369895,0.302312424369895,0.302312424369895],\"y\":[\"link csco  \",\"beginner  \",\"stock investing link  \",\"investing link  \",\"investing link csco  \"],\"type\":\"bar\",\"xaxis\":\"x11\",\"yaxis\":\"y11\"},{\"marker\":{\"color\":\"#56B4E9\"},\"orientation\":\"h\",\"x\":[0.02880710882402248,0.033725148187835126,0.034432375206401036,0.03618709992710851,0.29806508349684463],\"y\":[\"intraday  \",\"breakout  \",\"chart  \",\"hourly chart  \",\"hourly  \"],\"type\":\"bar\",\"xaxis\":\"x12\",\"yaxis\":\"y12\"},{\"marker\":{\"color\":\"#009E73\"},\"orientation\":\"h\",\"x\":[0.04867817792367491,0.04990205786601283,0.050432833581845485,0.05047729096511844,0.1896840292882501],\"y\":[\"bud  \",\"earbud  \",\"wireless  \",\"earphone  \",\"airpods  \"],\"type\":\"bar\",\"xaxis\":\"x13\",\"yaxis\":\"y13\"},{\"marker\":{\"color\":\"#F0E442\"},\"orientation\":\"h\",\"x\":[0.02516987234664019,0.02774209914724156,0.028602313624882452,0.03821939712852721,0.20856435802195614],\"y\":[\"developer  \",\"opensource  \",\"microsoftowned  \",\"code  \",\"github  \"],\"type\":\"bar\",\"xaxis\":\"x14\",\"yaxis\":\"y14\"},{\"marker\":{\"color\":\"#D55E00\"},\"orientation\":\"h\",\"x\":[0.049553446839431144,0.056168042921079755,0.07632092624778894,0.12498001623460935,0.12994046104728643],\"y\":[\"cutting  \",\"cable  \",\"roku  \",\"cordcutting  \",\"cord  \"],\"type\":\"bar\",\"xaxis\":\"x15\",\"yaxis\":\"y15\"},{\"marker\":{\"color\":\"#0072B2\"},\"orientation\":\"h\",\"x\":[0.03489224923470624,0.039496400904145135,0.05393114608536714,0.06979168439401028,0.31819248377900866],\"y\":[\"sold  \",\"call  \",\"sold little  \",\"1765 call  \",\"1765  \"],\"type\":\"bar\",\"xaxis\":\"x16\",\"yaxis\":\"y16\"},{\"marker\":{\"color\":\"#CC79A7\"},\"orientation\":\"h\",\"x\":[0.08493837198691959,0.08493837198691959,0.1598312503050026,0.1598312503050026,0.6211523278888397],\"y\":[\"184072 000closed disclaimerpremarket  \",\"184072 000closed  \",\"000closed disclaimerpremarket  \",\"000closed  \",\"disclaimerpremarket  \"],\"type\":\"bar\",\"xaxis\":\"x17\",\"yaxis\":\"y17\"},{\"marker\":{\"color\":\"#E69F00\"},\"orientation\":\"h\",\"x\":[0.27908322224273574,0.27908322224273574,0.27908322224273574,0.5251598224307227,1.3117216841383261],\"y\":[\"continue watching  \",\"tckrbot tell  \",\"tchey tckrbot  \",\"tckrbot tckrbot  \",\"tckrbot  \"],\"type\":\"bar\",\"xaxis\":\"x18\",\"yaxis\":\"y18\"}],                        {\"template\":{\"data\":{\"barpolar\":[{\"marker\":{\"line\":{\"color\":\"white\",\"width\":0.5},\"pattern\":{\"fillmode\":\"overlay\",\"size\":10,\"solidity\":0.2}},\"type\":\"barpolar\"}],\"bar\":[{\"error_x\":{\"color\":\"#2a3f5f\"},\"error_y\":{\"color\":\"#2a3f5f\"},\"marker\":{\"line\":{\"color\":\"white\",\"width\":0.5},\"pattern\":{\"fillmode\":\"overlay\",\"size\":10,\"solidity\":0.2}},\"type\":\"bar\"}],\"carpet\":[{\"aaxis\":{\"endlinecolor\":\"#2a3f5f\",\"gridcolor\":\"#C8D4E3\",\"linecolor\":\"#C8D4E3\",\"minorgridcolor\":\"#C8D4E3\",\"startlinecolor\":\"#2a3f5f\"},\"baxis\":{\"endlinecolor\":\"#2a3f5f\",\"gridcolor\":\"#C8D4E3\",\"linecolor\":\"#C8D4E3\",\"minorgridcolor\":\"#C8D4E3\",\"startlinecolor\":\"#2a3f5f\"},\"type\":\"carpet\"}],\"choropleth\":[{\"colorbar\":{\"outlinewidth\":0,\"ticks\":\"\"},\"type\":\"choropleth\"}],\"contourcarpet\":[{\"colorbar\":{\"outlinewidth\":0,\"ticks\":\"\"},\"type\":\"contourcarpet\"}],\"contour\":[{\"colorbar\":{\"outlinewidth\":0,\"ticks\":\"\"},\"colorscale\":[[0.0,\"#0d0887\"],[0.1111111111111111,\"#46039f\"],[0.2222222222222222,\"#7201a8\"],[0.3333333333333333,\"#9c179e\"],[0.4444444444444444,\"#bd3786\"],[0.5555555555555556,\"#d8576b\"],[0.6666666666666666,\"#ed7953\"],[0.7777777777777778,\"#fb9f3a\"],[0.8888888888888888,\"#fdca26\"],[1.0,\"#f0f921\"]],\"type\":\"contour\"}],\"heatmapgl\":[{\"colorbar\":{\"outlinewidth\":0,\"ticks\":\"\"},\"colorscale\":[[0.0,\"#0d0887\"],[0.1111111111111111,\"#46039f\"],[0.2222222222222222,\"#7201a8\"],[0.3333333333333333,\"#9c179e\"],[0.4444444444444444,\"#bd3786\"],[0.5555555555555556,\"#d8576b\"],[0.6666666666666666,\"#ed7953\"],[0.7777777777777778,\"#fb9f3a\"],[0.8888888888888888,\"#fdca26\"],[1.0,\"#f0f921\"]],\"type\":\"heatmapgl\"}],\"heatmap\":[{\"colorbar\":{\"outlinewidth\":0,\"ticks\":\"\"},\"colorscale\":[[0.0,\"#0d0887\"],[0.1111111111111111,\"#46039f\"],[0.2222222222222222,\"#7201a8\"],[0.3333333333333333,\"#9c179e\"],[0.4444444444444444,\"#bd3786\"],[0.5555555555555556,\"#d8576b\"],[0.6666666666666666,\"#ed7953\"],[0.7777777777777778,\"#fb9f3a\"],[0.8888888888888888,\"#fdca26\"],[1.0,\"#f0f921\"]],\"type\":\"heatmap\"}],\"histogram2dcontour\":[{\"colorbar\":{\"outlinewidth\":0,\"ticks\":\"\"},\"colorscale\":[[0.0,\"#0d0887\"],[0.1111111111111111,\"#46039f\"],[0.2222222222222222,\"#7201a8\"],[0.3333333333333333,\"#9c179e\"],[0.4444444444444444,\"#bd3786\"],[0.5555555555555556,\"#d8576b\"],[0.6666666666666666,\"#ed7953\"],[0.7777777777777778,\"#fb9f3a\"],[0.8888888888888888,\"#fdca26\"],[1.0,\"#f0f921\"]],\"type\":\"histogram2dcontour\"}],\"histogram2d\":[{\"colorbar\":{\"outlinewidth\":0,\"ticks\":\"\"},\"colorscale\":[[0.0,\"#0d0887\"],[0.1111111111111111,\"#46039f\"],[0.2222222222222222,\"#7201a8\"],[0.3333333333333333,\"#9c179e\"],[0.4444444444444444,\"#bd3786\"],[0.5555555555555556,\"#d8576b\"],[0.6666666666666666,\"#ed7953\"],[0.7777777777777778,\"#fb9f3a\"],[0.8888888888888888,\"#fdca26\"],[1.0,\"#f0f921\"]],\"type\":\"histogram2d\"}],\"histogram\":[{\"marker\":{\"pattern\":{\"fillmode\":\"overlay\",\"size\":10,\"solidity\":0.2}},\"type\":\"histogram\"}],\"mesh3d\":[{\"colorbar\":{\"outlinewidth\":0,\"ticks\":\"\"},\"type\":\"mesh3d\"}],\"parcoords\":[{\"line\":{\"colorbar\":{\"outlinewidth\":0,\"ticks\":\"\"}},\"type\":\"parcoords\"}],\"pie\":[{\"automargin\":true,\"type\":\"pie\"}],\"scatter3d\":[{\"line\":{\"colorbar\":{\"outlinewidth\":0,\"ticks\":\"\"}},\"marker\":{\"colorbar\":{\"outlinewidth\":0,\"ticks\":\"\"}},\"type\":\"scatter3d\"}],\"scattercarpet\":[{\"marker\":{\"colorbar\":{\"outlinewidth\":0,\"ticks\":\"\"}},\"type\":\"scattercarpet\"}],\"scattergeo\":[{\"marker\":{\"colorbar\":{\"outlinewidth\":0,\"ticks\":\"\"}},\"type\":\"scattergeo\"}],\"scattergl\":[{\"marker\":{\"colorbar\":{\"outlinewidth\":0,\"ticks\":\"\"}},\"type\":\"scattergl\"}],\"scattermapbox\":[{\"marker\":{\"colorbar\":{\"outlinewidth\":0,\"ticks\":\"\"}},\"type\":\"scattermapbox\"}],\"scatterpolargl\":[{\"marker\":{\"colorbar\":{\"outlinewidth\":0,\"ticks\":\"\"}},\"type\":\"scatterpolargl\"}],\"scatterpolar\":[{\"marker\":{\"colorbar\":{\"outlinewidth\":0,\"ticks\":\"\"}},\"type\":\"scatterpolar\"}],\"scatter\":[{\"fillpattern\":{\"fillmode\":\"overlay\",\"size\":10,\"solidity\":0.2},\"type\":\"scatter\"}],\"scatterternary\":[{\"marker\":{\"colorbar\":{\"outlinewidth\":0,\"ticks\":\"\"}},\"type\":\"scatterternary\"}],\"surface\":[{\"colorbar\":{\"outlinewidth\":0,\"ticks\":\"\"},\"colorscale\":[[0.0,\"#0d0887\"],[0.1111111111111111,\"#46039f\"],[0.2222222222222222,\"#7201a8\"],[0.3333333333333333,\"#9c179e\"],[0.4444444444444444,\"#bd3786\"],[0.5555555555555556,\"#d8576b\"],[0.6666666666666666,\"#ed7953\"],[0.7777777777777778,\"#fb9f3a\"],[0.8888888888888888,\"#fdca26\"],[1.0,\"#f0f921\"]],\"type\":\"surface\"}],\"table\":[{\"cells\":{\"fill\":{\"color\":\"#EBF0F8\"},\"line\":{\"color\":\"white\"}},\"header\":{\"fill\":{\"color\":\"#C8D4E3\"},\"line\":{\"color\":\"white\"}},\"type\":\"table\"}]},\"layout\":{\"annotationdefaults\":{\"arrowcolor\":\"#2a3f5f\",\"arrowhead\":0,\"arrowwidth\":1},\"autotypenumbers\":\"strict\",\"coloraxis\":{\"colorbar\":{\"outlinewidth\":0,\"ticks\":\"\"}},\"colorscale\":{\"diverging\":[[0,\"#8e0152\"],[0.1,\"#c51b7d\"],[0.2,\"#de77ae\"],[0.3,\"#f1b6da\"],[0.4,\"#fde0ef\"],[0.5,\"#f7f7f7\"],[0.6,\"#e6f5d0\"],[0.7,\"#b8e186\"],[0.8,\"#7fbc41\"],[0.9,\"#4d9221\"],[1,\"#276419\"]],\"sequential\":[[0.0,\"#0d0887\"],[0.1111111111111111,\"#46039f\"],[0.2222222222222222,\"#7201a8\"],[0.3333333333333333,\"#9c179e\"],[0.4444444444444444,\"#bd3786\"],[0.5555555555555556,\"#d8576b\"],[0.6666666666666666,\"#ed7953\"],[0.7777777777777778,\"#fb9f3a\"],[0.8888888888888888,\"#fdca26\"],[1.0,\"#f0f921\"]],\"sequentialminus\":[[0.0,\"#0d0887\"],[0.1111111111111111,\"#46039f\"],[0.2222222222222222,\"#7201a8\"],[0.3333333333333333,\"#9c179e\"],[0.4444444444444444,\"#bd3786\"],[0.5555555555555556,\"#d8576b\"],[0.6666666666666666,\"#ed7953\"],[0.7777777777777778,\"#fb9f3a\"],[0.8888888888888888,\"#fdca26\"],[1.0,\"#f0f921\"]]},\"colorway\":[\"#636efa\",\"#EF553B\",\"#00cc96\",\"#ab63fa\",\"#FFA15A\",\"#19d3f3\",\"#FF6692\",\"#B6E880\",\"#FF97FF\",\"#FECB52\"],\"font\":{\"color\":\"#2a3f5f\"},\"geo\":{\"bgcolor\":\"white\",\"lakecolor\":\"white\",\"landcolor\":\"white\",\"showlakes\":true,\"showland\":true,\"subunitcolor\":\"#C8D4E3\"},\"hoverlabel\":{\"align\":\"left\"},\"hovermode\":\"closest\",\"mapbox\":{\"style\":\"light\"},\"paper_bgcolor\":\"white\",\"plot_bgcolor\":\"white\",\"polar\":{\"angularaxis\":{\"gridcolor\":\"#EBF0F8\",\"linecolor\":\"#EBF0F8\",\"ticks\":\"\"},\"bgcolor\":\"white\",\"radialaxis\":{\"gridcolor\":\"#EBF0F8\",\"linecolor\":\"#EBF0F8\",\"ticks\":\"\"}},\"scene\":{\"xaxis\":{\"backgroundcolor\":\"white\",\"gridcolor\":\"#DFE8F3\",\"gridwidth\":2,\"linecolor\":\"#EBF0F8\",\"showbackground\":true,\"ticks\":\"\",\"zerolinecolor\":\"#EBF0F8\"},\"yaxis\":{\"backgroundcolor\":\"white\",\"gridcolor\":\"#DFE8F3\",\"gridwidth\":2,\"linecolor\":\"#EBF0F8\",\"showbackground\":true,\"ticks\":\"\",\"zerolinecolor\":\"#EBF0F8\"},\"zaxis\":{\"backgroundcolor\":\"white\",\"gridcolor\":\"#DFE8F3\",\"gridwidth\":2,\"linecolor\":\"#EBF0F8\",\"showbackground\":true,\"ticks\":\"\",\"zerolinecolor\":\"#EBF0F8\"}},\"shapedefaults\":{\"line\":{\"color\":\"#2a3f5f\"}},\"ternary\":{\"aaxis\":{\"gridcolor\":\"#DFE8F3\",\"linecolor\":\"#A2B1C6\",\"ticks\":\"\"},\"baxis\":{\"gridcolor\":\"#DFE8F3\",\"linecolor\":\"#A2B1C6\",\"ticks\":\"\"},\"bgcolor\":\"white\",\"caxis\":{\"gridcolor\":\"#DFE8F3\",\"linecolor\":\"#A2B1C6\",\"ticks\":\"\"}},\"title\":{\"x\":0.05},\"xaxis\":{\"automargin\":true,\"gridcolor\":\"#EBF0F8\",\"linecolor\":\"#EBF0F8\",\"ticks\":\"\",\"title\":{\"standoff\":15},\"zerolinecolor\":\"#EBF0F8\",\"zerolinewidth\":2},\"yaxis\":{\"automargin\":true,\"gridcolor\":\"#EBF0F8\",\"linecolor\":\"#EBF0F8\",\"ticks\":\"\",\"title\":{\"standoff\":15},\"zerolinecolor\":\"#EBF0F8\",\"zerolinewidth\":2}}},\"xaxis\":{\"anchor\":\"y\",\"domain\":[0.0,0.175],\"showgrid\":true},\"yaxis\":{\"anchor\":\"x\",\"domain\":[0.8639999999999999,0.9999999999999999],\"showgrid\":true},\"xaxis2\":{\"anchor\":\"y2\",\"domain\":[0.275,0.45],\"showgrid\":true},\"yaxis2\":{\"anchor\":\"x2\",\"domain\":[0.8639999999999999,0.9999999999999999],\"showgrid\":true},\"xaxis3\":{\"anchor\":\"y3\",\"domain\":[0.55,0.7250000000000001],\"showgrid\":true},\"yaxis3\":{\"anchor\":\"x3\",\"domain\":[0.8639999999999999,0.9999999999999999],\"showgrid\":true},\"xaxis4\":{\"anchor\":\"y4\",\"domain\":[0.825,1.0],\"showgrid\":true},\"yaxis4\":{\"anchor\":\"x4\",\"domain\":[0.8639999999999999,0.9999999999999999],\"showgrid\":true},\"xaxis5\":{\"anchor\":\"y5\",\"domain\":[0.0,0.175],\"showgrid\":true},\"yaxis5\":{\"anchor\":\"x5\",\"domain\":[0.6479999999999999,0.7839999999999999],\"showgrid\":true},\"xaxis6\":{\"anchor\":\"y6\",\"domain\":[0.275,0.45],\"showgrid\":true},\"yaxis6\":{\"anchor\":\"x6\",\"domain\":[0.6479999999999999,0.7839999999999999],\"showgrid\":true},\"xaxis7\":{\"anchor\":\"y7\",\"domain\":[0.55,0.7250000000000001],\"showgrid\":true},\"yaxis7\":{\"anchor\":\"x7\",\"domain\":[0.6479999999999999,0.7839999999999999],\"showgrid\":true},\"xaxis8\":{\"anchor\":\"y8\",\"domain\":[0.825,1.0],\"showgrid\":true},\"yaxis8\":{\"anchor\":\"x8\",\"domain\":[0.6479999999999999,0.7839999999999999],\"showgrid\":true},\"xaxis9\":{\"anchor\":\"y9\",\"domain\":[0.0,0.175],\"showgrid\":true},\"yaxis9\":{\"anchor\":\"x9\",\"domain\":[0.43199999999999994,0.568],\"showgrid\":true},\"xaxis10\":{\"anchor\":\"y10\",\"domain\":[0.275,0.45],\"showgrid\":true},\"yaxis10\":{\"anchor\":\"x10\",\"domain\":[0.43199999999999994,0.568],\"showgrid\":true},\"xaxis11\":{\"anchor\":\"y11\",\"domain\":[0.55,0.7250000000000001],\"showgrid\":true},\"yaxis11\":{\"anchor\":\"x11\",\"domain\":[0.43199999999999994,0.568],\"showgrid\":true},\"xaxis12\":{\"anchor\":\"y12\",\"domain\":[0.825,1.0],\"showgrid\":true},\"yaxis12\":{\"anchor\":\"x12\",\"domain\":[0.43199999999999994,0.568],\"showgrid\":true},\"xaxis13\":{\"anchor\":\"y13\",\"domain\":[0.0,0.175],\"showgrid\":true},\"yaxis13\":{\"anchor\":\"x13\",\"domain\":[0.21599999999999997,0.352],\"showgrid\":true},\"xaxis14\":{\"anchor\":\"y14\",\"domain\":[0.275,0.45],\"showgrid\":true},\"yaxis14\":{\"anchor\":\"x14\",\"domain\":[0.21599999999999997,0.352],\"showgrid\":true},\"xaxis15\":{\"anchor\":\"y15\",\"domain\":[0.55,0.7250000000000001],\"showgrid\":true},\"yaxis15\":{\"anchor\":\"x15\",\"domain\":[0.21599999999999997,0.352],\"showgrid\":true},\"xaxis16\":{\"anchor\":\"y16\",\"domain\":[0.825,1.0],\"showgrid\":true},\"yaxis16\":{\"anchor\":\"x16\",\"domain\":[0.21599999999999997,0.352],\"showgrid\":true},\"xaxis17\":{\"anchor\":\"y17\",\"domain\":[0.0,0.175],\"showgrid\":true},\"yaxis17\":{\"anchor\":\"x17\",\"domain\":[0.0,0.13599999999999998],\"showgrid\":true},\"xaxis18\":{\"anchor\":\"y18\",\"domain\":[0.275,0.45],\"showgrid\":true},\"yaxis18\":{\"anchor\":\"x18\",\"domain\":[0.0,0.13599999999999998],\"showgrid\":true},\"xaxis19\":{\"anchor\":\"y19\",\"domain\":[0.55,0.7250000000000001],\"showgrid\":true},\"yaxis19\":{\"anchor\":\"x19\",\"domain\":[0.0,0.13599999999999998],\"showgrid\":true},\"xaxis20\":{\"anchor\":\"y20\",\"domain\":[0.825,1.0],\"showgrid\":true},\"yaxis20\":{\"anchor\":\"x20\",\"domain\":[0.0,0.13599999999999998],\"showgrid\":true},\"annotations\":[{\"font\":{\"size\":16},\"showarrow\":false,\"text\":\"Inversiones y comparativa entre empresas\",\"x\":0.0875,\"xanchor\":\"center\",\"xref\":\"paper\",\"y\":0.9999999999999999,\"yanchor\":\"bottom\",\"yref\":\"paper\"},{\"font\":{\"size\":16},\"showarrow\":false,\"text\":\"Top acciones\",\"x\":0.36250000000000004,\"xanchor\":\"center\",\"xref\":\"paper\",\"y\":0.9999999999999999,\"yanchor\":\"bottom\",\"yref\":\"paper\"},{\"font\":{\"size\":16},\"showarrow\":false,\"text\":\"Opciones y maxpain\",\"x\":0.6375000000000001,\"xanchor\":\"center\",\"xref\":\"paper\",\"y\":0.9999999999999999,\"yanchor\":\"bottom\",\"yref\":\"paper\"},{\"font\":{\"size\":16},\"showarrow\":false,\"text\":\"T\\u00e9cnica scalping\",\"x\":0.9125,\"xanchor\":\"center\",\"xref\":\"paper\",\"y\":0.9999999999999999,\"yanchor\":\"bottom\",\"yref\":\"paper\"},{\"font\":{\"size\":16},\"showarrow\":false,\"text\":\"Consolidaci\\u00f3n acciones\",\"x\":0.0875,\"xanchor\":\"center\",\"xref\":\"paper\",\"y\":0.7839999999999999,\"yanchor\":\"bottom\",\"yref\":\"paper\"},{\"font\":{\"size\":16},\"showarrow\":false,\"text\":\"Computaci\\u00f3n cu\\u00e1ntica\",\"x\":0.36250000000000004,\"xanchor\":\"center\",\"xref\":\"paper\",\"y\":0.7839999999999999,\"yanchor\":\"bottom\",\"yref\":\"paper\"},{\"font\":{\"size\":16},\"showarrow\":false,\"text\":\"Otras empresas\",\"x\":0.6375000000000001,\"xanchor\":\"center\",\"xref\":\"paper\",\"y\":0.7839999999999999,\"yanchor\":\"bottom\",\"yref\":\"paper\"},{\"font\":{\"size\":16},\"showarrow\":false,\"text\":\"An\\u00e1lisis CNBC\",\"x\":0.9125,\"xanchor\":\"center\",\"xref\":\"paper\",\"y\":0.7839999999999999,\"yanchor\":\"bottom\",\"yref\":\"paper\"},{\"font\":{\"size\":16},\"showarrow\":false,\"text\":\"Destituci\\u00f3n Trump\",\"x\":0.0875,\"xanchor\":\"center\",\"xref\":\"paper\",\"y\":0.568,\"yanchor\":\"bottom\",\"yref\":\"paper\"},{\"font\":{\"size\":16},\"showarrow\":false,\"text\":\"Volatilidad\",\"x\":0.36250000000000004,\"xanchor\":\"center\",\"xref\":\"paper\",\"y\":0.568,\"yanchor\":\"bottom\",\"yref\":\"paper\"},{\"font\":{\"size\":16},\"showarrow\":false,\"text\":\"Cisco\",\"x\":0.6375000000000001,\"xanchor\":\"center\",\"xref\":\"paper\",\"y\":0.568,\"yanchor\":\"bottom\",\"yref\":\"paper\"},{\"font\":{\"size\":16},\"showarrow\":false,\"text\":\"Periodos temporales\",\"x\":0.9125,\"xanchor\":\"center\",\"xref\":\"paper\",\"y\":0.568,\"yanchor\":\"bottom\",\"yref\":\"paper\"},{\"font\":{\"size\":16},\"showarrow\":false,\"text\":\"Auriculares\",\"x\":0.0875,\"xanchor\":\"center\",\"xref\":\"paper\",\"y\":0.352,\"yanchor\":\"bottom\",\"yref\":\"paper\"},{\"font\":{\"size\":16},\"showarrow\":false,\"text\":\"C\\u00f3digo\",\"x\":0.36250000000000004,\"xanchor\":\"center\",\"xref\":\"paper\",\"y\":0.352,\"yanchor\":\"bottom\",\"yref\":\"paper\"},{\"font\":{\"size\":16},\"showarrow\":false,\"text\":\"Roku\",\"x\":0.6375000000000001,\"xanchor\":\"center\",\"xref\":\"paper\",\"y\":0.352,\"yanchor\":\"bottom\",\"yref\":\"paper\"},{\"font\":{\"size\":16},\"showarrow\":false,\"text\":\"Otros\",\"x\":0.9125,\"xanchor\":\"center\",\"xref\":\"paper\",\"y\":0.352,\"yanchor\":\"bottom\",\"yref\":\"paper\"},{\"font\":{\"size\":16},\"showarrow\":false,\"text\":\"Preapertura mercado\",\"x\":0.0875,\"xanchor\":\"center\",\"xref\":\"paper\",\"y\":0.13599999999999998,\"yanchor\":\"bottom\",\"yref\":\"paper\"},{\"font\":{\"size\":16},\"showarrow\":false,\"text\":\"Trackerbot\",\"x\":0.36250000000000004,\"xanchor\":\"center\",\"xref\":\"paper\",\"y\":0.13599999999999998,\"yanchor\":\"bottom\",\"yref\":\"paper\"}],\"title\":{\"font\":{\"size\":22,\"color\":\"Black\"},\"text\":\"Topic Word Scores\",\"x\":0.5,\"xanchor\":\"center\",\"yanchor\":\"top\"},\"hoverlabel\":{\"font\":{\"size\":16,\"family\":\"Rockwell\"},\"bgcolor\":\"white\"},\"showlegend\":false,\"width\":2400,\"height\":1250},                        {\"responsive\": true}                    ).then(function(){\n",
              "                            \n",
              "var gd = document.getElementById('7cbf6e7d-b4a0-463e-9aab-ffe1fb6b00b2');\n",
              "var x = new MutationObserver(function (mutations, observer) {{\n",
              "        var display = window.getComputedStyle(gd).display;\n",
              "        if (!display || display === 'none') {{\n",
              "            console.log([gd, 'removed!']);\n",
              "            Plotly.purge(gd);\n",
              "            observer.disconnect();\n",
              "        }}\n",
              "}});\n",
              "\n",
              "// Listen for the removal of the full notebook cells\n",
              "var notebookContainer = gd.closest('#notebook-container');\n",
              "if (notebookContainer) {{\n",
              "    x.observe(notebookContainer, {childList: true});\n",
              "}}\n",
              "\n",
              "// Listen for the clearing of the current output cell\n",
              "var outputEl = gd.closest('.output');\n",
              "if (outputEl) {{\n",
              "    x.observe(outputEl, {childList: true});\n",
              "}}\n",
              "\n",
              "                        })                };                            </script>        </div>\n",
              "</body>\n",
              "</html>"
            ]
          },
          "metadata": {}
        }
      ]
    },
    {
      "cell_type": "markdown",
      "source": [
        "Se representa la matriz de similitud entre los 10 primeros tópicos más relevantes, para comprobar si son lo suficientemente distintos (valores de similitud menor o igual a 0.5)"
      ],
      "metadata": {
        "id": "sxYFrUZDz7IP"
      }
    },
    {
      "cell_type": "code",
      "source": [
        "loaded_model.visualize_heatmap(n_clusters=5, topics=[0,2,3,4,5,6,7,8,9,10],custom_labels=True, width=1200,height=1000)"
      ],
      "metadata": {
        "colab": {
          "base_uri": "https://localhost:8080/",
          "height": 1000
        },
        "id": "V3X-y33oUR54",
        "outputId": "a44c3f52-cf76-4037-8f0d-0b41edbd5c22"
      },
      "execution_count": null,
      "outputs": [
        {
          "output_type": "display_data",
          "data": {
            "text/html": [
              "<html>\n",
              "<head><meta charset=\"utf-8\" /></head>\n",
              "<body>\n",
              "    <div>            <script src=\"https://cdnjs.cloudflare.com/ajax/libs/mathjax/2.7.5/MathJax.js?config=TeX-AMS-MML_SVG\"></script><script type=\"text/javascript\">if (window.MathJax && window.MathJax.Hub && window.MathJax.Hub.Config) {window.MathJax.Hub.Config({SVG: {font: \"STIX-Web\"}});}</script>                <script type=\"text/javascript\">window.PlotlyConfig = {MathJaxConfig: 'local'};</script>\n",
              "        <script charset=\"utf-8\" src=\"https://cdn.plot.ly/plotly-2.24.1.min.js\"></script>                <div id=\"b6f54c3e-40b4-4c50-b23a-269c59294e82\" class=\"plotly-graph-div\" style=\"height:1000px; width:1200px;\"></div>            <script type=\"text/javascript\">                                    window.PLOTLYENV=window.PLOTLYENV || {};                                    if (document.getElementById(\"b6f54c3e-40b4-4c50-b23a-269c59294e82\")) {                    Plotly.newPlot(                        \"b6f54c3e-40b4-4c50-b23a-269c59294e82\",                        [{\"coloraxis\":\"coloraxis\",\"name\":\"0\",\"x\":[\"Inversiones y comparativa entre empresas\",\"T\\u00e9cnica scalping\",\"Otras empresas\",\"Top acciones\",\"Opciones y maxpain\",\"Consolidaci\\u00f3n acciones\",\"Volatilidad\",\"Computaci\\u00f3n cu\\u00e1ntica\",\"An\\u00e1lisis CNBC\",\"Destituci\\u00f3n Trump\"],\"y\":[\"Inversiones y comparativa entre empresas\",\"T\\u00e9cnica scalping\",\"Otras empresas\",\"Top acciones\",\"Opciones y maxpain\",\"Consolidaci\\u00f3n acciones\",\"Volatilidad\",\"Computaci\\u00f3n cu\\u00e1ntica\",\"An\\u00e1lisis CNBC\",\"Destituci\\u00f3n Trump\"],\"z\":[[1.0000000000000004,0.39559770562174346,0.377663873731806,0.37049629286157204,0.41259388235089706,0.5317629306375653,0.37930914160109425,0.4647723849426735,0.4274576250514809,0.4930114376108576],[0.39559770562174346,1.0000000000000004,0.12534941719156223,0.09692775790388743,0.18465511634768342,0.18503023613087471,0.06406854474298652,0.1980283189332704,0.23626957277773522,0.18776839949342639],[0.377663873731806,0.12534941719156223,1.0,0.17844578625324234,0.14230341672873023,0.2554409960148316,0.2261091302769249,0.2805249133714413,0.25550028525002194,0.3326233197202717],[0.37049629286157204,0.09692775790388743,0.17844578625324234,1.0000000000000007,0.08284050334871318,0.23163880891461383,0.3241999108462079,0.2122637863034021,0.23395996952886577,0.31325465699941113],[0.41259388235089706,0.18465511634768342,0.14230341672873023,0.08284050334871318,1.0000000000000002,0.27851516754782846,0.1835458418376852,0.18309425028787898,0.11967896076586065,0.32684798007207266],[0.5317629306375653,0.18503023613087471,0.2554409960148316,0.23163880891461383,0.27851516754782846,1.0,0.3197613486613554,0.30112534276015107,0.35854544157303125,0.31691022832610094],[0.37930914160109425,0.06406854474298652,0.2261091302769249,0.3241999108462079,0.1835458418376852,0.3197613486613554,1.0000000000000009,0.26552141083235037,0.17875264332604324,0.37232350638847617],[0.4647723849426735,0.1980283189332704,0.2805249133714413,0.2122637863034021,0.18309425028787898,0.30112534276015107,0.26552141083235037,1.0,0.2505301768706541,0.28682255716446575],[0.4274576250514809,0.23626957277773522,0.25550028525002194,0.23395996952886577,0.11967896076586065,0.35854544157303125,0.17875264332604324,0.2505301768706541,0.9999999999999992,0.240187228427796],[0.4930114376108576,0.18776839949342639,0.3326233197202717,0.31325465699941113,0.32684798007207266,0.31691022832610094,0.37232350638847617,0.28682255716446575,0.240187228427796,0.9999999999999996]],\"type\":\"heatmap\",\"xaxis\":\"x\",\"yaxis\":\"y\",\"hovertemplate\":\"x: %{x}\\u003cbr\\u003ey: %{y}\\u003cbr\\u003eSimilarity Score: %{z}\\u003cextra\\u003e\\u003c\\u002fextra\\u003e\"}],                        {\"template\":{\"data\":{\"histogram2dcontour\":[{\"type\":\"histogram2dcontour\",\"colorbar\":{\"outlinewidth\":0,\"ticks\":\"\"},\"colorscale\":[[0.0,\"#0d0887\"],[0.1111111111111111,\"#46039f\"],[0.2222222222222222,\"#7201a8\"],[0.3333333333333333,\"#9c179e\"],[0.4444444444444444,\"#bd3786\"],[0.5555555555555556,\"#d8576b\"],[0.6666666666666666,\"#ed7953\"],[0.7777777777777778,\"#fb9f3a\"],[0.8888888888888888,\"#fdca26\"],[1.0,\"#f0f921\"]]}],\"choropleth\":[{\"type\":\"choropleth\",\"colorbar\":{\"outlinewidth\":0,\"ticks\":\"\"}}],\"histogram2d\":[{\"type\":\"histogram2d\",\"colorbar\":{\"outlinewidth\":0,\"ticks\":\"\"},\"colorscale\":[[0.0,\"#0d0887\"],[0.1111111111111111,\"#46039f\"],[0.2222222222222222,\"#7201a8\"],[0.3333333333333333,\"#9c179e\"],[0.4444444444444444,\"#bd3786\"],[0.5555555555555556,\"#d8576b\"],[0.6666666666666666,\"#ed7953\"],[0.7777777777777778,\"#fb9f3a\"],[0.8888888888888888,\"#fdca26\"],[1.0,\"#f0f921\"]]}],\"heatmap\":[{\"type\":\"heatmap\",\"colorbar\":{\"outlinewidth\":0,\"ticks\":\"\"},\"colorscale\":[[0.0,\"#0d0887\"],[0.1111111111111111,\"#46039f\"],[0.2222222222222222,\"#7201a8\"],[0.3333333333333333,\"#9c179e\"],[0.4444444444444444,\"#bd3786\"],[0.5555555555555556,\"#d8576b\"],[0.6666666666666666,\"#ed7953\"],[0.7777777777777778,\"#fb9f3a\"],[0.8888888888888888,\"#fdca26\"],[1.0,\"#f0f921\"]]}],\"heatmapgl\":[{\"type\":\"heatmapgl\",\"colorbar\":{\"outlinewidth\":0,\"ticks\":\"\"},\"colorscale\":[[0.0,\"#0d0887\"],[0.1111111111111111,\"#46039f\"],[0.2222222222222222,\"#7201a8\"],[0.3333333333333333,\"#9c179e\"],[0.4444444444444444,\"#bd3786\"],[0.5555555555555556,\"#d8576b\"],[0.6666666666666666,\"#ed7953\"],[0.7777777777777778,\"#fb9f3a\"],[0.8888888888888888,\"#fdca26\"],[1.0,\"#f0f921\"]]}],\"contourcarpet\":[{\"type\":\"contourcarpet\",\"colorbar\":{\"outlinewidth\":0,\"ticks\":\"\"}}],\"contour\":[{\"type\":\"contour\",\"colorbar\":{\"outlinewidth\":0,\"ticks\":\"\"},\"colorscale\":[[0.0,\"#0d0887\"],[0.1111111111111111,\"#46039f\"],[0.2222222222222222,\"#7201a8\"],[0.3333333333333333,\"#9c179e\"],[0.4444444444444444,\"#bd3786\"],[0.5555555555555556,\"#d8576b\"],[0.6666666666666666,\"#ed7953\"],[0.7777777777777778,\"#fb9f3a\"],[0.8888888888888888,\"#fdca26\"],[1.0,\"#f0f921\"]]}],\"surface\":[{\"type\":\"surface\",\"colorbar\":{\"outlinewidth\":0,\"ticks\":\"\"},\"colorscale\":[[0.0,\"#0d0887\"],[0.1111111111111111,\"#46039f\"],[0.2222222222222222,\"#7201a8\"],[0.3333333333333333,\"#9c179e\"],[0.4444444444444444,\"#bd3786\"],[0.5555555555555556,\"#d8576b\"],[0.6666666666666666,\"#ed7953\"],[0.7777777777777778,\"#fb9f3a\"],[0.8888888888888888,\"#fdca26\"],[1.0,\"#f0f921\"]]}],\"mesh3d\":[{\"type\":\"mesh3d\",\"colorbar\":{\"outlinewidth\":0,\"ticks\":\"\"}}],\"scatter\":[{\"fillpattern\":{\"fillmode\":\"overlay\",\"size\":10,\"solidity\":0.2},\"type\":\"scatter\"}],\"parcoords\":[{\"type\":\"parcoords\",\"line\":{\"colorbar\":{\"outlinewidth\":0,\"ticks\":\"\"}}}],\"scatterpolargl\":[{\"type\":\"scatterpolargl\",\"marker\":{\"colorbar\":{\"outlinewidth\":0,\"ticks\":\"\"}}}],\"bar\":[{\"error_x\":{\"color\":\"#2a3f5f\"},\"error_y\":{\"color\":\"#2a3f5f\"},\"marker\":{\"line\":{\"color\":\"#E5ECF6\",\"width\":0.5},\"pattern\":{\"fillmode\":\"overlay\",\"size\":10,\"solidity\":0.2}},\"type\":\"bar\"}],\"scattergeo\":[{\"type\":\"scattergeo\",\"marker\":{\"colorbar\":{\"outlinewidth\":0,\"ticks\":\"\"}}}],\"scatterpolar\":[{\"type\":\"scatterpolar\",\"marker\":{\"colorbar\":{\"outlinewidth\":0,\"ticks\":\"\"}}}],\"histogram\":[{\"marker\":{\"pattern\":{\"fillmode\":\"overlay\",\"size\":10,\"solidity\":0.2}},\"type\":\"histogram\"}],\"scattergl\":[{\"type\":\"scattergl\",\"marker\":{\"colorbar\":{\"outlinewidth\":0,\"ticks\":\"\"}}}],\"scatter3d\":[{\"type\":\"scatter3d\",\"line\":{\"colorbar\":{\"outlinewidth\":0,\"ticks\":\"\"}},\"marker\":{\"colorbar\":{\"outlinewidth\":0,\"ticks\":\"\"}}}],\"scattermapbox\":[{\"type\":\"scattermapbox\",\"marker\":{\"colorbar\":{\"outlinewidth\":0,\"ticks\":\"\"}}}],\"scatterternary\":[{\"type\":\"scatterternary\",\"marker\":{\"colorbar\":{\"outlinewidth\":0,\"ticks\":\"\"}}}],\"scattercarpet\":[{\"type\":\"scattercarpet\",\"marker\":{\"colorbar\":{\"outlinewidth\":0,\"ticks\":\"\"}}}],\"carpet\":[{\"aaxis\":{\"endlinecolor\":\"#2a3f5f\",\"gridcolor\":\"white\",\"linecolor\":\"white\",\"minorgridcolor\":\"white\",\"startlinecolor\":\"#2a3f5f\"},\"baxis\":{\"endlinecolor\":\"#2a3f5f\",\"gridcolor\":\"white\",\"linecolor\":\"white\",\"minorgridcolor\":\"white\",\"startlinecolor\":\"#2a3f5f\"},\"type\":\"carpet\"}],\"table\":[{\"cells\":{\"fill\":{\"color\":\"#EBF0F8\"},\"line\":{\"color\":\"white\"}},\"header\":{\"fill\":{\"color\":\"#C8D4E3\"},\"line\":{\"color\":\"white\"}},\"type\":\"table\"}],\"barpolar\":[{\"marker\":{\"line\":{\"color\":\"#E5ECF6\",\"width\":0.5},\"pattern\":{\"fillmode\":\"overlay\",\"size\":10,\"solidity\":0.2}},\"type\":\"barpolar\"}],\"pie\":[{\"automargin\":true,\"type\":\"pie\"}]},\"layout\":{\"autotypenumbers\":\"strict\",\"colorway\":[\"#636efa\",\"#EF553B\",\"#00cc96\",\"#ab63fa\",\"#FFA15A\",\"#19d3f3\",\"#FF6692\",\"#B6E880\",\"#FF97FF\",\"#FECB52\"],\"font\":{\"color\":\"#2a3f5f\"},\"hovermode\":\"closest\",\"hoverlabel\":{\"align\":\"left\"},\"paper_bgcolor\":\"white\",\"plot_bgcolor\":\"#E5ECF6\",\"polar\":{\"bgcolor\":\"#E5ECF6\",\"angularaxis\":{\"gridcolor\":\"white\",\"linecolor\":\"white\",\"ticks\":\"\"},\"radialaxis\":{\"gridcolor\":\"white\",\"linecolor\":\"white\",\"ticks\":\"\"}},\"ternary\":{\"bgcolor\":\"#E5ECF6\",\"aaxis\":{\"gridcolor\":\"white\",\"linecolor\":\"white\",\"ticks\":\"\"},\"baxis\":{\"gridcolor\":\"white\",\"linecolor\":\"white\",\"ticks\":\"\"},\"caxis\":{\"gridcolor\":\"white\",\"linecolor\":\"white\",\"ticks\":\"\"}},\"coloraxis\":{\"colorbar\":{\"outlinewidth\":0,\"ticks\":\"\"}},\"colorscale\":{\"sequential\":[[0.0,\"#0d0887\"],[0.1111111111111111,\"#46039f\"],[0.2222222222222222,\"#7201a8\"],[0.3333333333333333,\"#9c179e\"],[0.4444444444444444,\"#bd3786\"],[0.5555555555555556,\"#d8576b\"],[0.6666666666666666,\"#ed7953\"],[0.7777777777777778,\"#fb9f3a\"],[0.8888888888888888,\"#fdca26\"],[1.0,\"#f0f921\"]],\"sequentialminus\":[[0.0,\"#0d0887\"],[0.1111111111111111,\"#46039f\"],[0.2222222222222222,\"#7201a8\"],[0.3333333333333333,\"#9c179e\"],[0.4444444444444444,\"#bd3786\"],[0.5555555555555556,\"#d8576b\"],[0.6666666666666666,\"#ed7953\"],[0.7777777777777778,\"#fb9f3a\"],[0.8888888888888888,\"#fdca26\"],[1.0,\"#f0f921\"]],\"diverging\":[[0,\"#8e0152\"],[0.1,\"#c51b7d\"],[0.2,\"#de77ae\"],[0.3,\"#f1b6da\"],[0.4,\"#fde0ef\"],[0.5,\"#f7f7f7\"],[0.6,\"#e6f5d0\"],[0.7,\"#b8e186\"],[0.8,\"#7fbc41\"],[0.9,\"#4d9221\"],[1,\"#276419\"]]},\"xaxis\":{\"gridcolor\":\"white\",\"linecolor\":\"white\",\"ticks\":\"\",\"title\":{\"standoff\":15},\"zerolinecolor\":\"white\",\"automargin\":true,\"zerolinewidth\":2},\"yaxis\":{\"gridcolor\":\"white\",\"linecolor\":\"white\",\"ticks\":\"\",\"title\":{\"standoff\":15},\"zerolinecolor\":\"white\",\"automargin\":true,\"zerolinewidth\":2},\"scene\":{\"xaxis\":{\"backgroundcolor\":\"#E5ECF6\",\"gridcolor\":\"white\",\"linecolor\":\"white\",\"showbackground\":true,\"ticks\":\"\",\"zerolinecolor\":\"white\",\"gridwidth\":2},\"yaxis\":{\"backgroundcolor\":\"#E5ECF6\",\"gridcolor\":\"white\",\"linecolor\":\"white\",\"showbackground\":true,\"ticks\":\"\",\"zerolinecolor\":\"white\",\"gridwidth\":2},\"zaxis\":{\"backgroundcolor\":\"#E5ECF6\",\"gridcolor\":\"white\",\"linecolor\":\"white\",\"showbackground\":true,\"ticks\":\"\",\"zerolinecolor\":\"white\",\"gridwidth\":2}},\"shapedefaults\":{\"line\":{\"color\":\"#2a3f5f\"}},\"annotationdefaults\":{\"arrowcolor\":\"#2a3f5f\",\"arrowhead\":0,\"arrowwidth\":1},\"geo\":{\"bgcolor\":\"white\",\"landcolor\":\"#E5ECF6\",\"subunitcolor\":\"white\",\"showland\":true,\"showlakes\":true,\"lakecolor\":\"white\"},\"title\":{\"x\":0.05},\"mapbox\":{\"style\":\"light\"}}},\"xaxis\":{\"anchor\":\"y\",\"domain\":[0.0,1.0],\"scaleanchor\":\"y\",\"constrain\":\"domain\"},\"yaxis\":{\"anchor\":\"x\",\"domain\":[0.0,1.0],\"autorange\":\"reversed\",\"constrain\":\"domain\"},\"coloraxis\":{\"colorbar\":{\"title\":{\"text\":\"Similarity Score\"}},\"colorscale\":[[0.0,\"rgb(247,252,240)\"],[0.125,\"rgb(224,243,219)\"],[0.25,\"rgb(204,235,197)\"],[0.375,\"rgb(168,221,181)\"],[0.5,\"rgb(123,204,196)\"],[0.625,\"rgb(78,179,211)\"],[0.75,\"rgb(43,140,190)\"],[0.875,\"rgb(8,104,172)\"],[1.0,\"rgb(8,64,129)\"]]},\"margin\":{\"t\":60},\"title\":{\"font\":{\"size\":22,\"color\":\"Black\"},\"text\":\"\\u003cb\\u003eSimilarity Matrix\\u003c\\u002fb\\u003e\",\"y\":0.95,\"x\":0.55,\"xanchor\":\"center\",\"yanchor\":\"top\"},\"hoverlabel\":{\"font\":{\"size\":16,\"family\":\"Rockwell\"},\"bgcolor\":\"white\"},\"width\":1200,\"height\":1000,\"showlegend\":true,\"legend\":{\"title\":{\"text\":\"Trend\"}}},                        {\"responsive\": true}                    ).then(function(){\n",
              "                            \n",
              "var gd = document.getElementById('b6f54c3e-40b4-4c50-b23a-269c59294e82');\n",
              "var x = new MutationObserver(function (mutations, observer) {{\n",
              "        var display = window.getComputedStyle(gd).display;\n",
              "        if (!display || display === 'none') {{\n",
              "            console.log([gd, 'removed!']);\n",
              "            Plotly.purge(gd);\n",
              "            observer.disconnect();\n",
              "        }}\n",
              "}});\n",
              "\n",
              "// Listen for the removal of the full notebook cells\n",
              "var notebookContainer = gd.closest('#notebook-container');\n",
              "if (notebookContainer) {{\n",
              "    x.observe(notebookContainer, {childList: true});\n",
              "}}\n",
              "\n",
              "// Listen for the clearing of the current output cell\n",
              "var outputEl = gd.closest('.output');\n",
              "if (outputEl) {{\n",
              "    x.observe(outputEl, {childList: true});\n",
              "}}\n",
              "\n",
              "                        })                };                            </script>        </div>\n",
              "</body>\n",
              "</html>"
            ]
          },
          "metadata": {}
        }
      ]
    },
    {
      "cell_type": "markdown",
      "source": [
        "Se añaden las columnas con la categorización por tópico (número y etiqueta custom) y las palabras clave de cada uno en el dataset"
      ],
      "metadata": {
        "id": "LKpjuNP20g9Z"
      }
    },
    {
      "cell_type": "code",
      "source": [
        "data['Tópico']=loaded_model.get_document_info(data['body'])['Topic']\n",
        "data['Categoría']=loaded_model.get_document_info(data['body'])['CustomName']\n",
        "data['Palabras clave']=loaded_model.get_document_info(data['body'])['Top_n_words']"
      ],
      "metadata": {
        "id": "4SFhgiGTqsuq"
      },
      "execution_count": null,
      "outputs": []
    },
    {
      "cell_type": "markdown",
      "source": [
        "Se descartan los tweets que tratan sobre el tópico -1 (outlier), y los que acumulan tweets \"basura\" (1,17,20)"
      ],
      "metadata": {
        "id": "NjpjvYfF0kC_"
      }
    },
    {
      "cell_type": "code",
      "source": [
        "data.drop(data[(data['Tópico'] ==-1)].index, inplace=True)\n",
        "data.drop(data[(data['Tópico'] ==1)].index, inplace=True)\n",
        "data.drop(data[(data['Tópico'] ==17)].index, inplace=True)\n",
        "data.drop(data[(data['Tópico'] ==20)].index, inplace=True)"
      ],
      "metadata": {
        "id": "ejue728mrN38"
      },
      "execution_count": null,
      "outputs": []
    },
    {
      "cell_type": "markdown",
      "source": [
        "Se guarda el dataset con las nuevas columnas"
      ],
      "metadata": {
        "id": "Qiv0pp4x01Jb"
      }
    },
    {
      "cell_type": "code",
      "source": [
        "#se guarda para el analisis de sentimientos\n",
        "data.to_csv('/content/drive/MyDrive/TFG ADE/RestoData22Topics.csv')"
      ],
      "metadata": {
        "id": "3t-rJ0lmzJuT"
      },
      "execution_count": null,
      "outputs": []
    },
    {
      "cell_type": "markdown",
      "source": [
        "Se obtiene la variación frecuencia por tópico a lo largo de la franja temporal de estudio"
      ],
      "metadata": {
        "id": "47kaZQ5y07Ko"
      }
    },
    {
      "cell_type": "code",
      "source": [
        "data['post_date_only']= pd.to_datetime(data['post_date']).dt.date\n",
        "\n",
        "topics_over_time = loaded_model.topics_over_time(data['body'].astype(str), data['post_date_only'])"
      ],
      "metadata": {
        "id": "h5QP0O_NWTXZ"
      },
      "execution_count": null,
      "outputs": []
    },
    {
      "cell_type": "code",
      "source": [
        "loaded_model.visualize_topics_over_time(topics_over_time, topics=[0, 2, 3, 4,5], custom_labels=True, width=1500)"
      ],
      "metadata": {
        "colab": {
          "base_uri": "https://localhost:8080/",
          "height": 487
        },
        "id": "7uNYznHPkg3e",
        "outputId": "be036409-d188-4d4a-e840-b3cfe08f0743"
      },
      "execution_count": null,
      "outputs": [
        {
          "output_type": "display_data",
          "data": {
            "text/html": [
              "<html>\n",
              "<head><meta charset=\"utf-8\" /></head>\n",
              "<body>\n",
              "    <div>            <script src=\"https://cdnjs.cloudflare.com/ajax/libs/mathjax/2.7.5/MathJax.js?config=TeX-AMS-MML_SVG\"></script><script type=\"text/javascript\">if (window.MathJax && window.MathJax.Hub && window.MathJax.Hub.Config) {window.MathJax.Hub.Config({SVG: {font: \"STIX-Web\"}});}</script>                <script type=\"text/javascript\">window.PlotlyConfig = {MathJaxConfig: 'local'};</script>\n",
              "        <script charset=\"utf-8\" src=\"https://cdn.plot.ly/plotly-2.24.1.min.js\"></script>                <div id=\"203a3723-0075-4e55-8487-909dba5b3c2c\" class=\"plotly-graph-div\" style=\"height:450px; width:1500px;\"></div>            <script type=\"text/javascript\">                                    window.PLOTLYENV=window.PLOTLYENV || {};                                    if (document.getElementById(\"203a3723-0075-4e55-8487-909dba5b3c2c\")) {                    Plotly.newPlot(                        \"203a3723-0075-4e55-8487-909dba5b3c2c\",                        [{\"hoverinfo\":\"text\",\"hovertext\":[\"\\u003cb\\u003eTopic 0\\u003c\\u002fb\\u003e\\u003cbr\\u003eWords: trade, antitrust, stock, nflx, preparing antitrust\",\"\\u003cb\\u003eTopic 0\\u003c\\u002fb\\u003e\\u003cbr\\u003eWords: trade, stock, nflx, free, nvda\",\"\\u003cb\\u003eTopic 0\\u003c\\u002fb\\u003e\\u003cbr\\u003eWords: stock, trade, nflx, antitrust, market\",\"\\u003cb\\u003eTopic 0\\u003c\\u002fb\\u003e\\u003cbr\\u003eWords: nflx, stock, trade, nvda, tech\",\"\\u003cb\\u003eTopic 0\\u003c\\u002fb\\u003e\\u003cbr\\u003eWords: nflx, stock, trade, nvda, market\",\"\\u003cb\\u003eTopic 0\\u003c\\u002fb\\u003e\\u003cbr\\u003eWords: nflx, trade, stock, looker, nvda\",\"\\u003cb\\u003eTopic 0\\u003c\\u002fb\\u003e\\u003cbr\\u003eWords: nflx, trade, stock, nvda, baba\",\"\\u003cb\\u003eTopic 0\\u003c\\u002fb\\u003e\\u003cbr\\u003eWords: trade, stock, nflx, free, nvda\",\"\\u003cb\\u003eTopic 0\\u003c\\u002fb\\u003e\\u003cbr\\u003eWords: trade, stock, nflx, nvda, option\",\"\\u003cb\\u003eTopic 0\\u003c\\u002fb\\u003e\\u003cbr\\u003eWords: stock, trade, nflx, nvda, option\",\"\\u003cb\\u003eTopic 0\\u003c\\u002fb\\u003e\\u003cbr\\u003eWords: stock, nflx, trade, nvda, baba\",\"\\u003cb\\u003eTopic 0\\u003c\\u002fb\\u003e\\u003cbr\\u003eWords: trade, nflx, nvda, stock, baba\",\"\\u003cb\\u003eTopic 0\\u003c\\u002fb\\u003e\\u003cbr\\u003eWords: nflx, stock, trade, nvda, bynd\",\"\\u003cb\\u003eTopic 0\\u003c\\u002fb\\u003e\\u003cbr\\u003eWords: trade, nflx, nvda, stock, baba\",\"\\u003cb\\u003eTopic 0\\u003c\\u002fb\\u003e\\u003cbr\\u003eWords: trade, nflx, nvda, free, option\",\"\\u003cb\\u003eTopic 0\\u003c\\u002fb\\u003e\\u003cbr\\u003eWords: trade, stock, nvda, free, nflx\",\"\\u003cb\\u003eTopic 0\\u003c\\u002fb\\u003e\\u003cbr\\u003eWords: trade, nflx, stock, nvda, baba\",\"\\u003cb\\u003eTopic 0\\u003c\\u002fb\\u003e\\u003cbr\\u003eWords: nflx, stock, trade, nvda, bynd\",\"\\u003cb\\u003eTopic 0\\u003c\\u002fb\\u003e\\u003cbr\\u003eWords: nflx, trade, nvda, stock, baba\",\"\\u003cb\\u003eTopic 0\\u003c\\u002fb\\u003e\\u003cbr\\u003eWords: trade, nflx, stock, nvda, baba\",\"\\u003cb\\u003eTopic 0\\u003c\\u002fb\\u003e\\u003cbr\\u003eWords: trade, nflx, stock, nvda, option\",\"\\u003cb\\u003eTopic 0\\u003c\\u002fb\\u003e\\u003cbr\\u003eWords: trade, stock, nflx, nvda, free\",\"\\u003cb\\u003eTopic 0\\u003c\\u002fb\\u003e\\u003cbr\\u003eWords: trade, nvda, stock, nflx, free\",\"\\u003cb\\u003eTopic 0\\u003c\\u002fb\\u003e\\u003cbr\\u003eWords: trade, stock, nflx, nvda, baba\",\"\\u003cb\\u003eTopic 0\\u003c\\u002fb\\u003e\\u003cbr\\u003eWords: trade, nflx, stock, nvda, baba\",\"\\u003cb\\u003eTopic 0\\u003c\\u002fb\\u003e\\u003cbr\\u003eWords: trade, nflx, nvda, stock, baba\",\"\\u003cb\\u003eTopic 0\\u003c\\u002fb\\u003e\\u003cbr\\u003eWords: nflx, nvda, trade, stock, baba\",\"\\u003cb\\u003eTopic 0\\u003c\\u002fb\\u003e\\u003cbr\\u003eWords: nflx, nvda, stock, trade, baba\",\"\\u003cb\\u003eTopic 0\\u003c\\u002fb\\u003e\\u003cbr\\u003eWords: trade, nflx, stock, nvda, free\",\"\\u003cb\\u003eTopic 0\\u003c\\u002fb\\u003e\\u003cbr\\u003eWords: trade, free, nflx, stock, nvda\",\"\\u003cb\\u003eTopic 0\\u003c\\u002fb\\u003e\\u003cbr\\u003eWords: trade, nflx, nvda, stock, baba\",\"\\u003cb\\u003eTopic 0\\u003c\\u002fb\\u003e\\u003cbr\\u003eWords: trade, nflx, stock, nvda, baba\",\"\\u003cb\\u003eTopic 0\\u003c\\u002fb\\u003e\\u003cbr\\u003eWords: nflx, trade, nvda, stock, option\",\"\\u003cb\\u003eTopic 0\\u003c\\u002fb\\u003e\\u003cbr\\u003eWords: trade, stock, nflx, nvda, tech\",\"\\u003cb\\u003eTopic 0\\u003c\\u002fb\\u003e\\u003cbr\\u003eWords: trade, nflx, nvda, stock, baba\",\"\\u003cb\\u003eTopic 0\\u003c\\u002fb\\u003e\\u003cbr\\u003eWords: trade, nflx, free, nvda, stock\",\"\\u003cb\\u003eTopic 0\\u003c\\u002fb\\u003e\\u003cbr\\u003eWords: trade, nflx, nvda, stock, free\",\"\\u003cb\\u003eTopic 0\\u003c\\u002fb\\u003e\\u003cbr\\u003eWords: trade, nflx, stock, nvda, baba\",\"\\u003cb\\u003eTopic 0\\u003c\\u002fb\\u003e\\u003cbr\\u003eWords: nflx, trade, stock, nvda, baba\",\"\\u003cb\\u003eTopic 0\\u003c\\u002fb\\u003e\\u003cbr\\u003eWords: nflx, trade, stock, nvda, baba\",\"\\u003cb\\u003eTopic 0\\u003c\\u002fb\\u003e\\u003cbr\\u003eWords: trade, stock, nflx, nvda, option\",\"\\u003cb\\u003eTopic 0\\u003c\\u002fb\\u003e\\u003cbr\\u003eWords: trade, nflx, stock, nvda, baba\",\"\\u003cb\\u003eTopic 0\\u003c\\u002fb\\u003e\\u003cbr\\u003eWords: trade, nflx, free, stock, nvda\",\"\\u003cb\\u003eTopic 0\\u003c\\u002fb\\u003e\\u003cbr\\u003eWords: trade, nflx, stock, nvda, free\",\"\\u003cb\\u003eTopic 0\\u003c\\u002fb\\u003e\\u003cbr\\u003eWords: nflx, trade, nvda, stock, baba\",\"\\u003cb\\u003eTopic 0\\u003c\\u002fb\\u003e\\u003cbr\\u003eWords: trade, nflx, stock, nvda, tech\",\"\\u003cb\\u003eTopic 0\\u003c\\u002fb\\u003e\\u003cbr\\u003eWords: nflx, trade, stock, nvda, baba\",\"\\u003cb\\u003eTopic 0\\u003c\\u002fb\\u003e\\u003cbr\\u003eWords: nflx, trade, earnings, stock, market\",\"\\u003cb\\u003eTopic 0\\u003c\\u002fb\\u003e\\u003cbr\\u003eWords: trade, stock, nflx, earnings, nvda\",\"\\u003cb\\u003eTopic 0\\u003c\\u002fb\\u003e\\u003cbr\\u003eWords: trade, stock, earnings, nflx, intc\",\"\\u003cb\\u003eTopic 0\\u003c\\u002fb\\u003e\\u003cbr\\u003eWords: trade, earnings, nflx, stock, free\",\"\\u003cb\\u003eTopic 0\\u003c\\u002fb\\u003e\\u003cbr\\u003eWords: stock, trade, nflx, earnings, nvda\",\"\\u003cb\\u003eTopic 0\\u003c\\u002fb\\u003e\\u003cbr\\u003eWords: trade, nflx, stock, tech, nvda\",\"\\u003cb\\u003eTopic 0\\u003c\\u002fb\\u003e\\u003cbr\\u003eWords: trade, nflx, stock, nvda, market\",\"\\u003cb\\u003eTopic 0\\u003c\\u002fb\\u003e\\u003cbr\\u003eWords: earnings, trade, nflx, stock, intc\",\"\\u003cb\\u003eTopic 0\\u003c\\u002fb\\u003e\\u003cbr\\u003eWords: trade, stock, nflx, earnings, sbux\",\"\\u003cb\\u003eTopic 0\\u003c\\u002fb\\u003e\\u003cbr\\u003eWords: trade, nflx, stock, alphabet, free\",\"\\u003cb\\u003eTopic 0\\u003c\\u002fb\\u003e\\u003cbr\\u003eWords: trade, stock, nflx, free, nvda\",\"\\u003cb\\u003eTopic 0\\u003c\\u002fb\\u003e\\u003cbr\\u003eWords: trade, nflx, stock, nvda, bynd\",\"\\u003cb\\u003eTopic 0\\u003c\\u002fb\\u003e\\u003cbr\\u003eWords: nflx, trade, stock, nvda, bynd\",\"\\u003cb\\u003eTopic 0\\u003c\\u002fb\\u003e\\u003cbr\\u003eWords: trade, nflx, stock, nvda, baba\",\"\\u003cb\\u003eTopic 0\\u003c\\u002fb\\u003e\\u003cbr\\u003eWords: trade, nflx, stock, nvda, baba\",\"\\u003cb\\u003eTopic 0\\u003c\\u002fb\\u003e\\u003cbr\\u003eWords: trade, nflx, stock, nvda, bynd\",\"\\u003cb\\u003eTopic 0\\u003c\\u002fb\\u003e\\u003cbr\\u003eWords: trade, nflx, free, nvda, stock\",\"\\u003cb\\u003eTopic 0\\u003c\\u002fb\\u003e\\u003cbr\\u003eWords: trade, free, stock, nvda, nflx\",\"\\u003cb\\u003eTopic 0\\u003c\\u002fb\\u003e\\u003cbr\\u003eWords: trade, stock, nflx, nvda, baba\",\"\\u003cb\\u003eTopic 0\\u003c\\u002fb\\u003e\\u003cbr\\u003eWords: stock, nflx, trade, nvda, baba\",\"\\u003cb\\u003eTopic 0\\u003c\\u002fb\\u003e\\u003cbr\\u003eWords: nflx, trade, stock, nvda, baba\",\"\\u003cb\\u003eTopic 0\\u003c\\u002fb\\u003e\\u003cbr\\u003eWords: trade, nflx, stock, nvda, baba\",\"\\u003cb\\u003eTopic 0\\u003c\\u002fb\\u003e\\u003cbr\\u003eWords: trade, nflx, nvda, stock, free\",\"\\u003cb\\u003eTopic 0\\u003c\\u002fb\\u003e\\u003cbr\\u003eWords: trade, free, nvda, nflx, stock\",\"\\u003cb\\u003eTopic 0\\u003c\\u002fb\\u003e\\u003cbr\\u003eWords: trade, nflx, stock, nvda, baba\",\"\\u003cb\\u003eTopic 0\\u003c\\u002fb\\u003e\\u003cbr\\u003eWords: trade, nflx, stock, nvda, baba\",\"\\u003cb\\u003eTopic 0\\u003c\\u002fb\\u003e\\u003cbr\\u003eWords: trade, nflx, stock, nvda, baba\",\"\\u003cb\\u003eTopic 0\\u003c\\u002fb\\u003e\\u003cbr\\u003eWords: nflx, stock, trade, baba, nvda\",\"\\u003cb\\u003eTopic 0\\u003c\\u002fb\\u003e\\u003cbr\\u003eWords: stock, nflx, trade, nvda, baba\",\"\\u003cb\\u003eTopic 0\\u003c\\u002fb\\u003e\\u003cbr\\u003eWords: nflx, trade, nvda, stock, baba\",\"\\u003cb\\u003eTopic 0\\u003c\\u002fb\\u003e\\u003cbr\\u003eWords: trade, nflx, nvda, free, stock\",\"\\u003cb\\u003eTopic 0\\u003c\\u002fb\\u003e\\u003cbr\\u003eWords: trade, nflx, nvda, stock, free\",\"\\u003cb\\u003eTopic 0\\u003c\\u002fb\\u003e\\u003cbr\\u003eWords: nvda, stock, nflx, trade, baba\",\"\\u003cb\\u003eTopic 0\\u003c\\u002fb\\u003e\\u003cbr\\u003eWords: nflx, nvda, baba, stock, nvda payc qcom\",\"\\u003cb\\u003eTopic 0\\u003c\\u002fb\\u003e\\u003cbr\\u003eWords: nflx, nvda, stock, baba, trade\",\"\\u003cb\\u003eTopic 0\\u003c\\u002fb\\u003e\\u003cbr\\u003eWords: nflx, nvda, trade, baba, stock\",\"\\u003cb\\u003eTopic 0\\u003c\\u002fb\\u003e\\u003cbr\\u003eWords: nflx, nvda, trade, baba, stock\",\"\\u003cb\\u003eTopic 0\\u003c\\u002fb\\u003e\\u003cbr\\u003eWords: nvda, nflx, bidu ebay nvda, baba bidu ebay, ebay nvda\",\"\\u003cb\\u003eTopic 0\\u003c\\u002fb\\u003e\\u003cbr\\u003eWords: trade, nvda, nflx, stock, nvda nflx\",\"\\u003cb\\u003eTopic 0\\u003c\\u002fb\\u003e\\u003cbr\\u003eWords: nflx, nvda, stock, trade, baba\",\"\\u003cb\\u003eTopic 0\\u003c\\u002fb\\u003e\\u003cbr\\u003eWords: nflx, nvda, trade, stock, baba\",\"\\u003cb\\u003eTopic 0\\u003c\\u002fb\\u003e\\u003cbr\\u003eWords: nflx, nvda, stock, baba, trade\",\"\\u003cb\\u003eTopic 0\\u003c\\u002fb\\u003e\\u003cbr\\u003eWords: nflx, nvda, trade, baba, stock\",\"\\u003cb\\u003eTopic 0\\u003c\\u002fb\\u003e\\u003cbr\\u003eWords: nflx, trade, nvda, stock, baba\",\"\\u003cb\\u003eTopic 0\\u003c\\u002fb\\u003e\\u003cbr\\u003eWords: trade, nflx, nvda, baba, ebay\",\"\\u003cb\\u003eTopic 0\\u003c\\u002fb\\u003e\\u003cbr\\u003eWords: trade, nvda, nflx, free, stock\",\"\\u003cb\\u003eTopic 0\\u003c\\u002fb\\u003e\\u003cbr\\u003eWords: trade, nvda, nflx, ebay nvda nflx, bidu ebay nvda\",\"\\u003cb\\u003eTopic 0\\u003c\\u002fb\\u003e\\u003cbr\\u003eWords: nflx, nvda, trade, stock, baba\",\"\\u003cb\\u003eTopic 0\\u003c\\u002fb\\u003e\\u003cbr\\u003eWords: nflx, nvda, trade, baba, stock\",\"\\u003cb\\u003eTopic 0\\u003c\\u002fb\\u003e\\u003cbr\\u003eWords: nflx, trade, nvda, stock, baba\",\"\\u003cb\\u003eTopic 0\\u003c\\u002fb\\u003e\\u003cbr\\u003eWords: nflx, trade, nvda, baba, stock\",\"\\u003cb\\u003eTopic 0\\u003c\\u002fb\\u003e\\u003cbr\\u003eWords: bidu ebay nvda, baba bidu ebay, ebay nvda, bidu ebay, nvda\",\"\\u003cb\\u003eTopic 0\\u003c\\u002fb\\u003e\\u003cbr\\u003eWords: trade, nvda, nflx, stock, free\",\"\\u003cb\\u003eTopic 0\\u003c\\u002fb\\u003e\\u003cbr\\u003eWords: nflx, trade, stock, nvda, baba\",\"\\u003cb\\u003eTopic 0\\u003c\\u002fb\\u003e\\u003cbr\\u003eWords: nflx, trade, stock, nvda, baba\",\"\\u003cb\\u003eTopic 0\\u003c\\u002fb\\u003e\\u003cbr\\u003eWords: nflx, stock, trade, nvda, baba\",\"\\u003cb\\u003eTopic 0\\u003c\\u002fb\\u003e\\u003cbr\\u003eWords: nflx, trade, stock, nvda, baba\",\"\\u003cb\\u003eTopic 0\\u003c\\u002fb\\u003e\\u003cbr\\u003eWords: trade, nflx, stock, nvda, free\",\"\\u003cb\\u003eTopic 0\\u003c\\u002fb\\u003e\\u003cbr\\u003eWords: trade, free, nvda, nflx, stock\",\"\\u003cb\\u003eTopic 0\\u003c\\u002fb\\u003e\\u003cbr\\u003eWords: trade, nflx, nvda, free, stock\",\"\\u003cb\\u003eTopic 0\\u003c\\u002fb\\u003e\\u003cbr\\u003eWords: trade, nflx, stock, nvda, free\",\"\\u003cb\\u003eTopic 0\\u003c\\u002fb\\u003e\\u003cbr\\u003eWords: trade, nflx, stock, nvda, tech\",\"\\u003cb\\u003eTopic 0\\u003c\\u002fb\\u003e\\u003cbr\\u003eWords: trade, nflx, stock, nvda, roku\",\"\\u003cb\\u003eTopic 0\\u003c\\u002fb\\u003e\\u003cbr\\u003eWords: trade, stock, nflx, nvda, baba\",\"\\u003cb\\u003eTopic 0\\u003c\\u002fb\\u003e\\u003cbr\\u003eWords: nflx, trade, stock, nvda, roku\",\"\\u003cb\\u003eTopic 0\\u003c\\u002fb\\u003e\\u003cbr\\u003eWords: trade, free, nflx, stock, nvda\",\"\\u003cb\\u003eTopic 0\\u003c\\u002fb\\u003e\\u003cbr\\u003eWords: trade, nflx, free, nvda, stock\",\"\\u003cb\\u003eTopic 0\\u003c\\u002fb\\u003e\\u003cbr\\u003eWords: nflx, stock, trade, nvda, roku\",\"\\u003cb\\u003eTopic 0\\u003c\\u002fb\\u003e\\u003cbr\\u003eWords: nflx, stock, trade, nvda, tech\",\"\\u003cb\\u003eTopic 0\\u003c\\u002fb\\u003e\\u003cbr\\u003eWords: nflx, trade, stock, nvda, baba\",\"\\u003cb\\u003eTopic 0\\u003c\\u002fb\\u003e\\u003cbr\\u003eWords: nflx, trade, stock, nvda, baba\",\"\\u003cb\\u003eTopic 0\\u003c\\u002fb\\u003e\\u003cbr\\u003eWords: nflx, trade, stock, nvda, baba\",\"\\u003cb\\u003eTopic 0\\u003c\\u002fb\\u003e\\u003cbr\\u003eWords: trade, free, nflx, nvda, stock\",\"\\u003cb\\u003eTopic 0\\u003c\\u002fb\\u003e\\u003cbr\\u003eWords: trade, nflx, free, nvda, stock\",\"\\u003cb\\u003eTopic 0\\u003c\\u002fb\\u003e\\u003cbr\\u003eWords: nflx, trade, stock, nvda, baba\",\"\\u003cb\\u003eTopic 0\\u003c\\u002fb\\u003e\\u003cbr\\u003eWords: trade, nflx, stock, nvda, baba\",\"\\u003cb\\u003eTopic 0\\u003c\\u002fb\\u003e\\u003cbr\\u003eWords: trade, nflx, stock, nvda, baba\",\"\\u003cb\\u003eTopic 0\\u003c\\u002fb\\u003e\\u003cbr\\u003eWords: trade, nflx, nvda, stock, option\",\"\\u003cb\\u003eTopic 0\\u003c\\u002fb\\u003e\\u003cbr\\u003eWords: nflx, nvda, trade, stock, baba\",\"\\u003cb\\u003eTopic 0\\u003c\\u002fb\\u003e\\u003cbr\\u003eWords: trade, nflx, nvda, stock, option\",\"\\u003cb\\u003eTopic 0\\u003c\\u002fb\\u003e\\u003cbr\\u003eWords: trade, nflx, stock, nvda, free\",\"\\u003cb\\u003eTopic 0\\u003c\\u002fb\\u003e\\u003cbr\\u003eWords: nflx, trade, stock, nvda, baba\",\"\\u003cb\\u003eTopic 0\\u003c\\u002fb\\u003e\\u003cbr\\u003eWords: trade, nflx, nvda, stock, baba\",\"\\u003cb\\u003eTopic 0\\u003c\\u002fb\\u003e\\u003cbr\\u003eWords: nflx, stock, trade, nvda, baba\",\"\\u003cb\\u003eTopic 0\\u003c\\u002fb\\u003e\\u003cbr\\u003eWords: nflx, trade, nvda, stock, roku\",\"\\u003cb\\u003eTopic 0\\u003c\\u002fb\\u003e\\u003cbr\\u003eWords: nflx, trade, nvda, stock, baba\",\"\\u003cb\\u003eTopic 0\\u003c\\u002fb\\u003e\\u003cbr\\u003eWords: trade, stock, nvda, nflx, free\",\"\\u003cb\\u003eTopic 0\\u003c\\u002fb\\u003e\\u003cbr\\u003eWords: trade, nvda, free, stock, nflx\",\"\\u003cb\\u003eTopic 0\\u003c\\u002fb\\u003e\\u003cbr\\u003eWords: trade, nflx, nvda, stock, option\",\"\\u003cb\\u003eTopic 0\\u003c\\u002fb\\u003e\\u003cbr\\u003eWords: nflx, trade, nvda, stock, baba\",\"\\u003cb\\u003eTopic 0\\u003c\\u002fb\\u003e\\u003cbr\\u003eWords: nflx, trade, stock, nvda, baba\",\"\\u003cb\\u003eTopic 0\\u003c\\u002fb\\u003e\\u003cbr\\u003eWords: nflx, stock, trade, nvda, roku\",\"\\u003cb\\u003eTopic 0\\u003c\\u002fb\\u003e\\u003cbr\\u003eWords: nflx, stock, trade, nvda, option\",\"\\u003cb\\u003eTopic 0\\u003c\\u002fb\\u003e\\u003cbr\\u003eWords: stock, trade, nflx, earnings, nvda\",\"\\u003cb\\u003eTopic 0\\u003c\\u002fb\\u003e\\u003cbr\\u003eWords: trade, stock, nflx, nvda, free\",\"\\u003cb\\u003eTopic 0\\u003c\\u002fb\\u003e\\u003cbr\\u003eWords: stock, nflx, trade, nvda, earnings\",\"\\u003cb\\u003eTopic 0\\u003c\\u002fb\\u003e\\u003cbr\\u003eWords: nflx, trade, stock, nvda, earnings\",\"\\u003cb\\u003eTopic 0\\u003c\\u002fb\\u003e\\u003cbr\\u003eWords: earnings, stock, nflx, trade, nvda\",\"\\u003cb\\u003eTopic 0\\u003c\\u002fb\\u003e\\u003cbr\\u003eWords: earnings, trade, stock, nflx, market\",\"\\u003cb\\u003eTopic 0\\u003c\\u002fb\\u003e\\u003cbr\\u003eWords: trade, stock, nflx, earnings, nvda\",\"\\u003cb\\u003eTopic 0\\u003c\\u002fb\\u003e\\u003cbr\\u003eWords: contract, trade, jedi, pentagon, cloud\",\"\\u003cb\\u003eTopic 0\\u003c\\u002fb\\u003e\\u003cbr\\u003eWords: trade, stock, nflx, nvda, earnings\",\"\\u003cb\\u003eTopic 0\\u003c\\u002fb\\u003e\\u003cbr\\u003eWords: earnings, stock, trade, nflx, alphabet\",\"\\u003cb\\u003eTopic 0\\u003c\\u002fb\\u003e\\u003cbr\\u003eWords: stock, trade, nflx, earnings, nvda\",\"\\u003cb\\u003eTopic 0\\u003c\\u002fb\\u003e\\u003cbr\\u003eWords: nflx, stock, trade, nvda, baba\",\"\\u003cb\\u003eTopic 0\\u003c\\u002fb\\u003e\\u003cbr\\u003eWords: stock, nflx, trade, nvda, baba\",\"\\u003cb\\u003eTopic 0\\u003c\\u002fb\\u003e\\u003cbr\\u003eWords: fitbit, nflx, stock, trade, baba\",\"\\u003cb\\u003eTopic 0\\u003c\\u002fb\\u003e\\u003cbr\\u003eWords: nflx, stock, trade, nvda, market\",\"\\u003cb\\u003eTopic 0\\u003c\\u002fb\\u003e\\u003cbr\\u003eWords: stock, trade, nflx, nvda, market\",\"\\u003cb\\u003eTopic 0\\u003c\\u002fb\\u003e\\u003cbr\\u003eWords: stock, nflx, trade, nvda, baba\",\"\\u003cb\\u003eTopic 0\\u003c\\u002fb\\u003e\\u003cbr\\u003eWords: stock, nflx, trade, baba, nvda\",\"\\u003cb\\u003eTopic 0\\u003c\\u002fb\\u003e\\u003cbr\\u003eWords: nflx, stock, trade, nvda, baba\",\"\\u003cb\\u003eTopic 0\\u003c\\u002fb\\u003e\\u003cbr\\u003eWords: nflx, trade, stock, nvda, baba\",\"\\u003cb\\u003eTopic 0\\u003c\\u002fb\\u003e\\u003cbr\\u003eWords: stock, nflx, trade, nvda, baba\",\"\\u003cb\\u003eTopic 0\\u003c\\u002fb\\u003e\\u003cbr\\u003eWords: trade, nflx, nvda, stock, free\",\"\\u003cb\\u003eTopic 0\\u003c\\u002fb\\u003e\\u003cbr\\u003eWords: trade, stock, nflx, nvda, baba\",\"\\u003cb\\u003eTopic 0\\u003c\\u002fb\\u003e\\u003cbr\\u003eWords: trade, nflx, stock, baba, nvda\",\"\\u003cb\\u003eTopic 0\\u003c\\u002fb\\u003e\\u003cbr\\u003eWords: nflx, stock, trade, nvda, baba\",\"\\u003cb\\u003eTopic 0\\u003c\\u002fb\\u003e\\u003cbr\\u003eWords: nflx, stock, trade, nvda, baba\",\"\\u003cb\\u003eTopic 0\\u003c\\u002fb\\u003e\\u003cbr\\u003eWords: nflx, stock, trade, nvda, baba\",\"\\u003cb\\u003eTopic 0\\u003c\\u002fb\\u003e\\u003cbr\\u003eWords: stock, nflx, trade, nvda, baba\",\"\\u003cb\\u003eTopic 0\\u003c\\u002fb\\u003e\\u003cbr\\u003eWords: stock, trade, nflx, nvda, baba\",\"\\u003cb\\u003eTopic 0\\u003c\\u002fb\\u003e\\u003cbr\\u003eWords: stock, trade, nflx, baba, option\",\"\\u003cb\\u003eTopic 0\\u003c\\u002fb\\u003e\\u003cbr\\u003eWords: nflx, trade, stock, nvda, baba\",\"\\u003cb\\u003eTopic 0\\u003c\\u002fb\\u003e\\u003cbr\\u003eWords: stock, nflx, trade, nvda, baba\",\"\\u003cb\\u003eTopic 0\\u003c\\u002fb\\u003e\\u003cbr\\u003eWords: nflx, stock, trade, nvda, baba\",\"\\u003cb\\u003eTopic 0\\u003c\\u002fb\\u003e\\u003cbr\\u003eWords: stock, nflx, trade, nvda, baba\",\"\\u003cb\\u003eTopic 0\\u003c\\u002fb\\u003e\\u003cbr\\u003eWords: stock, nflx, trade, nvda, baba\",\"\\u003cb\\u003eTopic 0\\u003c\\u002fb\\u003e\\u003cbr\\u003eWords: trade, bestmanaged company 2019, bestmanaged company, bestmanaged, company 2019 journal\",\"\\u003cb\\u003eTopic 0\\u003c\\u002fb\\u003e\\u003cbr\\u003eWords: stock, trade, nflx, nvda, option\",\"\\u003cb\\u003eTopic 0\\u003c\\u002fb\\u003e\\u003cbr\\u003eWords: nflx, trade, stock, nvda, baba\",\"\\u003cb\\u003eTopic 0\\u003c\\u002fb\\u003e\\u003cbr\\u003eWords: nflx, trade, stock, nvda, baba\",\"\\u003cb\\u003eTopic 0\\u003c\\u002fb\\u003e\\u003cbr\\u003eWords: trade, nflx, stock, baba, nvda\",\"\\u003cb\\u003eTopic 0\\u003c\\u002fb\\u003e\\u003cbr\\u003eWords: stock, trade, nflx, nvda, baba\",\"\\u003cb\\u003eTopic 0\\u003c\\u002fb\\u003e\\u003cbr\\u003eWords: trade, stock, nflx, nvda, baba\",\"\\u003cb\\u003eTopic 0\\u003c\\u002fb\\u003e\\u003cbr\\u003eWords: trade, nflx, stock, nvda, baba\",\"\\u003cb\\u003eTopic 0\\u003c\\u002fb\\u003e\\u003cbr\\u003eWords: trade, stock, nflx, 12fb 13msft, 13msft 10aapl 16amzn\",\"\\u003cb\\u003eTopic 0\\u003c\\u002fb\\u003e\\u003cbr\\u003eWords: trade, nflx, stock, baba, nvda\",\"\\u003cb\\u003eTopic 0\\u003c\\u002fb\\u003e\\u003cbr\\u003eWords: trade, stock, nflx, alphabet, page\",\"\\u003cb\\u003eTopic 0\\u003c\\u002fb\\u003e\\u003cbr\\u003eWords: stock, trade, nflx, baba, alphabet\",\"\\u003cb\\u003eTopic 0\\u003c\\u002fb\\u003e\\u003cbr\\u003eWords: stock, trade, nflx, baba, nvda\",\"\\u003cb\\u003eTopic 0\\u003c\\u002fb\\u003e\\u003cbr\\u003eWords: trade, stock, nflx, baba, nvda\",\"\\u003cb\\u003eTopic 0\\u003c\\u002fb\\u003e\\u003cbr\\u003eWords: stock, trade, nflx, nvda, baba\",\"\\u003cb\\u003eTopic 0\\u003c\\u002fb\\u003e\\u003cbr\\u003eWords: stock, trade, nflx, blackberry, orcl\",\"\\u003cb\\u003eTopic 0\\u003c\\u002fb\\u003e\\u003cbr\\u003eWords: trade, stock, nflx, baba, alpp\",\"\\u003cb\\u003eTopic 0\\u003c\\u002fb\\u003e\\u003cbr\\u003eWords: nflx, trade, tech, stock, patent\",\"\\u003cb\\u003eTopic 0\\u003c\\u002fb\\u003e\\u003cbr\\u003eWords: nflx, trade, stock, baba, nvda\",\"\\u003cb\\u003eTopic 0\\u003c\\u002fb\\u003e\\u003cbr\\u003eWords: nflx, trade, stock, nvda, baba\",\"\\u003cb\\u003eTopic 0\\u003c\\u002fb\\u003e\\u003cbr\\u003eWords: trade, baba, nflx, stock, nvda\",\"\\u003cb\\u003eTopic 0\\u003c\\u002fb\\u003e\\u003cbr\\u003eWords: nflx, stock, nvda, trade, market\",\"\\u003cb\\u003eTopic 0\\u003c\\u002fb\\u003e\\u003cbr\\u003eWords: trade, stock, nflx, baba, nvda\",\"\\u003cb\\u003eTopic 0\\u003c\\u002fb\\u003e\\u003cbr\\u003eWords: stock, trade, nflx, baba, nvda\",\"\\u003cb\\u003eTopic 0\\u003c\\u002fb\\u003e\\u003cbr\\u003eWords: nflx, stock, trade, baba, nvda\",\"\\u003cb\\u003eTopic 0\\u003c\\u002fb\\u003e\\u003cbr\\u003eWords: nflx, stock, trade, baba, nvda\",\"\\u003cb\\u003eTopic 0\\u003c\\u002fb\\u003e\\u003cbr\\u003eWords: stock, nflx, trade, baba, nvda\",\"\\u003cb\\u003eTopic 0\\u003c\\u002fb\\u003e\\u003cbr\\u003eWords: stock, nflx, trade, nvda, baba\",\"\\u003cb\\u003eTopic 0\\u003c\\u002fb\\u003e\\u003cbr\\u003eWords: stock, nflx, trade, nvda, blackberry\",\"\\u003cb\\u003eTopic 0\\u003c\\u002fb\\u003e\\u003cbr\\u003eWords: nflx, trade, stock, blackberry, nvda\",\"\\u003cb\\u003eTopic 0\\u003c\\u002fb\\u003e\\u003cbr\\u003eWords: trade, nflx, stock, nvda, baba\",\"\\u003cb\\u003eTopic 0\\u003c\\u002fb\\u003e\\u003cbr\\u003eWords: trade, nflx, stock, nvda, baba\",\"\\u003cb\\u003eTopic 0\\u003c\\u002fb\\u003e\\u003cbr\\u003eWords: trade, stock, nflx, nvda, follows france\",\"\\u003cb\\u003eTopic 0\\u003c\\u002fb\\u003e\\u003cbr\\u003eWords: trade, stock, nflx, nvda, baba\",\"\\u003cb\\u003eTopic 0\\u003c\\u002fb\\u003e\\u003cbr\\u003eWords: trade, stock, nflx, option, nvda\",\"\\u003cb\\u003eTopic 0\\u003c\\u002fb\\u003e\\u003cbr\\u003eWords: nflx, trade, stock, baba, nvda\",\"\\u003cb\\u003eTopic 0\\u003c\\u002fb\\u003e\\u003cbr\\u003eWords: stock, trade, nflx, nvda, baba\",\"\\u003cb\\u003eTopic 0\\u003c\\u002fb\\u003e\\u003cbr\\u003eWords: share, short, nflx, brkb nvda, nvda\",\"\\u003cb\\u003eTopic 0\\u003c\\u002fb\\u003e\\u003cbr\\u003eWords: nflx, stock, trade, short, nvda\"],\"marker\":{\"color\":\"#E69F00\"},\"mode\":\"lines\",\"name\":\"Inversiones y comparativa entre empresas\",\"x\":[\"2019-06-01\",\"2019-06-02\",\"2019-06-03\",\"2019-06-04\",\"2019-06-05\",\"2019-06-06\",\"2019-06-07\",\"2019-06-08\",\"2019-06-09\",\"2019-06-10\",\"2019-06-11\",\"2019-06-12\",\"2019-06-13\",\"2019-06-14\",\"2019-06-15\",\"2019-06-16\",\"2019-06-17\",\"2019-06-18\",\"2019-06-19\",\"2019-06-20\",\"2019-06-21\",\"2019-06-22\",\"2019-06-23\",\"2019-06-24\",\"2019-06-25\",\"2019-06-26\",\"2019-06-27\",\"2019-06-28\",\"2019-06-29\",\"2019-06-30\",\"2019-07-01\",\"2019-07-02\",\"2019-07-03\",\"2019-07-04\",\"2019-07-05\",\"2019-07-06\",\"2019-07-07\",\"2019-07-08\",\"2019-07-09\",\"2019-07-10\",\"2019-07-11\",\"2019-07-12\",\"2019-07-13\",\"2019-07-14\",\"2019-07-15\",\"2019-07-16\",\"2019-07-17\",\"2019-07-18\",\"2019-07-19\",\"2019-07-20\",\"2019-07-21\",\"2019-07-22\",\"2019-07-23\",\"2019-07-24\",\"2019-07-25\",\"2019-07-26\",\"2019-07-27\",\"2019-07-28\",\"2019-07-29\",\"2019-07-30\",\"2019-07-31\",\"2019-08-01\",\"2019-08-02\",\"2019-08-03\",\"2019-08-04\",\"2019-08-05\",\"2019-08-06\",\"2019-08-07\",\"2019-08-08\",\"2019-08-09\",\"2019-08-10\",\"2019-08-11\",\"2019-08-12\",\"2019-08-13\",\"2019-08-14\",\"2019-08-15\",\"2019-08-16\",\"2019-08-17\",\"2019-08-18\",\"2019-08-19\",\"2019-08-20\",\"2019-08-21\",\"2019-08-22\",\"2019-08-23\",\"2019-08-24\",\"2019-08-25\",\"2019-08-26\",\"2019-08-27\",\"2019-08-28\",\"2019-08-29\",\"2019-08-30\",\"2019-08-31\",\"2019-09-01\",\"2019-09-02\",\"2019-09-03\",\"2019-09-04\",\"2019-09-05\",\"2019-09-06\",\"2019-09-07\",\"2019-09-08\",\"2019-09-09\",\"2019-09-10\",\"2019-09-11\",\"2019-09-12\",\"2019-09-13\",\"2019-09-14\",\"2019-09-15\",\"2019-09-16\",\"2019-09-17\",\"2019-09-18\",\"2019-09-19\",\"2019-09-20\",\"2019-09-21\",\"2019-09-22\",\"2019-09-23\",\"2019-09-24\",\"2019-09-25\",\"2019-09-26\",\"2019-09-27\",\"2019-09-28\",\"2019-09-29\",\"2019-09-30\",\"2019-10-01\",\"2019-10-02\",\"2019-10-03\",\"2019-10-04\",\"2019-10-05\",\"2019-10-06\",\"2019-10-07\",\"2019-10-08\",\"2019-10-09\",\"2019-10-10\",\"2019-10-11\",\"2019-10-12\",\"2019-10-13\",\"2019-10-14\",\"2019-10-15\",\"2019-10-16\",\"2019-10-17\",\"2019-10-18\",\"2019-10-19\",\"2019-10-20\",\"2019-10-21\",\"2019-10-22\",\"2019-10-23\",\"2019-10-24\",\"2019-10-25\",\"2019-10-26\",\"2019-10-27\",\"2019-10-28\",\"2019-10-29\",\"2019-10-30\",\"2019-10-31\",\"2019-11-01\",\"2019-11-02\",\"2019-11-03\",\"2019-11-04\",\"2019-11-05\",\"2019-11-06\",\"2019-11-07\",\"2019-11-08\",\"2019-11-09\",\"2019-11-10\",\"2019-11-11\",\"2019-11-12\",\"2019-11-13\",\"2019-11-14\",\"2019-11-15\",\"2019-11-16\",\"2019-11-17\",\"2019-11-18\",\"2019-11-19\",\"2019-11-20\",\"2019-11-21\",\"2019-11-22\",\"2019-11-23\",\"2019-11-24\",\"2019-11-25\",\"2019-11-26\",\"2019-11-27\",\"2019-11-28\",\"2019-11-29\",\"2019-11-30\",\"2019-12-01\",\"2019-12-02\",\"2019-12-03\",\"2019-12-04\",\"2019-12-05\",\"2019-12-06\",\"2019-12-07\",\"2019-12-08\",\"2019-12-09\",\"2019-12-10\",\"2019-12-11\",\"2019-12-12\",\"2019-12-13\",\"2019-12-14\",\"2019-12-15\",\"2019-12-16\",\"2019-12-17\",\"2019-12-18\",\"2019-12-19\",\"2019-12-20\",\"2019-12-21\",\"2019-12-22\",\"2019-12-23\",\"2019-12-24\",\"2019-12-25\",\"2019-12-26\",\"2019-12-27\",\"2019-12-28\",\"2019-12-29\",\"2019-12-30\",\"2019-12-31\"],\"y\":[489,351,1868,1457,1119,945,1178,419,475,1121,1192,784,894,671,247,329,929,719,547,706,822,324,353,889,1108,818,842,642,366,309,777,823,773,351,470,254,346,861,1207,1076,1271,974,403,393,546,711,887,1593,1249,331,332,865,1208,1114,2099,1891,501,359,1114,920,1009,1185,901,386,297,953,911,874,933,681,239,251,642,854,826,877,810,303,325,1083,1084,1003,922,1112,376,349,504,899,863,1043,1013,312,277,386,1175,1047,1108,989,369,311,928,918,807,963,700,270,272,680,697,907,1305,998,293,286,935,770,937,846,820,292,328,833,961,959,793,737,260,244,653,960,689,776,845,277,287,451,942,883,922,924,350,307,837,776,1610,2431,2293,774,459,2309,1325,808,658,930,259,279,756,822,608,1002,892,296,265,749,892,1056,975,1110,322,356,878,1006,910,721,702,299,283,802,896,995,353,516,218,293,965,1255,1146,895,847,345,338,826,426,809,863,787,328,268,970,1154,984,855,954,318,285,580,550,195,1709,1377,361,288,1029,904],\"type\":\"scatter\"},{\"hoverinfo\":\"text\",\"hovertext\":[\"\\u003cb\\u003eTopic 2\\u003c\\u002fb\\u003e\\u003cbr\\u003eWords: stock dailystkleadercount, leading stock dailystkleadercount, dailystkleadercount, leading stock, leading\",\"\\u003cb\\u003eTopic 2\\u003c\\u002fb\\u003e\\u003cbr\\u003eWords: stock dailystkleadercount, leading stock dailystkleadercount, dailystkleadercount, leading stock, leading\",\"\\u003cb\\u003eTopic 2\\u003c\\u002fb\\u003e\\u003cbr\\u003eWords: stock dailystkleadercount, leading stock dailystkleadercount, dailystkleadercount, leading stock, leading\",\"\\u003cb\\u003eTopic 2\\u003c\\u002fb\\u003e\\u003cbr\\u003eWords: leading, dailystkleadercount, stock dailystkleadercount, leading stock dailystkleadercount, leading stock\",\"\\u003cb\\u003eTopic 2\\u003c\\u002fb\\u003e\\u003cbr\\u003eWords: stock dailystkleadercount, leading stock dailystkleadercount, dailystkleadercount, leading stock, leading\",\"\\u003cb\\u003eTopic 2\\u003c\\u002fb\\u003e\\u003cbr\\u003eWords: stock dailystkleadercount, leading stock dailystkleadercount, dailystkleadercount, leading stock, leading\",\"\\u003cb\\u003eTopic 2\\u003c\\u002fb\\u003e\\u003cbr\\u003eWords: stock dailystkleadercount, leading stock dailystkleadercount, dailystkleadercount, leading stock, leading\",\"\\u003cb\\u003eTopic 2\\u003c\\u002fb\\u003e\\u003cbr\\u003eWords: stock dailystkleadercount, leading stock dailystkleadercount, dailystkleadercount, leading stock, leading\",\"\\u003cb\\u003eTopic 2\\u003c\\u002fb\\u003e\\u003cbr\\u003eWords: stock dailystkleadercount, leading stock dailystkleadercount, dailystkleadercount, leading stock, leading\",\"\\u003cb\\u003eTopic 2\\u003c\\u002fb\\u003e\\u003cbr\\u003eWords: leading, leading stock dailystkleadercount, stock dailystkleadercount, dailystkleadercount, leading stock\",\"\\u003cb\\u003eTopic 2\\u003c\\u002fb\\u003e\\u003cbr\\u003eWords: stock dailystkleadercount, leading stock dailystkleadercount, dailystkleadercount, leading stock, leading\",\"\\u003cb\\u003eTopic 2\\u003c\\u002fb\\u003e\\u003cbr\\u003eWords: stock dailystkleadercount, leading stock dailystkleadercount, dailystkleadercount, leading stock, leading\",\"\\u003cb\\u003eTopic 2\\u003c\\u002fb\\u003e\\u003cbr\\u003eWords: stock dailystkleadercount, leading stock dailystkleadercount, dailystkleadercount, leading stock, leading\",\"\\u003cb\\u003eTopic 2\\u003c\\u002fb\\u003e\\u003cbr\\u003eWords: stock dailystkleadercount, leading stock dailystkleadercount, dailystkleadercount, leading stock, leading\",\"\\u003cb\\u003eTopic 2\\u003c\\u002fb\\u003e\\u003cbr\\u003eWords: stock dailystkleadercount, leading stock dailystkleadercount, dailystkleadercount, leading stock, leading\",\"\\u003cb\\u003eTopic 2\\u003c\\u002fb\\u003e\\u003cbr\\u003eWords: stock dailystkleadercount, leading stock dailystkleadercount, dailystkleadercount, leading stock, leading\",\"\\u003cb\\u003eTopic 2\\u003c\\u002fb\\u003e\\u003cbr\\u003eWords: stock dailystkleadercount, leading stock dailystkleadercount, dailystkleadercount, leading stock, leading\",\"\\u003cb\\u003eTopic 2\\u003c\\u002fb\\u003e\\u003cbr\\u003eWords: stock dailystkleadercount, leading stock dailystkleadercount, dailystkleadercount, leading stock, leading\",\"\\u003cb\\u003eTopic 2\\u003c\\u002fb\\u003e\\u003cbr\\u003eWords: stock dailystkleadercount, leading stock dailystkleadercount, dailystkleadercount, leading stock, leading\",\"\\u003cb\\u003eTopic 2\\u003c\\u002fb\\u003e\\u003cbr\\u003eWords: stock dailystkleadercount, dailystkleadercount, leading stock dailystkleadercount, leading stock, leading\",\"\\u003cb\\u003eTopic 2\\u003c\\u002fb\\u003e\\u003cbr\\u003eWords: stock dailystkleadercount, leading stock dailystkleadercount, dailystkleadercount, leading stock, leading\",\"\\u003cb\\u003eTopic 2\\u003c\\u002fb\\u003e\\u003cbr\\u003eWords: stock dailystkleadercount, leading stock dailystkleadercount, dailystkleadercount, leading stock, leading\",\"\\u003cb\\u003eTopic 2\\u003c\\u002fb\\u003e\\u003cbr\\u003eWords: stock dailystkleadercount, leading stock dailystkleadercount, dailystkleadercount, leading stock, leading\",\"\\u003cb\\u003eTopic 2\\u003c\\u002fb\\u003e\\u003cbr\\u003eWords: stock dailystkleadercount, leading stock dailystkleadercount, dailystkleadercount, leading stock, leading\",\"\\u003cb\\u003eTopic 2\\u003c\\u002fb\\u003e\\u003cbr\\u003eWords: leading, leading stock dailystkleadercount, dailystkleadercount, stock dailystkleadercount, leading stock\",\"\\u003cb\\u003eTopic 2\\u003c\\u002fb\\u003e\\u003cbr\\u003eWords: stock dailystkleadercount, leading stock dailystkleadercount, dailystkleadercount, leading stock, leading\",\"\\u003cb\\u003eTopic 2\\u003c\\u002fb\\u003e\\u003cbr\\u003eWords: stock dailystkleadercount, leading stock dailystkleadercount, dailystkleadercount, leading stock, leading\",\"\\u003cb\\u003eTopic 2\\u003c\\u002fb\\u003e\\u003cbr\\u003eWords: stock dailystkleadercount, leading stock dailystkleadercount, dailystkleadercount, leading stock, leading\",\"\\u003cb\\u003eTopic 2\\u003c\\u002fb\\u003e\\u003cbr\\u003eWords: stock dailystkleadercount, leading stock dailystkleadercount, dailystkleadercount, leading stock, leading\",\"\\u003cb\\u003eTopic 2\\u003c\\u002fb\\u003e\\u003cbr\\u003eWords: stock dailystkleadercount, leading stock dailystkleadercount, dailystkleadercount, leading stock, leading\",\"\\u003cb\\u003eTopic 2\\u003c\\u002fb\\u003e\\u003cbr\\u003eWords: stock dailystkleadercount, leading stock dailystkleadercount, dailystkleadercount, leading stock, leading\",\"\\u003cb\\u003eTopic 2\\u003c\\u002fb\\u003e\\u003cbr\\u003eWords: stock dailystkleadercount, leading stock dailystkleadercount, dailystkleadercount, leading stock, leading\",\"\\u003cb\\u003eTopic 2\\u003c\\u002fb\\u003e\\u003cbr\\u003eWords: leading, stock dailystkleadercount, dailystkleadercount, leading stock dailystkleadercount, leading stock\",\"\\u003cb\\u003eTopic 2\\u003c\\u002fb\\u003e\\u003cbr\\u003eWords: stock dailystkleadercount, leading stock dailystkleadercount, dailystkleadercount, leading stock, leading\",\"\\u003cb\\u003eTopic 2\\u003c\\u002fb\\u003e\\u003cbr\\u003eWords: stock dailystkleadercount, leading stock dailystkleadercount, dailystkleadercount, leading stock, leading\",\"\\u003cb\\u003eTopic 2\\u003c\\u002fb\\u003e\\u003cbr\\u003eWords: stock dailystkleadercount, leading stock dailystkleadercount, dailystkleadercount, leading stock, leading\",\"\\u003cb\\u003eTopic 2\\u003c\\u002fb\\u003e\\u003cbr\\u003eWords: stock dailystkleadercount, leading stock dailystkleadercount, dailystkleadercount, leading stock, leading\",\"\\u003cb\\u003eTopic 2\\u003c\\u002fb\\u003e\\u003cbr\\u003eWords: leading, stock dailystkleadercount, dailystkleadercount, leading stock dailystkleadercount, leading stock\",\"\\u003cb\\u003eTopic 2\\u003c\\u002fb\\u003e\\u003cbr\\u003eWords: stock dailystkleadercount, leading stock dailystkleadercount, dailystkleadercount, leading stock, leading\",\"\\u003cb\\u003eTopic 2\\u003c\\u002fb\\u003e\\u003cbr\\u003eWords: stock dailystkleadercount, leading stock dailystkleadercount, dailystkleadercount, leading stock, leading\",\"\\u003cb\\u003eTopic 2\\u003c\\u002fb\\u003e\\u003cbr\\u003eWords: stock dailystkleadercount, leading stock dailystkleadercount, dailystkleadercount, leading stock, leading\",\"\\u003cb\\u003eTopic 2\\u003c\\u002fb\\u003e\\u003cbr\\u003eWords: stock dailystkleadercount, leading stock dailystkleadercount, dailystkleadercount, leading stock, leading\",\"\\u003cb\\u003eTopic 2\\u003c\\u002fb\\u003e\\u003cbr\\u003eWords: stock dailystkleadercount, leading stock dailystkleadercount, dailystkleadercount, leading stock, leading\",\"\\u003cb\\u003eTopic 2\\u003c\\u002fb\\u003e\\u003cbr\\u003eWords: stock dailystkleadercount, leading stock dailystkleadercount, dailystkleadercount, leading stock, leading\",\"\\u003cb\\u003eTopic 2\\u003c\\u002fb\\u003e\\u003cbr\\u003eWords: stock dailystkleadercount, leading stock dailystkleadercount, dailystkleadercount, leading stock, leading\",\"\\u003cb\\u003eTopic 2\\u003c\\u002fb\\u003e\\u003cbr\\u003eWords: stock dailystkleadercount, leading stock dailystkleadercount, dailystkleadercount, leading stock, leading\",\"\\u003cb\\u003eTopic 2\\u003c\\u002fb\\u003e\\u003cbr\\u003eWords: stock dailystkleadercount, leading stock dailystkleadercount, dailystkleadercount, leading stock, leading\",\"\\u003cb\\u003eTopic 2\\u003c\\u002fb\\u003e\\u003cbr\\u003eWords: stock dailystkleadercount, leading stock dailystkleadercount, dailystkleadercount, leading stock, leading\",\"\\u003cb\\u003eTopic 2\\u003c\\u002fb\\u003e\\u003cbr\\u003eWords: stock dailystkleadercount, leading stock dailystkleadercount, dailystkleadercount, leading stock, leading\",\"\\u003cb\\u003eTopic 2\\u003c\\u002fb\\u003e\\u003cbr\\u003eWords: stock dailystkleadercount, leading stock dailystkleadercount, dailystkleadercount, leading stock, leading\",\"\\u003cb\\u003eTopic 2\\u003c\\u002fb\\u003e\\u003cbr\\u003eWords: stock dailystkleadercount, leading stock dailystkleadercount, dailystkleadercount, leading stock, leading\",\"\\u003cb\\u003eTopic 2\\u003c\\u002fb\\u003e\\u003cbr\\u003eWords: stock dailystkleadercount, leading stock dailystkleadercount, dailystkleadercount, leading stock, leading\",\"\\u003cb\\u003eTopic 2\\u003c\\u002fb\\u003e\\u003cbr\\u003eWords: stock dailystkleadercount, leading stock dailystkleadercount, dailystkleadercount, leading stock, leading\",\"\\u003cb\\u003eTopic 2\\u003c\\u002fb\\u003e\\u003cbr\\u003eWords: stock dailystkleadercount, leading stock dailystkleadercount, dailystkleadercount, leading stock, leading\",\"\\u003cb\\u003eTopic 2\\u003c\\u002fb\\u003e\\u003cbr\\u003eWords: stock dailystkleadercount, leading stock dailystkleadercount, dailystkleadercount, leading stock, leading\",\"\\u003cb\\u003eTopic 2\\u003c\\u002fb\\u003e\\u003cbr\\u003eWords: stock dailystkleadercount, leading stock dailystkleadercount, dailystkleadercount, leading stock, leading\",\"\\u003cb\\u003eTopic 2\\u003c\\u002fb\\u003e\\u003cbr\\u003eWords: stock dailystkleadercount, leading stock dailystkleadercount, dailystkleadercount, leading stock, leading\",\"\\u003cb\\u003eTopic 2\\u003c\\u002fb\\u003e\\u003cbr\\u003eWords: stock dailystkleadercount, leading stock dailystkleadercount, dailystkleadercount, leading stock, leading\",\"\\u003cb\\u003eTopic 2\\u003c\\u002fb\\u003e\\u003cbr\\u003eWords: stock dailystkleadercount, leading stock dailystkleadercount, dailystkleadercount, leading stock, leading\",\"\\u003cb\\u003eTopic 2\\u003c\\u002fb\\u003e\\u003cbr\\u003eWords: stock dailystkleadercount, leading stock dailystkleadercount, dailystkleadercount, leading stock, leading\",\"\\u003cb\\u003eTopic 2\\u003c\\u002fb\\u003e\\u003cbr\\u003eWords: stock dailystkleadercount, leading stock dailystkleadercount, dailystkleadercount, leading stock, leading\",\"\\u003cb\\u003eTopic 2\\u003c\\u002fb\\u003e\\u003cbr\\u003eWords: stock dailystkleadercount, leading stock dailystkleadercount, dailystkleadercount, leading stock, leading\",\"\\u003cb\\u003eTopic 2\\u003c\\u002fb\\u003e\\u003cbr\\u003eWords: stock dailystkleadercount, leading stock dailystkleadercount, dailystkleadercount, leading stock, leading\",\"\\u003cb\\u003eTopic 2\\u003c\\u002fb\\u003e\\u003cbr\\u003eWords: stock dailystkleadercount, leading stock dailystkleadercount, dailystkleadercount, leading stock, leading\",\"\\u003cb\\u003eTopic 2\\u003c\\u002fb\\u003e\\u003cbr\\u003eWords: stock dailystkleadercount, leading stock dailystkleadercount, dailystkleadercount, leading stock, leading\",\"\\u003cb\\u003eTopic 2\\u003c\\u002fb\\u003e\\u003cbr\\u003eWords: stock dailystkleadercount, leading stock dailystkleadercount, dailystkleadercount, leading stock, leading\",\"\\u003cb\\u003eTopic 2\\u003c\\u002fb\\u003e\\u003cbr\\u003eWords: stock dailystkleadercount, leading stock dailystkleadercount, dailystkleadercount, leading stock, leading\",\"\\u003cb\\u003eTopic 2\\u003c\\u002fb\\u003e\\u003cbr\\u003eWords: stock dailystkleadercount, leading stock dailystkleadercount, dailystkleadercount, leading stock, leading\",\"\\u003cb\\u003eTopic 2\\u003c\\u002fb\\u003e\\u003cbr\\u003eWords: dailystkleadercount, leading stock dailystkleadercount, stock dailystkleadercount, leading, leading stock\",\"\\u003cb\\u003eTopic 2\\u003c\\u002fb\\u003e\\u003cbr\\u003eWords: stock dailystkleadercount, leading stock dailystkleadercount, dailystkleadercount, leading stock, leading\",\"\\u003cb\\u003eTopic 2\\u003c\\u002fb\\u003e\\u003cbr\\u003eWords: stock dailystkleadercount, leading stock dailystkleadercount, dailystkleadercount, leading stock, leading\",\"\\u003cb\\u003eTopic 2\\u003c\\u002fb\\u003e\\u003cbr\\u003eWords: stock dailystkleadercount, leading stock dailystkleadercount, dailystkleadercount, leading stock, leading\",\"\\u003cb\\u003eTopic 2\\u003c\\u002fb\\u003e\\u003cbr\\u003eWords: leading stock dailystkleadercount, stock dailystkleadercount, dailystkleadercount, leading stock, leading\",\"\\u003cb\\u003eTopic 2\\u003c\\u002fb\\u003e\\u003cbr\\u003eWords: stock dailystkleadercount, leading stock dailystkleadercount, dailystkleadercount, leading stock, leading\",\"\\u003cb\\u003eTopic 2\\u003c\\u002fb\\u003e\\u003cbr\\u003eWords: stock dailystkleadercount, leading stock dailystkleadercount, dailystkleadercount, leading stock, leading\",\"\\u003cb\\u003eTopic 2\\u003c\\u002fb\\u003e\\u003cbr\\u003eWords: stock dailystkleadercount, leading stock dailystkleadercount, dailystkleadercount, leading stock, leading\",\"\\u003cb\\u003eTopic 2\\u003c\\u002fb\\u003e\\u003cbr\\u003eWords: stock dailystkleadercount, leading stock dailystkleadercount, dailystkleadercount, leading stock, leading\",\"\\u003cb\\u003eTopic 2\\u003c\\u002fb\\u003e\\u003cbr\\u003eWords: stock dailystkleadercount, leading stock dailystkleadercount, dailystkleadercount, leading stock, leading\",\"\\u003cb\\u003eTopic 2\\u003c\\u002fb\\u003e\\u003cbr\\u003eWords: stock dailystkleadercount, leading stock dailystkleadercount, dailystkleadercount, leading stock, leading\",\"\\u003cb\\u003eTopic 2\\u003c\\u002fb\\u003e\\u003cbr\\u003eWords: leading stock, leading, leading stock dailystkleadercount, dailystkleadercount, stock dailystkleadercount\",\"\\u003cb\\u003eTopic 2\\u003c\\u002fb\\u003e\\u003cbr\\u003eWords: leading, dailystkleadercount, stock dailystkleadercount, leading stock dailystkleadercount, leading stock\",\"\\u003cb\\u003eTopic 2\\u003c\\u002fb\\u003e\\u003cbr\\u003eWords: stock dailystkleadercount, leading stock dailystkleadercount, dailystkleadercount, leading stock, leading\",\"\\u003cb\\u003eTopic 2\\u003c\\u002fb\\u003e\\u003cbr\\u003eWords: leading stock, leading, dailystkleadercount, leading stock dailystkleadercount, stock dailystkleadercount\",\"\\u003cb\\u003eTopic 2\\u003c\\u002fb\\u003e\\u003cbr\\u003eWords: stock dailystkleadercount, leading stock dailystkleadercount, dailystkleadercount, leading stock, leading\",\"\\u003cb\\u003eTopic 2\\u003c\\u002fb\\u003e\\u003cbr\\u003eWords: stock dailystkleadercount, leading stock dailystkleadercount, dailystkleadercount, leading stock, leading\",\"\\u003cb\\u003eTopic 2\\u003c\\u002fb\\u003e\\u003cbr\\u003eWords: stock dailystkleadercount, leading stock dailystkleadercount, dailystkleadercount, leading stock, leading\",\"\\u003cb\\u003eTopic 2\\u003c\\u002fb\\u003e\\u003cbr\\u003eWords: stock dailystkleadercount, leading stock dailystkleadercount, dailystkleadercount, leading stock, leading\",\"\\u003cb\\u003eTopic 2\\u003c\\u002fb\\u003e\\u003cbr\\u003eWords: stock dailystkleadercount, leading stock dailystkleadercount, dailystkleadercount, leading stock, leading\",\"\\u003cb\\u003eTopic 2\\u003c\\u002fb\\u003e\\u003cbr\\u003eWords: stock dailystkleadercount, leading stock dailystkleadercount, dailystkleadercount, leading stock, leading\",\"\\u003cb\\u003eTopic 2\\u003c\\u002fb\\u003e\\u003cbr\\u003eWords: stock dailystkleadercount, leading stock dailystkleadercount, dailystkleadercount, leading stock, leading\",\"\\u003cb\\u003eTopic 2\\u003c\\u002fb\\u003e\\u003cbr\\u003eWords: stock dailystkleadercount, leading stock dailystkleadercount, dailystkleadercount, leading stock, leading\",\"\\u003cb\\u003eTopic 2\\u003c\\u002fb\\u003e\\u003cbr\\u003eWords: stock dailystkleadercount, dailystkleadercount, leading stock dailystkleadercount, leading stock, leading\",\"\\u003cb\\u003eTopic 2\\u003c\\u002fb\\u003e\\u003cbr\\u003eWords: stock dailystkleadercount, leading stock dailystkleadercount, dailystkleadercount, leading stock, leading\",\"\\u003cb\\u003eTopic 2\\u003c\\u002fb\\u003e\\u003cbr\\u003eWords: stock dailystkleadercount, leading stock dailystkleadercount, dailystkleadercount, leading stock, leading\",\"\\u003cb\\u003eTopic 2\\u003c\\u002fb\\u003e\\u003cbr\\u003eWords: stock dailystkleadercount, leading stock dailystkleadercount, dailystkleadercount, leading stock, leading\",\"\\u003cb\\u003eTopic 2\\u003c\\u002fb\\u003e\\u003cbr\\u003eWords: stock dailystkleadercount, leading stock dailystkleadercount, dailystkleadercount, leading stock, leading\",\"\\u003cb\\u003eTopic 2\\u003c\\u002fb\\u003e\\u003cbr\\u003eWords: stock dailystkleadercount, leading stock dailystkleadercount, dailystkleadercount, leading stock, leading\",\"\\u003cb\\u003eTopic 2\\u003c\\u002fb\\u003e\\u003cbr\\u003eWords: stock dailystkleadercount, leading stock dailystkleadercount, dailystkleadercount, leading stock, leading\",\"\\u003cb\\u003eTopic 2\\u003c\\u002fb\\u003e\\u003cbr\\u003eWords: stock dailystkleadercount, leading stock dailystkleadercount, dailystkleadercount, leading stock, leading\",\"\\u003cb\\u003eTopic 2\\u003c\\u002fb\\u003e\\u003cbr\\u003eWords: stock dailystkleadercount, leading stock dailystkleadercount, dailystkleadercount, leading stock, leading\",\"\\u003cb\\u003eTopic 2\\u003c\\u002fb\\u003e\\u003cbr\\u003eWords: stock dailystkleadercount, leading stock dailystkleadercount, dailystkleadercount, leading stock, leading\",\"\\u003cb\\u003eTopic 2\\u003c\\u002fb\\u003e\\u003cbr\\u003eWords: leading, dailystkleadercount, leading stock dailystkleadercount, stock dailystkleadercount, leading stock\",\"\\u003cb\\u003eTopic 2\\u003c\\u002fb\\u003e\\u003cbr\\u003eWords: stock dailystkleadercount, leading stock dailystkleadercount, dailystkleadercount, leading stock, leading\",\"\\u003cb\\u003eTopic 2\\u003c\\u002fb\\u003e\\u003cbr\\u003eWords: beautiful uptrend leading, beautiful uptrend, uptrend leading, leading, beautiful\",\"\\u003cb\\u003eTopic 2\\u003c\\u002fb\\u003e\\u003cbr\\u003eWords: stock dailystkleadercount, leading stock dailystkleadercount, dailystkleadercount, leading stock, leading\",\"\\u003cb\\u003eTopic 2\\u003c\\u002fb\\u003e\\u003cbr\\u003eWords: stock dailystkleadercount, leading stock dailystkleadercount, dailystkleadercount, leading stock, leading\",\"\\u003cb\\u003eTopic 2\\u003c\\u002fb\\u003e\\u003cbr\\u003eWords: leading stock dailystkleadercount, dailystkleadercount, stock dailystkleadercount, leading stock, leading\",\"\\u003cb\\u003eTopic 2\\u003c\\u002fb\\u003e\\u003cbr\\u003eWords: stock dailystkleadercount, leading stock dailystkleadercount, dailystkleadercount, leading stock, leading\",\"\\u003cb\\u003eTopic 2\\u003c\\u002fb\\u003e\\u003cbr\\u003eWords: stock dailystkleadercount, leading stock dailystkleadercount, dailystkleadercount, leading stock, leading\",\"\\u003cb\\u003eTopic 2\\u003c\\u002fb\\u003e\\u003cbr\\u003eWords: stock dailystkleadercount, leading stock dailystkleadercount, dailystkleadercount, leading stock, leading\",\"\\u003cb\\u003eTopic 2\\u003c\\u002fb\\u003e\\u003cbr\\u003eWords: stock dailystkleadercount, leading stock dailystkleadercount, dailystkleadercount, leading stock, leading\",\"\\u003cb\\u003eTopic 2\\u003c\\u002fb\\u003e\\u003cbr\\u003eWords: leading, stock dailystkleadercount, dailystkleadercount, leading stock dailystkleadercount, leading stock\"],\"marker\":{\"color\":\"#56B4E9\"},\"mode\":\"lines\",\"name\":\"Top acciones\",\"x\":[\"2019-06-04\",\"2019-06-05\",\"2019-06-06\",\"2019-06-07\",\"2019-06-10\",\"2019-06-11\",\"2019-06-12\",\"2019-06-14\",\"2019-06-16\",\"2019-06-17\",\"2019-06-18\",\"2019-06-20\",\"2019-06-22\",\"2019-06-25\",\"2019-06-27\",\"2019-06-29\",\"2019-07-02\",\"2019-07-03\",\"2019-07-09\",\"2019-07-10\",\"2019-07-11\",\"2019-07-12\",\"2019-07-16\",\"2019-07-18\",\"2019-07-19\",\"2019-07-20\",\"2019-07-23\",\"2019-07-25\",\"2019-07-26\",\"2019-07-29\",\"2019-07-31\",\"2019-08-02\",\"2019-08-06\",\"2019-08-08\",\"2019-08-13\",\"2019-08-16\",\"2019-08-17\",\"2019-08-19\",\"2019-08-20\",\"2019-08-21\",\"2019-08-22\",\"2019-08-23\",\"2019-08-26\",\"2019-08-28\",\"2019-08-29\",\"2019-08-30\",\"2019-09-02\",\"2019-09-04\",\"2019-09-05\",\"2019-09-06\",\"2019-09-10\",\"2019-09-12\",\"2019-09-13\",\"2019-09-16\",\"2019-09-18\",\"2019-09-20\",\"2019-09-23\",\"2019-09-24\",\"2019-09-26\",\"2019-09-27\",\"2019-09-30\",\"2019-10-01\",\"2019-10-03\",\"2019-10-04\",\"2019-10-08\",\"2019-10-10\",\"2019-10-11\",\"2019-10-15\",\"2019-10-16\",\"2019-10-17\",\"2019-10-18\",\"2019-10-21\",\"2019-10-22\",\"2019-10-23\",\"2019-10-24\",\"2019-10-25\",\"2019-10-28\",\"2019-10-29\",\"2019-10-31\",\"2019-11-01\",\"2019-11-04\",\"2019-11-05\",\"2019-11-06\",\"2019-11-07\",\"2019-11-12\",\"2019-11-14\",\"2019-11-18\",\"2019-11-19\",\"2019-11-20\",\"2019-11-21\",\"2019-11-23\",\"2019-11-25\",\"2019-11-26\",\"2019-11-28\",\"2019-11-29\",\"2019-12-02\",\"2019-12-03\",\"2019-12-05\",\"2019-12-07\",\"2019-12-09\",\"2019-12-10\",\"2019-12-12\",\"2019-12-13\",\"2019-12-16\",\"2019-12-17\",\"2019-12-18\",\"2019-12-23\",\"2019-12-25\",\"2019-12-26\",\"2019-12-27\",\"2019-12-30\",\"2019-12-31\"],\"y\":[3,2,1,2,2,1,1,2,2,2,2,1,2,3,2,2,2,4,1,3,2,4,3,4,1,2,2,1,2,2,4,2,3,3,2,2,2,1,4,1,1,1,2,2,2,3,2,2,3,2,3,2,2,1,1,2,1,1,1,1,1,2,1,2,3,2,2,4,2,2,1,2,3,1,1,1,1,2,2,5,3,2,2,1,2,1,1,1,1,1,1,2,1,1,1,1,2,3,2,2,1,2,2,1,3,2,3,1,1,2,1,2],\"type\":\"scatter\"},{\"hoverinfo\":\"text\",\"hovertext\":[\"\\u003cb\\u003eTopic 3\\u003c\\u002fb\\u003e\\u003cbr\\u003eWords: maxpain chart, option maxpain chart, chart free option, maxpain chart free, option maxpain\",\"\\u003cb\\u003eTopic 3\\u003c\\u002fb\\u003e\\u003cbr\\u003eWords: maxpain chart, option maxpain chart, chart free option, maxpain chart free, option maxpain\",\"\\u003cb\\u003eTopic 3\\u003c\\u002fb\\u003e\\u003cbr\\u003eWords: maxpain chart, option maxpain chart, chart free option, maxpain chart free, option maxpain\",\"\\u003cb\\u003eTopic 3\\u003c\\u002fb\\u003e\\u003cbr\\u003eWords: maxpain chart, option maxpain chart, chart free option, maxpain chart free, option maxpain\",\"\\u003cb\\u003eTopic 3\\u003c\\u002fb\\u003e\\u003cbr\\u003eWords: maxpain chart, option maxpain chart, chart free option, maxpain chart free, option maxpain\",\"\\u003cb\\u003eTopic 3\\u003c\\u002fb\\u003e\\u003cbr\\u003eWords: maxpain chart, option maxpain chart, chart free option, maxpain chart free, option maxpain\",\"\\u003cb\\u003eTopic 3\\u003c\\u002fb\\u003e\\u003cbr\\u003eWords: maxpain chart, option maxpain chart, chart free option, maxpain chart free, option maxpain\",\"\\u003cb\\u003eTopic 3\\u003c\\u002fb\\u003e\\u003cbr\\u003eWords: maxpain chart, option maxpain chart, chart free option, maxpain chart free, option maxpain\",\"\\u003cb\\u003eTopic 3\\u003c\\u002fb\\u003e\\u003cbr\\u003eWords: maxpain chart, option maxpain chart, chart free option, maxpain chart free, option maxpain\",\"\\u003cb\\u003eTopic 3\\u003c\\u002fb\\u003e\\u003cbr\\u003eWords: maxpain chart, option maxpain chart, chart free option, maxpain chart free, option maxpain\",\"\\u003cb\\u003eTopic 3\\u003c\\u002fb\\u003e\\u003cbr\\u003eWords: maxpain chart, option maxpain chart, chart free option, maxpain chart free, option maxpain\",\"\\u003cb\\u003eTopic 3\\u003c\\u002fb\\u003e\\u003cbr\\u003eWords: maxpain chart, option maxpain chart, chart free option, maxpain chart free, option maxpain\",\"\\u003cb\\u003eTopic 3\\u003c\\u002fb\\u003e\\u003cbr\\u003eWords: maxpain chart, option maxpain chart, chart free option, maxpain chart free, option maxpain\",\"\\u003cb\\u003eTopic 3\\u003c\\u002fb\\u003e\\u003cbr\\u003eWords: maxpain chart, option maxpain chart, chart free option, maxpain chart free, option maxpain\",\"\\u003cb\\u003eTopic 3\\u003c\\u002fb\\u003e\\u003cbr\\u003eWords: maxpain chart, option maxpain chart, chart free option, maxpain chart free, option maxpain\",\"\\u003cb\\u003eTopic 3\\u003c\\u002fb\\u003e\\u003cbr\\u003eWords: maxpain chart, option maxpain chart, chart free option, maxpain chart free, option maxpain\",\"\\u003cb\\u003eTopic 3\\u003c\\u002fb\\u003e\\u003cbr\\u003eWords: maxpain chart, option maxpain chart, chart free option, maxpain chart free, option maxpain\",\"\\u003cb\\u003eTopic 3\\u003c\\u002fb\\u003e\\u003cbr\\u003eWords: maxpain chart, option maxpain chart, chart free option, maxpain chart free, option maxpain\",\"\\u003cb\\u003eTopic 3\\u003c\\u002fb\\u003e\\u003cbr\\u003eWords: maxpain chart, option maxpain chart, chart free option, maxpain chart free, option maxpain\",\"\\u003cb\\u003eTopic 3\\u003c\\u002fb\\u003e\\u003cbr\\u003eWords: maxpain chart, option maxpain chart, chart free option, maxpain chart free, option maxpain\",\"\\u003cb\\u003eTopic 3\\u003c\\u002fb\\u003e\\u003cbr\\u003eWords: maxpain chart, option maxpain chart, chart free option, maxpain chart free, option maxpain\",\"\\u003cb\\u003eTopic 3\\u003c\\u002fb\\u003e\\u003cbr\\u003eWords: maxpain chart, option maxpain chart, chart free option, maxpain chart free, option maxpain\",\"\\u003cb\\u003eTopic 3\\u003c\\u002fb\\u003e\\u003cbr\\u003eWords: maxpain chart, option maxpain chart, chart free option, maxpain chart free, option maxpain\",\"\\u003cb\\u003eTopic 3\\u003c\\u002fb\\u003e\\u003cbr\\u003eWords: maxpain chart, option maxpain chart, chart free option, maxpain chart free, option maxpain\",\"\\u003cb\\u003eTopic 3\\u003c\\u002fb\\u003e\\u003cbr\\u003eWords: maxpain chart, option maxpain chart, chart free option, maxpain chart free, option maxpain\",\"\\u003cb\\u003eTopic 3\\u003c\\u002fb\\u003e\\u003cbr\\u003eWords: maxpain chart, option maxpain chart, chart free option, maxpain chart free, option maxpain\",\"\\u003cb\\u003eTopic 3\\u003c\\u002fb\\u003e\\u003cbr\\u003eWords: maxpain chart, option maxpain chart, chart free option, maxpain chart free, option maxpain\",\"\\u003cb\\u003eTopic 3\\u003c\\u002fb\\u003e\\u003cbr\\u003eWords: maxpain chart, option maxpain chart, chart free option, maxpain chart free, option maxpain\",\"\\u003cb\\u003eTopic 3\\u003c\\u002fb\\u003e\\u003cbr\\u003eWords: maxpain chart, option maxpain chart, chart free option, maxpain chart free, option maxpain\",\"\\u003cb\\u003eTopic 3\\u003c\\u002fb\\u003e\\u003cbr\\u003eWords: maxpain chart, option maxpain chart, chart free option, maxpain chart free, option maxpain\",\"\\u003cb\\u003eTopic 3\\u003c\\u002fb\\u003e\\u003cbr\\u003eWords: maxpain chart, option maxpain chart, chart free option, maxpain chart free, option maxpain\",\"\\u003cb\\u003eTopic 3\\u003c\\u002fb\\u003e\\u003cbr\\u003eWords: maxpain chart, option maxpain chart, chart free option, maxpain chart free, option maxpain\",\"\\u003cb\\u003eTopic 3\\u003c\\u002fb\\u003e\\u003cbr\\u003eWords: maxpain chart, option maxpain chart, chart free option, maxpain chart free, option maxpain\",\"\\u003cb\\u003eTopic 3\\u003c\\u002fb\\u003e\\u003cbr\\u003eWords: maxpain chart, option maxpain chart, chart free option, maxpain chart free, option maxpain\",\"\\u003cb\\u003eTopic 3\\u003c\\u002fb\\u003e\\u003cbr\\u003eWords: maxpain chart, option maxpain chart, chart free option, maxpain chart free, option maxpain\",\"\\u003cb\\u003eTopic 3\\u003c\\u002fb\\u003e\\u003cbr\\u003eWords: maxpain chart, option maxpain chart, chart free option, maxpain chart free, option maxpain\",\"\\u003cb\\u003eTopic 3\\u003c\\u002fb\\u003e\\u003cbr\\u003eWords: maxpain chart, option maxpain chart, chart free option, maxpain chart free, option maxpain\",\"\\u003cb\\u003eTopic 3\\u003c\\u002fb\\u003e\\u003cbr\\u003eWords: maxpain chart, option maxpain chart, chart free option, maxpain chart free, option maxpain\",\"\\u003cb\\u003eTopic 3\\u003c\\u002fb\\u003e\\u003cbr\\u003eWords: maxpain chart, option maxpain chart, chart free option, maxpain chart free, option maxpain\",\"\\u003cb\\u003eTopic 3\\u003c\\u002fb\\u003e\\u003cbr\\u003eWords: maxpain chart, option maxpain chart, chart free option, maxpain chart free, option maxpain\",\"\\u003cb\\u003eTopic 3\\u003c\\u002fb\\u003e\\u003cbr\\u003eWords: maxpain chart, option maxpain chart, chart free option, maxpain chart free, option maxpain\",\"\\u003cb\\u003eTopic 3\\u003c\\u002fb\\u003e\\u003cbr\\u003eWords: maxpain chart, option maxpain chart, chart free option, maxpain chart free, option maxpain\",\"\\u003cb\\u003eTopic 3\\u003c\\u002fb\\u003e\\u003cbr\\u003eWords: maxpain chart, option maxpain chart, chart free option, maxpain chart free, option maxpain\",\"\\u003cb\\u003eTopic 3\\u003c\\u002fb\\u003e\\u003cbr\\u003eWords: maxpain chart, option maxpain chart, chart free option, maxpain chart free, option maxpain\",\"\\u003cb\\u003eTopic 3\\u003c\\u002fb\\u003e\\u003cbr\\u003eWords: maxpain chart, option maxpain chart, chart free option, maxpain chart free, option maxpain\",\"\\u003cb\\u003eTopic 3\\u003c\\u002fb\\u003e\\u003cbr\\u003eWords: maxpain chart, option maxpain chart, chart free option, maxpain chart free, option maxpain\",\"\\u003cb\\u003eTopic 3\\u003c\\u002fb\\u003e\\u003cbr\\u003eWords: maxpain chart, option maxpain chart, chart free option, maxpain chart free, option maxpain\",\"\\u003cb\\u003eTopic 3\\u003c\\u002fb\\u003e\\u003cbr\\u003eWords: maxpain chart, option maxpain chart, chart free option, maxpain chart free, option maxpain\",\"\\u003cb\\u003eTopic 3\\u003c\\u002fb\\u003e\\u003cbr\\u003eWords: maxpain chart, option maxpain chart, chart free option, maxpain chart free, option maxpain\",\"\\u003cb\\u003eTopic 3\\u003c\\u002fb\\u003e\\u003cbr\\u003eWords: maxpain chart, option maxpain chart, chart free option, maxpain chart free, option maxpain\",\"\\u003cb\\u003eTopic 3\\u003c\\u002fb\\u003e\\u003cbr\\u003eWords: maxpain chart, option maxpain chart, chart free option, maxpain chart free, option maxpain\",\"\\u003cb\\u003eTopic 3\\u003c\\u002fb\\u003e\\u003cbr\\u003eWords: maxpain chart, option maxpain chart, chart free option, maxpain chart free, option maxpain\",\"\\u003cb\\u003eTopic 3\\u003c\\u002fb\\u003e\\u003cbr\\u003eWords: maxpain chart, option maxpain chart, chart free option, maxpain chart free, option maxpain\",\"\\u003cb\\u003eTopic 3\\u003c\\u002fb\\u003e\\u003cbr\\u003eWords: maxpain chart, option maxpain chart, chart free option, maxpain chart free, option maxpain\",\"\\u003cb\\u003eTopic 3\\u003c\\u002fb\\u003e\\u003cbr\\u003eWords: maxpain chart, option maxpain chart, chart free option, maxpain chart free, option maxpain\",\"\\u003cb\\u003eTopic 3\\u003c\\u002fb\\u003e\\u003cbr\\u003eWords: maxpain chart, option maxpain chart, chart free option, maxpain chart free, option maxpain\",\"\\u003cb\\u003eTopic 3\\u003c\\u002fb\\u003e\\u003cbr\\u003eWords: maxpain chart, option maxpain chart, chart free option, maxpain chart free, option maxpain\",\"\\u003cb\\u003eTopic 3\\u003c\\u002fb\\u003e\\u003cbr\\u003eWords: maxpain chart, option maxpain chart, chart free option, maxpain chart free, option maxpain\",\"\\u003cb\\u003eTopic 3\\u003c\\u002fb\\u003e\\u003cbr\\u003eWords: maxpain chart, option maxpain chart, chart free option, maxpain chart free, option maxpain\",\"\\u003cb\\u003eTopic 3\\u003c\\u002fb\\u003e\\u003cbr\\u003eWords: maxpain chart, option maxpain chart, chart free option, maxpain chart free, option maxpain\",\"\\u003cb\\u003eTopic 3\\u003c\\u002fb\\u003e\\u003cbr\\u003eWords: maxpain chart, option maxpain chart, chart free option, maxpain chart free, option maxpain\",\"\\u003cb\\u003eTopic 3\\u003c\\u002fb\\u003e\\u003cbr\\u003eWords: maxpain chart, option maxpain chart, chart free option, maxpain chart free, option maxpain\",\"\\u003cb\\u003eTopic 3\\u003c\\u002fb\\u003e\\u003cbr\\u003eWords: maxpain chart, option maxpain chart, chart free option, maxpain chart free, option maxpain\",\"\\u003cb\\u003eTopic 3\\u003c\\u002fb\\u003e\\u003cbr\\u003eWords: maxpain chart, option maxpain chart, chart free option, maxpain chart free, option maxpain\",\"\\u003cb\\u003eTopic 3\\u003c\\u002fb\\u003e\\u003cbr\\u003eWords: maxpain chart, option maxpain chart, chart free option, maxpain chart free, option maxpain\",\"\\u003cb\\u003eTopic 3\\u003c\\u002fb\\u003e\\u003cbr\\u003eWords: maxpain chart, option maxpain chart, chart free option, maxpain chart free, option maxpain\",\"\\u003cb\\u003eTopic 3\\u003c\\u002fb\\u003e\\u003cbr\\u003eWords: maxpain chart, option maxpain chart, chart free option, maxpain chart free, option maxpain\",\"\\u003cb\\u003eTopic 3\\u003c\\u002fb\\u003e\\u003cbr\\u003eWords: maxpain chart, option maxpain chart, chart free option, maxpain chart free, option maxpain\",\"\\u003cb\\u003eTopic 3\\u003c\\u002fb\\u003e\\u003cbr\\u003eWords: maxpain chart, option maxpain chart, chart free option, maxpain chart free, option maxpain\",\"\\u003cb\\u003eTopic 3\\u003c\\u002fb\\u003e\\u003cbr\\u003eWords: maxpain chart, option maxpain chart, chart free option, maxpain chart free, option maxpain\",\"\\u003cb\\u003eTopic 3\\u003c\\u002fb\\u003e\\u003cbr\\u003eWords: maxpain chart, option maxpain chart, chart free option, maxpain chart free, option maxpain\",\"\\u003cb\\u003eTopic 3\\u003c\\u002fb\\u003e\\u003cbr\\u003eWords: maxpain chart, option maxpain chart, chart free option, maxpain chart free, option maxpain\",\"\\u003cb\\u003eTopic 3\\u003c\\u002fb\\u003e\\u003cbr\\u003eWords: maxpain chart, option maxpain chart, chart free option, maxpain chart free, option maxpain\",\"\\u003cb\\u003eTopic 3\\u003c\\u002fb\\u003e\\u003cbr\\u003eWords: maxpain chart, option maxpain chart, chart free option, maxpain chart free, option maxpain\",\"\\u003cb\\u003eTopic 3\\u003c\\u002fb\\u003e\\u003cbr\\u003eWords: maxpain chart, option maxpain chart, chart free option, maxpain chart free, option maxpain\",\"\\u003cb\\u003eTopic 3\\u003c\\u002fb\\u003e\\u003cbr\\u003eWords: maxpain chart, option maxpain chart, chart free option, maxpain chart free, option maxpain\",\"\\u003cb\\u003eTopic 3\\u003c\\u002fb\\u003e\\u003cbr\\u003eWords: maxpain chart, option maxpain chart, chart free option, maxpain chart free, option maxpain\",\"\\u003cb\\u003eTopic 3\\u003c\\u002fb\\u003e\\u003cbr\\u003eWords: maxpain chart, option maxpain chart, chart free option, maxpain chart free, option maxpain\",\"\\u003cb\\u003eTopic 3\\u003c\\u002fb\\u003e\\u003cbr\\u003eWords: maxpain chart, option maxpain chart, chart free option, maxpain chart free, option maxpain\",\"\\u003cb\\u003eTopic 3\\u003c\\u002fb\\u003e\\u003cbr\\u003eWords: maxpain chart, option maxpain chart, chart free option, maxpain chart free, option maxpain\",\"\\u003cb\\u003eTopic 3\\u003c\\u002fb\\u003e\\u003cbr\\u003eWords: maxpain chart, option maxpain chart, chart free option, maxpain chart free, option maxpain\",\"\\u003cb\\u003eTopic 3\\u003c\\u002fb\\u003e\\u003cbr\\u003eWords: maxpain chart, option maxpain chart, chart free option, maxpain chart free, option maxpain\",\"\\u003cb\\u003eTopic 3\\u003c\\u002fb\\u003e\\u003cbr\\u003eWords: maxpain chart, option maxpain chart, chart free option, maxpain chart free, option maxpain\",\"\\u003cb\\u003eTopic 3\\u003c\\u002fb\\u003e\\u003cbr\\u003eWords: maxpain chart, option maxpain chart, chart free option, maxpain chart free, option maxpain\",\"\\u003cb\\u003eTopic 3\\u003c\\u002fb\\u003e\\u003cbr\\u003eWords: maxpain chart, option maxpain chart, chart free option, maxpain chart free, option maxpain\",\"\\u003cb\\u003eTopic 3\\u003c\\u002fb\\u003e\\u003cbr\\u003eWords: maxpain chart, option maxpain chart, chart free option, maxpain chart free, option maxpain\",\"\\u003cb\\u003eTopic 3\\u003c\\u002fb\\u003e\\u003cbr\\u003eWords: maxpain chart, option maxpain chart, chart free option, maxpain chart free, option maxpain\",\"\\u003cb\\u003eTopic 3\\u003c\\u002fb\\u003e\\u003cbr\\u003eWords: maxpain chart, option maxpain chart, chart free option, maxpain chart free, option maxpain\",\"\\u003cb\\u003eTopic 3\\u003c\\u002fb\\u003e\\u003cbr\\u003eWords: maxpain chart, option maxpain chart, chart free option, maxpain chart free, option maxpain\",\"\\u003cb\\u003eTopic 3\\u003c\\u002fb\\u003e\\u003cbr\\u003eWords: maxpain chart, option maxpain chart, chart free option, maxpain chart free, option maxpain\",\"\\u003cb\\u003eTopic 3\\u003c\\u002fb\\u003e\\u003cbr\\u003eWords: maxpain chart, option maxpain chart, chart free option, maxpain chart free, option maxpain\",\"\\u003cb\\u003eTopic 3\\u003c\\u002fb\\u003e\\u003cbr\\u003eWords: maxpain chart, option maxpain chart, chart free option, maxpain chart free, option maxpain\",\"\\u003cb\\u003eTopic 3\\u003c\\u002fb\\u003e\\u003cbr\\u003eWords: maxpain chart, option maxpain chart, chart free option, maxpain chart free, option maxpain\",\"\\u003cb\\u003eTopic 3\\u003c\\u002fb\\u003e\\u003cbr\\u003eWords: maxpain chart, option maxpain chart, chart free option, maxpain chart free, option maxpain\",\"\\u003cb\\u003eTopic 3\\u003c\\u002fb\\u003e\\u003cbr\\u003eWords: maxpain chart, option maxpain chart, chart free option, maxpain chart free, option maxpain\",\"\\u003cb\\u003eTopic 3\\u003c\\u002fb\\u003e\\u003cbr\\u003eWords: maxpain chart, option maxpain chart, chart free option, maxpain chart free, option maxpain\",\"\\u003cb\\u003eTopic 3\\u003c\\u002fb\\u003e\\u003cbr\\u003eWords: maxpain chart, option maxpain chart, chart free option, maxpain chart free, option maxpain\",\"\\u003cb\\u003eTopic 3\\u003c\\u002fb\\u003e\\u003cbr\\u003eWords: maxpain chart, option maxpain chart, chart free option, maxpain chart free, option maxpain\",\"\\u003cb\\u003eTopic 3\\u003c\\u002fb\\u003e\\u003cbr\\u003eWords: maxpain chart, option maxpain chart, chart free option, maxpain chart free, option maxpain\",\"\\u003cb\\u003eTopic 3\\u003c\\u002fb\\u003e\\u003cbr\\u003eWords: maxpain chart, option maxpain chart, chart free option, maxpain chart free, option maxpain\",\"\\u003cb\\u003eTopic 3\\u003c\\u002fb\\u003e\\u003cbr\\u003eWords: maxpain chart, option maxpain chart, chart free option, maxpain chart free, option maxpain\",\"\\u003cb\\u003eTopic 3\\u003c\\u002fb\\u003e\\u003cbr\\u003eWords: looking chart optionblock, chart optionblock fidelity, chart optionblock, optionblock fidelity, looking chart\",\"\\u003cb\\u003eTopic 3\\u003c\\u002fb\\u003e\\u003cbr\\u003eWords: maxpain chart, option maxpain chart, chart free option, maxpain chart free, option maxpain\",\"\\u003cb\\u003eTopic 3\\u003c\\u002fb\\u003e\\u003cbr\\u003eWords: maxpain chart, option maxpain chart, chart free option, maxpain chart free, option maxpain\",\"\\u003cb\\u003eTopic 3\\u003c\\u002fb\\u003e\\u003cbr\\u003eWords: maxpain chart, option maxpain chart, chart free option, maxpain chart free, option maxpain\",\"\\u003cb\\u003eTopic 3\\u003c\\u002fb\\u003e\\u003cbr\\u003eWords: maxpain chart, option maxpain chart, chart free option, maxpain chart free, option maxpain\",\"\\u003cb\\u003eTopic 3\\u003c\\u002fb\\u003e\\u003cbr\\u003eWords: maxpain chart, option maxpain chart, chart free option, maxpain chart free, option maxpain\",\"\\u003cb\\u003eTopic 3\\u003c\\u002fb\\u003e\\u003cbr\\u003eWords: maxpain chart, option maxpain chart, chart free option, maxpain chart free, option maxpain\",\"\\u003cb\\u003eTopic 3\\u003c\\u002fb\\u003e\\u003cbr\\u003eWords: maxpain chart, option maxpain chart, chart free option, maxpain chart free, option maxpain\",\"\\u003cb\\u003eTopic 3\\u003c\\u002fb\\u003e\\u003cbr\\u003eWords: maxpain chart, option maxpain chart, chart free option, maxpain chart free, option maxpain\",\"\\u003cb\\u003eTopic 3\\u003c\\u002fb\\u003e\\u003cbr\\u003eWords: maxpain chart, option maxpain chart, chart free option, maxpain chart free, option maxpain\",\"\\u003cb\\u003eTopic 3\\u003c\\u002fb\\u003e\\u003cbr\\u003eWords: maxpain chart, option maxpain chart, chart free option, maxpain chart free, option maxpain\",\"\\u003cb\\u003eTopic 3\\u003c\\u002fb\\u003e\\u003cbr\\u003eWords: maxpain chart, option maxpain chart, chart free option, maxpain chart free, option maxpain\",\"\\u003cb\\u003eTopic 3\\u003c\\u002fb\\u003e\\u003cbr\\u003eWords: maxpain chart, option maxpain chart, chart free option, maxpain chart free, option maxpain\",\"\\u003cb\\u003eTopic 3\\u003c\\u002fb\\u003e\\u003cbr\\u003eWords: maxpain chart, option maxpain chart, chart free option, maxpain chart free, option maxpain\",\"\\u003cb\\u003eTopic 3\\u003c\\u002fb\\u003e\\u003cbr\\u003eWords: maxpain chart, option maxpain chart, chart free option, maxpain chart free, option maxpain\",\"\\u003cb\\u003eTopic 3\\u003c\\u002fb\\u003e\\u003cbr\\u003eWords: maxpain chart, option maxpain chart, chart free option, maxpain chart free, option maxpain\",\"\\u003cb\\u003eTopic 3\\u003c\\u002fb\\u003e\\u003cbr\\u003eWords: maxpain chart, option maxpain chart, chart free option, maxpain chart free, option maxpain\",\"\\u003cb\\u003eTopic 3\\u003c\\u002fb\\u003e\\u003cbr\\u003eWords: maxpain chart, option maxpain chart, chart free option, maxpain chart free, option maxpain\",\"\\u003cb\\u003eTopic 3\\u003c\\u002fb\\u003e\\u003cbr\\u003eWords: maxpain chart, option maxpain chart, chart free option, maxpain chart free, option maxpain\",\"\\u003cb\\u003eTopic 3\\u003c\\u002fb\\u003e\\u003cbr\\u003eWords: maxpain chart, option maxpain chart, chart free option, maxpain chart free, option maxpain\",\"\\u003cb\\u003eTopic 3\\u003c\\u002fb\\u003e\\u003cbr\\u003eWords: maxpain chart, option maxpain chart, chart free option, maxpain chart free, option maxpain\",\"\\u003cb\\u003eTopic 3\\u003c\\u002fb\\u003e\\u003cbr\\u003eWords: maxpain chart, option maxpain chart, chart free option, maxpain chart free, option maxpain\",\"\\u003cb\\u003eTopic 3\\u003c\\u002fb\\u003e\\u003cbr\\u003eWords: maxpain chart, option maxpain chart, chart free option, maxpain chart free, option maxpain\",\"\\u003cb\\u003eTopic 3\\u003c\\u002fb\\u003e\\u003cbr\\u003eWords: maxpain chart, option maxpain chart, chart free option, maxpain chart free, option maxpain\"],\"marker\":{\"color\":\"#009E73\"},\"mode\":\"lines\",\"name\":\"Opciones y maxpain\",\"x\":[\"2019-06-01\",\"2019-06-03\",\"2019-06-04\",\"2019-06-06\",\"2019-06-07\",\"2019-06-08\",\"2019-06-09\",\"2019-06-10\",\"2019-06-11\",\"2019-06-12\",\"2019-06-13\",\"2019-06-14\",\"2019-06-15\",\"2019-06-17\",\"2019-06-18\",\"2019-06-19\",\"2019-06-20\",\"2019-06-21\",\"2019-06-22\",\"2019-06-24\",\"2019-06-25\",\"2019-06-26\",\"2019-06-28\",\"2019-06-29\",\"2019-07-01\",\"2019-07-02\",\"2019-07-05\",\"2019-07-06\",\"2019-07-08\",\"2019-07-09\",\"2019-07-10\",\"2019-07-11\",\"2019-07-12\",\"2019-07-13\",\"2019-07-16\",\"2019-07-17\",\"2019-07-18\",\"2019-07-19\",\"2019-07-20\",\"2019-07-22\",\"2019-07-23\",\"2019-07-24\",\"2019-07-25\",\"2019-07-26\",\"2019-07-27\",\"2019-07-29\",\"2019-07-30\",\"2019-07-31\",\"2019-08-01\",\"2019-08-02\",\"2019-08-03\",\"2019-08-05\",\"2019-08-06\",\"2019-08-07\",\"2019-08-08\",\"2019-08-09\",\"2019-08-10\",\"2019-08-12\",\"2019-08-13\",\"2019-08-14\",\"2019-08-15\",\"2019-08-16\",\"2019-08-17\",\"2019-08-19\",\"2019-08-20\",\"2019-08-21\",\"2019-08-22\",\"2019-08-23\",\"2019-08-24\",\"2019-08-26\",\"2019-08-27\",\"2019-08-28\",\"2019-08-29\",\"2019-08-30\",\"2019-08-31\",\"2019-09-03\",\"2019-09-07\",\"2019-09-09\",\"2019-09-10\",\"2019-09-11\",\"2019-09-12\",\"2019-09-13\",\"2019-09-14\",\"2019-09-17\",\"2019-09-20\",\"2019-09-21\",\"2019-09-23\",\"2019-09-24\",\"2019-09-27\",\"2019-09-30\",\"2019-10-01\",\"2019-10-02\",\"2019-10-03\",\"2019-10-04\",\"2019-10-05\",\"2019-10-07\",\"2019-10-08\",\"2019-10-10\",\"2019-10-11\",\"2019-10-12\",\"2019-10-15\",\"2019-10-21\",\"2019-11-02\",\"2019-11-06\",\"2019-11-07\",\"2019-11-08\",\"2019-11-09\",\"2019-11-11\",\"2019-11-12\",\"2019-11-13\",\"2019-11-17\",\"2019-11-18\",\"2019-11-21\",\"2019-11-22\",\"2019-11-23\",\"2019-12-03\",\"2019-12-04\",\"2019-12-05\",\"2019-12-06\",\"2019-12-07\",\"2019-12-20\",\"2019-12-21\",\"2019-12-23\",\"2019-12-24\",\"2019-12-26\"],\"y\":[2,5,1,2,2,1,1,1,2,2,1,1,1,1,1,2,1,2,1,1,2,1,2,1,1,1,3,1,2,1,3,3,2,1,2,3,3,1,1,2,2,1,5,1,1,2,1,2,2,1,1,1,1,1,1,1,1,1,1,1,1,1,1,2,1,1,1,2,1,1,1,1,1,1,2,2,1,3,1,3,1,1,1,1,4,1,1,2,4,2,1,3,2,3,1,1,3,3,4,1,3,1,1,1,1,1,1,1,1,2,1,1,2,1,1,5,1,1,2,1,3,1,1,2,5],\"type\":\"scatter\"},{\"hoverinfo\":\"text\",\"hovertext\":[\"\\u003cb\\u003eTopic 4\\u003c\\u002fb\\u003e\\u003cbr\\u003eWords: fund mean, want short crosshairs, selling pain, selling pain coming, short leg\",\"\\u003cb\\u003eTopic 4\\u003c\\u002fb\\u003e\\u003cbr\\u003eWords: involved trump, stepping attempt move, spycoup promoting china, schmidt stepping, schmidt stepping attempt\",\"\\u003cb\\u003eTopic 4\\u003c\\u002fb\\u003e\\u003cbr\\u003eWords: scalp, twtrrevshark see, market scalping good, scalping good time, scalping good\",\"\\u003cb\\u003eTopic 4\\u003c\\u002fb\\u003e\\u003cbr\\u003eWords: crosshairs, government bigtech crosshairs, crosshairs themotleyfool, bigtech crosshairs, crosshairs themotleyfool stock\",\"\\u003cb\\u003eTopic 4\\u003c\\u002fb\\u003e\\u003cbr\\u003eWords: scalp, quick, sfix couldnt hold, line quick scalpthen, every covered\",\"\\u003cb\\u003eTopic 4\\u003c\\u002fb\\u003e\\u003cbr\\u003eWords: scalp, 1800p, 190p, 289c profitclosed 1800p, 1800p 765aapl 190p\",\"\\u003cb\\u003eTopic 4\\u003c\\u002fb\\u003e\\u003cbr\\u003eWords: scalp, scalp play, profit, crosshairs, excellent profit\",\"\\u003cb\\u003eTopic 4\\u003c\\u002fb\\u003e\\u003cbr\\u003eWords: scalp, profit scalp much, another weekly scalp, morning profit scalp, tape early morning\",\"\\u003cb\\u003eTopic 4\\u003c\\u002fb\\u003e\\u003cbr\\u003eWords: scalp, area, nice profit, trade level, 1850\",\"\\u003cb\\u003eTopic 4\\u003c\\u002fb\\u003e\\u003cbr\\u003eWords: scalp, retest succeed, theinformation crosshairs regulator, guidance share online, conveniently provided\",\"\\u003cb\\u003eTopic 4\\u003c\\u002fb\\u003e\\u003cbr\\u003eWords: scalp, business eye, crosshairs competition, restaurant supply business, goodamazon announced restaurant\",\"\\u003cb\\u003eTopic 4\\u003c\\u002fb\\u003e\\u003cbr\\u003eWords: scalp, nice profit early, profit early morning, profit early, nice profit\",\"\\u003cb\\u003eTopic 4\\u003c\\u002fb\\u003e\\u003cbr\\u003eWords: scalp, overnight, hold anything overnight, scalp hard quick, scalp near close\",\"\\u003cb\\u003eTopic 4\\u003c\\u002fb\\u003e\\u003cbr\\u003eWords: giant politician crosshairs, politician crosshairs, technology giant politician, giant politician, crosshairs\",\"\\u003cb\\u003eTopic 4\\u003c\\u002fb\\u003e\\u003cbr\\u003eWords: scalp 1980c, 1980c, scalp, quick scalp 1980c, small scalp 1980c\",\"\\u003cb\\u003eTopic 4\\u003c\\u002fb\\u003e\\u003cbr\\u003eWords: scalp, exactly needed took, vwap jumped, low retested, profit stop work\",\"\\u003cb\\u003eTopic 4\\u003c\\u002fb\\u003e\\u003cbr\\u003eWords: scalp, call play small, 1900p tomorrow, scalp inout, 1900p tomorrow looking\",\"\\u003cb\\u003eTopic 4\\u003c\\u002fb\\u003e\\u003cbr\\u003eWords: done cash settle, small profit done, scalp play small, profit done cash, done cash\",\"\\u003cb\\u003eTopic 4\\u003c\\u002fb\\u003e\\u003cbr\\u003eWords: scalp, scalp nice, scalp nice profit, nice profit, magnet\",\"\\u003cb\\u003eTopic 4\\u003c\\u002fb\\u003e\\u003cbr\\u003eWords: alright wish, happy close position, position scalp, position scalp nvda, scalp nvda nice\",\"\\u003cb\\u003eTopic 4\\u003c\\u002fb\\u003e\\u003cbr\\u003eWords: scalp morning swing, nicely nvda scalp, morning swing, nvda scalp, nvda scalp morning\",\"\\u003cb\\u003eTopic 4\\u003c\\u002fb\\u003e\\u003cbr\\u003eWords: scalp, daynvda, plan executed correctly, wash looking scalp, correctly kept couple\",\"\\u003cb\\u003eTopic 4\\u003c\\u002fb\\u003e\\u003cbr\\u003eWords: scalp, quick, position quick profit, overnight nice upgrade, rampuptrade took\",\"\\u003cb\\u003eTopic 4\\u003c\\u002fb\\u003e\\u003cbr\\u003eWords: scalp, inout, crosshairs, play decent profit, stop scalp anything\",\"\\u003cb\\u003eTopic 4\\u003c\\u002fb\\u003e\\u003cbr\\u003eWords: cash taking rest, scalp inout nice, nice profit cash, scalp inout, inout nice profit\",\"\\u003cb\\u003eTopic 4\\u003c\\u002fb\\u003e\\u003cbr\\u003eWords: crosshairs, congress put, congress put tech, tech crosshairs, put tech crosshairs\",\"\\u003cb\\u003eTopic 4\\u003c\\u002fb\\u003e\\u003cbr\\u003eWords: made decline, half scalp nice, half scalp, nice profit made, profit made decline\",\"\\u003cb\\u003eTopic 4\\u003c\\u002fb\\u003e\\u003cbr\\u003eWords: scalp, 407pm, quick scalp hour, quickly 407pm, commission wedge\",\"\\u003cb\\u003eTopic 4\\u003c\\u002fb\\u003e\\u003cbr\\u003eWords: scalp small profit, inout scalp small, scalp small, inout scalp, small profit\",\"\\u003cb\\u003eTopic 4\\u003c\\u002fb\\u003e\\u003cbr\\u003eWords: scalping tomorrow name, there option, rich ticker scalping, rich ticker, there option rich\",\"\\u003cb\\u003eTopic 4\\u003c\\u002fb\\u003e\\u003cbr\\u003eWords: option scalp, scalp, option, crosshairs, profit\",\"\\u003cb\\u003eTopic 4\\u003c\\u002fb\\u003e\\u003cbr\\u003eWords: tomorrow, morning leave, scalped market healthy, tomorrow overnight, morning leave tomorrow\",\"\\u003cb\\u003eTopic 4\\u003c\\u002fb\\u003e\\u003cbr\\u003eWords: scalp, 1935googl, supportfb short 202nflx, long 323327, long 1935googl watch\",\"\\u003cb\\u003eTopic 4\\u003c\\u002fb\\u003e\\u003cbr\\u003eWords: missed short scalp, 1924 forgot, scalp 1924 forgot, scalp 1924, 1924 forgot alert\",\"\\u003cb\\u003eTopic 4\\u003c\\u002fb\\u003e\\u003cbr\\u003eWords: scalp, level 3016 login, today action scalping, 3016 login live, live update market\",\"\\u003cb\\u003eTopic 4\\u003c\\u002fb\\u003e\\u003cbr\\u003eWords: scalp, play next track, account tough, bynd last day, help bring account\",\"\\u003cb\\u003eTopic 4\\u003c\\u002fb\\u003e\\u003cbr\\u003eWords: scalped week, scalped week call, week call gain, week call, call gain\",\"\\u003cb\\u003eTopic 4\\u003c\\u002fb\\u003e\\u003cbr\\u003eWords: scalp, volume anywhere managed, cant find volume, morning cant find, find volume\",\"\\u003cb\\u003eTopic 4\\u003c\\u002fb\\u003e\\u003cbr\\u003eWords: scalp congrats, paid scalp congrats, congrats caught move, congrats caught, setup mentioned\",\"\\u003cb\\u003eTopic 4\\u003c\\u002fb\\u003e\\u003cbr\\u003eWords: scalp, sold intraday, downtrend sold, another scalping, breaking downtrend sold\",\"\\u003cb\\u003eTopic 4\\u003c\\u002fb\\u003e\\u003cbr\\u003eWords: scalp, stick follow, nothing special enjoy, 1199for scalp market, scalp market move\",\"\\u003cb\\u003eTopic 4\\u003c\\u002fb\\u003e\\u003cbr\\u003eWords: paid scalp higher, scalp higher, scalp higher thanks, paid scalp, higher thanks\",\"\\u003cb\\u003eTopic 4\\u003c\\u002fb\\u003e\\u003cbr\\u003eWords: scalp, bounce scalp money, scalp money, playing call clearly, nice entry bounce\",\"\\u003cb\\u003eTopic 4\\u003c\\u002fb\\u003e\\u003cbr\\u003eWords: chedda, making chedda, happy guy, happy guy making, guy making chedda\",\"\\u003cb\\u003eTopic 4\\u003c\\u002fb\\u003e\\u003cbr\\u003eWords: scalp, squeezing call, momentum squeezing call, constrict downward, hair cusp breaking\",\"\\u003cb\\u003eTopic 4\\u003c\\u002fb\\u003e\\u003cbr\\u003eWords: scalp, truthgreat, worry guyshe, telling truthgreat, scalp 5mins\",\"\\u003cb\\u003eTopic 4\\u003c\\u002fb\\u003e\\u003cbr\\u003eWords: scalp, done took, tuned noise, easy tuned noise, noise small steady\",\"\\u003cb\\u003eTopic 4\\u003c\\u002fb\\u003e\\u003cbr\\u003eWords: possibly, scalp, risk 3pts possibly, risk 3pts, 3pts possibly\",\"\\u003cb\\u003eTopic 4\\u003c\\u002fb\\u003e\\u003cbr\\u003eWords: mnst surprisingly, passive page, surprisingly passive, surprisingly passive page, page noecommerce\",\"\\u003cb\\u003eTopic 4\\u003c\\u002fb\\u003e\\u003cbr\\u003eWords: scalp, 25cents scalp, repeated time short, short swing scalp, scalp holding\",\"\\u003cb\\u003eTopic 4\\u003c\\u002fb\\u003e\\u003cbr\\u003eWords: scalp, huge excellent, much huge, consisted put multiple, roku scalp\",\"\\u003cb\\u003eTopic 4\\u003c\\u002fb\\u003e\\u003cbr\\u003eWords: scalp trade, scalp, 100didn send, small scalp trade, scalp trade profitpl\",\"\\u003cb\\u003eTopic 4\\u003c\\u002fb\\u003e\\u003cbr\\u003eWords: scalp, watch longshort trade, came decent scalp, longshort trade long, longshort trade\",\"\\u003cb\\u003eTopic 4\\u003c\\u002fb\\u003e\\u003cbr\\u003eWords: small scalp, scalp, small, crosshairs, profit\",\"\\u003cb\\u003eTopic 4\\u003c\\u002fb\\u003e\\u003cbr\\u003eWords: digital giant crosshairs, giant crosshairs, digital giant, crosshairs, digital\",\"\\u003cb\\u003eTopic 4\\u003c\\u002fb\\u003e\\u003cbr\\u003eWords: scalp, youuuu scalp little, close putting want, put year, putting want\",\"\\u003cb\\u003eTopic 4\\u003c\\u002fb\\u003e\\u003cbr\\u003eWords: scalp, march towards, holding scalp, 1179 area, holding scalp play\",\"\\u003cb\\u003eTopic 4\\u003c\\u002fb\\u003e\\u003cbr\\u003eWords: scalp, low deutsche upgrade, deutsche upgrade, nice scalp bounce, scalp bounce low\",\"\\u003cb\\u003eTopic 4\\u003c\\u002fb\\u003e\\u003cbr\\u003eWords: premiumadsupported content, privacy crosshairs regulator, personalized infothats amazon, working using, sign weaknessesbut data\",\"\\u003cb\\u003eTopic 4\\u003c\\u002fb\\u003e\\u003cbr\\u003eWords: scalped gave, scalped gave done, gave done, scalped, gave\",\"\\u003cb\\u003eTopic 4\\u003c\\u002fb\\u003e\\u003cbr\\u003eWords: scalp, awesome roku, swing current swingdis, execution nflx 275wmt, awesome roku butterfly\",\"\\u003cb\\u003eTopic 4\\u003c\\u002fb\\u003e\\u003cbr\\u003eWords: 174153 target, scalp negated 1744, scalp negated, 174153, target scalp negated\",\"\\u003cb\\u003eTopic 4\\u003c\\u002fb\\u003e\\u003cbr\\u003eWords: scalp, thatboring, boring name lately, lately traded, name lately traded\",\"\\u003cb\\u003eTopic 4\\u003c\\u002fb\\u003e\\u003cbr\\u003eWords: scalp locked, soon appears habit, quick scalp locked, appears habit, soon appears\",\"\\u003cb\\u003eTopic 4\\u003c\\u002fb\\u003e\\u003cbr\\u003eWords: scalp, 1780 rejection, scalp 1780 rejection, 1780 rejection 20sma, another small scalp\",\"\\u003cb\\u003eTopic 4\\u003c\\u002fb\\u003e\\u003cbr\\u003eWords: scalp, fast dont greedy, waiting flush occur, option quick trade, 17525ps\",\"\\u003cb\\u003eTopic 4\\u003c\\u002fb\\u003e\\u003cbr\\u003eWords: strength put play, relative strength put, strength put, loaded call relative, done loaded\",\"\\u003cb\\u003eTopic 4\\u003c\\u002fb\\u003e\\u003cbr\\u003eWords: scalp, tradenice congrats, call scalp short, minpl, tradetw daytrade alert\",\"\\u003cb\\u003eTopic 4\\u003c\\u002fb\\u003e\\u003cbr\\u003eWords: scalp, crosshairs, crosshairs leave, antitrust crosshairs leave, outsized exposure legal\",\"\\u003cb\\u003eTopic 4\\u003c\\u002fb\\u003e\\u003cbr\\u003eWords: single live tomorrow, live stream every, winner scalp, winner scalp live, every single live\",\"\\u003cb\\u003eTopic 4\\u003c\\u002fb\\u003e\\u003cbr\\u003eWords: scalp, scheme took short, short scalp gtfo, next scheme, near 1260 rest\",\"\\u003cb\\u003eTopic 4\\u003c\\u002fb\\u003e\\u003cbr\\u003eWords: scalp, onba bynd, bynd call list, focus open, onba bynd adding\",\"\\u003cb\\u003eTopic 4\\u003c\\u002fb\\u003e\\u003cbr\\u003eWords: scalp, call latest, grateful scalped call, extremely grateful, scalped call latest\",\"\\u003cb\\u003eTopic 4\\u003c\\u002fb\\u003e\\u003cbr\\u003eWords: scalp, resistance 29369 break, sell around resistance, scalp sell, scalp sell around\",\"\\u003cb\\u003eTopic 4\\u003c\\u002fb\\u003e\\u003cbr\\u003eWords: crosshairs long, cheaper current, opportunity share sold, term shareholder, opportunity share\",\"\\u003cb\\u003eTopic 4\\u003c\\u002fb\\u003e\\u003cbr\\u003eWords: studio loses, head production variety, studio loses head, loses head, production variety\",\"\\u003cb\\u003eTopic 4\\u003c\\u002fb\\u003e\\u003cbr\\u003eWords: studio loses, head production variety, studio loses head, loses head, production variety\",\"\\u003cb\\u003eTopic 4\\u003c\\u002fb\\u003e\\u003cbr\\u003eWords: term hold scalp, catch break really, buying unless long, unless long, hold scalp\",\"\\u003cb\\u003eTopic 4\\u003c\\u002fb\\u003e\\u003cbr\\u003eWords: scalp, good trade scalp, valuation higher, 12400 gain, 12400 gain shop\",\"\\u003cb\\u003eTopic 4\\u003c\\u002fb\\u003e\\u003cbr\\u003eWords: mostly little, mostly little scalping, scalping thanks predictionmonk, scalping thanks, better mostly\",\"\\u003cb\\u003eTopic 4\\u003c\\u002fb\\u003e\\u003cbr\\u003eWords: nice long scalp, scalp gate, long scalp gate, long scalp, nice long\",\"\\u003cb\\u003eTopic 4\\u003c\\u002fb\\u003e\\u003cbr\\u003eWords: call scalp similar, shop looking backtest, looking backtest quick, backtest quick, backtest quick call\",\"\\u003cb\\u003eTopic 4\\u003c\\u002fb\\u003e\\u003cbr\\u003eWords: scalp, great stock scalp, scalp veteran, come option, come option slippage\",\"\\u003cb\\u003eTopic 4\\u003c\\u002fb\\u003e\\u003cbr\\u003eWords: scalp, side dificult trade, dificult, scalp low, trade lot day\",\"\\u003cb\\u003eTopic 4\\u003c\\u002fb\\u003e\\u003cbr\\u003eWords: baby disease ridden, disease ridden, disease ridden shaved, baby disease, ridden shaved\",\"\\u003cb\\u003eTopic 4\\u003c\\u002fb\\u003e\\u003cbr\\u003eWords: setting possible breakout, scalp long nice, nice daily chart, chart setting possible, long nice daily\",\"\\u003cb\\u003eTopic 4\\u003c\\u002fb\\u003e\\u003cbr\\u003eWords: scalp, choppy channel, close choppy, strong close choppy, break trend within\",\"\\u003cb\\u003eTopic 4\\u003c\\u002fb\\u003e\\u003cbr\\u003eWords: scalp, pulled briefly 9ema, briefly 9ema, news long scalp, using scalp\",\"\\u003cb\\u003eTopic 4\\u003c\\u002fb\\u003e\\u003cbr\\u003eWords: scalp, risk sitting hand, open bough retracement, hand mostly, sold 1805\",\"\\u003cb\\u003eTopic 4\\u003c\\u002fb\\u003e\\u003cbr\\u003eWords: scalp, complain grateful, grateful thanks twinsightio, put short scalp, twinsightio data\",\"\\u003cb\\u003eTopic 4\\u003c\\u002fb\\u003e\\u003cbr\\u003eWords: dont need scalp, plus percent, scalp tska, tska, average plus\",\"\\u003cb\\u003eTopic 4\\u003c\\u002fb\\u003e\\u003cbr\\u003eWords: scalp, 1821, damn resist jumping, spot profit 1821, push opinion\",\"\\u003cb\\u003eTopic 4\\u003c\\u002fb\\u003e\\u003cbr\\u003eWords: scalp, juicyyy ideal friday, although messed selling, although messed, messed selling strike\",\"\\u003cb\\u003eTopic 4\\u003c\\u002fb\\u003e\\u003cbr\\u003eWords: scalp, based friday index, need june, put need june, june call optionstrade\",\"\\u003cb\\u003eTopic 4\\u003c\\u002fb\\u003e\\u003cbr\\u003eWords: percent, long scalping, sold share physical, share 2100c, 2100c lotto\",\"\\u003cb\\u003eTopic 4\\u003c\\u002fb\\u003e\\u003cbr\\u003eWords: rest 1860 1870, 1860 1870, added call scalped, holding rest 1860, scalped holding rest\"],\"marker\":{\"color\":\"#F0E442\"},\"mode\":\"lines\",\"name\":\"T\\u00e9cnica scalping\",\"x\":[\"2019-06-01\",\"2019-06-02\",\"2019-06-03\",\"2019-06-04\",\"2019-06-06\",\"2019-06-07\",\"2019-06-10\",\"2019-06-11\",\"2019-06-12\",\"2019-06-13\",\"2019-06-14\",\"2019-06-17\",\"2019-06-18\",\"2019-06-20\",\"2019-06-21\",\"2019-06-25\",\"2019-06-27\",\"2019-07-01\",\"2019-07-02\",\"2019-07-03\",\"2019-07-05\",\"2019-07-08\",\"2019-07-09\",\"2019-07-10\",\"2019-07-11\",\"2019-07-16\",\"2019-07-17\",\"2019-07-18\",\"2019-07-19\",\"2019-07-22\",\"2019-07-24\",\"2019-07-25\",\"2019-07-26\",\"2019-07-29\",\"2019-07-31\",\"2019-08-02\",\"2019-08-06\",\"2019-08-08\",\"2019-08-13\",\"2019-08-14\",\"2019-08-19\",\"2019-08-21\",\"2019-08-22\",\"2019-08-23\",\"2019-08-28\",\"2019-09-06\",\"2019-09-10\",\"2019-09-12\",\"2019-09-18\",\"2019-09-20\",\"2019-09-21\",\"2019-09-25\",\"2019-09-26\",\"2019-09-28\",\"2019-09-29\",\"2019-10-01\",\"2019-10-02\",\"2019-10-03\",\"2019-10-07\",\"2019-10-09\",\"2019-10-10\",\"2019-10-11\",\"2019-10-13\",\"2019-10-15\",\"2019-10-17\",\"2019-10-18\",\"2019-10-24\",\"2019-10-25\",\"2019-10-28\",\"2019-10-30\",\"2019-10-31\",\"2019-11-05\",\"2019-11-08\",\"2019-11-12\",\"2019-11-14\",\"2019-11-15\",\"2019-11-16\",\"2019-11-18\",\"2019-11-19\",\"2019-11-26\",\"2019-11-27\",\"2019-12-01\",\"2019-12-03\",\"2019-12-05\",\"2019-12-11\",\"2019-12-12\",\"2019-12-16\",\"2019-12-17\",\"2019-12-18\",\"2019-12-19\",\"2019-12-21\",\"2019-12-26\",\"2019-12-27\",\"2019-12-29\",\"2019-12-30\",\"2019-12-31\"],\"y\":[1,1,3,5,3,8,4,2,6,2,2,4,2,3,2,1,2,1,4,1,1,1,3,6,2,7,1,1,1,2,1,2,2,1,1,1,1,2,1,2,2,1,1,1,2,2,1,1,1,2,1,1,3,1,3,3,3,3,1,1,1,1,1,1,1,2,1,3,4,1,1,1,2,1,1,1,1,1,1,1,1,1,1,3,1,1,1,2,1,1,1,4,4,1,1,1],\"type\":\"scatter\"},{\"hoverinfo\":\"text\",\"hovertext\":[\"\\u003cb\\u003eTopic 5\\u003c\\u002fb\\u003e\\u003cbr\\u003eWords: consolidation, seeing setup, agree looking seeing, seeing setup continued, setup continued\",\"\\u003cb\\u003eTopic 5\\u003c\\u002fb\\u003e\\u003cbr\\u003eWords: renewing partially, renewing, partially, consolidation, higher\",\"\\u003cb\\u003eTopic 5\\u003c\\u002fb\\u003e\\u003cbr\\u003eWords: refinancing averaging bynd, bynd need principal, need principal, refinancing averaging, averaging bynd need\",\"\\u003cb\\u003eTopic 5\\u003c\\u002fb\\u003e\\u003cbr\\u003eWords: update nice consolidation, update nice, nice consolidation, consolidation, nice\",\"\\u003cb\\u003eTopic 5\\u003c\\u002fb\\u003e\\u003cbr\\u003eWords: near bottom consolidation, bottom consolidation, bottom consolidation region, consolidation region, near bottom\",\"\\u003cb\\u003eTopic 5\\u003c\\u002fb\\u003e\\u003cbr\\u003eWords: consolidation, jmia, jmia wedge patter, demand share shrunk, progressively lower\",\"\\u003cb\\u003eTopic 5\\u003c\\u002fb\\u003e\\u003cbr\\u003eWords: monthly obviously bearish, obviously bearish, bithopefully shoulder pop, consolidation liking bithopefully, bithopefully\",\"\\u003cb\\u003eTopic 5\\u003c\\u002fb\\u003e\\u003cbr\\u003eWords: consolidate test, consolidate test larger, test larger push, test larger, larger push\",\"\\u003cb\\u003eTopic 5\\u003c\\u002fb\\u003e\\u003cbr\\u003eWords: major trendline, 1950 towards, 2000 consolidation level, level drop cloud, consolidation level drop\",\"\\u003cb\\u003eTopic 5\\u003c\\u002fb\\u003e\\u003cbr\\u003eWords: consolidation, decent start flow, start flow, bull flag tomorrow, consolidation bull\",\"\\u003cb\\u003eTopic 5\\u003c\\u002fb\\u003e\\u003cbr\\u003eWords: consolidation, concept, continued, previous, itit work\",\"\\u003cb\\u003eTopic 5\\u003c\\u002fb\\u003e\\u003cbr\\u003eWords: consolidation, earnings period coming, period coming technical, coming technical perspective, away consolidation flag\",\"\\u003cb\\u003eTopic 5\\u003c\\u002fb\\u003e\\u003cbr\\u003eWords: consolidation, consolidation needed long, 1150 might, 1800 year 1150, might consolidation\",\"\\u003cb\\u003eTopic 5\\u003c\\u002fb\\u003e\\u003cbr\\u003eWords: june 2020 2800c, year consolidation last, 2020 2800c, soon break 2000s, year soon break\",\"\\u003cb\\u003eTopic 5\\u003c\\u002fb\\u003e\\u003cbr\\u003eWords: consolidation, 1930s long hold, 1930s long, break away 1900, monthly consolidation\",\"\\u003cb\\u003eTopic 5\\u003c\\u002fb\\u003e\\u003cbr\\u003eWords: consolidation, healthy, 71516 hrsaapl, 1965 2033 unconfirmed, hrsaapl rejecting\",\"\\u003cb\\u003eTopic 5\\u003c\\u002fb\\u003e\\u003cbr\\u003eWords: consolidation, 2018 stock seen, 2000 2500, upward coming sept, high gone lengthy\",\"\\u003cb\\u003eTopic 5\\u003c\\u002fb\\u003e\\u003cbr\\u003eWords: settle consolidate resuming, consolidate resuming, brief tightening, brief tightening price, deviation brief\",\"\\u003cb\\u003eTopic 5\\u003c\\u002fb\\u003e\\u003cbr\\u003eWords: consolidation, nflx faang cool, large consolidation getting, tight look almost, faang cool starting\",\"\\u003cb\\u003eTopic 5\\u003c\\u002fb\\u003e\\u003cbr\\u003eWords: consolidation, bigger everyone missing, rais, everyone missing usual, chart earlier\",\"\\u003cb\\u003eTopic 5\\u003c\\u002fb\\u003e\\u003cbr\\u003eWords: consolidation, good consolidation make, 2050 2200 soon, beautiful handle, beautiful handle looking\",\"\\u003cb\\u003eTopic 5\\u003c\\u002fb\\u003e\\u003cbr\\u003eWords: wrldcraft million block, block placed, million block placed, block placed earth, placed earth\",\"\\u003cb\\u003eTopic 5\\u003c\\u002fb\\u003e\\u003cbr\\u003eWords: consolidation, 29958 pivot consolidation, fade 29858, consolidation break pivot, pivot consolidation\",\"\\u003cb\\u003eTopic 5\\u003c\\u002fb\\u003e\\u003cbr\\u003eWords: consolidation, seller close bottom, higher either seller, large consolidation last, larger uptrend\",\"\\u003cb\\u003eTopic 5\\u003c\\u002fb\\u003e\\u003cbr\\u003eWords: consolidation, running hour, high failure break, test 17889 high, test 17889\",\"\\u003cb\\u003eTopic 5\\u003c\\u002fb\\u003e\\u003cbr\\u003eWords: consolidation, similar move 2015, 21ma crossing 50ma, breakout start next, 50ma weekly followed\",\"\\u003cb\\u003eTopic 5\\u003c\\u002fb\\u003e\\u003cbr\\u003eWords: consolidation, loving value, reset patiently, bottom closer, food delivery consolidation\",\"\\u003cb\\u003eTopic 5\\u003c\\u002fb\\u003e\\u003cbr\\u003eWords: consolidation, target quick trade, announcememt, trade broke area, around playing bounce\",\"\\u003cb\\u003eTopic 5\\u003c\\u002fb\\u003e\\u003cbr\\u003eWords: chart price consolidation, interpretation monthly, interpretation monthly chart, consolidation heading, consolidation heading higher\",\"\\u003cb\\u003eTopic 5\\u003c\\u002fb\\u003e\\u003cbr\\u003eWords: earnings followed, recent positive earnings, consolidation plan, plan look awesome, positive earnings followed\",\"\\u003cb\\u003eTopic 5\\u003c\\u002fb\\u003e\\u003cbr\\u003eWords: lot built energy, energy directional move, holding lot built, consolidation long term, term trend holding\",\"\\u003cb\\u003eTopic 5\\u003c\\u002fb\\u003e\\u003cbr\\u003eWords: trying consolidate, consolidate, trying, consolidation, higher\",\"\\u003cb\\u003eTopic 5\\u003c\\u002fb\\u003e\\u003cbr\\u003eWords: consolidation, fang machine, area catalyst, occurs gap, occurs gap resistance\",\"\\u003cb\\u003eTopic 5\\u003c\\u002fb\\u003e\\u003cbr\\u003eWords: forming clean looking, forming clean, looking consolidation watching, clean looking consolidation, clean looking\",\"\\u003cb\\u003eTopic 5\\u003c\\u002fb\\u003e\\u003cbr\\u003eWords: consolidation, trend isnt fall, isnt fall, crucial stock regain, trend consolidation resistance\",\"\\u003cb\\u003eTopic 5\\u003c\\u002fb\\u003e\\u003cbr\\u003eWords: consolidation stock, stuck consolidation stock, watching play long, play long shop, consolidation stock watching\",\"\\u003cb\\u003eTopic 5\\u003c\\u002fb\\u003e\\u003cbr\\u003eWords: consolidation, pullback consolidation best, faded high, hour close though, 1835 1850\",\"\\u003cb\\u003eTopic 5\\u003c\\u002fb\\u003e\\u003cbr\\u003eWords: price 10wk, price 10wk 30wk, 30wk, sideways consolidation year, 10wk\",\"\\u003cb\\u003eTopic 5\\u003c\\u002fb\\u003e\\u003cbr\\u003eWords: move nicely break, remains watch longs, longs trendline, watch longs trendline, nicely break\",\"\\u003cb\\u003eTopic 5\\u003c\\u002fb\\u003e\\u003cbr\\u003eWords: consolidation, accumulation distribution, accumulation, distribution, least failed\",\"\\u003cb\\u003eTopic 5\\u003c\\u002fb\\u003e\\u003cbr\\u003eWords: area consolidation pattern, minor pullback middle, pullback middle, pullback middle area, middle area consolidation\",\"\\u003cb\\u003eTopic 5\\u003c\\u002fb\\u003e\\u003cbr\\u003eWords: consolidation, higher, equal, low, crossover showing\",\"\\u003cb\\u003eTopic 5\\u003c\\u002fb\\u003e\\u003cbr\\u003eWords: consolidation, call swing tradelike, punished trade fear, punished trade, quality name unfairly\",\"\\u003cb\\u003eTopic 5\\u003c\\u002fb\\u003e\\u003cbr\\u003eWords: consolidation, volume move thursday, interesting closing highest, showing high volume, possible marketsmith chart\",\"\\u003cb\\u003eTopic 5\\u003c\\u002fb\\u003e\\u003cbr\\u003eWords: consolidation, played pivotal role, epsf durablegoods galaxy, played pivotal, epsw eventth\",\"\\u003cb\\u003eTopic 5\\u003c\\u002fb\\u003e\\u003cbr\\u003eWords: consolidation, look couple, 173555 playing wait, wait tomorrow bounce, 177614\",\"\\u003cb\\u003eTopic 5\\u003c\\u002fb\\u003e\\u003cbr\\u003eWords: consolidation, short fade bullish, stock band faded, share 250s, 1350 covered short\",\"\\u003cb\\u003eTopic 5\\u003c\\u002fb\\u003e\\u003cbr\\u003eWords: consolidation, level 1249 recent, higher low remains, trendline friend, 1209 1196\",\"\\u003cb\\u003eTopic 5\\u003c\\u002fb\\u003e\\u003cbr\\u003eWords: zone support basing, badaapl formed, however badaapl formed, badaapl, consolidation zone support\",\"\\u003cb\\u003eTopic 5\\u003c\\u002fb\\u003e\\u003cbr\\u003eWords: consolidation inside month, following month consolidation, breaking following, breaking following month, consolidation inside\",\"\\u003cb\\u003eTopic 5\\u003c\\u002fb\\u003e\\u003cbr\\u003eWords: consolidation, come consolidation pattern, waiting consolidation, talk creating shareholder, waiting consolidation never\",\"\\u003cb\\u003eTopic 5\\u003c\\u002fb\\u003e\\u003cbr\\u003eWords: continues twows, close middle, close middle 14wk, middle 14wk, consolidation continues twows\",\"\\u003cb\\u003eTopic 5\\u003c\\u002fb\\u003e\\u003cbr\\u003eWords: consolidation, momentum bearishly, break clue, high momentum bearishly, level twice love\",\"\\u003cb\\u003eTopic 5\\u003c\\u002fb\\u003e\\u003cbr\\u003eWords: consolidation, 510ma flirting cross, yesterday weak move, yesterday weak, time frame consolidation\",\"\\u003cb\\u003eTopic 5\\u003c\\u002fb\\u003e\\u003cbr\\u003eWords: consolidation lead expansion, consolidation lead, lead expansion, consolidation, expansion\",\"\\u003cb\\u003eTopic 5\\u003c\\u002fb\\u003e\\u003cbr\\u003eWords: consolidation, noted alphabet, nowgoogl took, alphabet share trace, distinct consolidation rally\",\"\\u003cb\\u003eTopic 5\\u003c\\u002fb\\u003e\\u003cbr\\u003eWords: consolidation, almost year mega, gone almost year, stock near breaking, consolidation trend resume\",\"\\u003cb\\u003eTopic 5\\u003c\\u002fb\\u003e\\u003cbr\\u003eWords: consolidation trend higher, consolidation trend, trend higher, consolidation, trend\",\"\\u003cb\\u003eTopic 5\\u003c\\u002fb\\u003e\\u003cbr\\u003eWords: consolidation, learned hard year, underlying trend, monthsconsidering opening, continuous aths\",\"\\u003cb\\u003eTopic 5\\u003c\\u002fb\\u003e\\u003cbr\\u003eWords: buysell cycle stock, consolidation cyclemsftpgibmstocks, bear cyclevmrkjnjmcdddtrvcscoxomadbevisit, buysell cycle, latest buysell cycle\",\"\\u003cb\\u003eTopic 5\\u003c\\u002fb\\u003e\\u003cbr\\u003eWords: consolidation, struggle 200d resulted, struggle 200d, multiyear trend, time consolidation 2013201\",\"\\u003cb\\u003eTopic 5\\u003c\\u002fb\\u003e\\u003cbr\\u003eWords: consolidation, month consolidation, trendline, level, month\",\"\\u003cb\\u003eTopic 5\\u003c\\u002fb\\u003e\\u003cbr\\u003eWords: consolidation area near, reason wont breakout, making hard bearish, area near reason, near reason\",\"\\u003cb\\u003eTopic 5\\u003c\\u002fb\\u003e\\u003cbr\\u003eWords: upsisde, capitulation upsisde, capitulation upsisde happening, upsisde happening, open capitulation upsisde\",\"\\u003cb\\u003eTopic 5\\u003c\\u002fb\\u003e\\u003cbr\\u003eWords: earnings quite ready, neckline earnings, guess consolidation, perfect touch, breakout guess consolidation\",\"\\u003cb\\u003eTopic 5\\u003c\\u002fb\\u003e\\u003cbr\\u003eWords: analyticshealthcaredata 4good digitalhealthfollowyourfitwalkwithwisdom, 4good digitalhealthfollowyourfitwalkwithwisdom exerciseismedicine, digitalhealthfollowyourfitwalkwithwisdom exerciseismedicine, digitalhealthfollowyourfitwalkwithwisdom, 4good digitalhealthfollowyourfitwalkwithwisdom\",\"\\u003cb\\u003eTopic 5\\u003c\\u002fb\\u003e\\u003cbr\\u003eWords: 4good, consolidation, sdohmhealthdata 4good, pumpthejuicereleasethegrease, 4good pumpthejuicereleasethegrease\",\"\\u003cb\\u003eTopic 5\\u003c\\u002fb\\u003e\\u003cbr\\u003eWords: tech consolidation good, imho adbe, faded imho, need tech consolidation, good stock faded\",\"\\u003cb\\u003eTopic 5\\u003c\\u002fb\\u003e\\u003cbr\\u003eWords: consolidation, good newsearnings 14567, term sell reentry, time considering short, time considering\",\"\\u003cb\\u003eTopic 5\\u003c\\u002fb\\u003e\\u003cbr\\u003eWords: consolidation, 1680, break, 1832, beginning august\",\"\\u003cb\\u003eTopic 5\\u003c\\u002fb\\u003e\\u003cbr\\u003eWords: least, little rigged arent, rigged arent, arent least consolidatees, tomorrow personally\",\"\\u003cb\\u003eTopic 5\\u003c\\u002fb\\u003e\\u003cbr\\u003eWords: consolidation, trying come consolidation, look amazing breaking, amazing breaking, amazing breaking consolidation\",\"\\u003cb\\u003eTopic 5\\u003c\\u002fb\\u003e\\u003cbr\\u003eWords: consolidation, target, consolidation target 131277, weekly target 137039, chart 13001296\",\"\\u003cb\\u003eTopic 5\\u003c\\u002fb\\u003e\\u003cbr\\u003eWords: consolidation, nice consolidation, breaking, consolidation 14515, dip anticipation year\",\"\\u003cb\\u003eTopic 5\\u003c\\u002fb\\u003e\\u003cbr\\u003eWords: call volume come, need basing, come need basing, trying consolidation, next call volume\",\"\\u003cb\\u003eTopic 5\\u003c\\u002fb\\u003e\\u003cbr\\u003eWords: weight year 2050, 2050 kind consolidation, 2050 kind, year 2050, year 2050 kind\",\"\\u003cb\\u003eTopic 5\\u003c\\u002fb\\u003e\\u003cbr\\u003eWords: consolidation, average recent range, year expect year, continuation handle, recent range touch\",\"\\u003cb\\u003eTopic 5\\u003c\\u002fb\\u003e\\u003cbr\\u003eWords: consolidation, handle, touch break 1684, possible inverse handle, rally consolidation mode\",\"\\u003cb\\u003eTopic 5\\u003c\\u002fb\\u003e\\u003cbr\\u003eWords: consolidation, long term consolidation, 1516charts updatedspx, 2618 1516charts updatedspx, look good first\",\"\\u003cb\\u003eTopic 5\\u003c\\u002fb\\u003e\\u003cbr\\u003eWords: consolidation, longest winning streak, steadily creep, streak sincesticking wlongs, streak sincesticking\",\"\\u003cb\\u003eTopic 5\\u003c\\u002fb\\u003e\\u003cbr\\u003eWords: consolidation, holding trade currently, msftthey holding, last holding line, building better overall\",\"\\u003cb\\u003eTopic 5\\u003c\\u002fb\\u003e\\u003cbr\\u003eWords: consolidation, handle, pattern inverse handle, 1770ish, chart massive\",\"\\u003cb\\u003eTopic 5\\u003c\\u002fb\\u003e\\u003cbr\\u003eWords: consolidation, consolidation contend larger, dayma, finally price flip, dayma finally\",\"\\u003cb\\u003eTopic 5\\u003c\\u002fb\\u003e\\u003cbr\\u003eWords: consolidation, next higher holding, comingkeeping, leaving behind, leaving behind confluent\",\"\\u003cb\\u003eTopic 5\\u003c\\u002fb\\u003e\\u003cbr\\u003eWords: ready break 4month, break 4month, break 4month consolidation, 4month consolidation, 4month\",\"\\u003cb\\u003eTopic 5\\u003c\\u002fb\\u003e\\u003cbr\\u003eWords: extension, consolidation surpassed 1618, coming recent consolidation, extension looking, surpassed 1618 extension\",\"\\u003cb\\u003eTopic 5\\u003c\\u002fb\\u003e\\u003cbr\\u003eWords: consolidation, toward 18501860 range, push resistance 1813, break hold continuation, setup push need\",\"\\u003cb\\u003eTopic 5\\u003c\\u002fb\\u003e\\u003cbr\\u003eWords: consolidation, channel consolidation, convergeone channel consolidation, consolidation growth outlookagenda, convergeone channel\",\"\\u003cb\\u003eTopic 5\\u003c\\u002fb\\u003e\\u003cbr\\u003eWords: reclaiming rising, rising uptrends, reclaiming rising uptrends, uptrends, reclaiming\",\"\\u003cb\\u003eTopic 5\\u003c\\u002fb\\u003e\\u003cbr\\u003eWords: consolidation, year 10001300 consolidation, phase behind embarking, embarking next, embarking next higher\",\"\\u003cb\\u003eTopic 5\\u003c\\u002fb\\u003e\\u003cbr\\u003eWords: pullback long term, consolidation pullback long, need consolidation, strong weekly breakout, breakout aths need\",\"\\u003cb\\u003eTopic 5\\u003c\\u002fb\\u003e\\u003cbr\\u003eWords: break consolidation zone, attempting break consolidation, finally attempting, finally attempting break, consolidation zone\",\"\\u003cb\\u003eTopic 5\\u003c\\u002fb\\u003e\\u003cbr\\u003eWords: consolidation, pocket inverse, look healthy consolidation, premium market maker, inverse bigly\",\"\\u003cb\\u003eTopic 5\\u003c\\u002fb\\u003e\\u003cbr\\u003eWords: closing previous session, olly, record oneday rally, closing previous, 2009biggest\",\"\\u003cb\\u003eTopic 5\\u003c\\u002fb\\u003e\\u003cbr\\u003eWords: range late, break range late, clean break range, interested consolidation time, weekly good clean\",\"\\u003cb\\u003eTopic 5\\u003c\\u002fb\\u003e\\u003cbr\\u003eWords: consolidation bounce 17501850, price consolidation bounce, daily price consolidation, bounce 17501850, consolidation bounce\",\"\\u003cb\\u003eTopic 5\\u003c\\u002fb\\u003e\\u003cbr\\u003eWords: consolidation, year, base, barrier bottomed late, base break\",\"\\u003cb\\u003eTopic 5\\u003c\\u002fb\\u003e\\u003cbr\\u003eWords: consolidation, mayyyybe 390ish, short mayyyybe 390ish, itcron stopbidu, hopefully trim 127aapl\",\"\\u003cb\\u003eTopic 5\\u003c\\u002fb\\u003e\\u003cbr\\u003eWords: consolidation, consolidation come higher, consolidation come, come higher trend, market consolidation come\",\"\\u003cb\\u003eTopic 5\\u003c\\u002fb\\u003e\\u003cbr\\u003eWords: consolidation, thread 36amzn, 36amzn amazonparabolic move, daily consolidating last, consolidation triangle weekly\",\"\\u003cb\\u003eTopic 5\\u003c\\u002fb\\u003e\\u003cbr\\u003eWords: consolidation, base made, year base made, long strong consolidation, extension next major\",\"\\u003cb\\u003eTopic 5\\u003c\\u002fb\\u003e\\u003cbr\\u003eWords: spinning wheel consolidation, wheel consolidation time, wheel consolidation, consolidation time high, consolidation time\",\"\\u003cb\\u003eTopic 5\\u003c\\u002fb\\u003e\\u003cbr\\u003eWords: consolidation, phase, little consolidation breakout, week nice little, nice follow consolidation\",\"\\u003cb\\u003eTopic 5\\u003c\\u002fb\\u003e\\u003cbr\\u003eWords: consolidation, broke, finally broke multimonth, phase interact chart, rejected time closing\",\"\\u003cb\\u003eTopic 5\\u003c\\u002fb\\u003e\\u003cbr\\u003eWords: follow long position, broke month consolidation, month consolidation 1950, action follow, long position broke\",\"\\u003cb\\u003eTopic 5\\u003c\\u002fb\\u003e\\u003cbr\\u003eWords: consolidation, friday leader, leader broke, leader broke consolidation, pulled market friday\",\"\\u003cb\\u003eTopic 5\\u003c\\u002fb\\u003e\\u003cbr\\u003eWords: consolidation, extreme positive, inevitable stockmarket, itll profit taking, consolidation inevitable\",\"\\u003cb\\u003eTopic 5\\u003c\\u002fb\\u003e\\u003cbr\\u003eWords: consolidation, takeover, activity exclusive view, breakout 1900, online seller place\"],\"marker\":{\"color\":\"#D55E00\"},\"mode\":\"lines\",\"name\":\"Consolidaci\\u00f3n acciones\",\"x\":[\"2019-06-04\",\"2019-06-10\",\"2019-06-12\",\"2019-06-14\",\"2019-06-16\",\"2019-06-17\",\"2019-06-18\",\"2019-06-21\",\"2019-06-22\",\"2019-06-24\",\"2019-06-25\",\"2019-06-27\",\"2019-07-03\",\"2019-07-05\",\"2019-07-07\",\"2019-07-08\",\"2019-07-09\",\"2019-07-10\",\"2019-07-11\",\"2019-07-12\",\"2019-07-14\",\"2019-07-16\",\"2019-07-19\",\"2019-07-24\",\"2019-07-25\",\"2019-07-26\",\"2019-07-29\",\"2019-07-30\",\"2019-08-01\",\"2019-08-08\",\"2019-08-09\",\"2019-08-15\",\"2019-08-21\",\"2019-08-28\",\"2019-08-30\",\"2019-09-03\",\"2019-09-05\",\"2019-09-07\",\"2019-09-08\",\"2019-09-10\",\"2019-09-11\",\"2019-09-12\",\"2019-09-17\",\"2019-09-20\",\"2019-09-24\",\"2019-09-25\",\"2019-09-26\",\"2019-09-29\",\"2019-09-30\",\"2019-10-01\",\"2019-10-02\",\"2019-10-04\",\"2019-10-06\",\"2019-10-10\",\"2019-10-15\",\"2019-10-16\",\"2019-10-17\",\"2019-10-19\",\"2019-10-22\",\"2019-10-23\",\"2019-10-24\",\"2019-10-25\",\"2019-10-26\",\"2019-10-28\",\"2019-10-29\",\"2019-10-30\",\"2019-10-31\",\"2019-11-01\",\"2019-11-02\",\"2019-11-03\",\"2019-11-05\",\"2019-11-08\",\"2019-11-10\",\"2019-11-11\",\"2019-11-12\",\"2019-11-14\",\"2019-11-15\",\"2019-11-17\",\"2019-11-19\",\"2019-11-20\",\"2019-11-22\",\"2019-11-24\",\"2019-11-25\",\"2019-11-26\",\"2019-11-27\",\"2019-11-28\",\"2019-12-01\",\"2019-12-02\",\"2019-12-03\",\"2019-12-06\",\"2019-12-07\",\"2019-12-08\",\"2019-12-09\",\"2019-12-10\",\"2019-12-11\",\"2019-12-12\",\"2019-12-16\",\"2019-12-17\",\"2019-12-21\",\"2019-12-22\",\"2019-12-23\",\"2019-12-24\",\"2019-12-26\",\"2019-12-27\",\"2019-12-28\",\"2019-12-29\",\"2019-12-30\",\"2019-12-31\"],\"y\":[3,1,1,1,1,2,1,1,1,1,2,4,3,1,1,1,2,1,3,1,2,1,2,3,1,1,2,1,1,1,1,1,1,1,2,1,2,2,1,2,1,2,1,1,2,2,3,2,1,1,2,1,1,1,1,1,3,1,2,1,1,6,1,4,1,2,3,2,2,6,1,3,1,3,1,1,2,3,1,1,1,1,1,2,1,1,1,1,1,1,1,1,2,1,1,1,4,1,2,1,2,1,4,2,1,2,3,2],\"type\":\"scatter\"}],                        {\"template\":{\"data\":{\"barpolar\":[{\"marker\":{\"line\":{\"color\":\"white\",\"width\":0.5},\"pattern\":{\"fillmode\":\"overlay\",\"size\":10,\"solidity\":0.2}},\"type\":\"barpolar\"}],\"bar\":[{\"error_x\":{\"color\":\"rgb(36,36,36)\"},\"error_y\":{\"color\":\"rgb(36,36,36)\"},\"marker\":{\"line\":{\"color\":\"white\",\"width\":0.5},\"pattern\":{\"fillmode\":\"overlay\",\"size\":10,\"solidity\":0.2}},\"type\":\"bar\"}],\"carpet\":[{\"aaxis\":{\"endlinecolor\":\"rgb(36,36,36)\",\"gridcolor\":\"white\",\"linecolor\":\"white\",\"minorgridcolor\":\"white\",\"startlinecolor\":\"rgb(36,36,36)\"},\"baxis\":{\"endlinecolor\":\"rgb(36,36,36)\",\"gridcolor\":\"white\",\"linecolor\":\"white\",\"minorgridcolor\":\"white\",\"startlinecolor\":\"rgb(36,36,36)\"},\"type\":\"carpet\"}],\"choropleth\":[{\"colorbar\":{\"outlinewidth\":1,\"tickcolor\":\"rgb(36,36,36)\",\"ticks\":\"outside\"},\"type\":\"choropleth\"}],\"contourcarpet\":[{\"colorbar\":{\"outlinewidth\":1,\"tickcolor\":\"rgb(36,36,36)\",\"ticks\":\"outside\"},\"type\":\"contourcarpet\"}],\"contour\":[{\"colorbar\":{\"outlinewidth\":1,\"tickcolor\":\"rgb(36,36,36)\",\"ticks\":\"outside\"},\"colorscale\":[[0.0,\"#440154\"],[0.1111111111111111,\"#482878\"],[0.2222222222222222,\"#3e4989\"],[0.3333333333333333,\"#31688e\"],[0.4444444444444444,\"#26828e\"],[0.5555555555555556,\"#1f9e89\"],[0.6666666666666666,\"#35b779\"],[0.7777777777777778,\"#6ece58\"],[0.8888888888888888,\"#b5de2b\"],[1.0,\"#fde725\"]],\"type\":\"contour\"}],\"heatmapgl\":[{\"colorbar\":{\"outlinewidth\":1,\"tickcolor\":\"rgb(36,36,36)\",\"ticks\":\"outside\"},\"colorscale\":[[0.0,\"#440154\"],[0.1111111111111111,\"#482878\"],[0.2222222222222222,\"#3e4989\"],[0.3333333333333333,\"#31688e\"],[0.4444444444444444,\"#26828e\"],[0.5555555555555556,\"#1f9e89\"],[0.6666666666666666,\"#35b779\"],[0.7777777777777778,\"#6ece58\"],[0.8888888888888888,\"#b5de2b\"],[1.0,\"#fde725\"]],\"type\":\"heatmapgl\"}],\"heatmap\":[{\"colorbar\":{\"outlinewidth\":1,\"tickcolor\":\"rgb(36,36,36)\",\"ticks\":\"outside\"},\"colorscale\":[[0.0,\"#440154\"],[0.1111111111111111,\"#482878\"],[0.2222222222222222,\"#3e4989\"],[0.3333333333333333,\"#31688e\"],[0.4444444444444444,\"#26828e\"],[0.5555555555555556,\"#1f9e89\"],[0.6666666666666666,\"#35b779\"],[0.7777777777777778,\"#6ece58\"],[0.8888888888888888,\"#b5de2b\"],[1.0,\"#fde725\"]],\"type\":\"heatmap\"}],\"histogram2dcontour\":[{\"colorbar\":{\"outlinewidth\":1,\"tickcolor\":\"rgb(36,36,36)\",\"ticks\":\"outside\"},\"colorscale\":[[0.0,\"#440154\"],[0.1111111111111111,\"#482878\"],[0.2222222222222222,\"#3e4989\"],[0.3333333333333333,\"#31688e\"],[0.4444444444444444,\"#26828e\"],[0.5555555555555556,\"#1f9e89\"],[0.6666666666666666,\"#35b779\"],[0.7777777777777778,\"#6ece58\"],[0.8888888888888888,\"#b5de2b\"],[1.0,\"#fde725\"]],\"type\":\"histogram2dcontour\"}],\"histogram2d\":[{\"colorbar\":{\"outlinewidth\":1,\"tickcolor\":\"rgb(36,36,36)\",\"ticks\":\"outside\"},\"colorscale\":[[0.0,\"#440154\"],[0.1111111111111111,\"#482878\"],[0.2222222222222222,\"#3e4989\"],[0.3333333333333333,\"#31688e\"],[0.4444444444444444,\"#26828e\"],[0.5555555555555556,\"#1f9e89\"],[0.6666666666666666,\"#35b779\"],[0.7777777777777778,\"#6ece58\"],[0.8888888888888888,\"#b5de2b\"],[1.0,\"#fde725\"]],\"type\":\"histogram2d\"}],\"histogram\":[{\"marker\":{\"line\":{\"color\":\"white\",\"width\":0.6}},\"type\":\"histogram\"}],\"mesh3d\":[{\"colorbar\":{\"outlinewidth\":1,\"tickcolor\":\"rgb(36,36,36)\",\"ticks\":\"outside\"},\"type\":\"mesh3d\"}],\"parcoords\":[{\"line\":{\"colorbar\":{\"outlinewidth\":1,\"tickcolor\":\"rgb(36,36,36)\",\"ticks\":\"outside\"}},\"type\":\"parcoords\"}],\"pie\":[{\"automargin\":true,\"type\":\"pie\"}],\"scatter3d\":[{\"line\":{\"colorbar\":{\"outlinewidth\":1,\"tickcolor\":\"rgb(36,36,36)\",\"ticks\":\"outside\"}},\"marker\":{\"colorbar\":{\"outlinewidth\":1,\"tickcolor\":\"rgb(36,36,36)\",\"ticks\":\"outside\"}},\"type\":\"scatter3d\"}],\"scattercarpet\":[{\"marker\":{\"colorbar\":{\"outlinewidth\":1,\"tickcolor\":\"rgb(36,36,36)\",\"ticks\":\"outside\"}},\"type\":\"scattercarpet\"}],\"scattergeo\":[{\"marker\":{\"colorbar\":{\"outlinewidth\":1,\"tickcolor\":\"rgb(36,36,36)\",\"ticks\":\"outside\"}},\"type\":\"scattergeo\"}],\"scattergl\":[{\"marker\":{\"colorbar\":{\"outlinewidth\":1,\"tickcolor\":\"rgb(36,36,36)\",\"ticks\":\"outside\"}},\"type\":\"scattergl\"}],\"scattermapbox\":[{\"marker\":{\"colorbar\":{\"outlinewidth\":1,\"tickcolor\":\"rgb(36,36,36)\",\"ticks\":\"outside\"}},\"type\":\"scattermapbox\"}],\"scatterpolargl\":[{\"marker\":{\"colorbar\":{\"outlinewidth\":1,\"tickcolor\":\"rgb(36,36,36)\",\"ticks\":\"outside\"}},\"type\":\"scatterpolargl\"}],\"scatterpolar\":[{\"marker\":{\"colorbar\":{\"outlinewidth\":1,\"tickcolor\":\"rgb(36,36,36)\",\"ticks\":\"outside\"}},\"type\":\"scatterpolar\"}],\"scatter\":[{\"fillpattern\":{\"fillmode\":\"overlay\",\"size\":10,\"solidity\":0.2},\"type\":\"scatter\"}],\"scatterternary\":[{\"marker\":{\"colorbar\":{\"outlinewidth\":1,\"tickcolor\":\"rgb(36,36,36)\",\"ticks\":\"outside\"}},\"type\":\"scatterternary\"}],\"surface\":[{\"colorbar\":{\"outlinewidth\":1,\"tickcolor\":\"rgb(36,36,36)\",\"ticks\":\"outside\"},\"colorscale\":[[0.0,\"#440154\"],[0.1111111111111111,\"#482878\"],[0.2222222222222222,\"#3e4989\"],[0.3333333333333333,\"#31688e\"],[0.4444444444444444,\"#26828e\"],[0.5555555555555556,\"#1f9e89\"],[0.6666666666666666,\"#35b779\"],[0.7777777777777778,\"#6ece58\"],[0.8888888888888888,\"#b5de2b\"],[1.0,\"#fde725\"]],\"type\":\"surface\"}],\"table\":[{\"cells\":{\"fill\":{\"color\":\"rgb(237,237,237)\"},\"line\":{\"color\":\"white\"}},\"header\":{\"fill\":{\"color\":\"rgb(217,217,217)\"},\"line\":{\"color\":\"white\"}},\"type\":\"table\"}]},\"layout\":{\"annotationdefaults\":{\"arrowhead\":0,\"arrowwidth\":1},\"autotypenumbers\":\"strict\",\"coloraxis\":{\"colorbar\":{\"outlinewidth\":1,\"tickcolor\":\"rgb(36,36,36)\",\"ticks\":\"outside\"}},\"colorscale\":{\"diverging\":[[0.0,\"rgb(103,0,31)\"],[0.1,\"rgb(178,24,43)\"],[0.2,\"rgb(214,96,77)\"],[0.3,\"rgb(244,165,130)\"],[0.4,\"rgb(253,219,199)\"],[0.5,\"rgb(247,247,247)\"],[0.6,\"rgb(209,229,240)\"],[0.7,\"rgb(146,197,222)\"],[0.8,\"rgb(67,147,195)\"],[0.9,\"rgb(33,102,172)\"],[1.0,\"rgb(5,48,97)\"]],\"sequential\":[[0.0,\"#440154\"],[0.1111111111111111,\"#482878\"],[0.2222222222222222,\"#3e4989\"],[0.3333333333333333,\"#31688e\"],[0.4444444444444444,\"#26828e\"],[0.5555555555555556,\"#1f9e89\"],[0.6666666666666666,\"#35b779\"],[0.7777777777777778,\"#6ece58\"],[0.8888888888888888,\"#b5de2b\"],[1.0,\"#fde725\"]],\"sequentialminus\":[[0.0,\"#440154\"],[0.1111111111111111,\"#482878\"],[0.2222222222222222,\"#3e4989\"],[0.3333333333333333,\"#31688e\"],[0.4444444444444444,\"#26828e\"],[0.5555555555555556,\"#1f9e89\"],[0.6666666666666666,\"#35b779\"],[0.7777777777777778,\"#6ece58\"],[0.8888888888888888,\"#b5de2b\"],[1.0,\"#fde725\"]]},\"colorway\":[\"#1F77B4\",\"#FF7F0E\",\"#2CA02C\",\"#D62728\",\"#9467BD\",\"#8C564B\",\"#E377C2\",\"#7F7F7F\",\"#BCBD22\",\"#17BECF\"],\"font\":{\"color\":\"rgb(36,36,36)\"},\"geo\":{\"bgcolor\":\"white\",\"lakecolor\":\"white\",\"landcolor\":\"white\",\"showlakes\":true,\"showland\":true,\"subunitcolor\":\"white\"},\"hoverlabel\":{\"align\":\"left\"},\"hovermode\":\"closest\",\"mapbox\":{\"style\":\"light\"},\"paper_bgcolor\":\"white\",\"plot_bgcolor\":\"white\",\"polar\":{\"angularaxis\":{\"gridcolor\":\"rgb(232,232,232)\",\"linecolor\":\"rgb(36,36,36)\",\"showgrid\":false,\"showline\":true,\"ticks\":\"outside\"},\"bgcolor\":\"white\",\"radialaxis\":{\"gridcolor\":\"rgb(232,232,232)\",\"linecolor\":\"rgb(36,36,36)\",\"showgrid\":false,\"showline\":true,\"ticks\":\"outside\"}},\"scene\":{\"xaxis\":{\"backgroundcolor\":\"white\",\"gridcolor\":\"rgb(232,232,232)\",\"gridwidth\":2,\"linecolor\":\"rgb(36,36,36)\",\"showbackground\":true,\"showgrid\":false,\"showline\":true,\"ticks\":\"outside\",\"zeroline\":false,\"zerolinecolor\":\"rgb(36,36,36)\"},\"yaxis\":{\"backgroundcolor\":\"white\",\"gridcolor\":\"rgb(232,232,232)\",\"gridwidth\":2,\"linecolor\":\"rgb(36,36,36)\",\"showbackground\":true,\"showgrid\":false,\"showline\":true,\"ticks\":\"outside\",\"zeroline\":false,\"zerolinecolor\":\"rgb(36,36,36)\"},\"zaxis\":{\"backgroundcolor\":\"white\",\"gridcolor\":\"rgb(232,232,232)\",\"gridwidth\":2,\"linecolor\":\"rgb(36,36,36)\",\"showbackground\":true,\"showgrid\":false,\"showline\":true,\"ticks\":\"outside\",\"zeroline\":false,\"zerolinecolor\":\"rgb(36,36,36)\"}},\"shapedefaults\":{\"fillcolor\":\"black\",\"line\":{\"width\":0},\"opacity\":0.3},\"ternary\":{\"aaxis\":{\"gridcolor\":\"rgb(232,232,232)\",\"linecolor\":\"rgb(36,36,36)\",\"showgrid\":false,\"showline\":true,\"ticks\":\"outside\"},\"baxis\":{\"gridcolor\":\"rgb(232,232,232)\",\"linecolor\":\"rgb(36,36,36)\",\"showgrid\":false,\"showline\":true,\"ticks\":\"outside\"},\"bgcolor\":\"white\",\"caxis\":{\"gridcolor\":\"rgb(232,232,232)\",\"linecolor\":\"rgb(36,36,36)\",\"showgrid\":false,\"showline\":true,\"ticks\":\"outside\"}},\"title\":{\"x\":0.05},\"xaxis\":{\"automargin\":true,\"gridcolor\":\"rgb(232,232,232)\",\"linecolor\":\"rgb(36,36,36)\",\"showgrid\":false,\"showline\":true,\"ticks\":\"outside\",\"title\":{\"standoff\":15},\"zeroline\":false,\"zerolinecolor\":\"rgb(36,36,36)\"},\"yaxis\":{\"automargin\":true,\"gridcolor\":\"rgb(232,232,232)\",\"linecolor\":\"rgb(36,36,36)\",\"showgrid\":false,\"showline\":true,\"ticks\":\"outside\",\"title\":{\"standoff\":15},\"zeroline\":false,\"zerolinecolor\":\"rgb(36,36,36)\"}}},\"xaxis\":{\"showgrid\":true},\"yaxis\":{\"showgrid\":true,\"title\":{\"text\":\"Frequency\"}},\"title\":{\"font\":{\"size\":22,\"color\":\"Black\"},\"text\":\"\\u003cb\\u003eTopics over Time\\u003c\\u002fb\\u003e\",\"y\":0.95,\"x\":0.4,\"xanchor\":\"center\",\"yanchor\":\"top\"},\"hoverlabel\":{\"font\":{\"size\":16,\"family\":\"Rockwell\"},\"bgcolor\":\"white\"},\"width\":1500,\"height\":450,\"legend\":{\"title\":{\"text\":\"\\u003cb\\u003eGlobal Topic Representation\"}}},                        {\"responsive\": true}                    ).then(function(){\n",
              "                            \n",
              "var gd = document.getElementById('203a3723-0075-4e55-8487-909dba5b3c2c');\n",
              "var x = new MutationObserver(function (mutations, observer) {{\n",
              "        var display = window.getComputedStyle(gd).display;\n",
              "        if (!display || display === 'none') {{\n",
              "            console.log([gd, 'removed!']);\n",
              "            Plotly.purge(gd);\n",
              "            observer.disconnect();\n",
              "        }}\n",
              "}});\n",
              "\n",
              "// Listen for the removal of the full notebook cells\n",
              "var notebookContainer = gd.closest('#notebook-container');\n",
              "if (notebookContainer) {{\n",
              "    x.observe(notebookContainer, {childList: true});\n",
              "}}\n",
              "\n",
              "// Listen for the clearing of the current output cell\n",
              "var outputEl = gd.closest('.output');\n",
              "if (outputEl) {{\n",
              "    x.observe(outputEl, {childList: true});\n",
              "}}\n",
              "\n",
              "                        })                };                            </script>        </div>\n",
              "</body>\n",
              "</html>"
            ]
          },
          "metadata": {}
        }
      ]
    },
    {
      "cell_type": "code",
      "source": [
        "loaded_model.visualize_topics_over_time(topics_over_time, topics=[6, 7, 8, 9,10,11,12], custom_labels=True, width=1500)"
      ],
      "metadata": {
        "colab": {
          "base_uri": "https://localhost:8080/",
          "height": 487
        },
        "id": "oagm2ZzDktL5",
        "outputId": "be7ad77c-4ad7-4a8b-fe2a-613b1a7f1923"
      },
      "execution_count": null,
      "outputs": [
        {
          "output_type": "display_data",
          "data": {
            "text/html": [
              "<html>\n",
              "<head><meta charset=\"utf-8\" /></head>\n",
              "<body>\n",
              "    <div>            <script src=\"https://cdnjs.cloudflare.com/ajax/libs/mathjax/2.7.5/MathJax.js?config=TeX-AMS-MML_SVG\"></script><script type=\"text/javascript\">if (window.MathJax && window.MathJax.Hub && window.MathJax.Hub.Config) {window.MathJax.Hub.Config({SVG: {font: \"STIX-Web\"}});}</script>                <script type=\"text/javascript\">window.PlotlyConfig = {MathJaxConfig: 'local'};</script>\n",
              "        <script charset=\"utf-8\" src=\"https://cdn.plot.ly/plotly-2.24.1.min.js\"></script>                <div id=\"e44239c1-18fb-410d-9ed0-886664cc1af6\" class=\"plotly-graph-div\" style=\"height:450px; width:1500px;\"></div>            <script type=\"text/javascript\">                                    window.PLOTLYENV=window.PLOTLYENV || {};                                    if (document.getElementById(\"e44239c1-18fb-410d-9ed0-886664cc1af6\")) {                    Plotly.newPlot(                        \"e44239c1-18fb-410d-9ed0-886664cc1af6\",                        [{\"hoverinfo\":\"text\",\"hovertext\":[\"\\u003cb\\u003eTopic 6\\u003c\\u002fb\\u003e\\u003cbr\\u003eWords: quantum, quantum organic engagement, backed chernobyl, organic engagement peak, organic engagement\",\"\\u003cb\\u003eTopic 6\\u003c\\u002fb\\u003e\\u003cbr\\u003eWords: quantum, sovereignlevel national security, remember successfully building, sovereignlevel, china country get\",\"\\u003cb\\u003eTopic 6\\u003c\\u002fb\\u003e\\u003cbr\\u003eWords: quantum, moore, faster, getting insane, getting faster faster\",\"\\u003cb\\u003eTopic 6\\u003c\\u002fb\\u003e\\u003cbr\\u003eWords: quantumcomputing billgates, want quantumcomputing, using quantum computing, talk using, computing mine\",\"\\u003cb\\u003eTopic 6\\u003c\\u002fb\\u003e\\u003cbr\\u003eWords: quantum, describe quantum, potentially reaching quantumsupremacy, sooner might, trump radar\",\"\\u003cb\\u003eTopic 6\\u003c\\u002fb\\u003e\\u003cbr\\u003eWords: quantum, quantum computing, ramping cloud, slowing tech, slowing tech antitrust\",\"\\u003cb\\u003eTopic 6\\u003c\\u002fb\\u003e\\u003cbr\\u003eWords: forgot, algorithm unfortunately forgot, told earnings joesquawk, forgot world, forgot world powerful\",\"\\u003cb\\u003eTopic 6\\u003c\\u002fb\\u003e\\u003cbr\\u003eWords: quantum, race folk area, quantumcomputing race, player investment opportunity, player investment\",\"\\u003cb\\u003eTopic 6\\u003c\\u002fb\\u003e\\u003cbr\\u003eWords: quantum, ledger database qldb, database qldb, quantum ledger, quantum ledger database\",\"\\u003cb\\u003eTopic 6\\u003c\\u002fb\\u003e\\u003cbr\\u003eWords: quantumcomputers next, quantumcomputing quantumcomputers next, gamers ready, jimcramer segment, home gamers ready\",\"\\u003cb\\u003eTopic 6\\u003c\\u002fb\\u003e\\u003cbr\\u003eWords: thought, quantumcomputing quantumcomputers player, jimcramer thought quantumcomputing, ahead believe next, believe next thought\",\"\\u003cb\\u003eTopic 6\\u003c\\u002fb\\u003e\\u003cbr\\u003eWords: news quantummechanics quantumcomputing, news quantummechanics, quantumcomputing quantumcomputers get, quantummechanics quantumcomputing, quantummechanics quantumcomputing quantumcomputers\",\"\\u003cb\\u003eTopic 6\\u003c\\u002fb\\u003e\\u003cbr\\u003eWords: quantum, computing, quantum computing, quantumcomputing, integrated chess engine\",\"\\u003cb\\u003eTopic 6\\u003c\\u002fb\\u003e\\u003cbr\\u003eWords: quantum, quantumcomputing, supremacy, quantum supremacy, quantumcomputers\",\"\\u003cb\\u003eTopic 6\\u003c\\u002fb\\u003e\\u003cbr\\u003eWords: quantum, quantumcomputing, crypto mining, necessarily translate hasing, translate hasing power\",\"\\u003cb\\u003eTopic 6\\u003c\\u002fb\\u003e\\u003cbr\\u003eWords: quantum, quantumcomputing, quantum computing, computing, quantum computer\",\"\\u003cb\\u003eTopic 6\\u003c\\u002fb\\u003e\\u003cbr\\u003eWords: quantum, quantumsupremacy, computer, supremacy, moment ushered quantum\",\"\\u003cb\\u003eTopic 6\\u003c\\u002fb\\u003e\\u003cbr\\u003eWords: electron, quantum, leader quantum computing, nice leader, nice leader quantum\",\"\\u003cb\\u003eTopic 6\\u003c\\u002fb\\u003e\\u003cbr\\u003eWords: huge thought quantumcomputers, jimcramer quantumcomputing, quantumcomputing breakthrough news, quantumcomputers leader, thought quantumcomputers\",\"\\u003cb\\u003eTopic 6\\u003c\\u002fb\\u003e\\u003cbr\\u003eWords: quantum, quantum computing, quantumcomputing, computing, investingmt\",\"\\u003cb\\u003eTopic 6\\u003c\\u002fb\\u003e\\u003cbr\\u003eWords: quantum, quantum computer physic, physic computing, nflx pton cron, pton cron tlry\",\"\\u003cb\\u003eTopic 6\\u003c\\u002fb\\u003e\\u003cbr\\u003eWords: shareholder one, advancement computing technology, question shareholder one, gain advancement, googs quantumsupremacy\",\"\\u003cb\\u003eTopic 6\\u003c\\u002fb\\u003e\\u003cbr\\u003eWords: quantum, computing, quantum computing, quantum computing area, great article money\",\"\\u003cb\\u003eTopic 6\\u003c\\u002fb\\u003e\\u003cbr\\u003eWords: resist quantum, quantum supremacy quantumleap, supremacy quantumleap, resist quantum supremacy, bitcoin resist\",\"\\u003cb\\u003eTopic 6\\u003c\\u002fb\\u003e\\u003cbr\\u003eWords: quantum, shor grover algorithmsgoogl, grover, grover algorithmsgoogl, exponential rate hardware\",\"\\u003cb\\u003eTopic 6\\u003c\\u002fb\\u003e\\u003cbr\\u003eWords: quantum, quantum physic, computing field, quantum physic huge, quantum computer computing\",\"\\u003cb\\u003eTopic 6\\u003c\\u002fb\\u003e\\u003cbr\\u003eWords: quantum, computing, quantum computing, computer, supremacy\",\"\\u003cb\\u003eTopic 6\\u003c\\u002fb\\u003e\\u003cbr\\u003eWords: quantum, computing, supercomputer, quantum computer, supremacy\",\"\\u003cb\\u003eTopic 6\\u003c\\u002fb\\u003e\\u003cbr\\u003eWords: quantum, supremacy, quantum computing, computing, supercomputer\",\"\\u003cb\\u003eTopic 6\\u003c\\u002fb\\u003e\\u003cbr\\u003eWords: supercomputer, second solve problem, problem world fastest, 10000 year figure, problem world\",\"\\u003cb\\u003eTopic 6\\u003c\\u002fb\\u003e\\u003cbr\\u003eWords: quantum, quantum computing, computing, supercomputer, quantum computer\",\"\\u003cb\\u003eTopic 6\\u003c\\u002fb\\u003e\\u003cbr\\u003eWords: quantum, quantum computing, form qtum defianceetfs, leap quantum, defianceetfs quantumsupremacy\",\"\\u003cb\\u003eTopic 6\\u003c\\u002fb\\u003e\\u003cbr\\u003eWords: quantum computing investible, idea beyond, investible idea, wondering outlook quantum, outlook quantum\",\"\\u003cb\\u003eTopic 6\\u003c\\u002fb\\u003e\\u003cbr\\u003eWords: quantum, azure quantum, quantum computing, computing, azure\",\"\\u003cb\\u003eTopic 6\\u003c\\u002fb\\u003e\\u003cbr\\u003eWords: quantum, cloud quantum, computing, quantum computing, cloud\",\"\\u003cb\\u003eTopic 6\\u003c\\u002fb\\u003e\\u003cbr\\u003eWords: quantum, quantum computing, quantumcomputing, weaponry intel space, space googlinvestment stock\",\"\\u003cb\\u003eTopic 6\\u003c\\u002fb\\u003e\\u003cbr\\u003eWords: quantum, moore, quantum computing, computing, several place\",\"\\u003cb\\u003eTopic 6\\u003c\\u002fb\\u003e\\u003cbr\\u003eWords: server, quantum, prem server cluster, lenovo baba datagravity, cloud changing supercomputer\",\"\\u003cb\\u003eTopic 6\\u003c\\u002fb\\u003e\\u003cbr\\u003eWords: quantum, quantum computing, computing, quantum computing service, computing service\",\"\\u003cb\\u003eTopic 6\\u003c\\u002fb\\u003e\\u003cbr\\u003eWords: quantum, reinvent, quantum computing, quantumcomputing, mean quantum cloud\",\"\\u003cb\\u003eTopic 6\\u003c\\u002fb\\u003e\\u003cbr\\u003eWords: swisher cnbc talked, talked quantum, cnbc talked, computing talking, computing talking agree\",\"\\u003cb\\u003eTopic 6\\u003c\\u002fb\\u003e\\u003cbr\\u003eWords: quantum, intel, qutech, quantum computersgoogl horseridge, intel reveals\",\"\\u003cb\\u003eTopic 6\\u003c\\u002fb\\u003e\\u003cbr\\u003eWords: quantum cloud, quantum cloud quantum, quantum, cloud quantum, cloud\",\"\\u003cb\\u003eTopic 6\\u003c\\u002fb\\u003e\\u003cbr\\u003eWords: significant, quantumcomputing, cybersecurity issue especially, quantumcomputing revolution science, currencybitcoin\",\"\\u003cb\\u003eTopic 6\\u003c\\u002fb\\u003e\\u003cbr\\u003eWords: computing solve, austinmicrosoft, quantumstyle, using quantumstyle computing, ford using\",\"\\u003cb\\u003eTopic 6\\u003c\\u002fb\\u003e\\u003cbr\\u003eWords: 2020 stock radaribm, radaribm, radaribm intc, stock radaribm, stock radaribm intc\",\"\\u003cb\\u003eTopic 6\\u003c\\u002fb\\u003e\\u003cbr\\u003eWords: growth driver edgecomputing, edgecomputing quantumcomputing, important growth driver, driver edgecomputing quantumcomputing, driver edgecomputing\",\"\\u003cb\\u003eTopic 6\\u003c\\u002fb\\u003e\\u003cbr\\u003eWords: quantum, quantum computing, computing, hardware partner, honeywell list\"],\"marker\":{\"color\":\"#E69F00\"},\"mode\":\"lines\",\"name\":\"Computaci\\u00f3n cu\\u00e1ntica\",\"x\":[\"2019-06-10\",\"2019-06-20\",\"2019-06-23\",\"2019-06-24\",\"2019-06-26\",\"2019-07-09\",\"2019-07-26\",\"2019-08-19\",\"2019-09-10\",\"2019-09-14\",\"2019-09-16\",\"2019-09-18\",\"2019-09-20\",\"2019-09-21\",\"2019-09-22\",\"2019-09-23\",\"2019-09-24\",\"2019-09-25\",\"2019-09-26\",\"2019-09-27\",\"2019-09-28\",\"2019-09-30\",\"2019-10-02\",\"2019-10-03\",\"2019-10-07\",\"2019-10-21\",\"2019-10-23\",\"2019-10-24\",\"2019-10-25\",\"2019-10-28\",\"2019-10-29\",\"2019-10-30\",\"2019-11-01\",\"2019-11-04\",\"2019-11-05\",\"2019-11-09\",\"2019-11-11\",\"2019-11-27\",\"2019-12-02\",\"2019-12-03\",\"2019-12-04\",\"2019-12-09\",\"2019-12-13\",\"2019-12-15\",\"2019-12-17\",\"2019-12-23\",\"2019-12-27\",\"2019-12-30\"],\"y\":[1,2,1,1,2,2,1,2,2,2,2,1,4,5,4,7,5,2,4,2,3,2,3,1,1,1,28,8,6,2,4,1,2,3,5,2,2,2,17,2,1,1,3,2,1,2,1,2],\"type\":\"scatter\"},{\"hoverinfo\":\"text\",\"hovertext\":[\"\\u003cb\\u003eTopic 7\\u003c\\u002fb\\u003e\\u003cbr\\u003eWords: linkedin, analytics, event, event msftfacebook owns, getting event\",\"\\u003cb\\u003eTopic 7\\u003c\\u002fb\\u003e\\u003cbr\\u003eWords: closing chinese, chinese july, closing chinese july, linkedin closing chinese, linkedin closing\",\"\\u003cb\\u003eTopic 7\\u003c\\u002fb\\u003e\\u003cbr\\u003eWords: linking, linkedin, chainlink, link, azure\",\"\\u003cb\\u003eTopic 7\\u003c\\u002fb\\u003e\\u003cbr\\u003eWords: linkedin, forget themas relatively, reformedbroker small correction, folk tend forget, correction social medium\",\"\\u003cb\\u003eTopic 7\\u003c\\u002fb\\u003e\\u003cbr\\u003eWords: linkgoog, linkgoog linkgoog, linkgoog linkgoog linkgoog, linkedin, link\",\"\\u003cb\\u003eTopic 7\\u003c\\u002fb\\u003e\\u003cbr\\u003eWords: chainlink, linkedin, maximalist view boomercoin, ledger implementation, boomercoin obsolete\",\"\\u003cb\\u003eTopic 7\\u003c\\u002fb\\u003e\\u003cbr\\u003eWords: 1000t, expecting market chainlink, market chainlink worth, collatoralising derivative market, collatoralising derivative\",\"\\u003cb\\u003eTopic 7\\u003c\\u002fb\\u003e\\u003cbr\\u003eWords: megacorps, linkedin, chainlink, protocol service, saying achieve\",\"\\u003cb\\u003eTopic 7\\u003c\\u002fb\\u003e\\u003cbr\\u003eWords: chainlink, truth, business afterall chainlink, sure announced, honest sure\",\"\\u003cb\\u003eTopic 7\\u003c\\u002fb\\u003e\\u003cbr\\u003eWords: sjosephburns facebook dominating, sjosephburns facebook, linkedin, pinterest linkedin advertising, pinterest linkedin\",\"\\u003cb\\u003eTopic 7\\u003c\\u002fb\\u003e\\u003cbr\\u003eWords: linkedin, algorithm change axios, linkedin announcing algorithm, change axios, announcing algorithm change\",\"\\u003cb\\u003eTopic 7\\u003c\\u002fb\\u003e\\u003cbr\\u003eWords: ethereum, linkedin, level ethereum dapps, ethereum dapps, chainlink turn\",\"\\u003cb\\u003eTopic 7\\u003c\\u002fb\\u003e\\u003cbr\\u003eWords: linkedin, danielnewmanuv interesting seems, danielnewmanuv interesting, linkedin go, better exclusive linkedin\",\"\\u003cb\\u003eTopic 7\\u003c\\u002fb\\u003e\\u003cbr\\u003eWords: link tripled, tripled, link, linkedin, chainlink\",\"\\u003cb\\u003eTopic 7\\u003c\\u002fb\\u003e\\u003cbr\\u003eWords: linkedin, connector msdynamicscrm, msdynamicscrm lucidchart lnkd, lnkd socialselling, release linkedin\",\"\\u003cb\\u003eTopic 7\\u003c\\u002fb\\u003e\\u003cbr\\u003eWords: throughofficial announcement, let follows throughofficial, soon buying case, true link chainlink, real let\",\"\\u003cb\\u003eTopic 7\\u003c\\u002fb\\u003e\\u003cbr\\u003eWords: markchainlink link literallywhoogle, markchainlink link, markchainlink, link literallywhoogle, literallywhoogle\",\"\\u003cb\\u003eTopic 7\\u003c\\u002fb\\u003e\\u003cbr\\u003eWords: linkedin, paying better, linkedin paying, paying better expected, linkedin paying better\",\"\\u003cb\\u003eTopic 7\\u003c\\u002fb\\u003e\\u003cbr\\u003eWords: linkedin, user, higher price premium, linkedin user, linkedin user willingness\",\"\\u003cb\\u003eTopic 7\\u003c\\u002fb\\u003e\\u003cbr\\u003eWords: linkedin, startup trillion, thinking azure office, market share growing, market amazing become\",\"\\u003cb\\u003eTopic 7\\u003c\\u002fb\\u003e\\u003cbr\\u003eWords: linkedin, congrats continue innovate, space linkedin, dividend impressive, delight market leading\",\"\\u003cb\\u003eTopic 7\\u003c\\u002fb\\u003e\\u003cbr\\u003eWords: linkedin, azure, linkedin allin azure, allin azure, linkedin allin\",\"\\u003cb\\u003eTopic 7\\u003c\\u002fb\\u003e\\u003cbr\\u003eWords: linkedin cloud, linkedin, cloud linkedin, cloud, chainlink\",\"\\u003cb\\u003eTopic 7\\u003c\\u002fb\\u003e\\u003cbr\\u003eWords: linkedin sundars, linkedin sundars great, little strange, strange opening, applying linkedin\",\"\\u003cb\\u003eTopic 7\\u003c\\u002fb\\u003e\\u003cbr\\u003eWords: linkedin, monthly eye, looking access, killing linkedin acquisition, faang though\",\"\\u003cb\\u003eTopic 7\\u003c\\u002fb\\u003e\\u003cbr\\u003eWords: link, linkedin, chainlink, azure, azure linkedin\",\"\\u003cb\\u003eTopic 7\\u003c\\u002fb\\u003e\\u003cbr\\u003eWords: looking find support, oversold looking find, looking find, oversold looking, find support\",\"\\u003cb\\u003eTopic 7\\u003c\\u002fb\\u003e\\u003cbr\\u003eWords: coming reputation worked, reputation worked, coming reputation, fundamentally chainlinked, chainlinked\",\"\\u003cb\\u003eTopic 7\\u003c\\u002fb\\u003e\\u003cbr\\u003eWords: linkedin, invisibility denial access, next jobgig, public reputation, manage public\",\"\\u003cb\\u003eTopic 7\\u003c\\u002fb\\u003e\\u003cbr\\u003eWords: presenting, presenting integrate, truffle partnered microsoftlink, announcement comingchainlink presenting, presenting trufflecon\",\"\\u003cb\\u003eTopic 7\\u003c\\u002fb\\u003e\\u003cbr\\u003eWords: sell wife, bought sell wife, wife bag, chainlink link announced, announced bought sell\",\"\\u003cb\\u003eTopic 7\\u003c\\u002fb\\u003e\\u003cbr\\u003eWords: reevaluate entire, arent reevaluate entire, arent reevaluate, entire existence, linkedin arent\",\"\\u003cb\\u003eTopic 7\\u003c\\u002fb\\u003e\\u003cbr\\u003eWords: bored defend linkedin, defend linkedin, bored defend, long bored defend, long bored\",\"\\u003cb\\u003eTopic 7\\u003c\\u002fb\\u003e\\u003cbr\\u003eWords: learn linkedin nytimes, rest internet, anything rest internet, internet learn linkedin, learn linkedin\",\"\\u003cb\\u003eTopic 7\\u003c\\u002fb\\u003e\\u003cbr\\u003eWords: linkedin, revenue snap weve, part run, june fiscal, linkedin revenue snap\",\"\\u003cb\\u003eTopic 7\\u003c\\u002fb\\u003e\\u003cbr\\u003eWords: zooko bitcoin jack, apompliano haimbodek, bitcoin jack, zooko, barrysilbert zooko bitcoin\",\"\\u003cb\\u003eTopic 7\\u003c\\u002fb\\u003e\\u003cbr\\u003eWords: linkedin, love joined linkedin, love interaction, interaction feedback receive, interaction feedback\",\"\\u003cb\\u003eTopic 7\\u003c\\u002fb\\u003e\\u003cbr\\u003eWords: linkedin, using linkedin, linkedin chinese, using linkedin chinese, chinese agent\",\"\\u003cb\\u003eTopic 7\\u003c\\u002fb\\u003e\\u003cbr\\u003eWords: loses appeal, linkedin loses, appeal user, appeal user profile, loses appeal user\",\"\\u003cb\\u003eTopic 7\\u003c\\u002fb\\u003e\\u003cbr\\u003eWords: link chainlink partnership, partnered azure, chainlink partnership, azure link chainlink, azure link\",\"\\u003cb\\u003eTopic 7\\u003c\\u002fb\\u003e\\u003cbr\\u003eWords: linkedin, another standardized, clout decade, standardized reduces risk, linkedin individual prove\",\"\\u003cb\\u003eTopic 7\\u003c\\u002fb\\u003e\\u003cbr\\u003eWords: linkedin, whats, linkedin screening question, linkedin whats linkeidn, screening question linkedin\",\"\\u003cb\\u003eTopic 7\\u003c\\u002fb\\u003e\\u003cbr\\u003eWords: linkedin, hunting techcrunch, linkedin launch skill, launch skill, test beef\",\"\\u003cb\\u003eTopic 7\\u003c\\u002fb\\u003e\\u003cbr\\u003eWords: good blend, good blend linkedin, blend linkedin, blend, linkedin\",\"\\u003cb\\u003eTopic 7\\u003c\\u002fb\\u003e\\u003cbr\\u003eWords: linkedin loses appeal, loses appeal, appeal user, appeal user profile, loses appeal user\",\"\\u003cb\\u003eTopic 7\\u003c\\u002fb\\u003e\\u003cbr\\u003eWords: linkedin, retrospect linkedin, obvious retrospect linkedin, spot third, exponentially grew data\",\"\\u003cb\\u003eTopic 7\\u003c\\u002fb\\u003e\\u003cbr\\u003eWords: eurosmonth, linkedin, eurosmonth whatsapp, whatsapp eurosmonthmsft snap, eurosmonth whatsapp eurosmonthmsft\",\"\\u003cb\\u003eTopic 7\\u003c\\u002fb\\u003e\\u003cbr\\u003eWords: chainlink, segment eidjohann 11700126, pegasyseng, devcon video trusted, collab chainlink intel\",\"\\u003cb\\u003eTopic 7\\u003c\\u002fb\\u003e\\u003cbr\\u003eWords: linkedinlinkedin launch event, linkedinlinkedin, feature foster, feature foster offline, linkedinlinkedin launch\",\"\\u003cb\\u003eTopic 7\\u003c\\u002fb\\u003e\\u003cbr\\u003eWords: linkedin, create attend, madeinindia feature, play stock ahead, user create\",\"\\u003cb\\u003eTopic 7\\u003c\\u002fb\\u003e\\u003cbr\\u003eWords: linkedin, msftmedian, msftmedian 148068openings 97009, fb15296226007, 16221043\",\"\\u003cb\\u003eTopic 7\\u003c\\u002fb\\u003e\\u003cbr\\u003eWords: head weekdirect link, weekdirect, weekdirect link, signal head weekdirect, member signal head\",\"\\u003cb\\u003eTopic 7\\u003c\\u002fb\\u003e\\u003cbr\\u003eWords: linkedin, azure, azure linkedin, linkedin revenue, azure cloud linkedin\",\"\\u003cb\\u003eTopic 7\\u003c\\u002fb\\u003e\\u003cbr\\u003eWords: linkedin, office fuel growth, office fuel, siliconangle everything linkedin, mikewheatley siliconangle everything\",\"\\u003cb\\u003eTopic 7\\u003c\\u002fb\\u003e\\u003cbr\\u003eWords: linkedin, bargain linkedin, background call, remember linkedin whiffed, call bargain\",\"\\u003cb\\u003eTopic 7\\u003c\\u002fb\\u003e\\u003cbr\\u003eWords: remember bought linkedin, remember bought, bought linkedin, linkedin, remember\",\"\\u003cb\\u003eTopic 7\\u003c\\u002fb\\u003e\\u003cbr\\u003eWords: linkedin, software open, path social medium, bargain imhomsft, twitter bought linkedin\",\"\\u003cb\\u003eTopic 7\\u003c\\u002fb\\u003e\\u003cbr\\u003eWords: linked, linkedin, chainlink, link, azure\",\"\\u003cb\\u003eTopic 7\\u003c\\u002fb\\u003e\\u003cbr\\u003eWords: chainlink, partner, kaleidoio stream, cayblood, kaleido\",\"\\u003cb\\u003eTopic 7\\u003c\\u002fb\\u003e\\u003cbr\\u003eWords: linkedin, linkedin make sense, make sense linkedin, linkedin blue collar, sense linkedin\",\"\\u003cb\\u003eTopic 7\\u003c\\u002fb\\u003e\\u003cbr\\u003eWords: linkedin, looking search site, year noticed information, posted recently looking, search site monster\",\"\\u003cb\\u003eTopic 7\\u003c\\u002fb\\u003e\\u003cbr\\u003eWords: linkedin franchise, twitter linkedin franchise, past controversial, controversial comment, controversial comment good\",\"\\u003cb\\u003eTopic 7\\u003c\\u002fb\\u003e\\u003cbr\\u003eWords: source, linkedin, chainlink, link, azure\",\"\\u003cb\\u003eTopic 7\\u003c\\u002fb\\u003e\\u003cbr\\u003eWords: linkedin, twitter, inactive user linkedin, social network twitter, sure connectmsft\",\"\\u003cb\\u003eTopic 7\\u003c\\u002fb\\u003e\\u003cbr\\u003eWords: linkedin, github 2018, cash investment 2020, last acquisition github, github 2018 linkedin\",\"\\u003cb\\u003eTopic 7\\u003c\\u002fb\\u003e\\u003cbr\\u003eWords: twitter without crap, twitter without, wacko, become twitter, crap wacko\",\"\\u003cb\\u003eTopic 7\\u003c\\u002fb\\u003e\\u003cbr\\u003eWords: linkedin aiding, linkedin aiding abetting, abetting, aiding abetting, aiding\",\"\\u003cb\\u003eTopic 7\\u003c\\u002fb\\u003e\\u003cbr\\u003eWords: linkedin million professional, million professional, professional india, million professional india, linkedin million\",\"\\u003cb\\u003eTopic 7\\u003c\\u002fb\\u003e\\u003cbr\\u003eWords: docare networkclean, definitely docare, amazing linkedin definitely, docare, linkedin definitely docare\",\"\\u003cb\\u003eTopic 7\\u003c\\u002fb\\u003e\\u003cbr\\u003eWords: sell linkedin umbrella, linkedin umbrella, sell linkedin, umbrella, linkedin\",\"\\u003cb\\u003eTopic 7\\u003c\\u002fb\\u003e\\u003cbr\\u003eWords: linkedin, scratchingmyhead wtfock thinkingoutloud, conundrum scratchingmyhead wtfock, twitter real conundrum, loud come\",\"\\u003cb\\u003eTopic 7\\u003c\\u002fb\\u003e\\u003cbr\\u003eWords: emerging job ranking, dominates linkedins, dominates linkedins emerging, linkedins emerging, linkedins emerging job\",\"\\u003cb\\u003eTopic 7\\u003c\\u002fb\\u003e\\u003cbr\\u003eWords: linkedin, approach subsidiary frame, subsidiary frame decisionmaking, trust member linkedin, frame decisionmaking\",\"\\u003cb\\u003eTopic 7\\u003c\\u002fb\\u003e\\u003cbr\\u003eWords: linkedin, nadellas real, flag improved geographic, actually mistake, mistake linkedin sale\",\"\\u003cb\\u003eTopic 7\\u003c\\u002fb\\u003e\\u003cbr\\u003eWords: linkpoolio link chainlink, linkpoolio link, linkpoolio, link chainlink, chainlink\",\"\\u003cb\\u003eTopic 7\\u003c\\u002fb\\u003e\\u003cbr\\u003eWords: linkedin, data validation, validation, salesloft, validation flag\",\"\\u003cb\\u003eTopic 7\\u003c\\u002fb\\u003e\\u003cbr\\u003eWords: linkedin rival india, linkedin rival, try linkedin, try linkedin rival, rival india\",\"\\u003cb\\u003eTopic 7\\u003c\\u002fb\\u003e\\u003cbr\\u003eWords: linkedin, weiner good latest, linkedin mostly left, poised annual growth, growth azure linkedin\",\"\\u003cb\\u003eTopic 7\\u003c\\u002fb\\u003e\\u003cbr\\u003eWords: linkedin github destiny, github destiny, tell link, tell link 7towin10, 7towin10\",\"\\u003cb\\u003eTopic 7\\u003c\\u002fb\\u003e\\u003cbr\\u003eWords: happened sayin chainlink, currently happened, link currently happened, sayin chainlink, happened sayin\",\"\\u003cb\\u003eTopic 7\\u003c\\u002fb\\u003e\\u003cbr\\u003eWords: linkedin, following acquisition, following acquisition latest, explains gradual, linkedin explains\"],\"marker\":{\"color\":\"#56B4E9\"},\"mode\":\"lines\",\"name\":\"Otras empresas\",\"x\":[\"2019-06-03\",\"2019-06-05\",\"2019-06-10\",\"2019-06-12\",\"2019-06-13\",\"2019-06-17\",\"2019-06-18\",\"2019-06-19\",\"2019-06-21\",\"2019-06-24\",\"2019-06-25\",\"2019-06-26\",\"2019-06-27\",\"2019-06-28\",\"2019-07-05\",\"2019-07-09\",\"2019-07-16\",\"2019-07-17\",\"2019-07-18\",\"2019-07-19\",\"2019-07-20\",\"2019-07-23\",\"2019-07-24\",\"2019-07-25\",\"2019-07-26\",\"2019-07-28\",\"2019-07-29\",\"2019-07-30\",\"2019-07-31\",\"2019-08-03\",\"2019-08-07\",\"2019-08-10\",\"2019-08-11\",\"2019-08-12\",\"2019-08-19\",\"2019-08-21\",\"2019-08-27\",\"2019-08-28\",\"2019-09-09\",\"2019-09-10\",\"2019-09-11\",\"2019-09-12\",\"2019-09-20\",\"2019-09-21\",\"2019-09-23\",\"2019-09-30\",\"2019-10-11\",\"2019-10-12\",\"2019-10-16\",\"2019-10-17\",\"2019-10-19\",\"2019-10-20\",\"2019-10-23\",\"2019-10-24\",\"2019-10-25\",\"2019-10-28\",\"2019-11-14\",\"2019-11-16\",\"2019-11-18\",\"2019-11-19\",\"2019-11-21\",\"2019-11-25\",\"2019-11-26\",\"2019-11-27\",\"2019-11-29\",\"2019-12-01\",\"2019-12-03\",\"2019-12-04\",\"2019-12-06\",\"2019-12-08\",\"2019-12-09\",\"2019-12-10\",\"2019-12-16\",\"2019-12-17\",\"2019-12-18\",\"2019-12-19\",\"2019-12-20\",\"2019-12-27\",\"2019-12-28\",\"2019-12-29\",\"2019-12-30\"],\"y\":[2,5,1,1,5,2,1,2,1,1,4,1,1,1,1,1,1,5,8,2,2,4,2,1,2,1,1,1,1,1,1,1,1,1,1,1,1,4,2,1,1,6,1,1,1,2,1,1,1,2,2,1,13,1,3,1,1,1,3,2,1,1,1,1,1,1,2,1,1,1,2,1,1,2,1,2,1,2,2,1,1],\"type\":\"scatter\"},{\"hoverinfo\":\"text\",\"hovertext\":[\"\\u003cb\\u003eTopic 8\\u003c\\u002fb\\u003e\\u003cbr\\u003eWords: cramer, cramer watching apple, wwdc conference, wwdc conference cramer, watching apple wwdc\",\"\\u003cb\\u003eTopic 8\\u003c\\u002fb\\u003e\\u003cbr\\u003eWords: cramer, jimcramer, jimcramer thestreet, jimcramer madmoneyoncnbc, thestreet\",\"\\u003cb\\u003eTopic 8\\u003c\\u002fb\\u003e\\u003cbr\\u003eWords: understands case, cramer say understands, say understands case, say understands, understands case breaking\",\"\\u003cb\\u003eTopic 8\\u003c\\u002fb\\u003e\\u003cbr\\u003eWords: cramer, cramer contraindicator last, said untouchable, cramer contraindicator, contraindicator last\",\"\\u003cb\\u003eTopic 8\\u003c\\u002fb\\u003e\\u003cbr\\u003eWords: cramer, lulu cost jimcramer, retail stock working, dltr lulu, dltr lulu cost\",\"\\u003cb\\u003eTopic 8\\u003c\\u002fb\\u003e\\u003cbr\\u003eWords: cramer, cramer support emergency, banter disturbing, banter disturbing cramer, rate level index\",\"\\u003cb\\u003eTopic 8\\u003c\\u002fb\\u003e\\u003cbr\\u003eWords: high valuation, cramer, high valuation hack, crwd hammer, commends\",\"\\u003cb\\u003eTopic 8\\u003c\\u002fb\\u003e\\u003cbr\\u003eWords: green listen, listen cramer yday, green listen cramer, cramer yday sell, yday sell\",\"\\u003cb\\u003eTopic 8\\u003c\\u002fb\\u003e\\u003cbr\\u003eWords: cramer, hard time know, give hard time, give hard, attention everything cramer\",\"\\u003cb\\u003eTopic 8\\u003c\\u002fb\\u003e\\u003cbr\\u003eWords: cramer, msci jimcramer, msci jimcramer madmoneyoncnbc, csco cdns msci, lulu payx real\",\"\\u003cb\\u003eTopic 8\\u003c\\u002fb\\u003e\\u003cbr\\u003eWords: cramer, madmoneyoncnbc cnbc roku, nflx jimcramer madmoneyoncnbc, crazy nflx jimcramer, gone crazy nflx\",\"\\u003cb\\u003eTopic 8\\u003c\\u002fb\\u003e\\u003cbr\\u003eWords: cramer, multiple said, remember cramer, buying whole food, dont listen cramer\",\"\\u003cb\\u003eTopic 8\\u003c\\u002fb\\u003e\\u003cbr\\u003eWords: cramer, pin jimcramer madmoneyoncnbc, sfix etsy lulu, cramer four stock, retail sfix\",\"\\u003cb\\u003eTopic 8\\u003c\\u002fb\\u003e\\u003cbr\\u003eWords: stocksa basket note, note ofintroducingthe stock, fang stocksa, madmoneyoncnbc cost, stocksa basket\",\"\\u003cb\\u003eTopic 8\\u003c\\u002fb\\u003e\\u003cbr\\u003eWords: cramer, jimcramer, introduces watch retailer, cramer market, cramer market libra\",\"\\u003cb\\u003eTopic 8\\u003c\\u002fb\\u003e\\u003cbr\\u003eWords: stock cramers money, friday 71219amzn nflx, friday 71219amzn, recap friday 71219amzn, stock cramers\",\"\\u003cb\\u003eTopic 8\\u003c\\u002fb\\u003e\\u003cbr\\u003eWords: cramer, crwd cramer trashed, found crwd cramer, saying expensive owns, trashed saying expensive\",\"\\u003cb\\u003eTopic 8\\u003c\\u002fb\\u003e\\u003cbr\\u003eWords: cramer, hitgoog, ebay wmtjim, industry pricing leverage, cramer retail\",\"\\u003cb\\u003eTopic 8\\u003c\\u002fb\\u003e\\u003cbr\\u003eWords: cramer, cramer lavishing, lavishing praise, praise careful, said sell leader\",\"\\u003cb\\u003eTopic 8\\u003c\\u002fb\\u003e\\u003cbr\\u003eWords: cramer, money gameplan pypl, sbux jimcramer, sbux jimcramer madmoneyoncnbc, gameplan pypl\",\"\\u003cb\\u003eTopic 8\\u003c\\u002fb\\u003e\\u003cbr\\u003eWords: rocking fibonacci, queen read, cramer rocking, rocking fibonacci queen, fibonacci queen read\",\"\\u003cb\\u003eTopic 8\\u003c\\u002fb\\u003e\\u003cbr\\u003eWords: sector trade continuesfb, trade continuesfb, cramer sector, cramer sector trade, continuesfb\",\"\\u003cb\\u003eTopic 8\\u003c\\u002fb\\u003e\\u003cbr\\u003eWords: cramer, agree say servicenow, go thru, cramer say go, deal agree say\",\"\\u003cb\\u003eTopic 8\\u003c\\u002fb\\u003e\\u003cbr\\u003eWords: cramer, cost jimcramer, jimcramer, swks cost jimcramer, macys say cramer\",\"\\u003cb\\u003eTopic 8\\u003c\\u002fb\\u003e\\u003cbr\\u003eWords: cramer, shop onlinethey, check cramer, want shop onlinethey, check appits good\",\"\\u003cb\\u003eTopic 8\\u003c\\u002fb\\u003e\\u003cbr\\u003eWords: evebitda, cramer, alphabet stock cramer, stock cramer, tremendously enormouslyaap evebitda\",\"\\u003cb\\u003eTopic 8\\u003c\\u002fb\\u003e\\u003cbr\\u003eWords: alphabet stock cramer, stock cramer say, stock cramer, cramer say, cramer\",\"\\u003cb\\u003eTopic 8\\u003c\\u002fb\\u003e\\u003cbr\\u003eWords: cramer, proof economy strength, cramer money lightning, economy strength home, lightning round cron\",\"\\u003cb\\u003eTopic 8\\u003c\\u002fb\\u003e\\u003cbr\\u003eWords: 5cvsdisamzngoogbrkb, cramerdo, here 5cvsdisamzngoogbrkb, need here 5cvsdisamzngoogbrkb, cramerdo need\",\"\\u003cb\\u003eTopic 8\\u003c\\u002fb\\u003e\\u003cbr\\u003eWords: cramer, jimcramer told believe, china guess, cramer fucking idiot, guess cramer\",\"\\u003cb\\u003eTopic 8\\u003c\\u002fb\\u003e\\u003cbr\\u003eWords: cramer, sky aheades dementia, aheades dementia donnie, aheades dementia, relief cramer say\",\"\\u003cb\\u003eTopic 8\\u003c\\u002fb\\u003e\\u003cbr\\u003eWords: cramer, gain cramer say, gain cramer, bottoming primed gain, primed gain cramer\",\"\\u003cb\\u003eTopic 8\\u003c\\u002fb\\u003e\\u003cbr\\u003eWords: cramer, bottoming primed 20amznnot, 20amznnot financial, primed 20amznnot financial, cramer chart\",\"\\u003cb\\u003eTopic 8\\u003c\\u002fb\\u003e\\u003cbr\\u003eWords: cramer getting crushed, cramer getting, getting crushed, cramer, crushed\",\"\\u003cb\\u003eTopic 8\\u003c\\u002fb\\u003e\\u003cbr\\u003eWords: cramerclub disagree recommendation, average homegamer, flier little pricey, cramerclub disagree, recommendation club member\",\"\\u003cb\\u003eTopic 8\\u003c\\u002fb\\u003e\\u003cbr\\u003eWords: tuesday 91719fdx, ahead cramers money, 91719fdx, recap tuesday 91719fdx, money recap tuesday\",\"\\u003cb\\u003eTopic 8\\u003c\\u002fb\\u003e\\u003cbr\\u003eWords: cramer, iger benioff, benioff twitter away, realmoney personally, personally best\",\"\\u003cb\\u003eTopic 8\\u003c\\u002fb\\u003e\\u003cbr\\u003eWords: lower gotten, lower gotten ahead, looked cramerclub, time looked cramerclub, jimcramer saying lower\",\"\\u003cb\\u003eTopic 8\\u003c\\u002fb\\u003e\\u003cbr\\u003eWords: presatya, cramer, satya, satya mean, great satya cramer\",\"\\u003cb\\u003eTopic 8\\u003c\\u002fb\\u003e\\u003cbr\\u003eWords: cramer banned, someone tell cramer, tell cramer, tell cramer banned, cramer banned china\",\"\\u003cb\\u003eTopic 8\\u003c\\u002fb\\u003e\\u003cbr\\u003eWords: cramer, swing earnings cramer, winner drop, thinking fib, shop visualizing type\",\"\\u003cb\\u003eTopic 8\\u003c\\u002fb\\u003e\\u003cbr\\u003eWords: presentation cramer, timely presentation, timely presentation cramer, presentation cramer presenting, presenting crash\",\"\\u003cb\\u003eTopic 8\\u003c\\u002fb\\u003e\\u003cbr\\u003eWords: cramer, market economic, cramer say faang, stock market economic, mfst swap\",\"\\u003cb\\u003eTopic 8\\u003c\\u002fb\\u003e\\u003cbr\\u003eWords: cramer, stock worth owning, earnings season according, season according, microsofts earnings decipher\",\"\\u003cb\\u003eTopic 8\\u003c\\u002fb\\u003e\\u003cbr\\u003eWords: cramer, cramer say, say, basically, jimcramer\",\"\\u003cb\\u003eTopic 8\\u003c\\u002fb\\u003e\\u003cbr\\u003eWords: cramer, grub jimcramer, money game plan, shop grub jimcramer, game plan bynd\",\"\\u003cb\\u003eTopic 8\\u003c\\u002fb\\u003e\\u003cbr\\u003eWords: cramer, contract validates, pentagon contract validates, validates microsofts cloud, contract validates microsofts\",\"\\u003cb\\u003eTopic 8\\u003c\\u002fb\\u003e\\u003cbr\\u003eWords: cramer, compete watch health, intendeds enter cramer, industry intendeds enter, industry intendeds\",\"\\u003cb\\u003eTopic 8\\u003c\\u002fb\\u003e\\u003cbr\\u003eWords: cramer, money including xerox, hub jimcramer, share thought kinder, xerox uber\",\"\\u003cb\\u003eTopic 8\\u003c\\u002fb\\u003e\\u003cbr\\u003eWords: cramer, hiring vet, starbucks hiring vet, vet retail, including stock kid\",\"\\u003cb\\u003eTopic 8\\u003c\\u002fb\\u003e\\u003cbr\\u003eWords: cramer, bubble, time high, high bubble, bubble promote\",\"\\u003cb\\u003eTopic 8\\u003c\\u002fb\\u003e\\u003cbr\\u003eWords: earnings rhamzn, cramer jedi contract, jedi contract nvidia, cramer jedi, strike cramer\",\"\\u003cb\\u003eTopic 8\\u003c\\u002fb\\u003e\\u003cbr\\u003eWords: cramer, getting overnvda seems, slowly getting overnvda, cramer helped, cramer helped outspyrokunflxnoahgoogllrcxsmhruttnatqqq\",\"\\u003cb\\u003eTopic 8\\u003c\\u002fb\\u003e\\u003cbr\\u003eWords: november rain, home oxygen, oxygen pop, puff immediately home, pop screen coincidence\",\"\\u003cb\\u003eTopic 8\\u003c\\u002fb\\u003e\\u003cbr\\u003eWords: target fight jimcramer, fight jimcramer, cramer walmart target, cramer walmart, target fight\",\"\\u003cb\\u003eTopic 8\\u003c\\u002fb\\u003e\\u003cbr\\u003eWords: cramer, larry page marc, cramer larry, cramer larry page, marc benioff mark\",\"\\u003cb\\u003eTopic 8\\u003c\\u002fb\\u003e\\u003cbr\\u003eWords: cramer macys, macys kohlsamzn, grinch stole, cramer macys kohlsamzn, stole christmas\",\"\\u003cb\\u003eTopic 8\\u003c\\u002fb\\u003e\\u003cbr\\u003eWords: 13rd internet, internet commerce, internet commerce cramer, commerce cramer money, 121919tradesedge\"],\"marker\":{\"color\":\"#009E73\"},\"mode\":\"lines\",\"name\":\"An\\u00e1lisis CNBC\",\"x\":[\"2019-06-03\",\"2019-06-04\",\"2019-06-05\",\"2019-06-10\",\"2019-06-14\",\"2019-06-19\",\"2019-06-20\",\"2019-06-21\",\"2019-07-01\",\"2019-07-02\",\"2019-07-03\",\"2019-07-09\",\"2019-07-10\",\"2019-07-11\",\"2019-07-12\",\"2019-07-14\",\"2019-07-16\",\"2019-07-17\",\"2019-07-19\",\"2019-07-22\",\"2019-07-29\",\"2019-08-05\",\"2019-08-08\",\"2019-08-14\",\"2019-08-15\",\"2019-08-16\",\"2019-08-17\",\"2019-08-20\",\"2019-08-26\",\"2019-09-01\",\"2019-09-06\",\"2019-09-07\",\"2019-09-08\",\"2019-09-09\",\"2019-09-12\",\"2019-09-18\",\"2019-09-26\",\"2019-10-01\",\"2019-10-04\",\"2019-10-08\",\"2019-10-14\",\"2019-10-16\",\"2019-10-18\",\"2019-10-24\",\"2019-10-25\",\"2019-10-28\",\"2019-10-29\",\"2019-11-01\",\"2019-11-07\",\"2019-11-10\",\"2019-11-14\",\"2019-11-15\",\"2019-11-19\",\"2019-11-21\",\"2019-12-03\",\"2019-12-04\",\"2019-12-09\",\"2019-12-30\"],\"y\":[3,6,1,1,1,1,1,1,1,1,4,1,1,1,2,1,1,2,2,4,1,1,1,2,1,5,1,2,1,1,5,2,1,1,2,1,1,1,1,1,1,1,2,2,7,3,5,1,2,1,1,2,1,1,1,4,1,1],\"type\":\"scatter\"},{\"hoverinfo\":\"text\",\"hovertext\":[\"\\u003cb\\u003eTopic 9\\u003c\\u002fb\\u003e\\u003cbr\\u003eWords: orangemanbad, orangemanbad impeachtrumpnow, impeachtrumpnow, impeachment, trump\",\"\\u003cb\\u003eTopic 9\\u003c\\u002fb\\u003e\\u003cbr\\u003eWords: illigitimatepotus real traitor, traitor impeachtrump, real traitor, illigitimatepotus, illigitimatepotus real\",\"\\u003cb\\u003eTopic 9\\u003c\\u002fb\\u003e\\u003cbr\\u003eWords: action likespy, action likespy snap, aeri nflx gbtc, aeri nflx, likespy snap cost\",\"\\u003cb\\u003eTopic 9\\u003c\\u002fb\\u003e\\u003cbr\\u003eWords: impeachment, trump impeachment, fact ready, impeach, trump\",\"\\u003cb\\u003eTopic 9\\u003c\\u002fb\\u003e\\u003cbr\\u003eWords: impeachment, senate, faang nflx, bynd avgo roku, republicanled senate\",\"\\u003cb\\u003eTopic 9\\u003c\\u002fb\\u003e\\u003cbr\\u003eWords: impeachment, min, trump impeachment, consider trump, rather muted min\",\"\\u003cb\\u003eTopic 9\\u003c\\u002fb\\u003e\\u003cbr\\u003eWords: trump, impeachment, impeached, lost trade china, said tweet trump\",\"\\u003cb\\u003eTopic 9\\u003c\\u002fb\\u003e\\u003cbr\\u003eWords: civil, getting sbux coffee, sbux coffee busy, show vote, heck happy show\",\"\\u003cb\\u003eTopic 9\\u003c\\u002fb\\u003e\\u003cbr\\u003eWords: impeach, trump, trumpthen tech start, impeach trump revenge, 2019 declinesand industry\",\"\\u003cb\\u003eTopic 9\\u003c\\u002fb\\u003e\\u003cbr\\u003eWords: cause market rally, market rally djia, impeachment cause, impeachment cause market, trump impeachment cause\",\"\\u003cb\\u003eTopic 9\\u003c\\u002fb\\u003e\\u003cbr\\u003eWords: subpoena pentagon part, pentagon part trump, democrat subpoena, democrat subpoena pentagon, house democrat subpoena\",\"\\u003cb\\u003eTopic 9\\u003c\\u002fb\\u003e\\u003cbr\\u003eWords: sondland told testify, nflx ambassador, inquiry report, impeachment inquiry report, told testify\",\"\\u003cb\\u003eTopic 9\\u003c\\u002fb\\u003e\\u003cbr\\u003eWords: impeachment, careful, etcbe extra careful, move fundamental, shift weaker\",\"\\u003cb\\u003eTopic 9\\u003c\\u002fb\\u003e\\u003cbr\\u003eWords: nflx rick, nflx rick perry, get subpoena, perry get, subpoena democrat impeachment\",\"\\u003cb\\u003eTopic 9\\u003c\\u002fb\\u003e\\u003cbr\\u003eWords: vote authorizing, hold house vote, impeachment inquiry time, hold house, nflx pelosi hold\",\"\\u003cb\\u003eTopic 9\\u003c\\u002fb\\u003e\\u003cbr\\u003eWords: saying corrupt, investigation winning, president currently, currently ongoing criminal, currently ongoing\",\"\\u003cb\\u003eTopic 9\\u003c\\u002fb\\u003e\\u003cbr\\u003eWords: impeachment, news periphery, turn impeachment, look good msfts, turn impeachment news\",\"\\u003cb\\u003eTopic 9\\u003c\\u002fb\\u003e\\u003cbr\\u003eWords: maga impeachmentiscomingamzn pet, pet amdchk, amdchk, recessiontrumprecession maga, recessiontrumprecession maga impeachmentiscomingamzn\",\"\\u003cb\\u003eTopic 9\\u003c\\u002fb\\u003e\\u003cbr\\u003eWords: possible deposition report, panel possible, deposition report, possible deposition, house panel possible\",\"\\u003cb\\u003eTopic 9\\u003c\\u002fb\\u003e\\u003cbr\\u003eWords: trump impeachtrump, impeachtrump, trump, impeachment, impeached\",\"\\u003cb\\u003eTopic 9\\u003c\\u002fb\\u003e\\u003cbr\\u003eWords: exuberance nflx, time irrational exuberance, time irrational, impeachment time, impeachment time irrational\",\"\\u003cb\\u003eTopic 9\\u003c\\u002fb\\u003e\\u003cbr\\u003eWords: impeachment, manufacturing job creation, impeachment realdonaldtrump nflx, impeachment realdonaldtrump, job creation escalation\",\"\\u003cb\\u003eTopic 9\\u003c\\u002fb\\u003e\\u003cbr\\u003eWords: impeachment, predator, upside move friday, usdjpy nvda, overnight surprise\",\"\\u003cb\\u003eTopic 9\\u003c\\u002fb\\u003e\\u003cbr\\u003eWords: impeachment, deal living lie, estate snake, steal real estate, snake chalk another\",\"\\u003cb\\u003eTopic 9\\u003c\\u002fb\\u003e\\u003cbr\\u003eWords: using toilet, paperanyone plan hunger, gssmell, plan hunger, start thereapo\",\"\\u003cb\\u003eTopic 9\\u003c\\u002fb\\u003e\\u003cbr\\u003eWords: performance chase push, impeachment performance chase, impeachment performance, push jones, chase push jones\",\"\\u003cb\\u003eTopic 9\\u003c\\u002fb\\u003e\\u003cbr\\u003eWords: impeachment, resignation commondreamsspy cost, cost avgo twlo, bombshell day nixon, nixon starr wonder\",\"\\u003cb\\u003eTopic 9\\u003c\\u002fb\\u003e\\u003cbr\\u003eWords: indictedpie break vrsvirginia, break vrsvirginia, indictedpie break, queen netanyahu, evicted queen netanyahu\",\"\\u003cb\\u003eTopic 9\\u003c\\u002fb\\u003e\\u003cbr\\u003eWords: waiting article, article impeachment, scandal waiting, impeachment impeachtrump, waiting article impeachment\",\"\\u003cb\\u003eTopic 9\\u003c\\u002fb\\u003e\\u003cbr\\u003eWords: trump ukrainification, corporate america impeachtrump, ukrainification corporate america, ukrainification corporate, ukrainification\",\"\\u003cb\\u003eTopic 9\\u003c\\u002fb\\u003e\\u003cbr\\u003eWords: power deal, continue blame power, continue blame, opinion away, blame power\",\"\\u003cb\\u003eTopic 9\\u003c\\u002fb\\u003e\\u003cbr\\u003eWords: impeachment, certainly nvda intc, show advertise realdonaldtrump, impeachment circus, certainly nvda\",\"\\u003cb\\u003eTopic 9\\u003c\\u002fb\\u003e\\u003cbr\\u003eWords: impeachment, daxf rtyf impeachmentday, dearest, impeached house exonerated, house exonerated\",\"\\u003cb\\u003eTopic 9\\u003c\\u002fb\\u003e\\u003cbr\\u003eWords: impeachment, escalation impeachment proceeding, administration slowdown manufacturing, proceeding unprecedented, impeachment proceeding unprecedented\",\"\\u003cb\\u003eTopic 9\\u003c\\u002fb\\u003e\\u003cbr\\u003eWords: trump baked market, baked market, baked market djia, impeachment trump baked, djia impeachmentimpeachmentday\",\"\\u003cb\\u003eTopic 9\\u003c\\u002fb\\u003e\\u003cbr\\u003eWords: impeachment, couldnt usmca fomc, trump interfering jedi, tonight video posted, impeachment work billclintonlb\",\"\\u003cb\\u003eTopic 9\\u003c\\u002fb\\u003e\\u003cbr\\u003eWords: shop flying holding, holding next call, cash weekend shop, weekend shop flying, weekend shop\",\"\\u003cb\\u003eTopic 9\\u003c\\u002fb\\u003e\\u003cbr\\u003eWords: becausemsft, impeachment bullish stock, impeachment bullish, bullish stock becausemsft, stock becausemsft\",\"\\u003cb\\u003eTopic 9\\u003c\\u002fb\\u003e\\u003cbr\\u003eWords: impeachment, picking likely nflx, move impeachment vote, easy mkts, tmrw picking likely\",\"\\u003cb\\u003eTopic 9\\u003c\\u002fb\\u003e\\u003cbr\\u003eWords: impeached, impeachment, president, president trump impeached, trump impeached\",\"\\u003cb\\u003eTopic 9\\u003c\\u002fb\\u003e\\u003cbr\\u003eWords: controlstock buyback especially, controlstock buyback, rate start upfomc, especially semiconductor rate, especially semiconductor\",\"\\u003cb\\u003eTopic 9\\u003c\\u002fb\\u003e\\u003cbr\\u003eWords: blah, impeachment, recapbears ironically, report minute, blah job\"],\"marker\":{\"color\":\"#F0E442\"},\"mode\":\"lines\",\"name\":\"Destituci\\u00f3n Trump\",\"x\":[\"2019-06-26\",\"2019-07-16\",\"2019-09-06\",\"2019-09-24\",\"2019-09-25\",\"2019-09-26\",\"2019-09-27\",\"2019-09-30\",\"2019-10-03\",\"2019-10-06\",\"2019-10-07\",\"2019-10-08\",\"2019-10-09\",\"2019-10-10\",\"2019-10-15\",\"2019-10-18\",\"2019-10-23\",\"2019-10-24\",\"2019-10-25\",\"2019-10-26\",\"2019-11-04\",\"2019-11-08\",\"2019-11-13\",\"2019-11-15\",\"2019-11-16\",\"2019-11-19\",\"2019-11-20\",\"2019-11-21\",\"2019-11-23\",\"2019-11-24\",\"2019-11-26\",\"2019-12-01\",\"2019-12-04\",\"2019-12-05\",\"2019-12-08\",\"2019-12-09\",\"2019-12-13\",\"2019-12-17\",\"2019-12-18\",\"2019-12-19\",\"2019-12-22\",\"2019-12-29\"],\"y\":[1,1,1,9,8,3,2,1,2,1,1,1,3,1,1,2,1,1,1,2,2,3,3,3,1,2,3,1,2,1,1,3,2,6,3,3,1,1,1,14,1,1],\"type\":\"scatter\"},{\"hoverinfo\":\"text\",\"hovertext\":[\"\\u003cb\\u003eTopic 10\\u003c\\u002fb\\u003e\\u003cbr\\u003eWords: ramp, search review stock, report ramp, full monday post, low xlnx\",\"\\u003cb\\u003eTopic 10\\u003c\\u002fb\\u003e\\u003cbr\\u003eWords: cant rally ramp, rally ramp, cant rally, ramp, cant\",\"\\u003cb\\u003eTopic 10\\u003c\\u002fb\\u003e\\u003cbr\\u003eWords: daily ivlevels uvxy, daily ivlevels, ivlevels uvxy, ivlevels, ivlevels uvxy daily\",\"\\u003cb\\u003eTopic 10\\u003c\\u002fb\\u003e\\u003cbr\\u003eWords: smart uvxy, ivpercentiles start tuesday, tuesday trade smart, trade smart uvxy, start tuesday trade\",\"\\u003cb\\u003eTopic 10\\u003c\\u002fb\\u003e\\u003cbr\\u003eWords: ramp, ramp pull form, might starting, friday ramp might, overnight amazon streaming\",\"\\u003cb\\u003eTopic 10\\u003c\\u002fb\\u003e\\u003cbr\\u003eWords: implied volatility percentile, today implied volatility, today implied, volatility percentile uvxy, volatility percentile\",\"\\u003cb\\u003eTopic 10\\u003c\\u002fb\\u003e\\u003cbr\\u003eWords: closing, closing ivlevels uvxy, closing ivlevels, closing shop closing, shop closing ivlevels\",\"\\u003cb\\u003eTopic 10\\u003c\\u002fb\\u003e\\u003cbr\\u003eWords: give ramp, ramp, give, rampcapitalllc, ivpercentiles\",\"\\u003cb\\u003eTopic 10\\u003c\\u002fb\\u003e\\u003cbr\\u003eWords: ivpercentiles start let, start let uvxy, ivpercentiles start, start let, ivpercentiles\",\"\\u003cb\\u003eTopic 10\\u003c\\u002fb\\u003e\\u003cbr\\u003eWords: southwestvirginia uvxy, beautiful tuesday southwestvirginia, tuesday southwestvirginia uvxy, tuesday southwestvirginia, ivpercentiles start beautiful\",\"\\u003cb\\u003eTopic 10\\u003c\\u002fb\\u003e\\u003cbr\\u003eWords: building august, ivpercentiles trade, ivpercentiles trade building, august expiration uvxy, expiration uvxy\",\"\\u003cb\\u003eTopic 10\\u003c\\u002fb\\u003e\\u003cbr\\u003eWords: ivpercentiles uvxy, ivpercentiles, uvxy ivpercentiles uvxy, uvxy ivpercentiles, uvxy\",\"\\u003cb\\u003eTopic 10\\u003c\\u002fb\\u003e\\u003cbr\\u003eWords: ramp, seeing enterprise, innovative realwearincasaservice, sale ramp fast, capital raise innovative\",\"\\u003cb\\u003eTopic 10\\u003c\\u002fb\\u003e\\u003cbr\\u003eWords: get ramp prime, loses get, loses get ramp, get ramp, ramp prime\",\"\\u003cb\\u003eTopic 10\\u003c\\u002fb\\u003e\\u003cbr\\u003eWords: mission perfect ramp, high mission, high mission perfect, rampcapitalllc high mission, mission perfect\",\"\\u003cb\\u003eTopic 10\\u003c\\u002fb\\u003e\\u003cbr\\u003eWords: ramp, support 200610, tomorrow ramp, ramp 2034203, renter 1200 tomorrow\",\"\\u003cb\\u003eTopic 10\\u003c\\u002fb\\u003e\\u003cbr\\u003eWords: ramp, work alexa, echo ramp work, plan highend echo, alexa home robot\",\"\\u003cb\\u003eTopic 10\\u003c\\u002fb\\u003e\\u003cbr\\u003eWords: ramp, bringing uphulu global, uphulu global likely, understand bringing, bringing uphulu\",\"\\u003cb\\u003eTopic 10\\u003c\\u002fb\\u003e\\u003cbr\\u003eWords: rampcapitalllc, ramp, ivpercentiles, uvxy, ivpercentiles start\",\"\\u003cb\\u003eTopic 10\\u003c\\u002fb\\u003e\\u003cbr\\u003eWords: ramp, scalp watching 726, legendary battle plan, ramp scalp watching, sell open ramp\",\"\\u003cb\\u003eTopic 10\\u003c\\u002fb\\u003e\\u003cbr\\u003eWords: great evening folk, ivpercentiles great, ivpercentiles great evening, evening folk uvxy, closing ivpercentiles great\",\"\\u003cb\\u003eTopic 10\\u003c\\u002fb\\u003e\\u003cbr\\u003eWords: ramp, rampcapitalllc, rampcapitalllc long, 2q19, 1day\",\"\\u003cb\\u003eTopic 10\\u003c\\u002fb\\u003e\\u003cbr\\u003eWords: finally catching break, catching break, catching break bynd, rampcapitalllc bagholders finally, bagholders finally\",\"\\u003cb\\u003eTopic 10\\u003c\\u002fb\\u003e\\u003cbr\\u003eWords: ramp, color, rampcapitalllc, hard immediate impact, dataxu another partner\",\"\\u003cb\\u003eTopic 10\\u003c\\u002fb\\u003e\\u003cbr\\u003eWords: ramp 1848 plus, ramp 1848, 1848 plus, rampcapitalllc day, 1848\",\"\\u003cb\\u003eTopic 10\\u003c\\u002fb\\u003e\\u003cbr\\u003eWords: early huge credit, credit uvxy, position september, expiration continue, continue major begin\",\"\\u003cb\\u003eTopic 10\\u003c\\u002fb\\u003e\\u003cbr\\u003eWords: rampcapitalllc, today closing implied, implied volatility level, massive gain sell, half year produce\",\"\\u003cb\\u003eTopic 10\\u003c\\u002fb\\u003e\\u003cbr\\u003eWords: yesterday closing ivpercentiles, retraction, ivpercentiles nice, ivpercentiles nice major, nice major\",\"\\u003cb\\u003eTopic 10\\u003c\\u002fb\\u003e\\u003cbr\\u003eWords: today ivpercentiles, today ivpercentiles start, ivpercentiles start let, start let uvxy, ivpercentiles start\",\"\\u003cb\\u003eTopic 10\\u003c\\u002fb\\u003e\\u003cbr\\u003eWords: rampcapitalllc 1776, rampcapitalllc, 1776, ramp, ivpercentiles\",\"\\u003cb\\u003eTopic 10\\u003c\\u002fb\\u003e\\u003cbr\\u003eWords: classic 330pm, verdict classic 330pm, verdict classic, classic 330pm ramp, 330pm ramp\",\"\\u003cb\\u003eTopic 10\\u003c\\u002fb\\u003e\\u003cbr\\u003eWords: nice move shop, huge runneramzn basing, move shop morning, runneramzn basing nvda, shop morning market\",\"\\u003cb\\u003eTopic 10\\u003c\\u002fb\\u003e\\u003cbr\\u003eWords: flow ramp, upped expectation, ramp tradedeal nflx, crestwood equity upped, crestwood equity\",\"\\u003cb\\u003eTopic 10\\u003c\\u002fb\\u003e\\u003cbr\\u003eWords: ramp dont, minute ramp dont, last minute ramp, sudden last minute, sudden last\",\"\\u003cb\\u003eTopic 10\\u003c\\u002fb\\u003e\\u003cbr\\u003eWords: break 1848, 1856 building high, 1856 building, 1848 1856, building high\",\"\\u003cb\\u003eTopic 10\\u003c\\u002fb\\u003e\\u003cbr\\u003eWords: ramp, growth let detail, higher tell havent, release overbought tension, growth accelerated growth\",\"\\u003cb\\u003eTopic 10\\u003c\\u002fb\\u003e\\u003cbr\\u003eWords: keep ramping, ramping, keep, ramp, rampcapitalllc\",\"\\u003cb\\u003eTopic 10\\u003c\\u002fb\\u003e\\u003cbr\\u003eWords: 1205s friday, targ 1200 le, severe ramp, friday trick targ, put pricey 1205s\",\"\\u003cb\\u003eTopic 10\\u003c\\u002fb\\u003e\\u003cbr\\u003eWords: ramping higher, ramping, higher, ramp, rampcapitalllc\",\"\\u003cb\\u003eTopic 10\\u003c\\u002fb\\u003e\\u003cbr\\u003eWords: rampcapitalllc shopping algo, rampcapitalllc shopping, shopping algo, rampcapitalllc, algo\",\"\\u003cb\\u003eTopic 10\\u003c\\u002fb\\u003e\\u003cbr\\u003eWords: afternoon rate hope, jitter afternoon, rate hope ramp, afternoon rate, hope ramp higheres\",\"\\u003cb\\u003eTopic 10\\u003c\\u002fb\\u003e\\u003cbr\\u003eWords: dont disappoint ramp, please dont disappoint, dowbrka, join dowbrka, dont disappoint\",\"\\u003cb\\u003eTopic 10\\u003c\\u002fb\\u003e\\u003cbr\\u003eWords: ramping continue 2020, ramping continue, gain ramping, amazoncom redmond cloud, share gain ramping\",\"\\u003cb\\u003eTopic 10\\u003c\\u002fb\\u003e\\u003cbr\\u003eWords: ramp, rampcapitalllc, ivpercentiles, uvxy, ivpercentiles start\",\"\\u003cb\\u003eTopic 10\\u003c\\u002fb\\u003e\\u003cbr\\u003eWords: ramp, choppy let ramp, looking ramp, ramp close earnings, let ramp close\",\"\\u003cb\\u003eTopic 10\\u003c\\u002fb\\u003e\\u003cbr\\u003eWords: rampcapitalllc, market there, worshiper stock, valuation ramping everyday, damnit rampcapitalllc always\",\"\\u003cb\\u003eTopic 10\\u003c\\u002fb\\u003e\\u003cbr\\u003eWords: ramp, heading, heading stock, money great profit, heading list\",\"\\u003cb\\u003eTopic 10\\u003c\\u002fb\\u003e\\u003cbr\\u003eWords: stiffest ramp todayes, stiffest ramp, stiffest, ramp todayes, ramp\",\"\\u003cb\\u003eTopic 10\\u003c\\u002fb\\u003e\\u003cbr\\u003eWords: ramp, todaygoogl failed near, reaction trump speaking, trump speaking, nowif break\",\"\\u003cb\\u003eTopic 10\\u003c\\u002fb\\u003e\\u003cbr\\u003eWords: rampcapitalllc, someone, jimcramer something save, hipstertrade rampcapitalllc, rampcapitalllc someone\",\"\\u003cb\\u003eTopic 10\\u003c\\u002fb\\u003e\\u003cbr\\u003eWords: ramp, ramp wasnt, ramp wasnt kudlow, anyways kind, every friday market\",\"\\u003cb\\u003eTopic 10\\u003c\\u002fb\\u003e\\u003cbr\\u003eWords: ramping, stock finance djia, fight rampcapitalllc stock, watch robot, rampcapitalllc stock finance\",\"\\u003cb\\u003eTopic 10\\u003c\\u002fb\\u003e\\u003cbr\\u003eWords: ramp, economics fact, pricing really, ramp stock surprise, really story\",\"\\u003cb\\u003eTopic 10\\u003c\\u002fb\\u003e\\u003cbr\\u003eWords: ramping upba, ramping upba strong, upba strong, upba, ramping\",\"\\u003cb\\u003eTopic 10\\u003c\\u002fb\\u003e\\u003cbr\\u003eWords: ramping want 1800, star ramping want, star ramping, ramping want, want 1800\",\"\\u003cb\\u003eTopic 10\\u003c\\u002fb\\u003e\\u003cbr\\u003eWords: 2018 ramp, 2021 2000c460 2018, 2000c460 2018 ramp, 2021 2000c460, 2000c460 2018\"],\"marker\":{\"color\":\"#D55E00\"},\"mode\":\"lines\",\"name\":\"Volatilidad\",\"x\":[\"2019-06-03\",\"2019-06-05\",\"2019-06-10\",\"2019-06-11\",\"2019-06-14\",\"2019-06-17\",\"2019-06-18\",\"2019-06-20\",\"2019-06-24\",\"2019-06-25\",\"2019-06-26\",\"2019-06-27\",\"2019-07-07\",\"2019-07-08\",\"2019-07-09\",\"2019-07-11\",\"2019-07-12\",\"2019-07-18\",\"2019-07-19\",\"2019-07-22\",\"2019-07-23\",\"2019-07-25\",\"2019-07-26\",\"2019-07-29\",\"2019-08-02\",\"2019-08-05\",\"2019-08-06\",\"2019-08-09\",\"2019-08-12\",\"2019-08-14\",\"2019-08-16\",\"2019-08-21\",\"2019-08-23\",\"2019-08-30\",\"2019-09-09\",\"2019-09-11\",\"2019-09-12\",\"2019-09-18\",\"2019-09-30\",\"2019-10-02\",\"2019-10-04\",\"2019-10-09\",\"2019-10-10\",\"2019-10-15\",\"2019-10-21\",\"2019-10-25\",\"2019-10-28\",\"2019-11-04\",\"2019-11-12\",\"2019-11-14\",\"2019-11-15\",\"2019-11-21\",\"2019-11-27\",\"2019-12-16\",\"2019-12-17\",\"2019-12-28\"],\"y\":[2,1,2,2,3,2,2,1,2,2,2,2,1,1,2,2,3,1,1,1,2,6,3,3,2,4,4,1,3,1,1,1,1,2,1,2,1,1,1,1,1,2,1,1,2,3,1,1,1,3,1,3,1,1,1,1],\"type\":\"scatter\"},{\"hoverinfo\":\"text\",\"hovertext\":[\"\\u003cb\\u003eTopic 11\\u003c\\u002fb\\u003e\\u003cbr\\u003eWords: stock investing link, investing link csco, investing link, link csco intc, beginner guide stock\",\"\\u003cb\\u003eTopic 11\\u003c\\u002fb\\u003e\\u003cbr\\u003eWords: stock investing link, investing link csco, investing link, guide stock investing, link csco intc\",\"\\u003cb\\u003eTopic 11\\u003c\\u002fb\\u003e\\u003cbr\\u003eWords: stock investing link, investing link csco, investing link, link csco intc, beginner guide stock\",\"\\u003cb\\u003eTopic 11\\u003c\\u002fb\\u003e\\u003cbr\\u003eWords: stock investing link, investing link csco, investing link, guide stock investing, link csco intc\",\"\\u003cb\\u003eTopic 11\\u003c\\u002fb\\u003e\\u003cbr\\u003eWords: beginner, investing link csco, investing link, stock investing link, beginner guide stock\",\"\\u003cb\\u003eTopic 11\\u003c\\u002fb\\u003e\\u003cbr\\u003eWords: stock investing link, investing link csco, investing link, link csco, link csco intc\",\"\\u003cb\\u003eTopic 11\\u003c\\u002fb\\u003e\\u003cbr\\u003eWords: stock investing link, investing link csco, investing link, link csco, link csco intc\",\"\\u003cb\\u003eTopic 11\\u003c\\u002fb\\u003e\\u003cbr\\u003eWords: beginner, beginner 2019watch bynd, 2019watch bynd nflx, strategy beginner 2019watch, strategy beginner\",\"\\u003cb\\u003eTopic 11\\u003c\\u002fb\\u003e\\u003cbr\\u003eWords: stock investing link, investing link csco, investing link, guide stock investing, link csco intc\",\"\\u003cb\\u003eTopic 11\\u003c\\u002fb\\u003e\\u003cbr\\u003eWords: stock investing link, investing link csco, investing link, guide stock investing, link csco intc\",\"\\u003cb\\u003eTopic 11\\u003c\\u002fb\\u003e\\u003cbr\\u003eWords: stock investing link, investing link csco, investing link, link csco intc, beginner guide stock\",\"\\u003cb\\u003eTopic 11\\u003c\\u002fb\\u003e\\u003cbr\\u003eWords: stock investing link, investing link csco, investing link, guide stock investing, link csco intc\",\"\\u003cb\\u003eTopic 11\\u003c\\u002fb\\u003e\\u003cbr\\u003eWords: stock investing link, investing link csco, investing link, link csco intc, beginner guide stock\",\"\\u003cb\\u003eTopic 11\\u003c\\u002fb\\u003e\\u003cbr\\u003eWords: stock investing link, investing link csco, investing link, guide stock investing, link csco intc\",\"\\u003cb\\u003eTopic 11\\u003c\\u002fb\\u003e\\u003cbr\\u003eWords: stock investing link, investing link csco, investing link, link csco intc, beginner guide stock\",\"\\u003cb\\u003eTopic 11\\u003c\\u002fb\\u003e\\u003cbr\\u003eWords: stock investing link, investing link csco, investing link, link csco intc, beginner guide stock\",\"\\u003cb\\u003eTopic 11\\u003c\\u002fb\\u003e\\u003cbr\\u003eWords: stock investing link, investing link csco, investing link, guide stock investing, link csco intc\",\"\\u003cb\\u003eTopic 11\\u003c\\u002fb\\u003e\\u003cbr\\u003eWords: stock investing link, investing link csco, investing link, guide stock investing, link csco intc\",\"\\u003cb\\u003eTopic 11\\u003c\\u002fb\\u003e\\u003cbr\\u003eWords: stock investing link, investing link csco, investing link, link csco intc, beginner guide stock\",\"\\u003cb\\u003eTopic 11\\u003c\\u002fb\\u003e\\u003cbr\\u003eWords: stock investing link, investing link csco, investing link, guide stock investing, link csco intc\",\"\\u003cb\\u003eTopic 11\\u003c\\u002fb\\u003e\\u003cbr\\u003eWords: beginner, investing link, stock investing link, investing link csco, beginner guide stock\",\"\\u003cb\\u003eTopic 11\\u003c\\u002fb\\u003e\\u003cbr\\u003eWords: stock investing link, investing link csco, investing link, guide stock investing, link csco intc\",\"\\u003cb\\u003eTopic 11\\u003c\\u002fb\\u003e\\u003cbr\\u003eWords: stock investing link, investing link csco, investing link, guide stock investing, link csco intc\",\"\\u003cb\\u003eTopic 11\\u003c\\u002fb\\u003e\\u003cbr\\u003eWords: stock investing link, investing link csco, investing link, guide stock investing, link csco intc\",\"\\u003cb\\u003eTopic 11\\u003c\\u002fb\\u003e\\u003cbr\\u003eWords: stock investing link, investing link csco, investing link, guide stock investing, link csco intc\",\"\\u003cb\\u003eTopic 11\\u003c\\u002fb\\u003e\\u003cbr\\u003eWords: stock investing link, investing link csco, investing link, guide stock investing, link csco intc\",\"\\u003cb\\u003eTopic 11\\u003c\\u002fb\\u003e\\u003cbr\\u003eWords: stock investing link, investing link csco, investing link, guide stock investing, link csco intc\",\"\\u003cb\\u003eTopic 11\\u003c\\u002fb\\u003e\\u003cbr\\u003eWords: beginner, investing link csco, stock investing link, investing link, link csco\",\"\\u003cb\\u003eTopic 11\\u003c\\u002fb\\u003e\\u003cbr\\u003eWords: stock investing link, investing link csco, investing link, link csco, link csco intc\",\"\\u003cb\\u003eTopic 11\\u003c\\u002fb\\u003e\\u003cbr\\u003eWords: stock investing link, investing link csco, investing link, link csco intc, beginner guide stock\",\"\\u003cb\\u003eTopic 11\\u003c\\u002fb\\u003e\\u003cbr\\u003eWords: stock investing link, investing link csco, investing link, guide stock investing, link csco intc\",\"\\u003cb\\u003eTopic 11\\u003c\\u002fb\\u003e\\u003cbr\\u003eWords: stock investing link, investing link csco, investing link, link csco, link csco intc\",\"\\u003cb\\u003eTopic 11\\u003c\\u002fb\\u003e\\u003cbr\\u003eWords: stock investing link, investing link csco, investing link, guide stock investing, link csco intc\",\"\\u003cb\\u003eTopic 11\\u003c\\u002fb\\u003e\\u003cbr\\u003eWords: stock investing link, investing link csco, investing link, guide stock investing, link csco intc\",\"\\u003cb\\u003eTopic 11\\u003c\\u002fb\\u003e\\u003cbr\\u003eWords: stock investing link, investing link csco, investing link, guide stock investing, link csco intc\",\"\\u003cb\\u003eTopic 11\\u003c\\u002fb\\u003e\\u003cbr\\u003eWords: stock investing link, investing link csco, investing link, link csco intc, beginner guide stock\",\"\\u003cb\\u003eTopic 11\\u003c\\u002fb\\u003e\\u003cbr\\u003eWords: stock investing link, investing link csco, investing link, guide stock investing, link csco intc\",\"\\u003cb\\u003eTopic 11\\u003c\\u002fb\\u003e\\u003cbr\\u003eWords: stock investing link, investing link csco, investing link, guide stock investing, link csco intc\",\"\\u003cb\\u003eTopic 11\\u003c\\u002fb\\u003e\\u003cbr\\u003eWords: stock investing link, investing link csco, investing link, guide stock investing, link csco intc\",\"\\u003cb\\u003eTopic 11\\u003c\\u002fb\\u003e\\u003cbr\\u003eWords: stock investing link, investing link csco, investing link, guide stock investing, link csco intc\",\"\\u003cb\\u003eTopic 11\\u003c\\u002fb\\u003e\\u003cbr\\u003eWords: stock investing link, investing link csco, investing link, guide stock investing, link csco intc\"],\"marker\":{\"color\":\"#0072B2\"},\"mode\":\"lines\",\"name\":\"Cisco\",\"x\":[\"2019-06-24\",\"2019-06-25\",\"2019-06-26\",\"2019-07-01\",\"2019-07-10\",\"2019-07-16\",\"2019-07-21\",\"2019-07-22\",\"2019-07-27\",\"2019-07-31\",\"2019-08-01\",\"2019-08-06\",\"2019-08-11\",\"2019-08-17\",\"2019-08-22\",\"2019-08-28\",\"2019-09-02\",\"2019-09-08\",\"2019-09-13\",\"2019-09-19\",\"2019-09-21\",\"2019-09-24\",\"2019-09-30\",\"2019-10-05\",\"2019-10-07\",\"2019-10-13\",\"2019-10-18\",\"2019-10-21\",\"2019-10-24\",\"2019-10-29\",\"2019-11-04\",\"2019-11-09\",\"2019-11-15\",\"2019-11-20\",\"2019-11-26\",\"2019-12-01\",\"2019-12-07\",\"2019-12-12\",\"2019-12-18\",\"2019-12-23\",\"2019-12-29\"],\"y\":[2,3,2,3,3,1,1,1,3,3,2,3,2,3,2,2,3,3,2,3,1,3,3,3,3,3,3,1,1,2,3,1,3,3,3,2,3,3,3,3,3],\"type\":\"scatter\"},{\"hoverinfo\":\"text\",\"hovertext\":[\"\\u003cb\\u003eTopic 12\\u003c\\u002fb\\u003e\\u003cbr\\u003eWords: hourly, bouncethats hourly, demandmight, 1724 area, bouncethats\",\"\\u003cb\\u003eTopic 12\\u003c\\u002fb\\u003e\\u003cbr\\u003eWords: hourly, hourly hourly, hourly chart, chart, breakout\",\"\\u003cb\\u003eTopic 12\\u003c\\u002fb\\u003e\\u003cbr\\u003eWords: hourly, break retest loss, 1313 break retest, 1313 break, retest loss\",\"\\u003cb\\u003eTopic 12\\u003c\\u002fb\\u003e\\u003cbr\\u003eWords: daily hourly shown, hourly shown, daily hourly, hourly, shown\",\"\\u003cb\\u003eTopic 12\\u003c\\u002fb\\u003e\\u003cbr\\u003eWords: hourly, hourly sell 117689that, man landhourly, sell 117689that, here man\",\"\\u003cb\\u003eTopic 12\\u003c\\u002fb\\u003e\\u003cbr\\u003eWords: hourly, filled hourly chart, chart amznup, amznup point hourly, amznup point\",\"\\u003cb\\u003eTopic 12\\u003c\\u002fb\\u003e\\u003cbr\\u003eWords: hourly, channel first overhead, continuation broke, continuation broke hourly, overhead resistance cloud\",\"\\u003cb\\u003eTopic 12\\u003c\\u002fb\\u003e\\u003cbr\\u003eWords: hourly, push, push roku hourly, downside hold push, push breakout upside\",\"\\u003cb\\u003eTopic 12\\u003c\\u002fb\\u003e\\u003cbr\\u003eWords: hourly, struggling lately, 187196, 187196 nice, 187196 nice hour\",\"\\u003cb\\u003eTopic 12\\u003c\\u002fb\\u003e\\u003cbr\\u003eWords: hourly, current hourly, hourly show, hourly level, 37720\",\"\\u003cb\\u003eTopic 12\\u003c\\u002fb\\u003e\\u003cbr\\u003eWords: hourly, 1968 parabolic action, build energy eye, need time build, high hourly trend\",\"\\u003cb\\u003eTopic 12\\u003c\\u002fb\\u003e\\u003cbr\\u003eWords: support hourly, support hourly knowledge, hourly knowledge, hcpg found, hcpg\",\"\\u003cb\\u003eTopic 12\\u003c\\u002fb\\u003e\\u003cbr\\u003eWords: hour, hourly, hourly chart, chart, breakout\",\"\\u003cb\\u003eTopic 12\\u003c\\u002fb\\u003e\\u003cbr\\u003eWords: hourly, hourly squeeze, squeeze, gain decent hourly, little slow unfolding\",\"\\u003cb\\u003eTopic 12\\u003c\\u002fb\\u003e\\u003cbr\\u003eWords: looking sorry, looking sorry loss, sorry loss, hourly looking, hourly looking sorry\",\"\\u003cb\\u003eTopic 12\\u003c\\u002fb\\u003e\\u003cbr\\u003eWords: barcould, triple hourly, triple hourly inside, inside barcould something, inside barcould\",\"\\u003cb\\u003eTopic 12\\u003c\\u002fb\\u003e\\u003cbr\\u003eWords: hourly, daily hourly look, hourly look lose, hourly signal, hourly signal looking\",\"\\u003cb\\u003eTopic 12\\u003c\\u002fb\\u003e\\u003cbr\\u003eWords: tightest hourly squeeze, squeeze setupsgooglfbsbuxeyes rescan, rescan morning, setupsgooglfbsbuxeyes, setupsgooglfbsbuxeyes rescan morning\",\"\\u003cb\\u003eTopic 12\\u003c\\u002fb\\u003e\\u003cbr\\u003eWords: hourly, cloud, 1225 stop 11865, cloud bounce cloud, 11865\",\"\\u003cb\\u003eTopic 12\\u003c\\u002fb\\u003e\\u003cbr\\u003eWords: hourly, trade whilerokutqqqtnantesamzngooglspy, macd cross hourly, hourly rest, bullish trade whilerokutqqqtnantesamzngooglspy\",\"\\u003cb\\u003eTopic 12\\u003c\\u002fb\\u003e\\u003cbr\\u003eWords: hourly, hourly chart, chart, breakout, intraday\",\"\\u003cb\\u003eTopic 12\\u003c\\u002fb\\u003e\\u003cbr\\u003eWords: hourly, hourly chart, chart, breakout, intraday\",\"\\u003cb\\u003eTopic 12\\u003c\\u002fb\\u003e\\u003cbr\\u003eWords: notable resistance, notable resistance hourly, hourly view, resistance hourly view, hold notable resistance\",\"\\u003cb\\u003eTopic 12\\u003c\\u002fb\\u003e\\u003cbr\\u003eWords: hourly, hourly chart, chart, breakout, intraday\",\"\\u003cb\\u003eTopic 12\\u003c\\u002fb\\u003e\\u003cbr\\u003eWords: hourly, hourly chart, chart, breakout, intraday\",\"\\u003cb\\u003eTopic 12\\u003c\\u002fb\\u003e\\u003cbr\\u003eWords: hourly, hourly hourly continues, give trouble, hourly continues give, hourly continues\",\"\\u003cb\\u003eTopic 12\\u003c\\u002fb\\u003e\\u003cbr\\u003eWords: hourly, excited close, opening drive failed, overnight swing perfect, decent opening drive\",\"\\u003cb\\u003eTopic 12\\u003c\\u002fb\\u003e\\u003cbr\\u003eWords: hourly, time revisit 17798, stop beneath around, 178539, 179208 time\",\"\\u003cb\\u003eTopic 12\\u003c\\u002fb\\u003e\\u003cbr\\u003eWords: hourly, hourly open, room midbb, hour join room, abive first\",\"\\u003cb\\u003eTopic 12\\u003c\\u002fb\\u003e\\u003cbr\\u003eWords: chart 1764, resistance hourly chart, bull next resistance, next resistance hourly, hourly chart 1764\",\"\\u003cb\\u003eTopic 12\\u003c\\u002fb\\u003e\\u003cbr\\u003eWords: hourly, hourly weekly chart, hourly weekly, downside hourly, downside hourly weekly\",\"\\u003cb\\u003eTopic 12\\u003c\\u002fb\\u003e\\u003cbr\\u003eWords: show 1215 hourly, hourly show 12141215, show 12141215, show 1215, 1215 hourly show\",\"\\u003cb\\u003eTopic 12\\u003c\\u002fb\\u003e\\u003cbr\\u003eWords: hourly, chart, trade minute hourly, gone day, perfect reaction check\",\"\\u003cb\\u003eTopic 12\\u003c\\u002fb\\u003e\\u003cbr\\u003eWords: hourly, hourly chart, chart, breakout, intraday\",\"\\u003cb\\u003eTopic 12\\u003c\\u002fb\\u003e\\u003cbr\\u003eWords: hourly daily risk, risk little yest, little yest, daily risk little, daily risk\",\"\\u003cb\\u003eTopic 12\\u003c\\u002fb\\u003e\\u003cbr\\u003eWords: monthly hour, hour settle 1661, monthly hour settle, settle 1661, hour settle\",\"\\u003cb\\u003eTopic 12\\u003c\\u002fb\\u003e\\u003cbr\\u003eWords: hourly, 1832 1875, 1800 level reclaim, hourly earnings 1800, 1760 good holding\",\"\\u003cb\\u003eTopic 12\\u003c\\u002fb\\u003e\\u003cbr\\u003eWords: hourly, zone easily rather, lock profit always, easily rather, easily rather lock\",\"\\u003cb\\u003eTopic 12\\u003c\\u002fb\\u003e\\u003cbr\\u003eWords: damn hourly really, setting niceeee, really setting niceeee, really setting, hourly really setting\",\"\\u003cb\\u003eTopic 12\\u003c\\u002fb\\u003e\\u003cbr\\u003eWords: good start hourly, start hourly, good start, hourly, start\",\"\\u003cb\\u003eTopic 12\\u003c\\u002fb\\u003e\\u003cbr\\u003eWords: action green put, action green, boring action, boring action green, put hourly supply\",\"\\u003cb\\u003eTopic 12\\u003c\\u002fb\\u003e\\u003cbr\\u003eWords: amateur hour healthcareit, hour healthcareit, amateur hour, amateur, healthcareit\",\"\\u003cb\\u003eTopic 12\\u003c\\u002fb\\u003e\\u003cbr\\u003eWords: hourly, intraday, round current, 17495 intraday breakout, chart round current\",\"\\u003cb\\u003eTopic 12\\u003c\\u002fb\\u003e\\u003cbr\\u003eWords: hourly, intraday, hourly chart intraday, chart intraday, intraday breakout\",\"\\u003cb\\u003eTopic 12\\u003c\\u002fb\\u003e\\u003cbr\\u003eWords: hourly, intraday, 17405 1747 intraday, opportunity 17405, 1747 intraday breakout\",\"\\u003cb\\u003eTopic 12\\u003c\\u002fb\\u003e\\u003cbr\\u003eWords: potential pattern hourly, pattern hourly, potential pattern, hourly, pattern\",\"\\u003cb\\u003eTopic 12\\u003c\\u002fb\\u003e\\u003cbr\\u003eWords: hourly, spot short long, dont hourly, 132733 great spot, 129380 hourly\",\"\\u003cb\\u003eTopic 12\\u003c\\u002fb\\u003e\\u003cbr\\u003eWords: november average, weak november average, weak november, hourly, november\",\"\\u003cb\\u003eTopic 12\\u003c\\u002fb\\u003e\\u003cbr\\u003eWords: hourly, hourly chart, chart, breakout, intraday\",\"\\u003cb\\u003eTopic 12\\u003c\\u002fb\\u003e\\u003cbr\\u003eWords: hourly, breakout based bull, breakout based, hourly able, able provide breakout\",\"\\u003cb\\u003eTopic 12\\u003c\\u002fb\\u003e\\u003cbr\\u003eWords: hourly, away ditched, stronger much gain, looked away, looked away ditched\",\"\\u003cb\\u003eTopic 12\\u003c\\u002fb\\u003e\\u003cbr\\u003eWords: hourly, turd, daily backtest, nowamzn another, inside hourly nowamzn\",\"\\u003cb\\u003eTopic 12\\u003c\\u002fb\\u003e\\u003cbr\\u003eWords: beautiful bounce hourly, bounce hourly, beautiful bounce, hourly, beautiful\"],\"marker\":{\"color\":\"#CC79A7\"},\"mode\":\"lines\",\"name\":\"Periodos temporales\",\"x\":[\"2019-06-05\",\"2019-06-11\",\"2019-06-12\",\"2019-06-23\",\"2019-06-24\",\"2019-06-25\",\"2019-06-26\",\"2019-06-28\",\"2019-06-30\",\"2019-07-08\",\"2019-07-09\",\"2019-07-15\",\"2019-07-18\",\"2019-07-24\",\"2019-07-29\",\"2019-07-30\",\"2019-08-01\",\"2019-08-08\",\"2019-08-09\",\"2019-08-16\",\"2019-08-18\",\"2019-08-24\",\"2019-09-10\",\"2019-09-13\",\"2019-09-17\",\"2019-09-18\",\"2019-09-20\",\"2019-09-23\",\"2019-09-24\",\"2019-09-25\",\"2019-10-02\",\"2019-10-04\",\"2019-10-16\",\"2019-10-17\",\"2019-10-22\",\"2019-10-25\",\"2019-11-03\",\"2019-11-06\",\"2019-11-08\",\"2019-11-12\",\"2019-11-14\",\"2019-11-15\",\"2019-11-18\",\"2019-11-21\",\"2019-11-22\",\"2019-11-28\",\"2019-12-02\",\"2019-12-06\",\"2019-12-10\",\"2019-12-16\",\"2019-12-18\",\"2019-12-19\",\"2019-12-20\"],\"y\":[1,2,1,2,1,2,1,5,1,4,2,1,1,2,1,1,2,1,1,1,1,1,1,1,1,2,2,1,1,1,2,1,3,1,1,1,3,1,1,1,1,1,1,2,1,1,1,1,1,1,1,3,1],\"type\":\"scatter\"}],                        {\"template\":{\"data\":{\"barpolar\":[{\"marker\":{\"line\":{\"color\":\"white\",\"width\":0.5},\"pattern\":{\"fillmode\":\"overlay\",\"size\":10,\"solidity\":0.2}},\"type\":\"barpolar\"}],\"bar\":[{\"error_x\":{\"color\":\"rgb(36,36,36)\"},\"error_y\":{\"color\":\"rgb(36,36,36)\"},\"marker\":{\"line\":{\"color\":\"white\",\"width\":0.5},\"pattern\":{\"fillmode\":\"overlay\",\"size\":10,\"solidity\":0.2}},\"type\":\"bar\"}],\"carpet\":[{\"aaxis\":{\"endlinecolor\":\"rgb(36,36,36)\",\"gridcolor\":\"white\",\"linecolor\":\"white\",\"minorgridcolor\":\"white\",\"startlinecolor\":\"rgb(36,36,36)\"},\"baxis\":{\"endlinecolor\":\"rgb(36,36,36)\",\"gridcolor\":\"white\",\"linecolor\":\"white\",\"minorgridcolor\":\"white\",\"startlinecolor\":\"rgb(36,36,36)\"},\"type\":\"carpet\"}],\"choropleth\":[{\"colorbar\":{\"outlinewidth\":1,\"tickcolor\":\"rgb(36,36,36)\",\"ticks\":\"outside\"},\"type\":\"choropleth\"}],\"contourcarpet\":[{\"colorbar\":{\"outlinewidth\":1,\"tickcolor\":\"rgb(36,36,36)\",\"ticks\":\"outside\"},\"type\":\"contourcarpet\"}],\"contour\":[{\"colorbar\":{\"outlinewidth\":1,\"tickcolor\":\"rgb(36,36,36)\",\"ticks\":\"outside\"},\"colorscale\":[[0.0,\"#440154\"],[0.1111111111111111,\"#482878\"],[0.2222222222222222,\"#3e4989\"],[0.3333333333333333,\"#31688e\"],[0.4444444444444444,\"#26828e\"],[0.5555555555555556,\"#1f9e89\"],[0.6666666666666666,\"#35b779\"],[0.7777777777777778,\"#6ece58\"],[0.8888888888888888,\"#b5de2b\"],[1.0,\"#fde725\"]],\"type\":\"contour\"}],\"heatmapgl\":[{\"colorbar\":{\"outlinewidth\":1,\"tickcolor\":\"rgb(36,36,36)\",\"ticks\":\"outside\"},\"colorscale\":[[0.0,\"#440154\"],[0.1111111111111111,\"#482878\"],[0.2222222222222222,\"#3e4989\"],[0.3333333333333333,\"#31688e\"],[0.4444444444444444,\"#26828e\"],[0.5555555555555556,\"#1f9e89\"],[0.6666666666666666,\"#35b779\"],[0.7777777777777778,\"#6ece58\"],[0.8888888888888888,\"#b5de2b\"],[1.0,\"#fde725\"]],\"type\":\"heatmapgl\"}],\"heatmap\":[{\"colorbar\":{\"outlinewidth\":1,\"tickcolor\":\"rgb(36,36,36)\",\"ticks\":\"outside\"},\"colorscale\":[[0.0,\"#440154\"],[0.1111111111111111,\"#482878\"],[0.2222222222222222,\"#3e4989\"],[0.3333333333333333,\"#31688e\"],[0.4444444444444444,\"#26828e\"],[0.5555555555555556,\"#1f9e89\"],[0.6666666666666666,\"#35b779\"],[0.7777777777777778,\"#6ece58\"],[0.8888888888888888,\"#b5de2b\"],[1.0,\"#fde725\"]],\"type\":\"heatmap\"}],\"histogram2dcontour\":[{\"colorbar\":{\"outlinewidth\":1,\"tickcolor\":\"rgb(36,36,36)\",\"ticks\":\"outside\"},\"colorscale\":[[0.0,\"#440154\"],[0.1111111111111111,\"#482878\"],[0.2222222222222222,\"#3e4989\"],[0.3333333333333333,\"#31688e\"],[0.4444444444444444,\"#26828e\"],[0.5555555555555556,\"#1f9e89\"],[0.6666666666666666,\"#35b779\"],[0.7777777777777778,\"#6ece58\"],[0.8888888888888888,\"#b5de2b\"],[1.0,\"#fde725\"]],\"type\":\"histogram2dcontour\"}],\"histogram2d\":[{\"colorbar\":{\"outlinewidth\":1,\"tickcolor\":\"rgb(36,36,36)\",\"ticks\":\"outside\"},\"colorscale\":[[0.0,\"#440154\"],[0.1111111111111111,\"#482878\"],[0.2222222222222222,\"#3e4989\"],[0.3333333333333333,\"#31688e\"],[0.4444444444444444,\"#26828e\"],[0.5555555555555556,\"#1f9e89\"],[0.6666666666666666,\"#35b779\"],[0.7777777777777778,\"#6ece58\"],[0.8888888888888888,\"#b5de2b\"],[1.0,\"#fde725\"]],\"type\":\"histogram2d\"}],\"histogram\":[{\"marker\":{\"line\":{\"color\":\"white\",\"width\":0.6}},\"type\":\"histogram\"}],\"mesh3d\":[{\"colorbar\":{\"outlinewidth\":1,\"tickcolor\":\"rgb(36,36,36)\",\"ticks\":\"outside\"},\"type\":\"mesh3d\"}],\"parcoords\":[{\"line\":{\"colorbar\":{\"outlinewidth\":1,\"tickcolor\":\"rgb(36,36,36)\",\"ticks\":\"outside\"}},\"type\":\"parcoords\"}],\"pie\":[{\"automargin\":true,\"type\":\"pie\"}],\"scatter3d\":[{\"line\":{\"colorbar\":{\"outlinewidth\":1,\"tickcolor\":\"rgb(36,36,36)\",\"ticks\":\"outside\"}},\"marker\":{\"colorbar\":{\"outlinewidth\":1,\"tickcolor\":\"rgb(36,36,36)\",\"ticks\":\"outside\"}},\"type\":\"scatter3d\"}],\"scattercarpet\":[{\"marker\":{\"colorbar\":{\"outlinewidth\":1,\"tickcolor\":\"rgb(36,36,36)\",\"ticks\":\"outside\"}},\"type\":\"scattercarpet\"}],\"scattergeo\":[{\"marker\":{\"colorbar\":{\"outlinewidth\":1,\"tickcolor\":\"rgb(36,36,36)\",\"ticks\":\"outside\"}},\"type\":\"scattergeo\"}],\"scattergl\":[{\"marker\":{\"colorbar\":{\"outlinewidth\":1,\"tickcolor\":\"rgb(36,36,36)\",\"ticks\":\"outside\"}},\"type\":\"scattergl\"}],\"scattermapbox\":[{\"marker\":{\"colorbar\":{\"outlinewidth\":1,\"tickcolor\":\"rgb(36,36,36)\",\"ticks\":\"outside\"}},\"type\":\"scattermapbox\"}],\"scatterpolargl\":[{\"marker\":{\"colorbar\":{\"outlinewidth\":1,\"tickcolor\":\"rgb(36,36,36)\",\"ticks\":\"outside\"}},\"type\":\"scatterpolargl\"}],\"scatterpolar\":[{\"marker\":{\"colorbar\":{\"outlinewidth\":1,\"tickcolor\":\"rgb(36,36,36)\",\"ticks\":\"outside\"}},\"type\":\"scatterpolar\"}],\"scatter\":[{\"fillpattern\":{\"fillmode\":\"overlay\",\"size\":10,\"solidity\":0.2},\"type\":\"scatter\"}],\"scatterternary\":[{\"marker\":{\"colorbar\":{\"outlinewidth\":1,\"tickcolor\":\"rgb(36,36,36)\",\"ticks\":\"outside\"}},\"type\":\"scatterternary\"}],\"surface\":[{\"colorbar\":{\"outlinewidth\":1,\"tickcolor\":\"rgb(36,36,36)\",\"ticks\":\"outside\"},\"colorscale\":[[0.0,\"#440154\"],[0.1111111111111111,\"#482878\"],[0.2222222222222222,\"#3e4989\"],[0.3333333333333333,\"#31688e\"],[0.4444444444444444,\"#26828e\"],[0.5555555555555556,\"#1f9e89\"],[0.6666666666666666,\"#35b779\"],[0.7777777777777778,\"#6ece58\"],[0.8888888888888888,\"#b5de2b\"],[1.0,\"#fde725\"]],\"type\":\"surface\"}],\"table\":[{\"cells\":{\"fill\":{\"color\":\"rgb(237,237,237)\"},\"line\":{\"color\":\"white\"}},\"header\":{\"fill\":{\"color\":\"rgb(217,217,217)\"},\"line\":{\"color\":\"white\"}},\"type\":\"table\"}]},\"layout\":{\"annotationdefaults\":{\"arrowhead\":0,\"arrowwidth\":1},\"autotypenumbers\":\"strict\",\"coloraxis\":{\"colorbar\":{\"outlinewidth\":1,\"tickcolor\":\"rgb(36,36,36)\",\"ticks\":\"outside\"}},\"colorscale\":{\"diverging\":[[0.0,\"rgb(103,0,31)\"],[0.1,\"rgb(178,24,43)\"],[0.2,\"rgb(214,96,77)\"],[0.3,\"rgb(244,165,130)\"],[0.4,\"rgb(253,219,199)\"],[0.5,\"rgb(247,247,247)\"],[0.6,\"rgb(209,229,240)\"],[0.7,\"rgb(146,197,222)\"],[0.8,\"rgb(67,147,195)\"],[0.9,\"rgb(33,102,172)\"],[1.0,\"rgb(5,48,97)\"]],\"sequential\":[[0.0,\"#440154\"],[0.1111111111111111,\"#482878\"],[0.2222222222222222,\"#3e4989\"],[0.3333333333333333,\"#31688e\"],[0.4444444444444444,\"#26828e\"],[0.5555555555555556,\"#1f9e89\"],[0.6666666666666666,\"#35b779\"],[0.7777777777777778,\"#6ece58\"],[0.8888888888888888,\"#b5de2b\"],[1.0,\"#fde725\"]],\"sequentialminus\":[[0.0,\"#440154\"],[0.1111111111111111,\"#482878\"],[0.2222222222222222,\"#3e4989\"],[0.3333333333333333,\"#31688e\"],[0.4444444444444444,\"#26828e\"],[0.5555555555555556,\"#1f9e89\"],[0.6666666666666666,\"#35b779\"],[0.7777777777777778,\"#6ece58\"],[0.8888888888888888,\"#b5de2b\"],[1.0,\"#fde725\"]]},\"colorway\":[\"#1F77B4\",\"#FF7F0E\",\"#2CA02C\",\"#D62728\",\"#9467BD\",\"#8C564B\",\"#E377C2\",\"#7F7F7F\",\"#BCBD22\",\"#17BECF\"],\"font\":{\"color\":\"rgb(36,36,36)\"},\"geo\":{\"bgcolor\":\"white\",\"lakecolor\":\"white\",\"landcolor\":\"white\",\"showlakes\":true,\"showland\":true,\"subunitcolor\":\"white\"},\"hoverlabel\":{\"align\":\"left\"},\"hovermode\":\"closest\",\"mapbox\":{\"style\":\"light\"},\"paper_bgcolor\":\"white\",\"plot_bgcolor\":\"white\",\"polar\":{\"angularaxis\":{\"gridcolor\":\"rgb(232,232,232)\",\"linecolor\":\"rgb(36,36,36)\",\"showgrid\":false,\"showline\":true,\"ticks\":\"outside\"},\"bgcolor\":\"white\",\"radialaxis\":{\"gridcolor\":\"rgb(232,232,232)\",\"linecolor\":\"rgb(36,36,36)\",\"showgrid\":false,\"showline\":true,\"ticks\":\"outside\"}},\"scene\":{\"xaxis\":{\"backgroundcolor\":\"white\",\"gridcolor\":\"rgb(232,232,232)\",\"gridwidth\":2,\"linecolor\":\"rgb(36,36,36)\",\"showbackground\":true,\"showgrid\":false,\"showline\":true,\"ticks\":\"outside\",\"zeroline\":false,\"zerolinecolor\":\"rgb(36,36,36)\"},\"yaxis\":{\"backgroundcolor\":\"white\",\"gridcolor\":\"rgb(232,232,232)\",\"gridwidth\":2,\"linecolor\":\"rgb(36,36,36)\",\"showbackground\":true,\"showgrid\":false,\"showline\":true,\"ticks\":\"outside\",\"zeroline\":false,\"zerolinecolor\":\"rgb(36,36,36)\"},\"zaxis\":{\"backgroundcolor\":\"white\",\"gridcolor\":\"rgb(232,232,232)\",\"gridwidth\":2,\"linecolor\":\"rgb(36,36,36)\",\"showbackground\":true,\"showgrid\":false,\"showline\":true,\"ticks\":\"outside\",\"zeroline\":false,\"zerolinecolor\":\"rgb(36,36,36)\"}},\"shapedefaults\":{\"fillcolor\":\"black\",\"line\":{\"width\":0},\"opacity\":0.3},\"ternary\":{\"aaxis\":{\"gridcolor\":\"rgb(232,232,232)\",\"linecolor\":\"rgb(36,36,36)\",\"showgrid\":false,\"showline\":true,\"ticks\":\"outside\"},\"baxis\":{\"gridcolor\":\"rgb(232,232,232)\",\"linecolor\":\"rgb(36,36,36)\",\"showgrid\":false,\"showline\":true,\"ticks\":\"outside\"},\"bgcolor\":\"white\",\"caxis\":{\"gridcolor\":\"rgb(232,232,232)\",\"linecolor\":\"rgb(36,36,36)\",\"showgrid\":false,\"showline\":true,\"ticks\":\"outside\"}},\"title\":{\"x\":0.05},\"xaxis\":{\"automargin\":true,\"gridcolor\":\"rgb(232,232,232)\",\"linecolor\":\"rgb(36,36,36)\",\"showgrid\":false,\"showline\":true,\"ticks\":\"outside\",\"title\":{\"standoff\":15},\"zeroline\":false,\"zerolinecolor\":\"rgb(36,36,36)\"},\"yaxis\":{\"automargin\":true,\"gridcolor\":\"rgb(232,232,232)\",\"linecolor\":\"rgb(36,36,36)\",\"showgrid\":false,\"showline\":true,\"ticks\":\"outside\",\"title\":{\"standoff\":15},\"zeroline\":false,\"zerolinecolor\":\"rgb(36,36,36)\"}}},\"xaxis\":{\"showgrid\":true},\"yaxis\":{\"showgrid\":true,\"title\":{\"text\":\"Frequency\"}},\"title\":{\"font\":{\"size\":22,\"color\":\"Black\"},\"text\":\"\\u003cb\\u003eTopics over Time\\u003c\\u002fb\\u003e\",\"y\":0.95,\"x\":0.4,\"xanchor\":\"center\",\"yanchor\":\"top\"},\"hoverlabel\":{\"font\":{\"size\":16,\"family\":\"Rockwell\"},\"bgcolor\":\"white\"},\"width\":1500,\"height\":450,\"legend\":{\"title\":{\"text\":\"\\u003cb\\u003eGlobal Topic Representation\"}}},                        {\"responsive\": true}                    ).then(function(){\n",
              "                            \n",
              "var gd = document.getElementById('e44239c1-18fb-410d-9ed0-886664cc1af6');\n",
              "var x = new MutationObserver(function (mutations, observer) {{\n",
              "        var display = window.getComputedStyle(gd).display;\n",
              "        if (!display || display === 'none') {{\n",
              "            console.log([gd, 'removed!']);\n",
              "            Plotly.purge(gd);\n",
              "            observer.disconnect();\n",
              "        }}\n",
              "}});\n",
              "\n",
              "// Listen for the removal of the full notebook cells\n",
              "var notebookContainer = gd.closest('#notebook-container');\n",
              "if (notebookContainer) {{\n",
              "    x.observe(notebookContainer, {childList: true});\n",
              "}}\n",
              "\n",
              "// Listen for the clearing of the current output cell\n",
              "var outputEl = gd.closest('.output');\n",
              "if (outputEl) {{\n",
              "    x.observe(outputEl, {childList: true});\n",
              "}}\n",
              "\n",
              "                        })                };                            </script>        </div>\n",
              "</body>\n",
              "</html>"
            ]
          },
          "metadata": {}
        }
      ]
    },
    {
      "cell_type": "code",
      "source": [
        "loaded_model.visualize_topics_over_time(topics_over_time, topics=[13, 14, 15, 16,18,19], custom_labels=True, width=1500)"
      ],
      "metadata": {
        "colab": {
          "base_uri": "https://localhost:8080/",
          "height": 487
        },
        "id": "pSuqAiUpk511",
        "outputId": "929a4ce1-5d90-4292-ae5d-53b49547549a"
      },
      "execution_count": null,
      "outputs": [
        {
          "output_type": "display_data",
          "data": {
            "text/html": [
              "<html>\n",
              "<head><meta charset=\"utf-8\" /></head>\n",
              "<body>\n",
              "    <div>            <script src=\"https://cdnjs.cloudflare.com/ajax/libs/mathjax/2.7.5/MathJax.js?config=TeX-AMS-MML_SVG\"></script><script type=\"text/javascript\">if (window.MathJax && window.MathJax.Hub && window.MathJax.Hub.Config) {window.MathJax.Hub.Config({SVG: {font: \"STIX-Web\"}});}</script>                <script type=\"text/javascript\">window.PlotlyConfig = {MathJaxConfig: 'local'};</script>\n",
              "        <script charset=\"utf-8\" src=\"https://cdn.plot.ly/plotly-2.24.1.min.js\"></script>                <div id=\"208c6258-1572-498a-9aa6-5ba53d3a2507\" class=\"plotly-graph-div\" style=\"height:450px; width:1500px;\"></div>            <script type=\"text/javascript\">                                    window.PLOTLYENV=window.PLOTLYENV || {};                                    if (document.getElementById(\"208c6258-1572-498a-9aa6-5ba53d3a2507\")) {                    Plotly.newPlot(                        \"208c6258-1572-498a-9aa6-5ba53d3a2507\",                        [{\"hoverinfo\":\"text\",\"hovertext\":[\"\\u003cb\\u003eTopic 13\\u003c\\u002fb\\u003e\\u003cbr\\u003eWords: airpods, need day deliver, deliver pair airpods, ayfkmretail shipping hard, basically dental\",\"\\u003cb\\u003eTopic 13\\u003c\\u002fb\\u003e\\u003cbr\\u003eWords: airpods, hearables revolution, airpods start hearables, start hearables, revolution wearable technology\",\"\\u003cb\\u003eTopic 13\\u003c\\u002fb\\u003e\\u003cbr\\u003eWords: airpods, soundbar sale reviewed, speaker soundbar, 2019 deal headphone, headphone speaker soundbar\",\"\\u003cb\\u003eTopic 13\\u003c\\u002fb\\u003e\\u003cbr\\u003eWords: airpods, qc35 beat, bose qc35 beat, qc35 beat wireless, prime headphone deal\",\"\\u003cb\\u003eTopic 13\\u003c\\u002fb\\u003e\\u003cbr\\u003eWords: airpods, headphone, experience car rider, canada park, ever using headphone\",\"\\u003cb\\u003eTopic 13\\u003c\\u002fb\\u003e\\u003cbr\\u003eWords: launching airpod competitor, airpod competitor, launching airpod, airpod, competitor\",\"\\u003cb\\u003eTopic 13\\u003c\\u002fb\\u003e\\u003cbr\\u003eWords: airpods, echo bud, bud, echo, noise reduction\",\"\\u003cb\\u003eTopic 13\\u003c\\u002fb\\u003e\\u003cbr\\u003eWords: airpods, echo bud, bud, echo, event android pixel\",\"\\u003cb\\u003eTopic 13\\u003c\\u002fb\\u003e\\u003cbr\\u003eWords: exec airpod gaffe, jumbo holiday grmn, firm pitch wireless, gaffe disgusting, roku arlo\",\"\\u003cb\\u003eTopic 13\\u003c\\u002fb\\u003e\\u003cbr\\u003eWords: hearables themotleyfool, brand hearables themotleyfool, hearables themotleyfool stock, hottest brand, brand hearables\",\"\\u003cb\\u003eTopic 13\\u003c\\u002fb\\u003e\\u003cbr\\u003eWords: airpods, earbud, earbuds, surface, debut\",\"\\u003cb\\u003eTopic 13\\u003c\\u002fb\\u003e\\u003cbr\\u003eWords: airpods, earbud, airpods competitor, challenge apple airpodsaapl, airpods competitor themotleyfool\",\"\\u003cb\\u003eTopic 13\\u003c\\u002fb\\u003e\\u003cbr\\u003eWords: airpods, challenge apple airpods, apple airpods thestreet, airpods thestreet, war challenge\",\"\\u003cb\\u003eTopic 13\\u003c\\u002fb\\u003e\\u003cbr\\u003eWords: earbuds airpods, announces surface earbuds, mobilesyrup, airpods mobilesyrup, earbuds airpods mobilesyrup\",\"\\u003cb\\u003eTopic 13\\u003c\\u002fb\\u003e\\u003cbr\\u003eWords: airpods, pixel bud, bud, pixel, stop modeling declining\",\"\\u003cb\\u003eTopic 13\\u003c\\u002fb\\u003e\\u003cbr\\u003eWords: airpods, iphone, launch, product airpods launch, competing product airpods\",\"\\u003cb\\u003eTopic 13\\u003c\\u002fb\\u003e\\u003cbr\\u003eWords: bud earphone launch, client pixel, earphone launch challenge, sign major client, bud earphone\",\"\\u003cb\\u003eTopic 13\\u003c\\u002fb\\u003e\\u003cbr\\u003eWords: behind competitor, 2022 falling, 2022 falling behind, behind competitor snap, falling behind competitor\",\"\\u003cb\\u003eTopic 13\\u003c\\u002fb\\u003e\\u003cbr\\u003eWords: airpods, delay launch, delay, airpods competitor, launch\",\"\\u003cb\\u003eTopic 13\\u003c\\u002fb\\u003e\\u003cbr\\u003eWords: delay surface earbuds, delay surface, surface earbuds, earbuds, delay\",\"\\u003cb\\u003eTopic 13\\u003c\\u002fb\\u003e\\u003cbr\\u003eWords: earlier shipping, stock earlier shipping, airpods stock earlier, stock earlier, airpods stock\",\"\\u003cb\\u003eTopic 13\\u003c\\u002fb\\u003e\\u003cbr\\u003eWords: airpods, online inclfrozen, nerf, adbe estimate, airpods samsung\",\"\\u003cb\\u003eTopic 13\\u003c\\u002fb\\u003e\\u003cbr\\u003eWords: airpods, ahead holiday djia, holiday djia stockmarket, sold online ahead, airpods sold online\",\"\\u003cb\\u003eTopic 13\\u003c\\u002fb\\u003e\\u003cbr\\u003eWords: better airpod, airpod forecast, better airpod forecast, airpod, forecast\",\"\\u003cb\\u003eTopic 13\\u003c\\u002fb\\u003e\\u003cbr\\u003eWords: airpods, theyll, instructed order, kate xmas, admired gift kate\",\"\\u003cb\\u003eTopic 13\\u003c\\u002fb\\u003e\\u003cbr\\u003eWords: wireless earphone incredible, earphone incredible year, earphone incredible, true wireless earphone, wireless earphone\"],\"marker\":{\"color\":\"#E69F00\"},\"mode\":\"lines\",\"name\":\"Auriculares\",\"x\":[\"2019-06-17\",\"2019-07-03\",\"2019-07-13\",\"2019-07-14\",\"2019-07-17\",\"2019-09-22\",\"2019-09-25\",\"2019-09-26\",\"2019-09-27\",\"2019-09-28\",\"2019-10-02\",\"2019-10-03\",\"2019-10-04\",\"2019-10-06\",\"2019-10-15\",\"2019-10-28\",\"2019-10-29\",\"2019-11-20\",\"2019-11-21\",\"2019-11-22\",\"2019-12-01\",\"2019-12-02\",\"2019-12-17\",\"2019-12-20\",\"2019-12-27\",\"2019-12-31\"],\"y\":[1,3,1,1,2,2,4,3,2,1,5,5,3,1,3,2,1,1,8,3,1,1,1,1,1,5],\"type\":\"scatter\"},{\"hoverinfo\":\"text\",\"hovertext\":[\"\\u003cb\\u003eTopic 14\\u003c\\u002fb\\u003e\\u003cbr\\u003eWords: github, opensource, transition embrace opensource, transition embrace, building goodwill\",\"\\u003cb\\u003eTopic 14\\u003c\\u002fb\\u003e\\u003cbr\\u003eWords: github, satan developer world, luring github, world largest software, great satan developer\",\"\\u003cb\\u003eTopic 14\\u003c\\u002fb\\u003e\\u003cbr\\u003eWords: github, github code next, really coming love, iphone next good, coming love\",\"\\u003cb\\u003eTopic 14\\u003c\\u002fb\\u003e\\u003cbr\\u003eWords: github, seems another overpaid, whole site depositing, site depositing, especially whole site\",\"\\u003cb\\u003eTopic 14\\u003c\\u002fb\\u003e\\u003cbr\\u003eWords: github, project, anyone opensource, rosaliechan github, github firstever\",\"\\u003cb\\u003eTopic 14\\u003c\\u002fb\\u003e\\u003cbr\\u003eWords: github, available developer part, project here, tool available developer, developer part\",\"\\u003cb\\u003eTopic 14\\u003c\\u002fb\\u003e\\u003cbr\\u003eWords: github, decrease, seems, based github, bring enough\",\"\\u003cb\\u003eTopic 14\\u003c\\u002fb\\u003e\\u003cbr\\u003eWords: github technology, 25000 engineer github, 25000 engineer, github technology tech, engineer github\",\"\\u003cb\\u003eTopic 14\\u003c\\u002fb\\u003e\\u003cbr\\u003eWords: github, rev, million rev estimate, rev estimate 300m, upwk june paid\",\"\\u003cb\\u003eTopic 14\\u003c\\u002fb\\u003e\\u003cbr\\u003eWords: github, incidentresponse ubuntu cybercrime, securityweek canonical github, hijack incidentresponse ubuntu, hijack incidentresponse\",\"\\u003cb\\u003eTopic 14\\u003c\\u002fb\\u003e\\u003cbr\\u003eWords: github, censorship debate, come microsofts github, debate come microsofts, censorship debate come\",\"\\u003cb\\u003eTopic 14\\u003c\\u002fb\\u003e\\u003cbr\\u003eWords: pattern surfaced, bull pattern surfaced, bull pattern, surfaced, pattern\",\"\\u003cb\\u003eTopic 14\\u003c\\u002fb\\u003e\\u003cbr\\u003eWords: outage happen, happen often github, happen often, often github, outage happen often\",\"\\u003cb\\u003eTopic 14\\u003c\\u002fb\\u003e\\u003cbr\\u003eWords: linux, window visual, window visual studio, linux development window, depth tutorial\",\"\\u003cb\\u003eTopic 14\\u003c\\u002fb\\u003e\\u003cbr\\u003eWords: github, time 2017ish cant, 2017ish cant believe, remembers bitcoin source, isnt action\",\"\\u003cb\\u003eTopic 14\\u003c\\u002fb\\u003e\\u003cbr\\u003eWords: github, probably expose, good hacker software, hacker software, data breach good\",\"\\u003cb\\u003eTopic 14\\u003c\\u002fb\\u003e\\u003cbr\\u003eWords: get cicd, service techcrunch, github get cicd, position github get, position github\",\"\\u003cb\\u003eTopic 14\\u003c\\u002fb\\u003e\\u003cbr\\u003eWords: gitlab, thought moved, moved away github, gitlab acquired, really thought moved\",\"\\u003cb\\u003eTopic 14\\u003c\\u002fb\\u003e\\u003cbr\\u003eWords: github, bullish srcgraphon private, happens world drop, improved feature price, world drop\",\"\\u003cb\\u003eTopic 14\\u003c\\u002fb\\u003e\\u003cbr\\u003eWords: wsgf development surfaced, wsgf development, development surfaced, surfaced, wsgf\",\"\\u003cb\\u003eTopic 14\\u003c\\u002fb\\u003e\\u003cbr\\u003eWords: semmle, buy semmle, github buy semmle, github buy, buy semmle action\",\"\\u003cb\\u003eTopic 14\\u003c\\u002fb\\u003e\\u003cbr\\u003eWords: github, pushed, code, created, created hello\",\"\\u003cb\\u003eTopic 14\\u003c\\u002fb\\u003e\\u003cbr\\u003eWords: vulnerable, github, code, microsoftowned, opensource\",\"\\u003cb\\u003eTopic 14\\u003c\\u002fb\\u003e\\u003cbr\\u003eWords: github, flow best devs, ticket reputation, merged career naturally, ticket reputation circleci\",\"\\u003cb\\u003eTopic 14\\u003c\\u002fb\\u003e\\u003cbr\\u003eWords: github, rosaliechan former cloud, joining microsoftowned, former cloud engineering, github lead data\",\"\\u003cb\\u003eTopic 14\\u003c\\u002fb\\u003e\\u003cbr\\u003eWords: github, software get developed, incredibly accurate eventually, eventually exposure software, eventually exposure\",\"\\u003cb\\u003eTopic 14\\u003c\\u002fb\\u003e\\u003cbr\\u003eWords: github, mistake large wrangle, mistake large, suffering eternal september, politics safer cheaper\",\"\\u003cb\\u003eTopic 14\\u003c\\u002fb\\u003e\\u003cbr\\u003eWords: kubernetes microservices, microservices, kubernetes, github, project\",\"\\u003cb\\u003eTopic 14\\u003c\\u002fb\\u003e\\u003cbr\\u003eWords: protest catalonia, microsofts github block, block catalan, catalan, catalan protest catalonia\",\"\\u003cb\\u003eTopic 14\\u003c\\u002fb\\u003e\\u003cbr\\u003eWords: employee anger, trying quell employee, github trying quell, quell employee, quell employee anger\",\"\\u003cb\\u003eTopic 14\\u003c\\u002fb\\u003e\\u003cbr\\u003eWords: code, free code editor, free code, code editor, code editor crucial\",\"\\u003cb\\u003eTopic 14\\u003c\\u002fb\\u003e\\u003cbr\\u003eWords: github, became launched 2006, cloud journey reinvented, source repository seems, everything window stand\",\"\\u003cb\\u003eTopic 14\\u003c\\u002fb\\u003e\\u003cbr\\u003eWords: github, contract immigration custom, custom enforcement, resign contract immigration, contract immigration\",\"\\u003cb\\u003eTopic 14\\u003c\\u002fb\\u003e\\u003cbr\\u003eWords: github, github gerberkawasaki, account open, arctic, apocalypse arctic cave\",\"\\u003cb\\u003eTopic 14\\u003c\\u002fb\\u003e\\u003cbr\\u003eWords: github, impressed, every release keeping, keeping overall product, contributor project github\",\"\\u003cb\\u003eTopic 14\\u003c\\u002fb\\u003e\\u003cbr\\u003eWords: reinvent, jassy dropped codeguru, dropped codeguru reinvent, codeguru reinvent, codeguru reinvent reinvent\",\"\\u003cb\\u003eTopic 14\\u003c\\u002fb\\u003e\\u003cbr\\u003eWords: github, employee, employee board ashley, board ashley, quit microsoftowned github\",\"\\u003cb\\u003eTopic 14\\u003c\\u002fb\\u003e\\u003cbr\\u003eWords: github, demanding github cancel, contract saying, github cancel, developer sent\",\"\\u003cb\\u003eTopic 14\\u003c\\u002fb\\u003e\\u003cbr\\u003eWords: github, github china china, expand software repository, github china, subsidiary github china\",\"\\u003cb\\u003eTopic 14\\u003c\\u002fb\\u003e\\u003cbr\\u003eWords: github, github page, vector clickjacking subdomain, clickjacking, clickjacking subdomain takeover\",\"\\u003cb\\u003eTopic 14\\u003c\\u002fb\\u003e\\u003cbr\\u003eWords: surprised regulator, allowed acquire, surprised regulator allowed, allowed acquire github, acquire github\",\"\\u003cb\\u003eTopic 14\\u003c\\u002fb\\u003e\\u003cbr\\u003eWords: github, startup visual, portfolio compliance, across set customer, across set\"],\"marker\":{\"color\":\"#56B4E9\"},\"mode\":\"lines\",\"name\":\"C\\u00f3digo\",\"x\":[\"2019-06-04\",\"2019-06-07\",\"2019-06-09\",\"2019-06-11\",\"2019-06-12\",\"2019-06-17\",\"2019-06-22\",\"2019-07-02\",\"2019-07-06\",\"2019-07-08\",\"2019-07-09\",\"2019-07-16\",\"2019-07-22\",\"2019-07-23\",\"2019-07-27\",\"2019-07-30\",\"2019-08-08\",\"2019-08-09\",\"2019-08-18\",\"2019-09-03\",\"2019-09-18\",\"2019-09-27\",\"2019-09-30\",\"2019-10-02\",\"2019-10-04\",\"2019-10-05\",\"2019-10-16\",\"2019-10-17\",\"2019-10-30\",\"2019-10-31\",\"2019-11-03\",\"2019-11-08\",\"2019-11-14\",\"2019-11-16\",\"2019-11-24\",\"2019-12-03\",\"2019-12-04\",\"2019-12-06\",\"2019-12-09\",\"2019-12-10\",\"2019-12-12\",\"2019-12-29\"],\"y\":[1,1,1,1,2,1,1,1,1,1,1,1,1,1,2,3,1,1,1,1,3,1,1,1,3,1,1,1,1,1,1,1,1,1,2,1,1,1,1,2,1,1],\"type\":\"scatter\"},{\"hoverinfo\":\"text\",\"hovertext\":[\"\\u003cb\\u003eTopic 15\\u003c\\u002fb\\u003e\\u003cbr\\u003eWords: youtubetv, cord, atts uversetv, uversetv, favor youtubetv\",\"\\u003cb\\u003eTopic 15\\u003c\\u002fb\\u003e\\u003cbr\\u003eWords: stock nflx cordcutter, cordcutting, film themotleyfool, money original film, film themotleyfool stock\",\"\\u003cb\\u003eTopic 15\\u003c\\u002fb\\u003e\\u003cbr\\u003eWords: cord, roku giveaway, news roku nflx, roku giveaway cord, huge roku giveaway\",\"\\u003cb\\u003eTopic 15\\u003c\\u002fb\\u003e\\u003cbr\\u003eWords: cordcutting, cordcutter, cordcutters cordcutting, stock roku cordcutters, cordcutting cordcutter\",\"\\u003cb\\u003eTopic 15\\u003c\\u002fb\\u003e\\u003cbr\\u003eWords: cable, cordcutting, cable cmcsa, save cable cmcsa, save cable\",\"\\u003cb\\u003eTopic 15\\u003c\\u002fb\\u003e\\u003cbr\\u003eWords: cord, streaming made, cable cord gonna, gonna different service, instastories done enjoy\",\"\\u003cb\\u003eTopic 15\\u003c\\u002fb\\u003e\\u003cbr\\u003eWords: comcast, cordcutting, cmcsa comcast lost, earlier period cordcutting, period cordcutting\",\"\\u003cb\\u003eTopic 15\\u003c\\u002fb\\u003e\\u003cbr\\u003eWords: nflx cordcutting, richattbd nflx cordcutting, richattbd nflx, richattbd, cordcutting\",\"\\u003cb\\u003eTopic 15\\u003c\\u002fb\\u003e\\u003cbr\\u003eWords: cord within, reporternick, within year reporternick, almost home, study emarketer\",\"\\u003cb\\u003eTopic 15\\u003c\\u002fb\\u003e\\u003cbr\\u003eWords: play broadband card, shrug video, loss cable firm, blah blahcord, comcast stock shrug\",\"\\u003cb\\u003eTopic 15\\u003c\\u002fb\\u003e\\u003cbr\\u003eWords: cord, barrons showed nice, nice article roku, dream working, working investor\",\"\\u003cb\\u003eTopic 15\\u003c\\u002fb\\u003e\\u003cbr\\u003eWords: cord, 100month cutting cord, speedeven, speedeven nflx, speedeven nflx hulu\",\"\\u003cb\\u003eTopic 15\\u003c\\u002fb\\u003e\\u003cbr\\u003eWords: cord, cord cutting, currently traditional, drop itpie bigger, bigger otts\",\"\\u003cb\\u003eTopic 15\\u003c\\u002fb\\u003e\\u003cbr\\u003eWords: cordcutting, accelerating cordcutting, accelerating cordcutting themotleyfool, factor accelerating cordcutting, cordcutting themotleyfool stock\",\"\\u003cb\\u003eTopic 15\\u003c\\u002fb\\u003e\\u003cbr\\u003eWords: cordcutting, factor, roku, roku nflx, cordcutters cordcutting\",\"\\u003cb\\u003eTopic 15\\u003c\\u002fb\\u003e\\u003cbr\\u003eWords: cordcutting, stock disca cordcutter, disca cordcutter cordcutters, disca cordcutter, streaming\",\"\\u003cb\\u003eTopic 15\\u003c\\u002fb\\u003e\\u003cbr\\u003eWords: cord, cutter, cord cutter, service officially, service officially available\",\"\\u003cb\\u003eTopic 15\\u003c\\u002fb\\u003e\\u003cbr\\u003eWords: cord, cord cutting, yrsthink bigger coming, home ecosystem googlroku, baseless fear\",\"\\u003cb\\u003eTopic 15\\u003c\\u002fb\\u003e\\u003cbr\\u003eWords: roku, cord, advertising, space roku, roku add interactive\",\"\\u003cb\\u003eTopic 15\\u003c\\u002fb\\u003e\\u003cbr\\u003eWords: gwth, linear, cord, linear 70bintl, mktecosystem spker\",\"\\u003cb\\u003eTopic 15\\u003c\\u002fb\\u003e\\u003cbr\\u003eWords: cord, cable hardware, mounting cable, accelerating nflx, might accelerating nflx\",\"\\u003cb\\u003eTopic 15\\u003c\\u002fb\\u003e\\u003cbr\\u003eWords: roku roku fire, fire spying attack, attack cord, spying attack, spying attack cord\",\"\\u003cb\\u003eTopic 15\\u003c\\u002fb\\u003e\\u003cbr\\u003eWords: uniedtstates, nflx million uniedtstates, potentially cord 2019, million uniedtstates potentially, uniedtstates potentially cord\",\"\\u003cb\\u003eTopic 15\\u003c\\u002fb\\u003e\\u003cbr\\u003eWords: cord, versus 106000 2018, 106000 2018 203000roku, 106000 2018, 238000 customer 2019\",\"\\u003cb\\u003eTopic 15\\u003c\\u002fb\\u003e\\u003cbr\\u003eWords: loss, cord, cord cutting, first roku nflx, reporting loss million\",\"\\u003cb\\u003eTopic 15\\u003c\\u002fb\\u003e\\u003cbr\\u003eWords: cutting cord running, running roku roku, cord running roku, cord running, running roku\",\"\\u003cb\\u003eTopic 15\\u003c\\u002fb\\u003e\\u003cbr\\u003eWords: nicely accelerating, nicely accelerating close, accelerating close, accelerating, nicely\",\"\\u003cb\\u003eTopic 15\\u003c\\u002fb\\u003e\\u003cbr\\u003eWords: cordcutting, rest nvdastreamingvideo, rest nvdastreamingvideo cordcutting, dealroku rest nvdastreamingvideo, best dealroku rest\",\"\\u003cb\\u003eTopic 15\\u003c\\u002fb\\u003e\\u003cbr\\u003eWords: cord, supply cord, power supply cord, power supply, surface\",\"\\u003cb\\u003eTopic 15\\u003c\\u002fb\\u003e\\u003cbr\\u003eWords: cord, study show consumer, shaver cord cutter, consumer become, cord cutter nflx\",\"\\u003cb\\u003eTopic 15\\u003c\\u002fb\\u003e\\u003cbr\\u003eWords: buying preipo, preipo shift advertising, roku revenue equivalent, advertising dollar linear, buying preipo shift\"],\"marker\":{\"color\":\"#009E73\"},\"mode\":\"lines\",\"name\":\"Roku\",\"x\":[\"2019-06-03\",\"2019-06-30\",\"2019-07-02\",\"2019-07-11\",\"2019-07-12\",\"2019-07-17\",\"2019-07-25\",\"2019-08-06\",\"2019-08-07\",\"2019-08-22\",\"2019-08-24\",\"2019-09-10\",\"2019-09-18\",\"2019-09-21\",\"2019-09-27\",\"2019-09-28\",\"2019-10-02\",\"2019-10-05\",\"2019-10-06\",\"2019-10-13\",\"2019-10-15\",\"2019-10-21\",\"2019-10-22\",\"2019-10-24\",\"2019-10-28\",\"2019-10-30\",\"2019-11-21\",\"2019-11-27\",\"2019-12-05\",\"2019-12-17\",\"2019-12-21\"],\"y\":[1,1,1,5,2,1,2,1,1,1,1,1,1,7,2,1,1,2,1,2,1,1,1,2,1,2,1,2,1,1,1],\"type\":\"scatter\"},{\"hoverinfo\":\"text\",\"hovertext\":[\"\\u003cb\\u003eTopic 16\\u003c\\u002fb\\u003e\\u003cbr\\u003eWords: 17655 ndsld 13173, 17655 ndsld, ndsld, ndsld 13173, 17655\",\"\\u003cb\\u003eTopic 16\\u003c\\u002fb\\u003e\\u003cbr\\u003eWords: 1765, weakness though, 1765 weakness though, daily getting oversold, oversold 1765\",\"\\u003cb\\u003eTopic 16\\u003c\\u002fb\\u003e\\u003cbr\\u003eWords: 1765, 1765 wait enter, price 1765, test yesterday, price 1765 wait\",\"\\u003cb\\u003eTopic 16\\u003c\\u002fb\\u003e\\u003cbr\\u003eWords: wrote 1765, wrote 1765 call, 1765 call, 1765, wrote\",\"\\u003cb\\u003eTopic 16\\u003c\\u002fb\\u003e\\u003cbr\\u003eWords: 1765, 1765 close, target approaching, close 2550 put, price target approaching\",\"\\u003cb\\u003eTopic 16\\u003c\\u002fb\\u003e\\u003cbr\\u003eWords: 1765, 1770s, cross, fast 28820 next, target 28850 28880\",\"\\u003cb\\u003eTopic 16\\u003c\\u002fb\\u003e\\u003cbr\\u003eWords: 1765, 1770p there news, didnt move 1765, move 1765, move 1765 1770p\",\"\\u003cb\\u003eTopic 16\\u003c\\u002fb\\u003e\\u003cbr\\u003eWords: call trade 820and, 820and sold, 820and, trade 820and sold, trade 820and\",\"\\u003cb\\u003eTopic 16\\u003c\\u002fb\\u003e\\u003cbr\\u003eWords: 1765, hitting 1765, 1765 soon board, 1765 soon, 1780 hitting 1765\",\"\\u003cb\\u003eTopic 16\\u003c\\u002fb\\u003e\\u003cbr\\u003eWords: 1765, said room nflx, room nflx earnings, 1765 next, 1765 next target\",\"\\u003cb\\u003eTopic 16\\u003c\\u002fb\\u003e\\u003cbr\\u003eWords: long monday 1765, long monday, monday 1765, 1765, monday\",\"\\u003cb\\u003eTopic 16\\u003c\\u002fb\\u003e\\u003cbr\\u003eWords: 1765, 1765 call, 17655, ride vwap share, gain contract every\",\"\\u003cb\\u003eTopic 16\\u003c\\u002fb\\u003e\\u003cbr\\u003eWords: 1765, sold little, 1765 call, nice sold little, inside nice sold\",\"\\u003cb\\u003eTopic 16\\u003c\\u002fb\\u003e\\u003cbr\\u003eWords: 1765, good trade 1789, mondaywhere, 1789 1765 downnot, stop bumping\",\"\\u003cb\\u003eTopic 16\\u003c\\u002fb\\u003e\\u003cbr\\u003eWords: 1789 possible, 1789, possible, 1765, 1765 call\",\"\\u003cb\\u003eTopic 16\\u003c\\u002fb\\u003e\\u003cbr\\u003eWords: 1765 1800, 1765, 1800, 1765 call, sold little\",\"\\u003cb\\u003eTopic 16\\u003c\\u002fb\\u003e\\u003cbr\\u003eWords: 1765, test, 273s test 1765, 319s rockstar, 1780 moving fast\",\"\\u003cb\\u003eTopic 16\\u003c\\u002fb\\u003e\\u003cbr\\u003eWords: 1765, amzntrimmed, 1765 executed, executed amzntrimmed, executed amzntrimmed 1765\",\"\\u003cb\\u003eTopic 16\\u003c\\u002fb\\u003e\\u003cbr\\u003eWords: 1765, called 1765 buyer, last buyer, last buyer slwoly, 1825 pivot weekly\"],\"marker\":{\"color\":\"#F0E442\"},\"mode\":\"lines\",\"name\":\"Otros\",\"x\":[\"2019-06-14\",\"2019-08-05\",\"2019-08-06\",\"2019-08-14\",\"2019-08-27\",\"2019-08-28\",\"2019-08-29\",\"2019-09-25\",\"2019-10-15\",\"2019-10-17\",\"2019-10-25\",\"2019-10-29\",\"2019-11-25\",\"2019-12-04\",\"2019-12-09\",\"2019-12-11\",\"2019-12-12\",\"2019-12-13\",\"2019-12-23\"],\"y\":[1,1,1,1,1,4,1,1,1,1,1,2,4,2,1,1,2,3,1],\"type\":\"scatter\"},{\"hoverinfo\":\"text\",\"hovertext\":[\"\\u003cb\\u003eTopic 18\\u003c\\u002fb\\u003e\\u003cbr\\u003eWords: disclaimerpremarket, 217closed, 12650, 12583 217closed disclaimerpremarket, 12583 217closed\",\"\\u003cb\\u003eTopic 18\\u003c\\u002fb\\u003e\\u003cbr\\u003eWords: disclaimerpremarket, 13149 046closed, 13149 046closed disclaimerpremarket, 13215, 046closed disclaimerpremarket 13215\",\"\\u003cb\\u003eTopic 18\\u003c\\u002fb\\u003e\\u003cbr\\u003eWords: disclaimerpremarket, 13516 174closed, 13516 174closed disclaimerpremarket, 174closed disclaimerpremarket 13555, 174closed disclaimerpremarket\",\"\\u003cb\\u003eTopic 18\\u003c\\u002fb\\u003e\\u003cbr\\u003eWords: disclaimerpremarket, 13569 039closed disclaimerpremarket, disclaimerpremarket 13761, 13569 039closed, 039closed disclaimerpremarket 13761\",\"\\u003cb\\u003eTopic 18\\u003c\\u002fb\\u003e\\u003cbr\\u003eWords: disclaimerpremarket, disclaimerpremarket 190763, 191819 049closed, 049closed disclaimerpremarket 190763, 190763\",\"\\u003cb\\u003eTopic 18\\u003c\\u002fb\\u003e\\u003cbr\\u003eWords: disclaimerpremarket, 056closed disclaimerpremarket, 1065 056closed disclaimerpremarket, 2537, 1065 056closed\",\"\\u003cb\\u003eTopic 18\\u003c\\u002fb\\u003e\\u003cbr\\u003eWords: disclaimerpremarket, 200966, 081closed disclaimerpremarket 200966, 081closed disclaimerpremarket, 081closed\",\"\\u003cb\\u003eTopic 18\\u003c\\u002fb\\u003e\\u003cbr\\u003eWords: disclaimerpremarket, 000closed disclaimerpremarket 13380, 13380, disclaimerpremarket 13380, 13690 000closed\",\"\\u003cb\\u003eTopic 18\\u003c\\u002fb\\u003e\\u003cbr\\u003eWords: disclaimerpremarket, 2270, 188closed disclaimerpremarket 13537, disclaimerpremarket 13537, 2270 129closed disclaimerpremarket\",\"\\u003cb\\u003eTopic 18\\u003c\\u002fb\\u003e\\u003cbr\\u003eWords: disclaimerpremarket, disclaimerpremarket 13580, 031closed disclaimerpremarket, 044closed disclaimerpremarket, 044closed disclaimerpremarket 13580\",\"\\u003cb\\u003eTopic 18\\u003c\\u002fb\\u003e\\u003cbr\\u003eWords: disclaimerpremarket, 040closed disclaimerpremarket, disclaimerpremarket 175699, 040closed disclaimerpremarket 175699, 176183 040closed\",\"\\u003cb\\u003eTopic 18\\u003c\\u002fb\\u003e\\u003cbr\\u003eWords: disclaimerpremarket, 1011 057closed, 176600, 176600 1029, 057closed disclaimerpremarket 176600\",\"\\u003cb\\u003eTopic 18\\u003c\\u002fb\\u003e\\u003cbr\\u003eWords: disclaimerpremarket, 060closed disclaimerpremarket, 181707 1645, 181707, disclaimerpremarket 181707\",\"\\u003cb\\u003eTopic 18\\u003c\\u002fb\\u003e\\u003cbr\\u003eWords: disclaimerpremarket, 000closed, 000closed disclaimerpremarket, 000closed disclaimerpremarket 184113, 184113\",\"\\u003cb\\u003eTopic 18\\u003c\\u002fb\\u003e\\u003cbr\\u003eWords: disclaimerpremarket, 183936, 000closed disclaimerpremarket 183936, 183351 000closed disclaimerpremarket, 183351 000closed\",\"\\u003cb\\u003eTopic 18\\u003c\\u002fb\\u003e\\u003cbr\\u003eWords: stock moving position, 1645 stock moving, bounce 1645, might bounce 1645, bounce 1645 stock\",\"\\u003cb\\u003eTopic 18\\u003c\\u002fb\\u003e\\u003cbr\\u003eWords: 145closed 005sold, 145closed, 005sold, disclaimerpremarket, 000closed\",\"\\u003cb\\u003eTopic 18\\u003c\\u002fb\\u003e\\u003cbr\\u003eWords: 15730closed, disclaimerpremarket, 000closed, 000closed disclaimerpremarket, 184072 000closed\"],\"marker\":{\"color\":\"#D55E00\"},\"mode\":\"lines\",\"name\":\"Preapertura mercado\",\"x\":[\"2019-06-06\",\"2019-06-13\",\"2019-06-19\",\"2019-06-20\",\"2019-06-21\",\"2019-07-01\",\"2019-07-12\",\"2019-08-05\",\"2019-08-07\",\"2019-08-08\",\"2019-08-28\",\"2019-09-03\",\"2019-09-05\",\"2019-09-06\",\"2019-09-09\",\"2019-10-24\",\"2019-10-28\",\"2019-12-20\"],\"y\":[1,1,1,1,1,1,1,1,2,2,1,1,1,2,1,1,1,1],\"type\":\"scatter\"},{\"hoverinfo\":\"text\",\"hovertext\":[\"\\u003cb\\u003eTopic 19\\u003c\\u002fb\\u003e\\u003cbr\\u003eWords: tspot tumblr, msftaalkotwtribm, tspot, msftaalkotwtribm tspot, msftaalkotwtribm tspot tumblr\",\"\\u003cb\\u003eTopic 19\\u003c\\u002fb\\u003e\\u003cbr\\u003eWords: tchey, tckrbot, tckrbot tckrbot, tchey tckrbot tell, watching tckrbot\",\"\\u003cb\\u003eTopic 19\\u003c\\u002fb\\u003e\\u003cbr\\u003eWords: tckrbot, tckrbot tell, tell brka, tckrbot tell brka, tell\",\"\\u003cb\\u003eTopic 19\\u003c\\u002fb\\u003e\\u003cbr\\u003eWords: tckrbot, tckrbot tckrbot, tckrbot tlry tckrbot, tckrbot wapo, tlry tckrbot\",\"\\u003cb\\u003eTopic 19\\u003c\\u002fb\\u003e\\u003cbr\\u003eWords: tckrbot, interesting continue watching, watching tckrbot, continue watching, continue watching tckrbot\",\"\\u003cb\\u003eTopic 19\\u003c\\u002fb\\u003e\\u003cbr\\u003eWords: tckrbot, tckrbot tckrbot, tckrbot interesting tomorrow, tckrbot interesting, interesting tomorrow tckrbot\"],\"marker\":{\"color\":\"#0072B2\"},\"mode\":\"lines\",\"name\":\"Trackerbot\",\"x\":[\"2019-06-26\",\"2019-07-24\",\"2019-11-01\",\"2019-11-02\",\"2019-11-22\",\"2019-12-19\"],\"y\":[1,2,2,4,2,3],\"type\":\"scatter\"}],                        {\"template\":{\"data\":{\"barpolar\":[{\"marker\":{\"line\":{\"color\":\"white\",\"width\":0.5},\"pattern\":{\"fillmode\":\"overlay\",\"size\":10,\"solidity\":0.2}},\"type\":\"barpolar\"}],\"bar\":[{\"error_x\":{\"color\":\"rgb(36,36,36)\"},\"error_y\":{\"color\":\"rgb(36,36,36)\"},\"marker\":{\"line\":{\"color\":\"white\",\"width\":0.5},\"pattern\":{\"fillmode\":\"overlay\",\"size\":10,\"solidity\":0.2}},\"type\":\"bar\"}],\"carpet\":[{\"aaxis\":{\"endlinecolor\":\"rgb(36,36,36)\",\"gridcolor\":\"white\",\"linecolor\":\"white\",\"minorgridcolor\":\"white\",\"startlinecolor\":\"rgb(36,36,36)\"},\"baxis\":{\"endlinecolor\":\"rgb(36,36,36)\",\"gridcolor\":\"white\",\"linecolor\":\"white\",\"minorgridcolor\":\"white\",\"startlinecolor\":\"rgb(36,36,36)\"},\"type\":\"carpet\"}],\"choropleth\":[{\"colorbar\":{\"outlinewidth\":1,\"tickcolor\":\"rgb(36,36,36)\",\"ticks\":\"outside\"},\"type\":\"choropleth\"}],\"contourcarpet\":[{\"colorbar\":{\"outlinewidth\":1,\"tickcolor\":\"rgb(36,36,36)\",\"ticks\":\"outside\"},\"type\":\"contourcarpet\"}],\"contour\":[{\"colorbar\":{\"outlinewidth\":1,\"tickcolor\":\"rgb(36,36,36)\",\"ticks\":\"outside\"},\"colorscale\":[[0.0,\"#440154\"],[0.1111111111111111,\"#482878\"],[0.2222222222222222,\"#3e4989\"],[0.3333333333333333,\"#31688e\"],[0.4444444444444444,\"#26828e\"],[0.5555555555555556,\"#1f9e89\"],[0.6666666666666666,\"#35b779\"],[0.7777777777777778,\"#6ece58\"],[0.8888888888888888,\"#b5de2b\"],[1.0,\"#fde725\"]],\"type\":\"contour\"}],\"heatmapgl\":[{\"colorbar\":{\"outlinewidth\":1,\"tickcolor\":\"rgb(36,36,36)\",\"ticks\":\"outside\"},\"colorscale\":[[0.0,\"#440154\"],[0.1111111111111111,\"#482878\"],[0.2222222222222222,\"#3e4989\"],[0.3333333333333333,\"#31688e\"],[0.4444444444444444,\"#26828e\"],[0.5555555555555556,\"#1f9e89\"],[0.6666666666666666,\"#35b779\"],[0.7777777777777778,\"#6ece58\"],[0.8888888888888888,\"#b5de2b\"],[1.0,\"#fde725\"]],\"type\":\"heatmapgl\"}],\"heatmap\":[{\"colorbar\":{\"outlinewidth\":1,\"tickcolor\":\"rgb(36,36,36)\",\"ticks\":\"outside\"},\"colorscale\":[[0.0,\"#440154\"],[0.1111111111111111,\"#482878\"],[0.2222222222222222,\"#3e4989\"],[0.3333333333333333,\"#31688e\"],[0.4444444444444444,\"#26828e\"],[0.5555555555555556,\"#1f9e89\"],[0.6666666666666666,\"#35b779\"],[0.7777777777777778,\"#6ece58\"],[0.8888888888888888,\"#b5de2b\"],[1.0,\"#fde725\"]],\"type\":\"heatmap\"}],\"histogram2dcontour\":[{\"colorbar\":{\"outlinewidth\":1,\"tickcolor\":\"rgb(36,36,36)\",\"ticks\":\"outside\"},\"colorscale\":[[0.0,\"#440154\"],[0.1111111111111111,\"#482878\"],[0.2222222222222222,\"#3e4989\"],[0.3333333333333333,\"#31688e\"],[0.4444444444444444,\"#26828e\"],[0.5555555555555556,\"#1f9e89\"],[0.6666666666666666,\"#35b779\"],[0.7777777777777778,\"#6ece58\"],[0.8888888888888888,\"#b5de2b\"],[1.0,\"#fde725\"]],\"type\":\"histogram2dcontour\"}],\"histogram2d\":[{\"colorbar\":{\"outlinewidth\":1,\"tickcolor\":\"rgb(36,36,36)\",\"ticks\":\"outside\"},\"colorscale\":[[0.0,\"#440154\"],[0.1111111111111111,\"#482878\"],[0.2222222222222222,\"#3e4989\"],[0.3333333333333333,\"#31688e\"],[0.4444444444444444,\"#26828e\"],[0.5555555555555556,\"#1f9e89\"],[0.6666666666666666,\"#35b779\"],[0.7777777777777778,\"#6ece58\"],[0.8888888888888888,\"#b5de2b\"],[1.0,\"#fde725\"]],\"type\":\"histogram2d\"}],\"histogram\":[{\"marker\":{\"line\":{\"color\":\"white\",\"width\":0.6}},\"type\":\"histogram\"}],\"mesh3d\":[{\"colorbar\":{\"outlinewidth\":1,\"tickcolor\":\"rgb(36,36,36)\",\"ticks\":\"outside\"},\"type\":\"mesh3d\"}],\"parcoords\":[{\"line\":{\"colorbar\":{\"outlinewidth\":1,\"tickcolor\":\"rgb(36,36,36)\",\"ticks\":\"outside\"}},\"type\":\"parcoords\"}],\"pie\":[{\"automargin\":true,\"type\":\"pie\"}],\"scatter3d\":[{\"line\":{\"colorbar\":{\"outlinewidth\":1,\"tickcolor\":\"rgb(36,36,36)\",\"ticks\":\"outside\"}},\"marker\":{\"colorbar\":{\"outlinewidth\":1,\"tickcolor\":\"rgb(36,36,36)\",\"ticks\":\"outside\"}},\"type\":\"scatter3d\"}],\"scattercarpet\":[{\"marker\":{\"colorbar\":{\"outlinewidth\":1,\"tickcolor\":\"rgb(36,36,36)\",\"ticks\":\"outside\"}},\"type\":\"scattercarpet\"}],\"scattergeo\":[{\"marker\":{\"colorbar\":{\"outlinewidth\":1,\"tickcolor\":\"rgb(36,36,36)\",\"ticks\":\"outside\"}},\"type\":\"scattergeo\"}],\"scattergl\":[{\"marker\":{\"colorbar\":{\"outlinewidth\":1,\"tickcolor\":\"rgb(36,36,36)\",\"ticks\":\"outside\"}},\"type\":\"scattergl\"}],\"scattermapbox\":[{\"marker\":{\"colorbar\":{\"outlinewidth\":1,\"tickcolor\":\"rgb(36,36,36)\",\"ticks\":\"outside\"}},\"type\":\"scattermapbox\"}],\"scatterpolargl\":[{\"marker\":{\"colorbar\":{\"outlinewidth\":1,\"tickcolor\":\"rgb(36,36,36)\",\"ticks\":\"outside\"}},\"type\":\"scatterpolargl\"}],\"scatterpolar\":[{\"marker\":{\"colorbar\":{\"outlinewidth\":1,\"tickcolor\":\"rgb(36,36,36)\",\"ticks\":\"outside\"}},\"type\":\"scatterpolar\"}],\"scatter\":[{\"fillpattern\":{\"fillmode\":\"overlay\",\"size\":10,\"solidity\":0.2},\"type\":\"scatter\"}],\"scatterternary\":[{\"marker\":{\"colorbar\":{\"outlinewidth\":1,\"tickcolor\":\"rgb(36,36,36)\",\"ticks\":\"outside\"}},\"type\":\"scatterternary\"}],\"surface\":[{\"colorbar\":{\"outlinewidth\":1,\"tickcolor\":\"rgb(36,36,36)\",\"ticks\":\"outside\"},\"colorscale\":[[0.0,\"#440154\"],[0.1111111111111111,\"#482878\"],[0.2222222222222222,\"#3e4989\"],[0.3333333333333333,\"#31688e\"],[0.4444444444444444,\"#26828e\"],[0.5555555555555556,\"#1f9e89\"],[0.6666666666666666,\"#35b779\"],[0.7777777777777778,\"#6ece58\"],[0.8888888888888888,\"#b5de2b\"],[1.0,\"#fde725\"]],\"type\":\"surface\"}],\"table\":[{\"cells\":{\"fill\":{\"color\":\"rgb(237,237,237)\"},\"line\":{\"color\":\"white\"}},\"header\":{\"fill\":{\"color\":\"rgb(217,217,217)\"},\"line\":{\"color\":\"white\"}},\"type\":\"table\"}]},\"layout\":{\"annotationdefaults\":{\"arrowhead\":0,\"arrowwidth\":1},\"autotypenumbers\":\"strict\",\"coloraxis\":{\"colorbar\":{\"outlinewidth\":1,\"tickcolor\":\"rgb(36,36,36)\",\"ticks\":\"outside\"}},\"colorscale\":{\"diverging\":[[0.0,\"rgb(103,0,31)\"],[0.1,\"rgb(178,24,43)\"],[0.2,\"rgb(214,96,77)\"],[0.3,\"rgb(244,165,130)\"],[0.4,\"rgb(253,219,199)\"],[0.5,\"rgb(247,247,247)\"],[0.6,\"rgb(209,229,240)\"],[0.7,\"rgb(146,197,222)\"],[0.8,\"rgb(67,147,195)\"],[0.9,\"rgb(33,102,172)\"],[1.0,\"rgb(5,48,97)\"]],\"sequential\":[[0.0,\"#440154\"],[0.1111111111111111,\"#482878\"],[0.2222222222222222,\"#3e4989\"],[0.3333333333333333,\"#31688e\"],[0.4444444444444444,\"#26828e\"],[0.5555555555555556,\"#1f9e89\"],[0.6666666666666666,\"#35b779\"],[0.7777777777777778,\"#6ece58\"],[0.8888888888888888,\"#b5de2b\"],[1.0,\"#fde725\"]],\"sequentialminus\":[[0.0,\"#440154\"],[0.1111111111111111,\"#482878\"],[0.2222222222222222,\"#3e4989\"],[0.3333333333333333,\"#31688e\"],[0.4444444444444444,\"#26828e\"],[0.5555555555555556,\"#1f9e89\"],[0.6666666666666666,\"#35b779\"],[0.7777777777777778,\"#6ece58\"],[0.8888888888888888,\"#b5de2b\"],[1.0,\"#fde725\"]]},\"colorway\":[\"#1F77B4\",\"#FF7F0E\",\"#2CA02C\",\"#D62728\",\"#9467BD\",\"#8C564B\",\"#E377C2\",\"#7F7F7F\",\"#BCBD22\",\"#17BECF\"],\"font\":{\"color\":\"rgb(36,36,36)\"},\"geo\":{\"bgcolor\":\"white\",\"lakecolor\":\"white\",\"landcolor\":\"white\",\"showlakes\":true,\"showland\":true,\"subunitcolor\":\"white\"},\"hoverlabel\":{\"align\":\"left\"},\"hovermode\":\"closest\",\"mapbox\":{\"style\":\"light\"},\"paper_bgcolor\":\"white\",\"plot_bgcolor\":\"white\",\"polar\":{\"angularaxis\":{\"gridcolor\":\"rgb(232,232,232)\",\"linecolor\":\"rgb(36,36,36)\",\"showgrid\":false,\"showline\":true,\"ticks\":\"outside\"},\"bgcolor\":\"white\",\"radialaxis\":{\"gridcolor\":\"rgb(232,232,232)\",\"linecolor\":\"rgb(36,36,36)\",\"showgrid\":false,\"showline\":true,\"ticks\":\"outside\"}},\"scene\":{\"xaxis\":{\"backgroundcolor\":\"white\",\"gridcolor\":\"rgb(232,232,232)\",\"gridwidth\":2,\"linecolor\":\"rgb(36,36,36)\",\"showbackground\":true,\"showgrid\":false,\"showline\":true,\"ticks\":\"outside\",\"zeroline\":false,\"zerolinecolor\":\"rgb(36,36,36)\"},\"yaxis\":{\"backgroundcolor\":\"white\",\"gridcolor\":\"rgb(232,232,232)\",\"gridwidth\":2,\"linecolor\":\"rgb(36,36,36)\",\"showbackground\":true,\"showgrid\":false,\"showline\":true,\"ticks\":\"outside\",\"zeroline\":false,\"zerolinecolor\":\"rgb(36,36,36)\"},\"zaxis\":{\"backgroundcolor\":\"white\",\"gridcolor\":\"rgb(232,232,232)\",\"gridwidth\":2,\"linecolor\":\"rgb(36,36,36)\",\"showbackground\":true,\"showgrid\":false,\"showline\":true,\"ticks\":\"outside\",\"zeroline\":false,\"zerolinecolor\":\"rgb(36,36,36)\"}},\"shapedefaults\":{\"fillcolor\":\"black\",\"line\":{\"width\":0},\"opacity\":0.3},\"ternary\":{\"aaxis\":{\"gridcolor\":\"rgb(232,232,232)\",\"linecolor\":\"rgb(36,36,36)\",\"showgrid\":false,\"showline\":true,\"ticks\":\"outside\"},\"baxis\":{\"gridcolor\":\"rgb(232,232,232)\",\"linecolor\":\"rgb(36,36,36)\",\"showgrid\":false,\"showline\":true,\"ticks\":\"outside\"},\"bgcolor\":\"white\",\"caxis\":{\"gridcolor\":\"rgb(232,232,232)\",\"linecolor\":\"rgb(36,36,36)\",\"showgrid\":false,\"showline\":true,\"ticks\":\"outside\"}},\"title\":{\"x\":0.05},\"xaxis\":{\"automargin\":true,\"gridcolor\":\"rgb(232,232,232)\",\"linecolor\":\"rgb(36,36,36)\",\"showgrid\":false,\"showline\":true,\"ticks\":\"outside\",\"title\":{\"standoff\":15},\"zeroline\":false,\"zerolinecolor\":\"rgb(36,36,36)\"},\"yaxis\":{\"automargin\":true,\"gridcolor\":\"rgb(232,232,232)\",\"linecolor\":\"rgb(36,36,36)\",\"showgrid\":false,\"showline\":true,\"ticks\":\"outside\",\"title\":{\"standoff\":15},\"zeroline\":false,\"zerolinecolor\":\"rgb(36,36,36)\"}}},\"xaxis\":{\"showgrid\":true},\"yaxis\":{\"showgrid\":true,\"title\":{\"text\":\"Frequency\"}},\"title\":{\"font\":{\"size\":22,\"color\":\"Black\"},\"text\":\"\\u003cb\\u003eTopics over Time\\u003c\\u002fb\\u003e\",\"y\":0.95,\"x\":0.4,\"xanchor\":\"center\",\"yanchor\":\"top\"},\"hoverlabel\":{\"font\":{\"size\":16,\"family\":\"Rockwell\"},\"bgcolor\":\"white\"},\"width\":1500,\"height\":450,\"legend\":{\"title\":{\"text\":\"\\u003cb\\u003eGlobal Topic Representation\"}}},                        {\"responsive\": true}                    ).then(function(){\n",
              "                            \n",
              "var gd = document.getElementById('208c6258-1572-498a-9aa6-5ba53d3a2507');\n",
              "var x = new MutationObserver(function (mutations, observer) {{\n",
              "        var display = window.getComputedStyle(gd).display;\n",
              "        if (!display || display === 'none') {{\n",
              "            console.log([gd, 'removed!']);\n",
              "            Plotly.purge(gd);\n",
              "            observer.disconnect();\n",
              "        }}\n",
              "}});\n",
              "\n",
              "// Listen for the removal of the full notebook cells\n",
              "var notebookContainer = gd.closest('#notebook-container');\n",
              "if (notebookContainer) {{\n",
              "    x.observe(notebookContainer, {childList: true});\n",
              "}}\n",
              "\n",
              "// Listen for the clearing of the current output cell\n",
              "var outputEl = gd.closest('.output');\n",
              "if (outputEl) {{\n",
              "    x.observe(outputEl, {childList: true});\n",
              "}}\n",
              "\n",
              "                        })                };                            </script>        </div>\n",
              "</body>\n",
              "</html>"
            ]
          },
          "metadata": {}
        }
      ]
    },
    {
      "cell_type": "markdown",
      "source": [
        "Se exporta la evolución temporal por tópico para representarla en otra herramienta"
      ],
      "metadata": {
        "id": "1xAM0OGL0-df"
      }
    },
    {
      "cell_type": "code",
      "source": [
        "datos= pd.read_csv('/content/drive/MyDrive/TFG ADE/RestoData22Topics.csv')\n",
        "\n",
        "# evolucion temporal topicos\n",
        "datos['post_date'] = pd.to_datetime(datos['post_date'])\n",
        "topics = [0,2,3,4,5,6,7,8,9,10,11,12,13,14,15,16,18,19]\n",
        "\n",
        "for topic in topics:\n",
        "  topic_tweets = datos[datos['Tópico'] == topic]\n",
        "\n",
        "  # Group the data by day and count the number of tweets per day\n",
        "  t_per_day = topic_tweets.resample('D', on='post_date').count()\n",
        "  columns_to_delete = ['body',  'Categoría', 'Palabras clave', 'Unnamed: 0', 'tweet_id']\n",
        "  t_per_day = t_per_day.drop(columns=columns_to_delete)\n",
        "  t_per_day = t_per_day.rename(columns={'Tópico': f'Tweets diarios sobre tópico {topic}'})\n",
        "  t_per_day.to_csv(f'drive/MyDrive/TFG ADE/resto{topic}.csv')"
      ],
      "metadata": {
        "id": "Nl9NWaA6vUmU"
      },
      "execution_count": null,
      "outputs": []
    }
  ]
}
{
  "nbformat": 4,
  "nbformat_minor": 0,
  "metadata": {
    "colab": {
      "provenance": [],
      "gpuType": "T4"
    },
    "kernelspec": {
      "name": "python3",
      "display_name": "Python 3"
    },
    "language_info": {
      "name": "python"
    },
    "accelerator": "GPU"
  },
  "cells": [
    {
      "cell_type": "markdown",
      "source": [
        "Se instalan los paquetes necesarios"
      ],
      "metadata": {
        "id": "mqIAN23e318e"
      }
    },
    {
      "cell_type": "code",
      "source": [
        "import pandas as pd"
      ],
      "metadata": {
        "id": "bY2p0pVMleCG"
      },
      "execution_count": null,
      "outputs": []
    },
    {
      "cell_type": "markdown",
      "source": [
        "# **CONJUNTO APPLE**"
      ],
      "metadata": {
        "id": "N59VqGGsRVsu"
      }
    },
    {
      "cell_type": "markdown",
      "source": [
        "Se cargan los datos con la categorización por tópico y sentimiento y se eliminan las columnas que no necesitamos"
      ],
      "metadata": {
        "id": "YuF3SGAqGY6p"
      }
    },
    {
      "cell_type": "code",
      "source": [
        "data_apple= pd.read_csv('apple.csv')"
      ],
      "metadata": {
        "id": "Gfb2eODDliFU"
      },
      "execution_count": null,
      "outputs": []
    },
    {
      "cell_type": "code",
      "source": [
        "data_apple.head()"
      ],
      "metadata": {
        "id": "t6pzh4iVlofa"
      },
      "execution_count": null,
      "outputs": []
    },
    {
      "cell_type": "code",
      "source": [
        "col= ['Unnamed:0', 'tweet_id', 'body', 'Palabras clave']\n",
        "data_apple = data_apple.drop(col, axis=1)"
      ],
      "metadata": {
        "id": "vnb78k0kWuSQ"
      },
      "execution_count": null,
      "outputs": []
    },
    {
      "cell_type": "markdown",
      "source": [
        "Se obtiene el número de tweets por sentimiento (NEU, POS, NEG)"
      ],
      "metadata": {
        "id": "AzEQ7kZMGpN2"
      }
    },
    {
      "cell_type": "code",
      "source": [
        "value_counts = data_apple['Sentimiento'].value_counts()"
      ],
      "metadata": {
        "id": "-9F7evS0lraM"
      },
      "execution_count": null,
      "outputs": []
    },
    {
      "cell_type": "code",
      "source": [
        "value_counts.head()"
      ],
      "metadata": {
        "id": "txUBERVKl5NR"
      },
      "execution_count": null,
      "outputs": []
    },
    {
      "cell_type": "markdown",
      "source": [
        "Se calcula el valor promedio de la puntuación de confianza del modelo para cada sentimiento y se obtiene la evolución temporal"
      ],
      "metadata": {
        "id": "-2ZxqfDRG0UV"
      }
    },
    {
      "cell_type": "code",
      "source": [
        "sentimiento = ['POS', 'NEG','NEU']\n",
        "for sent in sentimiento:\n",
        "  sent_tweets = data_apple[data_apple['Sentimiento'] == sent]\n",
        "\n",
        "  # evolución temporal\n",
        "  t_per_day = sent_tweets.resample('D', on='post_date').mean()\n",
        "  columns_to_delete = ['Tópico']\n",
        "  t_per_day = t_per_day.drop(columns=columns_to_delete)\n",
        "  t_per_day = t_per_day.rename(columns={'Puntuación': f'Media sobre sentimiento {sent}'})\n",
        "  t_per_day.to_csv(f'applepromedio{sent}.csv')"
      ],
      "metadata": {
        "id": "BFfQNfar1gc5"
      },
      "execution_count": null,
      "outputs": []
    },
    {
      "cell_type": "markdown",
      "source": [
        "Se obtiene la evolución temporal del número de tweets por sentimiento (NEU, POS, NEG)"
      ],
      "metadata": {
        "id": "RN1QODBNeAFF"
      }
    },
    {
      "cell_type": "code",
      "source": [
        "# evolucion temporal numero tweets positivos, negativos y neutros dataset\n",
        "data_apple['post_date'] = pd.to_datetime(data_apple['post_date'])\n",
        "sentimiento = ['POS', 'NEG','NEU']\n",
        "\n",
        "for sent in sentimiento:\n",
        "  sent_tweets = data_apple[data_apple['Sentimiento'] == sent]\n",
        "\n",
        "  # Group the data by day and count the number of tweets per day\n",
        "  t_per_day = sent_tweets.resample('D', on='post_date').count()\n",
        "  columns_to_delete = ['Tópico', 'Categoría', 'Puntuación']\n",
        "  t_per_day = t_per_day.drop(columns=columns_to_delete)\n",
        "  t_per_day = t_per_day.rename(columns={'Sentimiento': f'Tweets diarios sobre sentimiento {sent}'})\n",
        "  t_per_day.to_csv(f'apple{sent}.csv')"
      ],
      "metadata": {
        "id": "jkd4AX7iy39o"
      },
      "execution_count": null,
      "outputs": []
    },
    {
      "cell_type": "markdown",
      "source": [
        "Se calcula el número de tweets por sentimiento (NEU, POS, NEG) para cada tópico relevante"
      ],
      "metadata": {
        "id": "Nph7phFUeMR1"
      }
    },
    {
      "cell_type": "code",
      "source": [
        "# distribucion por topico\n",
        "topicos= [0,1,2,3,4,5,6,7,8,9,10,11,12,13]\n",
        "\n",
        "for topic in topicos:\n",
        "  topic_tweets = data_apple[data_apple['Tópico'] == topic]\n",
        "  value_counts = topic_tweets['Sentimiento'].value_counts()\n",
        "  value_counts.to_csv(f'applesent_{topic}.csv')\n"
      ],
      "metadata": {
        "id": "2VMBhsYFmCMQ"
      },
      "execution_count": null,
      "outputs": []
    },
    {
      "cell_type": "markdown",
      "source": [
        "Se obtiene la evolución temporal del número de tweets por sentimiento (NEU, POS, NEG) de los 3 tópicos más relevantes"
      ],
      "metadata": {
        "id": "K7ppHln-eeWD"
      }
    },
    {
      "cell_type": "code",
      "source": [
        "# evolucion temporal numero tweets positivos, negativos y neutros dataset primeros 3 topicos\n",
        "data_apple['post_date'] = pd.to_datetime(data_apple['post_date'])\n",
        "topicos= [0,1,2]\n",
        "sentimiento = ['POS', 'NEG','NEU']\n",
        "for topic in topicos:\n",
        "  topic_tweets=data_apple[data_apple['Tópico'] == topic]\n",
        "  for sent in sentimiento:\n",
        "    sent_tweets = topic_tweets[data_apple['Sentimiento'] == sent]\n",
        "\n",
        "  # Group the data by day and count the number of tweets per day\n",
        "    t_per_day = sent_tweets.resample('D', on='post_date').count()\n",
        "    columns_to_delete = ['Tópico', 'Categoría', 'Puntuación']\n",
        "    t_per_day = t_per_day.drop(columns=columns_to_delete)\n",
        "    t_per_day = t_per_day.rename(columns={'Sentimiento': f'Tweets diarios sobre sentimiento {sent}'})\n",
        "    t_per_day.to_csv(f'apple{topic}{sent}.csv')\n"
      ],
      "metadata": {
        "id": "OOhYU5Xky46Z"
      },
      "execution_count": null,
      "outputs": []
    },
    {
      "cell_type": "markdown",
      "source": [
        "# **CONJUNTO TESLA**"
      ],
      "metadata": {
        "id": "uKoqfGW1RcSE"
      }
    },
    {
      "cell_type": "markdown",
      "source": [
        "Se cargan los datos con la categorización por tópico y sentimiento y se eliminan las columnas que no necesitamos"
      ],
      "metadata": {
        "id": "YirsHD1ZHJ5F"
      }
    },
    {
      "cell_type": "code",
      "source": [
        "data_tesla= pd.read_csv('tesla.csv')"
      ],
      "metadata": {
        "id": "6scYZETBRSZj"
      },
      "execution_count": null,
      "outputs": []
    },
    {
      "cell_type": "code",
      "source": [
        "data_tesla.head()"
      ],
      "metadata": {
        "id": "CkvTvN-LRijC"
      },
      "execution_count": null,
      "outputs": []
    },
    {
      "cell_type": "code",
      "source": [
        "col= ['Unnamed: 0', 'Unnamed: 0.1', 'tweet_id', 'body', 'Palabras clave']\n",
        "data_tesla = data_tesla.drop(col, axis=1)"
      ],
      "metadata": {
        "id": "HuXcpjqEXCEI"
      },
      "execution_count": null,
      "outputs": []
    },
    {
      "cell_type": "markdown",
      "source": [
        "Se obtiene el número de tweets por sentimiento (NEU, POS, NEG)"
      ],
      "metadata": {
        "id": "MELcwb7FetAD"
      }
    },
    {
      "cell_type": "code",
      "source": [
        "value_counts = data_tesla['Sentimiento'].value_counts()"
      ],
      "metadata": {
        "id": "torh7uAZRkBy"
      },
      "execution_count": null,
      "outputs": []
    },
    {
      "cell_type": "code",
      "source": [
        "value_counts.head()"
      ],
      "metadata": {
        "id": "Cp0HMBYcRmpB"
      },
      "execution_count": null,
      "outputs": []
    },
    {
      "cell_type": "markdown",
      "source": [
        "Se calcula el valor promedio de la puntuación de confianza del modelo para cada sentimiento y se obtiene la evolución temporal"
      ],
      "metadata": {
        "id": "UDDfWRKoexVP"
      }
    },
    {
      "cell_type": "code",
      "source": [
        "# obtener promedio puntuaciones\n",
        "sentimiento = ['POS', 'NEG','NEU']\n",
        "data_tesla['post_date'] = pd.to_datetime(data_tesla['post_date'])\n",
        "for sent in sentimiento:\n",
        "  sent_tweets = data_tesla[data_tesla['Sentimiento'] == sent]\n",
        "\n",
        "  # Group the data by day and count the number of tweets per day\n",
        "  t_per_day = sent_tweets.resample('D', on='post_date').mean()\n",
        "  columns_to_delete = ['Tópico']\n",
        "  t_per_day = t_per_day.drop(columns=columns_to_delete)\n",
        "  t_per_day = t_per_day.rename(columns={'Puntuación': f'Media sobre sentimiento {sent}'})\n",
        "  t_per_day.to_csv(f'teslapromedio{sent}.csv')"
      ],
      "metadata": {
        "id": "kllleEc-S5rg"
      },
      "execution_count": null,
      "outputs": []
    },
    {
      "cell_type": "markdown",
      "source": [
        "Se obtiene la evolución temporal del número de tweets por sentimiento (NEU, POS, NEG)"
      ],
      "metadata": {
        "id": "MwxLTkwce5DN"
      }
    },
    {
      "cell_type": "code",
      "source": [
        "# evolucion temporal numero tweets positivos, negativos y neutros dataset\n",
        "data_tesla['post_date'] = pd.to_datetime(data_tesla['post_date'])\n",
        "sentimiento = ['POS', 'NEG','NEU']\n",
        "\n",
        "for sent in sentimiento:\n",
        "  sent_tweets = data_tesla[data_tesla['Sentimiento'] == sent]\n",
        "\n",
        "  # Group the data by day and count the number of tweets per day\n",
        "  t_per_day = sent_tweets.resample('D', on='post_date').count()\n",
        "  columns_to_delete = ['Tópico', 'Categoría', 'Puntuación']\n",
        "  t_per_day = t_per_day.drop(columns=columns_to_delete)\n",
        "  t_per_day = t_per_day.rename(columns={'Sentimiento': f'Tweets diarios sobre sentimiento {sent}'})\n",
        "  t_per_day.to_csv(f'tesla{sent}.csv')"
      ],
      "metadata": {
        "id": "1yIyXaBWvnrj"
      },
      "execution_count": null,
      "outputs": []
    },
    {
      "cell_type": "markdown",
      "source": [
        "Se calcula el número de tweets por sentimiento (NEU, POS, NEG) para un conjunto de tópicos relevantes"
      ],
      "metadata": {
        "id": "7EbYQ4T_e6gL"
      }
    },
    {
      "cell_type": "code",
      "source": [
        "# distribucion por topico\n",
        "topicos= [0,4,9,10,12,16]\n",
        "\n",
        "for topic in topicos:\n",
        "  topic_tweets = data_tesla[data_tesla['Tópico'] == topic]\n",
        "  value_counts = topic_tweets['Sentimiento'].value_counts()\n",
        "  value_counts.to_csv(f'teslasent_{topic}.csv')\n"
      ],
      "metadata": {
        "id": "dxVNjhFVRp8x"
      },
      "execution_count": null,
      "outputs": []
    },
    {
      "cell_type": "markdown",
      "source": [
        "Se obtiene la evolución temporal del número de tweets por sentimiento (NEU, POS, NEG) de un conjunto de tópicos relevantes"
      ],
      "metadata": {
        "id": "aVTkDhfEfENO"
      }
    },
    {
      "cell_type": "code",
      "source": [
        "# evolucion temporal numero tweets positivos, negativos y neutros dataset\n",
        "data_tesla['post_date'] = pd.to_datetime(data_tesla['post_date'])\n",
        "sentimiento = ['POS', 'NEG','NEU']\n",
        "topicos= [0,4,9,10,12,16]\n",
        "\n",
        "for topic in topicos:\n",
        "  topic_tweets=data_tesla[data_tesla['Tópico'] == topic]\n",
        "  for sent in sentimiento:\n",
        "    sent_tweets = topic_tweets[data_tesla['Sentimiento'] == sent]\n",
        "\n",
        "  # Group the data by day and count the number of tweets per day\n",
        "    t_per_day = sent_tweets.resample('D', on='post_date').count()\n",
        "    columns_to_delete = ['Tópico', 'Categoría', 'Puntuación']\n",
        "    t_per_day = t_per_day.drop(columns=columns_to_delete)\n",
        "    t_per_day = t_per_day.rename(columns={'Sentimiento': f'Tweets diarios sobre sentimiento {sent}'})\n",
        "    t_per_day.to_csv(f'tesla{topic}{sent}.csv')\n"
      ],
      "metadata": {
        "id": "XAoitcGaR5ag"
      },
      "execution_count": null,
      "outputs": []
    },
    {
      "cell_type": "markdown",
      "source": [
        "# **CONJUNTO AMAZON, GOOGLE, MICROSOFT**"
      ],
      "metadata": {
        "id": "GGhr5xXS91De"
      }
    },
    {
      "cell_type": "markdown",
      "source": [
        "Se cargan los datos con la categorización por tópico y sentimiento y se eliminan las columnas que no necesitamos"
      ],
      "metadata": {
        "id": "DLcjRd5vHLKl"
      }
    },
    {
      "cell_type": "code",
      "source": [
        "data_resto= pd.read_csv('resto.csv')"
      ],
      "metadata": {
        "id": "dujZm20090eQ"
      },
      "execution_count": null,
      "outputs": []
    },
    {
      "cell_type": "code",
      "source": [
        "col= ['Unnamed: 0', 'Unnamed: 0.1', 'tweet_id', 'body', 'Palabras clave']\n",
        "data_resto= data_resto.drop(col, axis=1)\n",
        "data_resto.head()"
      ],
      "metadata": {
        "id": "xy1ERgnW92zX"
      },
      "execution_count": null,
      "outputs": []
    },
    {
      "cell_type": "markdown",
      "source": [
        "Se obtiene el número de tweets por sentimiento (NEU, POS, NEG)"
      ],
      "metadata": {
        "id": "EiJxGPeRfRp3"
      }
    },
    {
      "cell_type": "code",
      "source": [
        "\n",
        "value_counts = data_resto['Sentimiento'].value_counts()\n",
        "value_counts.head()"
      ],
      "metadata": {
        "id": "nHCfB6xb-AJN"
      },
      "execution_count": null,
      "outputs": []
    },
    {
      "cell_type": "markdown",
      "source": [
        "Se calcula el valor promedio de la puntuación de confianza del modelo para cada sentimiento y se obtiene la evolución temporal"
      ],
      "metadata": {
        "id": "JlbLmP2_fSRs"
      }
    },
    {
      "cell_type": "code",
      "source": [
        "# obtener promedio puntuaciones\n",
        "sentimiento = ['POS', 'NEG','NEU']\n",
        "data_resto['post_date'] = pd.to_datetime(data_resto['post_date'])\n",
        "for sent in sentimiento:\n",
        "  sent_tweets = data_resto[data_resto['Sentimiento'] == sent]\n",
        "\n",
        "  # Group the data by day and count the number of tweets per day\n",
        "  t_per_day = sent_tweets.resample('D', on='post_date').mean()\n",
        "  columns_to_delete = ['Tópico']\n",
        "  t_per_day = t_per_day.drop(columns=columns_to_delete)\n",
        "  t_per_day = t_per_day.rename(columns={'Puntuación': f'Media sobre sentimiento {sent}'})\n",
        "  t_per_day.to_csv(f'restopromedio{sent}.csv')"
      ],
      "metadata": {
        "id": "pZ2SPUmd-DaS"
      },
      "execution_count": null,
      "outputs": []
    },
    {
      "cell_type": "markdown",
      "source": [
        "Se obtiene la evolución temporal del número de tweets por sentimiento (NEU, POS, NEG)"
      ],
      "metadata": {
        "id": "M159y-2SfS9k"
      }
    },
    {
      "cell_type": "code",
      "source": [
        "# evolucion temporal numero tweets positivos, negativos y neutros dataset\n",
        "data_resto['post_date'] = pd.to_datetime(data_resto['post_date'])\n",
        "sentimiento = ['POS', 'NEG','NEU']\n",
        "\n",
        "for sent in sentimiento:\n",
        "  sent_tweets = data_resto[data_resto['Sentimiento'] == sent]\n",
        "\n",
        "  # Group the data by day and count the number of tweets per day\n",
        "  t_per_day = sent_tweets.resample('D', on='post_date').count()\n",
        "  columns_to_delete = ['Tópico', 'Categoría', 'Puntuación']\n",
        "  t_per_day = t_per_day.drop(columns=columns_to_delete)\n",
        "  t_per_day = t_per_day.rename(columns={'Sentimiento': f'Tweets diarios sobre sentimiento {sent}'})\n",
        "  t_per_day.to_csv(f'resto{sent}.csv')"
      ],
      "metadata": {
        "id": "x2W3aZQTB80h"
      },
      "execution_count": null,
      "outputs": []
    },
    {
      "cell_type": "markdown",
      "source": [
        "Se calcula el número de tweets por sentimiento (NEU, POS, NEG) para un conjunto de tópicos relevantes"
      ],
      "metadata": {
        "id": "wU0UJEP_fTc3"
      }
    },
    {
      "cell_type": "code",
      "source": [
        "# distribucion por topico\n",
        "topicos= [6,13,14]\n",
        "\n",
        "for topic in topicos:\n",
        "  topic_tweets = data_resto[data_resto['Tópico'] == topic]\n",
        "  value_counts = topic_tweets['Sentimiento'].value_counts()\n",
        "  value_counts.to_csv(f'restosent_{topic}.csv')"
      ],
      "metadata": {
        "id": "UkMWlD3yZlaF"
      },
      "execution_count": null,
      "outputs": []
    },
    {
      "cell_type": "markdown",
      "source": [
        "Se obtiene la evolución temporal del número de tweets por sentimiento (NEU, POS, NEG) de un conjunto de tópicos relevantes"
      ],
      "metadata": {
        "id": "pr0mA73efUk_"
      }
    },
    {
      "cell_type": "code",
      "source": [
        "# evolucion temporal numero tweets positivos, negativos y neutros dataset\n",
        "data_resto['post_date'] = pd.to_datetime(data_resto['post_date'])\n",
        "sentimiento = ['POS', 'NEG','NEU']\n",
        "topicos= [6,13,14]\n",
        "\n",
        "for topic in topicos:\n",
        "  topic_tweets=data_resto[data_resto['Tópico'] == topic]\n",
        "  for sent in sentimiento:\n",
        "    sent_tweets = topic_tweets[data_resto['Sentimiento'] == sent]\n",
        "\n",
        "  # Group the data by day and count the number of tweets per day\n",
        "    t_per_day = sent_tweets.resample('D', on='post_date').count()\n",
        "    columns_to_delete = ['Tópico', 'Categoría', 'Puntuación']\n",
        "    t_per_day = t_per_day.drop(columns=columns_to_delete)\n",
        "    t_per_day = t_per_day.rename(columns={'Sentimiento': f'Tweets diarios sobre sentimiento {sent}'})\n",
        "    t_per_day.to_csv(f'resto{topic}{sent}.csv')"
      ],
      "metadata": {
        "id": "uFFPMl-vZuDr"
      },
      "execution_count": null,
      "outputs": []
    }
  ]
}